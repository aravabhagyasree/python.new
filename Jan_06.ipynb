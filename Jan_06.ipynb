{
 "cells": [
  {
   "cell_type": "markdown",
   "id": "0df1c744-9cd1-478b-89d0-b8ff0091d69a",
   "metadata": {},
   "source": [
    "$packages$\n",
    "- \n"
   ]
  },
  {
   "cell_type": "code",
   "execution_count": null,
   "id": "8b567f80-c8d4-4ad9-8963-190fd3b65491",
   "metadata": {},
   "outputs": [],
   "source": []
  },
  {
   "cell_type": "code",
   "execution_count": null,
   "id": "681acba0-c0dc-4034-83c9-0b81aa020b0b",
   "metadata": {},
   "outputs": [],
   "source": [
    "#syntax\n",
    "==> import <package name>\n",
    "eg: import addition"
   ]
  },
  {
   "cell_type": "code",
   "execution_count": 5,
   "id": "846fc79f-1639-431b-994b-5f83db48f7c6",
   "metadata": {},
   "outputs": [],
   "source": [
    "import random"
   ]
  },
  {
   "cell_type": "code",
   "execution_count": 7,
   "id": "f8c5ee4c-6819-45c0-8e51-4681cfe07d33",
   "metadata": {},
   "outputs": [],
   "source": [
    "import math"
   ]
  },
  {
   "cell_type": "code",
   "execution_count": 9,
   "id": "3caf7405-0e4c-4862-87a1-d4201c6e5280",
   "metadata": {},
   "outputs": [],
   "source": [
    "import time"
   ]
  },
  {
   "cell_type": "code",
   "execution_count": 11,
   "id": "e2b9dc48-417a-44ad-9007-35c75c516862",
   "metadata": {},
   "outputs": [],
   "source": [
    "import keyword"
   ]
  },
  {
   "cell_type": "code",
   "execution_count": 13,
   "id": "5e543c55-6a96-420b-a342-2462e082d4f5",
   "metadata": {},
   "outputs": [],
   "source": [
    "import pandas"
   ]
  },
  {
   "cell_type": "code",
   "execution_count": 15,
   "id": "64df535a-8769-4329-b26c-ca9e03f7e993",
   "metadata": {},
   "outputs": [],
   "source": [
    "import numpy"
   ]
  },
  {
   "cell_type": "code",
   "execution_count": 19,
   "id": "835545f3-3657-469c-889f-77c6251e6940",
   "metadata": {},
   "outputs": [
    {
     "ename": "ModuleNotFoundError",
     "evalue": "No module named 'cv2'",
     "output_type": "error",
     "traceback": [
      "\u001b[0;31m---------------------------------------------------------------------------\u001b[0m",
      "\u001b[0;31mModuleNotFoundError\u001b[0m                       Traceback (most recent call last)",
      "Cell \u001b[0;32mIn[19], line 1\u001b[0m\n\u001b[0;32m----> 1\u001b[0m \u001b[38;5;28;01mimport\u001b[39;00m \u001b[38;5;21;01mcv2\u001b[39;00m\n",
      "\u001b[0;31mModuleNotFoundError\u001b[0m: No module named 'cv2'"
     ]
    }
   ],
   "source": [
    "import cv2"
   ]
  },
  {
   "cell_type": "code",
   "execution_count": 21,
   "id": "c2fe43b9-0487-4c46-a607-297b32449e73",
   "metadata": {},
   "outputs": [
    {
     "ename": "ModuleNotFoundError",
     "evalue": "No module named 'addition'",
     "output_type": "error",
     "traceback": [
      "\u001b[0;31m---------------------------------------------------------------------------\u001b[0m",
      "\u001b[0;31mModuleNotFoundError\u001b[0m                       Traceback (most recent call last)",
      "Cell \u001b[0;32mIn[21], line 1\u001b[0m\n\u001b[0;32m----> 1\u001b[0m \u001b[38;5;28;01mimport\u001b[39;00m \u001b[38;5;21;01maddition\u001b[39;00m\n",
      "\u001b[0;31mModuleNotFoundError\u001b[0m: No module named 'addition'"
     ]
    }
   ],
   "source": [
    "import addition"
   ]
  },
  {
   "cell_type": "markdown",
   "id": "dcf7685e-07f9-428b-a83b-d8003e811b9d",
   "metadata": {},
   "source": [
    "- with this addition,cv2 name no package avaliable in ur laptop"
   ]
  },
  {
   "cell_type": "code",
   "execution_count": 26,
   "id": "de0e75f9-6d41-40a4-b207-97910e614980",
   "metadata": {},
   "outputs": [
    {
     "data": {
      "text/plain": [
       "<module 'random' from '/opt/anaconda3/lib/python3.12/random.py'>"
      ]
     },
     "execution_count": 26,
     "metadata": {},
     "output_type": "execute_result"
    }
   ],
   "source": [
    "import random\n",
    "random"
   ]
  },
  {
   "cell_type": "code",
   "execution_count": 30,
   "id": "7137deb9-3887-45a8-a148-d98e5078ba83",
   "metadata": {},
   "outputs": [
    {
     "data": {
      "text/plain": [
       "<module 'math' from '/opt/anaconda3/lib/python3.12/lib-dynload/math.cpython-312-darwin.so'>"
      ]
     },
     "execution_count": 30,
     "metadata": {},
     "output_type": "execute_result"
    }
   ],
   "source": [
    "import math\n",
    "math"
   ]
  },
  {
   "cell_type": "code",
   "execution_count": null,
   "id": "e58cd7d2-e9cd-4f52-a0e4-b26854197a9a",
   "metadata": {},
   "outputs": [],
   "source": []
  },
  {
   "cell_type": "code",
   "execution_count": 2,
   "id": "388144bc-9cc1-4f5a-9e0f-10addb3c7404",
   "metadata": {},
   "outputs": [
    {
     "ename": "ModuleNotFoundError",
     "evalue": "No module named 'add'",
     "output_type": "error",
     "traceback": [
      "\u001b[0;31m---------------------------------------------------------------------------\u001b[0m",
      "\u001b[0;31mModuleNotFoundError\u001b[0m                       Traceback (most recent call last)",
      "Cell \u001b[0;32mIn[2], line 1\u001b[0m\n\u001b[0;32m----> 1\u001b[0m \u001b[38;5;28;01mimport\u001b[39;00m \u001b[38;5;21;01madd\u001b[39;00m\n",
      "\u001b[0;31mModuleNotFoundError\u001b[0m: No module named 'add'"
     ]
    }
   ],
   "source": [
    "import add"
   ]
  },
  {
   "cell_type": "markdown",
   "id": "a889a412-48b9-4c45-852e-1913007d45d1",
   "metadata": {},
   "source": [
    "- package or module is a python code only \n",
    "- many packages will automatically install while anaconda installation \n",
    "- if any module not available \n",
    "    - module not found error\n",
    "- "
   ]
  },
  {
   "cell_type": "code",
   "execution_count": null,
   "id": "f146d259-5eb7-47c5-856a-0e74c079c09f",
   "metadata": {},
   "outputs": [],
   "source": [
    "#import random\n",
    "-random aslo have many subfunctions \n",
    "-these are called as methods\n",
    "-in order to see the avaliable methods\n",
    "    - dir(packagename)"
   ]
  },
  {
   "cell_type": "code",
   "execution_count": null,
   "id": "a71015fd-f9e3-40f8-9b96-0aad0992d9d9",
   "metadata": {},
   "outputs": [],
   "source": [
    "# step 1: import packagename\n",
    "# step 2: dir(packagename)"
   ]
  },
  {
   "cell_type": "code",
   "execution_count": 33,
   "id": "d4fe09b0-8b26-4b8b-9bec-f10c029a1859",
   "metadata": {},
   "outputs": [
    {
     "data": {
      "text/plain": [
       "['BPF',\n",
       " 'LOG4',\n",
       " 'NV_MAGICCONST',\n",
       " 'RECIP_BPF',\n",
       " 'Random',\n",
       " 'SG_MAGICCONST',\n",
       " 'SystemRandom',\n",
       " 'TWOPI',\n",
       " '_ONE',\n",
       " '_Sequence',\n",
       " '__all__',\n",
       " '__builtins__',\n",
       " '__cached__',\n",
       " '__doc__',\n",
       " '__file__',\n",
       " '__loader__',\n",
       " '__name__',\n",
       " '__package__',\n",
       " '__spec__',\n",
       " '_accumulate',\n",
       " '_acos',\n",
       " '_bisect',\n",
       " '_ceil',\n",
       " '_cos',\n",
       " '_e',\n",
       " '_exp',\n",
       " '_fabs',\n",
       " '_floor',\n",
       " '_index',\n",
       " '_inst',\n",
       " '_isfinite',\n",
       " '_lgamma',\n",
       " '_log',\n",
       " '_log2',\n",
       " '_os',\n",
       " '_pi',\n",
       " '_random',\n",
       " '_repeat',\n",
       " '_sha512',\n",
       " '_sin',\n",
       " '_sqrt',\n",
       " '_test',\n",
       " '_test_generator',\n",
       " '_urandom',\n",
       " '_warn',\n",
       " 'betavariate',\n",
       " 'binomialvariate',\n",
       " 'choice',\n",
       " 'choices',\n",
       " 'expovariate',\n",
       " 'gammavariate',\n",
       " 'gauss',\n",
       " 'getrandbits',\n",
       " 'getstate',\n",
       " 'lognormvariate',\n",
       " 'normalvariate',\n",
       " 'paretovariate',\n",
       " 'randbytes',\n",
       " 'randint',\n",
       " 'random',\n",
       " 'randrange',\n",
       " 'sample',\n",
       " 'seed',\n",
       " 'setstate',\n",
       " 'shuffle',\n",
       " 'triangular',\n",
       " 'uniform',\n",
       " 'vonmisesvariate',\n",
       " 'weibullvariate']"
      ]
     },
     "execution_count": 33,
     "metadata": {},
     "output_type": "execute_result"
    }
   ],
   "source": [
    "import random\n",
    "dir(random)"
   ]
  },
  {
   "cell_type": "code",
   "execution_count": null,
   "id": "55ee16d8-78b6-4e56-8fe6-07e7a86dec85",
   "metadata": {},
   "outputs": [],
   "source": [
    "# method : randint\n",
    "# qn : what is randint\n",
    "    # package name: random\n",
    "    # method name: randint\n",
    "\n",
    "# module name : random\n",
    "# attribute name: randint\n",
    "\n",
    "\n"
   ]
  },
  {
   "cell_type": "code",
   "execution_count": 41,
   "id": "bdffa779-dfac-4dec-a948-92bdd7321d81",
   "metadata": {},
   "outputs": [
    {
     "data": {
      "text/plain": [
       "<bound method Random.randint of <random.Random object at 0x12701b420>>"
      ]
     },
     "execution_count": 41,
     "metadata": {},
     "output_type": "execute_result"
    }
   ],
   "source": [
    "# step 3: packagename.menthodname\n",
    "random.randint"
   ]
  },
  {
   "cell_type": "code",
   "execution_count": 43,
   "id": "24eb7a60-44ed-4b93-bfb0-3613e14a40ea",
   "metadata": {},
   "outputs": [
    {
     "data": {
      "text/plain": [
       "<bound method Random.randint of <random.Random object at 0x12701b420>>"
      ]
     },
     "execution_count": 43,
     "metadata": {},
     "output_type": "execute_result"
    }
   ],
   "source": [
    "# step 1: import packagename\n",
    "# step 2: dir(packagename)\n",
    "# step 3: packagename.menthodname\n",
    "\n",
    "import random\n",
    "dir(random) # i want to call randint\n",
    "random.randint"
   ]
  },
  {
   "cell_type": "code",
   "execution_count": null,
   "id": "39a6548a-b3fe-4840-97a4-a4e255e8c811",
   "metadata": {},
   "outputs": [],
   "source": []
  },
  {
   "cell_type": "code",
   "execution_count": 45,
   "id": "a66200e1-78a1-4967-9831-1a0a964949ec",
   "metadata": {},
   "outputs": [
    {
     "name": "stdout",
     "output_type": "stream",
     "text": [
      "Help on method randint in module random:\n",
      "\n",
      "randint(a, b) method of random.Random instance\n",
      "    Return random integer in range [a, b], including both end points.\n",
      "\n"
     ]
    }
   ],
   "source": [
    "help(random.randint)"
   ]
  },
  {
   "cell_type": "code",
   "execution_count": 123,
   "id": "06995a20-9ef4-4254-836b-40ad6062d216",
   "metadata": {},
   "outputs": [
    {
     "data": {
      "text/plain": [
       "12"
      ]
     },
     "execution_count": 123,
     "metadata": {},
     "output_type": "execute_result"
    }
   ],
   "source": [
    "random.randint(10,15)"
   ]
  },
  {
   "cell_type": "code",
   "execution_count": null,
   "id": "a6fc678f-affb-40ac-9db9-9915b9ccd7fa",
   "metadata": {},
   "outputs": [],
   "source": []
  },
  {
   "cell_type": "code",
   "execution_count": null,
   "id": "ff260092-a2ce-4d71-9707-308fe22aa390",
   "metadata": {},
   "outputs": [],
   "source": [
    "# [] both included\n",
    "# () both not included \n",
    "# [) a included & b not included \n",
    "# (] a not included & b included"
   ]
  },
  {
   "cell_type": "code",
   "execution_count": 173,
   "id": "d83d17c8-dd0c-4630-92b8-0e97583ac8e6",
   "metadata": {},
   "outputs": [
    {
     "name": "stdout",
     "output_type": "stream",
     "text": [
      "Help on method randint in module random:\n",
      "\n",
      "randint(a, b) method of random.Random instance\n",
      "    Return random integer in range [a, b], including both end points.\n",
      "\n"
     ]
    },
    {
     "data": {
      "text/plain": [
       "10"
      ]
     },
     "execution_count": 173,
     "metadata": {},
     "output_type": "execute_result"
    }
   ],
   "source": [
    "import random\n",
    "dir(random)\n",
    "help(random.randint)\n",
    "random.randint(10,12)"
   ]
  },
  {
   "cell_type": "code",
   "execution_count": 5,
   "id": "4b5d23fd-97b1-45d5-926a-cd989656502b",
   "metadata": {},
   "outputs": [
    {
     "ename": "TypeError",
     "evalue": "Random.randint() missing 2 required positional arguments: 'a' and 'b'",
     "output_type": "error",
     "traceback": [
      "\u001b[0;31m---------------------------------------------------------------------------\u001b[0m",
      "\u001b[0;31mTypeError\u001b[0m                                 Traceback (most recent call last)",
      "Cell \u001b[0;32mIn[5], line 2\u001b[0m\n\u001b[1;32m      1\u001b[0m \u001b[38;5;28;01mimport\u001b[39;00m \u001b[38;5;21;01mrandom\u001b[39;00m\n\u001b[0;32m----> 2\u001b[0m random\u001b[38;5;241m.\u001b[39mrandint()\n",
      "\u001b[0;31mTypeError\u001b[0m: Random.randint() missing 2 required positional arguments: 'a' and 'b'"
     ]
    }
   ],
   "source": [
    "import random\n",
    "random.randint()\n",
    "\n",
    "#take ur cursor into () then press shift+tab, help comes"
   ]
  },
  {
   "cell_type": "code",
   "execution_count": null,
   "id": "d6adc1fa-2df0-48c9-aca0-8d0f649acbe6",
   "metadata": {},
   "outputs": [],
   "source": []
  },
  {
   "cell_type": "code",
   "execution_count": null,
   "id": "43c35143-8306-48ba-94d7-fca29be7965a",
   "metadata": {},
   "outputs": [],
   "source": [
    "# package name (or) module name : random\n",
    "# method name : radnom"
   ]
  },
  {
   "cell_type": "markdown",
   "id": "ebf156c0-ef7d-4a3c-9714-3fe333550402",
   "metadata": {},
   "source": [
    "1\n",
    "-"
   ]
  },
  {
   "cell_type": "code",
   "execution_count": 244,
   "id": "c2dc6ac6-7ee2-4432-bf03-e048399881e4",
   "metadata": {},
   "outputs": [
    {
     "data": {
      "text/plain": [
       "0.5026074777091166"
      ]
     },
     "execution_count": 244,
     "metadata": {},
     "output_type": "execute_result"
    }
   ],
   "source": [
    "import random\n",
    "random.random()"
   ]
  },
  {
   "cell_type": "markdown",
   "id": "9652fb95-dc00-40f2-ad16-4f752862ed68",
   "metadata": {},
   "source": [
    "2\n",
    "-"
   ]
  },
  {
   "cell_type": "code",
   "execution_count": 298,
   "id": "28e251d0-0caa-452b-a5fd-8d2adc2affa3",
   "metadata": {},
   "outputs": [
    {
     "data": {
      "text/plain": [
       "5.0"
      ]
     },
     "execution_count": 298,
     "metadata": {},
     "output_type": "execute_result"
    }
   ],
   "source": [
    "import math\n",
    "math.sqrt(25)"
   ]
  },
  {
   "cell_type": "markdown",
   "id": "4e973c87-0a0c-4be6-a397-e340377313ed",
   "metadata": {},
   "source": [
    "3\n",
    "-"
   ]
  },
  {
   "cell_type": "code",
   "execution_count": 302,
   "id": "2fc50578-bcc5-4c61-b308-55eeb66b99c3",
   "metadata": {},
   "outputs": [
    {
     "data": {
      "text/plain": [
       "16.0"
      ]
     },
     "execution_count": 302,
     "metadata": {},
     "output_type": "execute_result"
    }
   ],
   "source": [
    "import math\n",
    "math.pow(2,4)"
   ]
  },
  {
   "cell_type": "markdown",
   "id": "eb69cdd8-9146-44a6-afdb-093ff057bdbd",
   "metadata": {},
   "source": [
    "4\n",
    "-"
   ]
  },
  {
   "cell_type": "code",
   "execution_count": 283,
   "id": "80b9dd60-027d-4f3a-909d-54b6465da884",
   "metadata": {},
   "outputs": [
    {
     "data": {
      "text/plain": [
       "3.141592653589793"
      ]
     },
     "execution_count": 283,
     "metadata": {},
     "output_type": "execute_result"
    }
   ],
   "source": [
    "import math\n",
    "math.pi\n",
    "# constant values does not need brackets"
   ]
  },
  {
   "cell_type": "markdown",
   "id": "0cb3a330-719d-4b40-8146-06493419a342",
   "metadata": {},
   "source": [
    "5\n",
    "-"
   ]
  },
  {
   "cell_type": "code",
   "execution_count": 289,
   "id": "10b74caf-5089-468d-98b4-b8f9ebbd67ba",
   "metadata": {},
   "outputs": [
    {
     "data": {
      "text/plain": [
       "-0.8011526357338304"
      ]
     },
     "execution_count": 289,
     "metadata": {},
     "output_type": "execute_result"
    }
   ],
   "source": [
    "import math\n",
    "math.sin(180)"
   ]
  },
  {
   "cell_type": "code",
   "execution_count": null,
   "id": "afdeac73-f736-472b-822e-bbb2ae211a86",
   "metadata": {},
   "outputs": [],
   "source": [
    "# import packages one time is enough "
   ]
  },
  {
   "cell_type": "markdown",
   "id": "8eaa6b7a-0921-46d1-983e-218436149325",
   "metadata": {},
   "source": [
    "6\n",
    "-"
   ]
  },
  {
   "cell_type": "code",
   "execution_count": 304,
   "id": "186e3464-8ed2-45a5-897c-03e8480af692",
   "metadata": {},
   "outputs": [
    {
     "data": {
      "text/plain": [
       "2.718281828459045"
      ]
     },
     "execution_count": 304,
     "metadata": {},
     "output_type": "execute_result"
    }
   ],
   "source": [
    "math.e"
   ]
  },
  {
   "cell_type": "code",
   "execution_count": null,
   "id": "cd4986ff-0c06-4118-8ed7-88bde98a8c80",
   "metadata": {},
   "outputs": [],
   "source": []
  },
  {
   "cell_type": "code",
   "execution_count": 3,
   "id": "b4310b09-e7ea-4915-aa32-47a451350c5b",
   "metadata": {},
   "outputs": [
    {
     "name": "stdout",
     "output_type": "stream",
     "text": [
      "time to\n",
      "sleep\n"
     ]
    }
   ],
   "source": [
    "import time\n",
    "print('time to')\n",
    "time.sleep(8)\n",
    "print('sleep')"
   ]
  },
  {
   "cell_type": "code",
   "execution_count": null,
   "id": "20c66b27-2a38-4d9c-bfcc-61f34bb1d169",
   "metadata": {},
   "outputs": [],
   "source": []
  },
  {
   "cell_type": "code",
   "execution_count": null,
   "id": "59861800-0561-4160-8e5f-c95f6e044f86",
   "metadata": {},
   "outputs": [],
   "source": [
    "# package name: keyword\n",
    "# method name: kwlist"
   ]
  },
  {
   "cell_type": "code",
   "execution_count": 4,
   "id": "b165a8dd-e94a-45c6-b167-fe9ad839b810",
   "metadata": {},
   "outputs": [
    {
     "data": {
      "text/plain": [
       "['False',\n",
       " 'None',\n",
       " 'True',\n",
       " 'and',\n",
       " 'as',\n",
       " 'assert',\n",
       " 'async',\n",
       " 'await',\n",
       " 'break',\n",
       " 'class',\n",
       " 'continue',\n",
       " 'def',\n",
       " 'del',\n",
       " 'elif',\n",
       " 'else',\n",
       " 'except',\n",
       " 'finally',\n",
       " 'for',\n",
       " 'from',\n",
       " 'global',\n",
       " 'if',\n",
       " 'import',\n",
       " 'in',\n",
       " 'is',\n",
       " 'lambda',\n",
       " 'nonlocal',\n",
       " 'not',\n",
       " 'or',\n",
       " 'pass',\n",
       " 'raise',\n",
       " 'return',\n",
       " 'try',\n",
       " 'while',\n",
       " 'with',\n",
       " 'yield']"
      ]
     },
     "execution_count": 4,
     "metadata": {},
     "output_type": "execute_result"
    }
   ],
   "source": [
    "import keyword\n",
    "keyword.kwlist"
   ]
  },
  {
   "cell_type": "code",
   "execution_count": 6,
   "id": "be23175b-9bf1-444b-9b70-def1cddd321f",
   "metadata": {},
   "outputs": [
    {
     "data": {
      "text/plain": [
       "35"
      ]
     },
     "execution_count": 6,
     "metadata": {},
     "output_type": "execute_result"
    }
   ],
   "source": [
    "len(keyword.kwlist)"
   ]
  },
  {
   "cell_type": "code",
   "execution_count": null,
   "id": "3614748f-fc77-471f-9cc0-d05c2fc156de",
   "metadata": {},
   "outputs": [],
   "source": []
  },
  {
   "cell_type": "code",
   "execution_count": null,
   "id": "47d6b1cf-a09d-4248-b206-da544118e6f3",
   "metadata": {},
   "outputs": [],
   "source": []
  },
  {
   "cell_type": "code",
   "execution_count": null,
   "id": "d5fc60c0-f7e3-4ce6-9876-8c73e679a13a",
   "metadata": {},
   "outputs": [],
   "source": []
  },
  {
   "cell_type": "code",
   "execution_count": null,
   "id": "18577ce3-ce28-49d2-a303-54739687cbf9",
   "metadata": {},
   "outputs": [],
   "source": []
  }
 ],
 "metadata": {
  "kernelspec": {
   "display_name": "Python [conda env:base] *",
   "language": "python",
   "name": "conda-base-py"
  },
  "language_info": {
   "codemirror_mode": {
    "name": "ipython",
    "version": 3
   },
   "file_extension": ".py",
   "mimetype": "text/x-python",
   "name": "python",
   "nbconvert_exporter": "python",
   "pygments_lexer": "ipython3",
   "version": "3.12.7"
  }
 },
 "nbformat": 4,
 "nbformat_minor": 5
}

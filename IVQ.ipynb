{
 "cells": [
  {
   "cell_type": "code",
   "execution_count": null,
   "id": "3e4cd89d-0012-45ca-813c-7b13026cf6f5",
   "metadata": {},
   "outputs": [],
   "source": [
    "Q1) list of students marks in python,marks=[45,76,89,53,67,90,82,49,33,99],solve all below problem by using list comprehension"
   ]
  },
  {
   "cell_type": "code",
   "execution_count": 62,
   "id": "38edbfd9-fcba-4281-9b66-ad0a7b494556",
   "metadata": {},
   "outputs": [
    {
     "name": "stdout",
     "output_type": "stream",
     "text": [
      "76\n",
      "89\n",
      "53\n",
      "67\n",
      "90\n",
      "82\n",
      "99\n"
     ]
    }
   ],
   "source": [
    "marks=[45,76,89,53,67,90,82,49,33,99]\n",
    "for i in marks:\n",
    "    if i>=50:\n",
    "        print(i)"
   ]
  },
  {
   "cell_type": "code",
   "execution_count": 64,
   "id": "39a3c488-4073-4f82-ab8b-d317720fefac",
   "metadata": {},
   "outputs": [
    {
     "name": "stdout",
     "output_type": "stream",
     "text": [
      "1\n",
      "2\n",
      "3\n",
      "4\n",
      "5\n",
      "6\n",
      "9\n"
     ]
    }
   ],
   "source": [
    "marks=[45,76,89,53,67,90,82,49,33,99]\n",
    "for i in marks:\n",
    "    if i>=50:\n",
    "        print(marks.index(i))"
   ]
  },
  {
   "cell_type": "code",
   "execution_count": 4,
   "id": "5117887c-63ee-439f-a28b-2ab4f6511d9a",
   "metadata": {},
   "outputs": [
    {
     "data": {
      "text/plain": [
       "[76, 89, 53, 67, 90, 82, 99]"
      ]
     },
     "execution_count": 4,
     "metadata": {},
     "output_type": "execute_result"
    }
   ],
   "source": [
    "[i for i in marks if i>=50]"
   ]
  },
  {
   "cell_type": "code",
   "execution_count": 68,
   "id": "00791b19-8c48-440b-a346-2a420f72baa4",
   "metadata": {},
   "outputs": [
    {
     "name": "stdout",
     "output_type": "stream",
     "text": [
      "F grade 45\n",
      "B grade 76\n",
      "A grade 89\n",
      "C grade 53\n",
      "C grade 67\n",
      "A grade 90\n",
      "B grade 82\n",
      "F grade 49\n",
      "F grade 33\n",
      "A grade 99\n"
     ]
    }
   ],
   "source": [
    "marks=[45,76,89,53,67,90,82,49,33,99]\n",
    "for i in marks:\n",
    "    if i>=85:\n",
    "        print(f'A grade {i}')\n",
    "    elif i>=70:\n",
    "        print(f'B grade {i}')\n",
    "    elif i>=50:\n",
    "        print(f'C grade {i}')\n",
    "    elif i<50:\n",
    "        print(f'F grade {i}')\n",
    "    else:\n",
    "        print(\"fail\")"
   ]
  },
  {
   "cell_type": "code",
   "execution_count": 40,
   "id": "50f63ed4-82ef-4ac5-877c-343a9c2529a8",
   "metadata": {},
   "outputs": [
    {
     "data": {
      "text/plain": [
       "['f grade 45',\n",
       " 'b grade 76',\n",
       " 'A grade89',\n",
       " 'c grade 53',\n",
       " 'c grade 67',\n",
       " 'A grade90',\n",
       " 'b grade 82',\n",
       " 'f grade 49',\n",
       " 'f grade 33',\n",
       " 'A grade99']"
      ]
     },
     "execution_count": 40,
     "metadata": {},
     "output_type": "execute_result"
    }
   ],
   "source": [
    "marks=[45,76,89,53,67,90,82,49,33,99]\n",
    "hg=[(f'A grade{i}') if i>=85 else (f'b grade {i}') if i>=70 else (f'c grade {i}') if i>=50 else (f'f grade {i}') if i<50 else print(\"fail\") for i in marks] \n",
    "hg"
   ]
  },
  {
   "cell_type": "code",
   "execution_count": 34,
   "id": "5ab968ef-1625-4a07-bcc5-7198da1598ad",
   "metadata": {},
   "outputs": [
    {
     "name": "stdout",
     "output_type": "stream",
     "text": [
      "50\n",
      "54\n",
      "38\n"
     ]
    }
   ],
   "source": [
    "for i in marks:\n",
    "    if i<50:\n",
    "        print(i+5)"
   ]
  },
  {
   "cell_type": "code",
   "execution_count": 38,
   "id": "1c475ced-43dc-454f-b138-ef5ba6d1c9fb",
   "metadata": {},
   "outputs": [
    {
     "data": {
      "text/plain": [
       "[50, 54, 38]"
      ]
     },
     "execution_count": 38,
     "metadata": {},
     "output_type": "execute_result"
    }
   ],
   "source": [
    "hgg=[i+5 for i in marks if i<50]\n",
    "hgg"
   ]
  },
  {
   "cell_type": "code",
   "execution_count": 46,
   "id": "ba083a63-95e2-493c-b6a2-a16a942e8acb",
   "metadata": {},
   "outputs": [
    {
     "name": "stdout",
     "output_type": "stream",
     "text": [
      "89\n",
      "90\n",
      "99\n"
     ]
    }
   ],
   "source": [
    "for i in marks:\n",
    "    if i >=85:\n",
    "        print(i)"
   ]
  },
  {
   "cell_type": "code",
   "execution_count": 48,
   "id": "c6947d04-ce8b-4486-9565-bebb9b246fc4",
   "metadata": {},
   "outputs": [
    {
     "data": {
      "text/plain": [
       "[89, 90, 99]"
      ]
     },
     "execution_count": 48,
     "metadata": {},
     "output_type": "execute_result"
    }
   ],
   "source": [
    "[i for i in marks if i>=85]"
   ]
  },
  {
   "cell_type": "code",
   "execution_count": 84,
   "id": "dabaaada-f543-44ce-9466-c8b4854c3aa5",
   "metadata": {},
   "outputs": [
    {
     "name": "stdout",
     "output_type": "stream",
     "text": [
      "82\n",
      "76\n",
      "67\n"
     ]
    }
   ],
   "source": [
    "max_value=max(marks)\n",
    "for i in range(3):\n",
    "    max_value=max(marks)\n",
    "    print(max_value)\n",
    "    marks.remove(max_value)"
   ]
  },
  {
   "cell_type": "code",
   "execution_count": 106,
   "id": "c21c4551-7a40-4f1b-bdd3-9bf18242b6a2",
   "metadata": {},
   "outputs": [
    {
     "name": "stdout",
     "output_type": "stream",
     "text": [
      "99\n",
      "90\n",
      "89\n"
     ]
    }
   ],
   "source": [
    "marks=[45,76,89,53,67,90,82,49,33,99]\n",
    "max_value=max(marks)\n",
    "for i in range(3):\n",
    "    max_value=max(marks)\n",
    "    print(max_value)\n",
    "    marks.remove(max_value)"
   ]
  },
  {
   "cell_type": "code",
   "execution_count": 109,
   "id": "55a6da46-cfdf-415e-938f-dc5b42042d25",
   "metadata": {},
   "outputs": [
    {
     "data": {
      "text/plain": [
       "68.3"
      ]
     },
     "execution_count": 109,
     "metadata": {},
     "output_type": "execute_result"
    }
   ],
   "source": [
    "# avg\n",
    "summ=0\n",
    "marks=[45,76,89,53,67,90,82,49,33,99]\n",
    "[summ:=summ+i for i in marks]\n",
    "summ/len(marks)"
   ]
  },
  {
   "cell_type": "code",
   "execution_count": null,
   "id": "175a6769-5506-4a77-9911-60454aba817e",
   "metadata": {},
   "outputs": [],
   "source": [
    "# distance between two points\n",
    "# find the distance between l2 with respective to all other points in l1\n",
    "# which is the maximum distance give output\n",
    "l1=[[1,2]],[4,5],[7,9]]\n",
    "l2=[10,20]\n"
   ]
  },
  {
   "cell_type": "code",
   "execution_count": 131,
   "id": "5703f3e3-8abf-40c8-82a0-0ee6e87d13f2",
   "metadata": {},
   "outputs": [
    {
     "data": {
      "text/plain": [
       "6.082762530298219"
      ]
     },
     "execution_count": 131,
     "metadata": {},
     "output_type": "execute_result"
    }
   ],
   "source": [
    "# root of (x2=x1)*2+(y2-y1)*2\n",
    "import math\n",
    "l1=[3,5]\n",
    "l2=[9,6]\n",
    "d1=l2[0]-l1[0]\n",
    "d1_squ=math.pow(d1,2)\n",
    "d2=l2[1]-l1[1]\n",
    "d2_squ=math.pow(d2,2)\n",
    "summ=d1_squ+d2_squ\n",
    "math.sqrt(summ)"
   ]
  },
  {
   "cell_type": "code",
   "execution_count": 135,
   "id": "bd98303a-b999-4c62-bdf3-05d42fa01527",
   "metadata": {},
   "outputs": [
    {
     "data": {
      "text/plain": [
       "6.082762530298219"
      ]
     },
     "execution_count": 135,
     "metadata": {},
     "output_type": "execute_result"
    }
   ],
   "source": [
    "math.sqrt(math.pow(l2[0]-l1[0],2)+math.pow(l2[1]-l1[1],2))"
   ]
  },
  {
   "cell_type": "code",
   "execution_count": null,
   "id": "7d04a098-0296-4afd-a316-68ef99327d88",
   "metadata": {},
   "outputs": [],
   "source": [
    "# sort the list\n",
    "# find the max value\n",
    "# find mini value\n",
    "# second max\n",
    "# second min\n",
    "# longest word of a string\n",
    "# find the most repeated word of a string"
   ]
  },
  {
   "cell_type": "code",
   "execution_count": null,
   "id": "8587c2a2-f32d-4299-985c-495b48210dc8",
   "metadata": {},
   "outputs": [],
   "source": []
  },
  {
   "cell_type": "code",
   "execution_count": null,
   "id": "2fdf6274-88ae-4834-acb6-5985a75445db",
   "metadata": {},
   "outputs": [],
   "source": []
  },
  {
   "cell_type": "code",
   "execution_count": null,
   "id": "2dc3cea5-62a2-40ee-bd50-b4e3cd01cd57",
   "metadata": {},
   "outputs": [],
   "source": []
  },
  {
   "cell_type": "code",
   "execution_count": null,
   "id": "801346de-d1bf-46a3-b547-e1c08f04627d",
   "metadata": {},
   "outputs": [],
   "source": []
  }
 ],
 "metadata": {
  "kernelspec": {
   "display_name": "Python [conda env:base] *",
   "language": "python",
   "name": "conda-base-py"
  },
  "language_info": {
   "codemirror_mode": {
    "name": "ipython",
    "version": 3
   },
   "file_extension": ".py",
   "mimetype": "text/x-python",
   "name": "python",
   "nbconvert_exporter": "python",
   "pygments_lexer": "ipython3",
   "version": "3.12.7"
  }
 },
 "nbformat": 4,
 "nbformat_minor": 5
}

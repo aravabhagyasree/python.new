{
 "cells": [
  {
   "cell_type": "code",
   "execution_count": null,
   "id": "a3d084bc-a540-460b-8f3c-b480cf8ed270",
   "metadata": {},
   "outputs": [],
   "source": [
    "# son: hi papa\n",
    "# fa : hi beta\n",
    "# son: im going to school\n",
    "# fa: okay beta, i heared your results came out\n",
    "# son: yes papa\n",
    "# fa: then what about the result\n",
    "# son: lets play a game i will give the marks you tell me the perce\n",
    "# fa: exited\n",
    "# Telugu= random\n",
    "# hindi\n",
    "# end\n",
    "# maths\n",
    "# sci\n",
    "# soc\n",
    "# avg\n",
    "# display the avg"
   ]
  },
  {
   "cell_type": "code",
   "execution_count": 21,
   "id": "6ad948fa-4ce2-40e0-a5db-af4e4febede3",
   "metadata": {},
   "outputs": [
    {
     "name": "stdout",
     "output_type": "stream",
     "text": [
      "son: hi papa\n",
      "fa : hi beta\n",
      "son: im going to school\n",
      "fa : okay beta, i heared your results came out\n",
      "son: yes papa\n",
      "fa : then what about the result\n",
      "son: lets play a game i will give the marks you tell me the perce\n",
      "fa : excited\n",
      "tel:96\n",
      "eng:19\n",
      "maths:19\n",
      "sci:68\n",
      "soc:17\n",
      "avg:0.55\n",
      "total_marks_percentage:56\n"
     ]
    }
   ],
   "source": [
    "import random\n",
    "import math\n",
    "import time\n",
    "print('son: hi papa')\n",
    "time.sleep(1)\n",
    "print('fa : hi beta')\n",
    "time.sleep(1)\n",
    "print('son: im going to school')\n",
    "time.sleep(1)\n",
    "print('fa : okay beta, i heared your results came out')\n",
    "time.sleep(1)\n",
    "print('son: yes papa')\n",
    "time.sleep(1)\n",
    "print('fa : then what about the result')\n",
    "time.sleep(1)\n",
    "print('son: lets play a game i will give the marks you tell me the perce')\n",
    "time.sleep(1)\n",
    "print('fa : excited')\n",
    "time.sleep(1)\n",
    "tel=random.randint(1,100)\n",
    "eng=random.randint(1,100)\n",
    "maths=random.randint(1,100)\n",
    "sci=random.randint(1,100)\n",
    "soc=random.randint(1,100)\n",
    "avg=(tel+eng+maths+sci+soc)/500\n",
    "total_marks_percentage=math.ceil(avg*100)\n",
    "print(f\"tel:{tel}\")\n",
    "time.sleep(1)\n",
    "print(f\"eng:{eng}\")\n",
    "time.sleep(1)\n",
    "print(f\"maths:{eng}\")\n",
    "time.sleep(1)\n",
    "print(f\"sci:{sci}\")\n",
    "time.sleep(1)\n",
    "print(f\"soc:{soc}\")\n",
    "time.sleep(1)\n",
    "print(f\"avg:{avg}\")\n",
    "time.sleep(1)\n",
    "print(f\"total_marks_percentage:{total_marks_percentage}\")"
   ]
  },
  {
   "cell_type": "code",
   "execution_count": null,
   "id": "36c5fe36-bb91-40d7-bf25-a506c226fbf6",
   "metadata": {},
   "outputs": [],
   "source": []
  },
  {
   "cell_type": "code",
   "execution_count": null,
   "id": "dd121ae9-4ce6-4d34-b8ef-7d6eb6bbd748",
   "metadata": {},
   "outputs": [
    {
     "name": "stdin",
     "output_type": "stream",
     "text": [
      "son:  hi papa\n"
     ]
    }
   ],
   "source": [
    "import random\n",
    "import math\n",
    "import time\n",
    "s1=input('son: ')\n",
    "time.sleep(1)\n",
    "f1=input('fa : ')\n",
    "time.sleep(1)\n",
    "s2=input('son: ')\n",
    "time.sleep(1)\n",
    "f2=input('fa : ')\n",
    "time.sleep(1)\n",
    "s3=input('son: ')\n",
    "time.sleep(1)\n",
    "f3=input('fa : ')\n",
    "time.sleep(1)\n",
    "s4=input('son: ')\n",
    "time.sleep(1)\n",
    "f4=input('fa : ')\n",
    "time.sleep(1)\n",
    "tel=random.randint(1,100)\n",
    "eng=random.randint(1,100)\n",
    "maths=random.randint(1,100)\n",
    "sci=random.randint(1,100)\n",
    "soc=random.randint(1,100)\n",
    "avg=(tel+eng+maths+sci+soc)/500\n",
    "total_marks_percentage=math.ceil(avg*100)\n",
    "time.sleep(1)\n",
    "print(f\"tel:{tel}\")\n",
    "time.sleep(1)\n",
    "print(f\"eng:{eng}\")\n",
    "time.sleep(1)\n",
    "print(f\"maths:{eng}\")\n",
    "time.sleep(1)\n",
    "print(f\"sci:{sci}\")\n",
    "time.sleep(1)\n",
    "print(f\"soc:{soc}\")\n",
    "time.sleep(1)\n",
    "print(f\"avg:{avg}\")\n",
    "time.sleep(1)\n",
    "print(f\"total_marks_percentage:{total_marks_percentage}\")"
   ]
  },
  {
   "cell_type": "code",
   "execution_count": null,
   "id": "8bf315e3-b496-4178-8c10-5fee9904275e",
   "metadata": {},
   "outputs": [],
   "source": []
  },
  {
   "cell_type": "code",
   "execution_count": null,
   "id": "d8a63197-ea5d-4fdc-902a-f282c4b60854",
   "metadata": {},
   "outputs": [],
   "source": []
  },
  {
   "cell_type": "code",
   "execution_count": null,
   "id": "3cb6784a-debe-4780-8dac-6d886525dc05",
   "metadata": {},
   "outputs": [],
   "source": []
  },
  {
   "cell_type": "code",
   "execution_count": null,
   "id": "0ef296e5-9491-44d6-926b-58444c34efb7",
   "metadata": {},
   "outputs": [],
   "source": []
  },
  {
   "cell_type": "code",
   "execution_count": null,
   "id": "779ee564-ca18-4824-b500-e98d9d269590",
   "metadata": {},
   "outputs": [],
   "source": []
  },
  {
   "cell_type": "code",
   "execution_count": null,
   "id": "7bc21021-2461-4437-b29e-675ddade8880",
   "metadata": {},
   "outputs": [],
   "source": []
  },
  {
   "cell_type": "code",
   "execution_count": null,
   "id": "025f1dfb-e215-4d6d-805f-a80470f2d5b6",
   "metadata": {},
   "outputs": [],
   "source": []
  },
  {
   "cell_type": "code",
   "execution_count": null,
   "id": "7a91f621-96a8-4d1c-b78f-f21f1df9de13",
   "metadata": {},
   "outputs": [],
   "source": []
  },
  {
   "cell_type": "code",
   "execution_count": null,
   "id": "93cb1a98-f0f7-4bf5-b352-987db6d1e06c",
   "metadata": {},
   "outputs": [],
   "source": []
  },
  {
   "cell_type": "code",
   "execution_count": null,
   "id": "95177280-c6ac-4d3b-aeb7-e1fda0f8f9e6",
   "metadata": {},
   "outputs": [],
   "source": []
  },
  {
   "cell_type": "code",
   "execution_count": null,
   "id": "cc50b128-e65e-41c5-be0c-341605067913",
   "metadata": {},
   "outputs": [],
   "source": []
  },
  {
   "cell_type": "code",
   "execution_count": null,
   "id": "434f9158-b8ab-4f6d-b5e8-9333a37ea33b",
   "metadata": {},
   "outputs": [],
   "source": []
  },
  {
   "cell_type": "code",
   "execution_count": null,
   "id": "baea5b72-5615-4d27-94ef-2f68317b086c",
   "metadata": {},
   "outputs": [],
   "source": []
  },
  {
   "cell_type": "code",
   "execution_count": null,
   "id": "e242c452-c5b7-457b-88ac-be79d0be1b36",
   "metadata": {},
   "outputs": [],
   "source": []
  }
 ],
 "metadata": {
  "kernelspec": {
   "display_name": "Python [conda env:base] *",
   "language": "python",
   "name": "conda-base-py"
  },
  "language_info": {
   "codemirror_mode": {
    "name": "ipython",
    "version": 3
   },
   "file_extension": ".py",
   "mimetype": "text/x-python",
   "name": "python",
   "nbconvert_exporter": "python",
   "pygments_lexer": "ipython3",
   "version": "3.12.7"
  }
 },
 "nbformat": 4,
 "nbformat_minor": 5
}

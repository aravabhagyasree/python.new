{
 "cells": [
  {
   "cell_type": "markdown",
   "id": "8cf5afdd-c5ac-47f7-b6d3-133bda39c769",
   "metadata": {},
   "source": [
    "- if both keys are same it will take the latest value\n",
    "\n",
    "- dictionary doesn't allow duplicates\n",
    "\n",
    "- in dictionary keys pays vital role\n",
    "\n",
    "- keys cant be duplicate but values can be duplicate\n",
    "\n",
    "- keys are imp ; dictionary will only consider keys\n",
    "\n",
    "- "
   ]
  },
  {
   "cell_type": "code",
   "execution_count": 4,
   "id": "fcdd8927-4940-4655-b44f-f037a91af161",
   "metadata": {},
   "outputs": [
    {
     "data": {
      "text/plain": [
       "{'fruit': {'ji'}}"
      ]
     },
     "execution_count": 4,
     "metadata": {},
     "output_type": "execute_result"
    }
   ],
   "source": [
    "d23={'fruit':{'ji'}}   # works\n",
    "d23"
   ]
  },
  {
   "cell_type": "code",
   "execution_count": 6,
   "id": "0047b3cc-6ff8-449f-b616-ee1d74adc3b0",
   "metadata": {},
   "outputs": [
    {
     "ename": "TypeError",
     "evalue": "unhashable type: 'set'",
     "output_type": "error",
     "traceback": [
      "\u001b[0;31m---------------------------------------------------------------------------\u001b[0m",
      "\u001b[0;31mTypeError\u001b[0m                                 Traceback (most recent call last)",
      "Cell \u001b[0;32mIn[6], line 1\u001b[0m\n\u001b[0;32m----> 1\u001b[0m d23\u001b[38;5;241m=\u001b[39m{{\u001b[38;5;124m'\u001b[39m\u001b[38;5;124mji\u001b[39m\u001b[38;5;124m'\u001b[39m}:\u001b[38;5;124m'\u001b[39m\u001b[38;5;124mfruit\u001b[39m\u001b[38;5;124m'\u001b[39m}\n\u001b[1;32m      2\u001b[0m d23\n",
      "\u001b[0;31mTypeError\u001b[0m: unhashable type: 'set'"
     ]
    }
   ],
   "source": [
    "d23={{'ji'}:'fruit'}   # fails\n",
    "d23"
   ]
  },
  {
   "cell_type": "code",
   "execution_count": 11,
   "id": "f8dff0c6-2288-492a-88d5-e5d96df53e39",
   "metadata": {},
   "outputs": [],
   "source": [
    "dict1={'apple':20,'banana':30,'cherry':50}\n",
    "dict2={'apple':20,'apple':30}\n",
    "dict3={20:'apple',30:'banana',50:'cherry'}\n",
    "\n",
    "# min max sum sorted reversed"
   ]
  },
  {
   "cell_type": "code",
   "execution_count": 17,
   "id": "f44d0cce-10ef-4ede-aa08-f06273cd70aa",
   "metadata": {},
   "outputs": [
    {
     "name": "stdout",
     "output_type": "stream",
     "text": [
      "apple\n",
      "apple\n",
      "20\n"
     ]
    }
   ],
   "source": [
    "print(min(dict1))\n",
    "print(min(dict2))\n",
    "print(min(dict3))"
   ]
  },
  {
   "cell_type": "code",
   "execution_count": 29,
   "id": "3d65aa02-3d25-404f-bba6-d8757d6c934e",
   "metadata": {},
   "outputs": [
    {
     "name": "stdout",
     "output_type": "stream",
     "text": [
      "cherry\n",
      "apple\n",
      "50\n"
     ]
    }
   ],
   "source": [
    "print(max(dict1))\n",
    "print(max(dict2))\n",
    "print(max(dict3))"
   ]
  },
  {
   "cell_type": "code",
   "execution_count": 57,
   "id": "55fc556d-78d0-4932-99a7-618eb8de5fc1",
   "metadata": {},
   "outputs": [
    {
     "ename": "TypeError",
     "evalue": "unsupported operand type(s) for +: 'dict' and 'str'",
     "output_type": "error",
     "traceback": [
      "\u001b[0;31m---------------------------------------------------------------------------\u001b[0m",
      "\u001b[0;31mTypeError\u001b[0m                                 Traceback (most recent call last)",
      "Cell \u001b[0;32mIn[57], line 1\u001b[0m\n\u001b[0;32m----> 1\u001b[0m \u001b[38;5;28msum\u001b[39m(dict1,dict2)\n",
      "\u001b[0;31mTypeError\u001b[0m: unsupported operand type(s) for +: 'dict' and 'str'"
     ]
    }
   ],
   "source": [
    "sum(dict1)"
   ]
  },
  {
   "cell_type": "code",
   "execution_count": 53,
   "id": "43948b6c-6c01-43f1-a2c1-1976acf16340",
   "metadata": {},
   "outputs": [
    {
     "ename": "TypeError",
     "evalue": "unsupported operand type(s) for +: 'int' and 'str'",
     "output_type": "error",
     "traceback": [
      "\u001b[0;31m---------------------------------------------------------------------------\u001b[0m",
      "\u001b[0;31mTypeError\u001b[0m                                 Traceback (most recent call last)",
      "Cell \u001b[0;32mIn[53], line 1\u001b[0m\n\u001b[0;32m----> 1\u001b[0m \u001b[38;5;28msum\u001b[39m(dict2)\n",
      "\u001b[0;31mTypeError\u001b[0m: unsupported operand type(s) for +: 'int' and 'str'"
     ]
    }
   ],
   "source": [
    "sum(dict2)"
   ]
  },
  {
   "cell_type": "code",
   "execution_count": 35,
   "id": "22dc3cce-034b-471f-a81c-13b058448550",
   "metadata": {},
   "outputs": [
    {
     "data": {
      "text/plain": [
       "100"
      ]
     },
     "execution_count": 35,
     "metadata": {},
     "output_type": "execute_result"
    }
   ],
   "source": [
    "sum(dict3)"
   ]
  },
  {
   "cell_type": "code",
   "execution_count": 41,
   "id": "57da1149-fd4f-43d2-a407-0d9162c6beb1",
   "metadata": {},
   "outputs": [
    {
     "name": "stdout",
     "output_type": "stream",
     "text": [
      "['apple', 'banana', 'cherry']\n",
      "['apple']\n",
      "[20, 30, 50]\n"
     ]
    }
   ],
   "source": [
    "print(sorted(dict1))\n",
    "print(sorted(dict2))\n",
    "print(sorted(dict3))"
   ]
  },
  {
   "cell_type": "code",
   "execution_count": 47,
   "id": "8a8fe0b5-d4c1-4fce-b8ac-03b29a06d478",
   "metadata": {},
   "outputs": [
    {
     "name": "stdout",
     "output_type": "stream",
     "text": [
      "cherry\n",
      "banana\n",
      "apple\n"
     ]
    }
   ],
   "source": [
    "reversed(dict1)\n",
    "for i in reversed(dict1):\n",
    "    print(i)"
   ]
  },
  {
   "cell_type": "code",
   "execution_count": 49,
   "id": "ee961837-d34b-4603-9ba0-1c28b98d676c",
   "metadata": {},
   "outputs": [
    {
     "name": "stdout",
     "output_type": "stream",
     "text": [
      "apple\n"
     ]
    }
   ],
   "source": [
    "reversed(dict1)\n",
    "for i in reversed(dict2):\n",
    "    print(i)"
   ]
  },
  {
   "cell_type": "code",
   "execution_count": 51,
   "id": "1a9ea116-0417-4864-9b20-e015c0d7c361",
   "metadata": {},
   "outputs": [
    {
     "name": "stdout",
     "output_type": "stream",
     "text": [
      "50\n",
      "30\n",
      "20\n"
     ]
    }
   ],
   "source": [
    "reversed(dict1)\n",
    "for i in reversed(dict3):\n",
    "    print(i)"
   ]
  },
  {
   "cell_type": "code",
   "execution_count": 60,
   "id": "51a675c2-983d-47fa-8105-0fc2103ca9ae",
   "metadata": {},
   "outputs": [
    {
     "data": {
      "text/plain": [
       "3"
      ]
     },
     "execution_count": 60,
     "metadata": {},
     "output_type": "execute_result"
    }
   ],
   "source": [
    "len(dict1)"
   ]
  },
  {
   "cell_type": "code",
   "execution_count": 72,
   "id": "f8a964d8-117a-4884-a709-964e3a20eaa6",
   "metadata": {},
   "outputs": [
    {
     "data": {
      "text/plain": [
       "True"
      ]
     },
     "execution_count": 72,
     "metadata": {},
     "output_type": "execute_result"
    }
   ],
   "source": [
    "dict1={'apple':20,'banana':30,'cherry':50}\n",
    "'apple' in dict1"
   ]
  },
  {
   "cell_type": "code",
   "execution_count": 74,
   "id": "a6947303-4ecd-4948-9ded-f2719fb7039a",
   "metadata": {},
   "outputs": [
    {
     "data": {
      "text/plain": [
       "False"
      ]
     },
     "execution_count": 74,
     "metadata": {},
     "output_type": "execute_result"
    }
   ],
   "source": [
    "20 in dict1"
   ]
  },
  {
   "cell_type": "code",
   "execution_count": 76,
   "id": "78541a42-d029-4b8f-a4fb-e5610f547cd7",
   "metadata": {},
   "outputs": [
    {
     "ename": "SyntaxError",
     "evalue": "illegal target for annotation (3229527801.py, line 1)",
     "output_type": "error",
     "traceback": [
      "\u001b[0;36m  Cell \u001b[0;32mIn[76], line 1\u001b[0;36m\u001b[0m\n\u001b[0;31m    'apple':20 in dict1\u001b[0m\n\u001b[0m    ^\u001b[0m\n\u001b[0;31mSyntaxError\u001b[0m\u001b[0;31m:\u001b[0m illegal target for annotation\n"
     ]
    }
   ],
   "source": [
    "'apple':20 in dict1"
   ]
  },
  {
   "cell_type": "code",
   "execution_count": null,
   "id": "aaeb3170-9e35-4ca6-87c0-14ecb3afd912",
   "metadata": {},
   "outputs": [],
   "source": [
    "- i in dict1 "
   ]
  },
  {
   "cell_type": "code",
   "execution_count": 78,
   "id": "ee176c9d-10ff-4e23-bee8-97c32ad7e5fb",
   "metadata": {},
   "outputs": [
    {
     "name": "stdout",
     "output_type": "stream",
     "text": [
      "apple\n",
      "banana\n",
      "cherry\n"
     ]
    }
   ],
   "source": [
    "dict1={'apple':20,'banana':30,'cherry':50}\n",
    "for i in dict1:\n",
    "    print(i)"
   ]
  },
  {
   "cell_type": "code",
   "execution_count": 92,
   "id": "635c7ba3-67ae-4ce4-a623-b98c8ac41dec",
   "metadata": {},
   "outputs": [
    {
     "name": "stdout",
     "output_type": "stream",
     "text": [
      "0\n",
      "1\n",
      "2\n"
     ]
    }
   ],
   "source": [
    "dict1={'apple':20,'banana':30,'cherry':50}\n",
    "for i in range(len(dict1)):\n",
    "    print(i)"
   ]
  },
  {
   "cell_type": "code",
   "execution_count": 94,
   "id": "2cc0b8ee-34a1-452a-969a-f3fc5c073a81",
   "metadata": {},
   "outputs": [
    {
     "data": {
      "text/plain": [
       "10"
      ]
     },
     "execution_count": 94,
     "metadata": {},
     "output_type": "execute_result"
    }
   ],
   "source": [
    "l1=[10,20,30]\n",
    "l1[0]"
   ]
  },
  {
   "cell_type": "code",
   "execution_count": 96,
   "id": "3684d6d3-dcca-47e7-af95-09acfd423e05",
   "metadata": {},
   "outputs": [
    {
     "data": {
      "text/plain": [
       "'p'"
      ]
     },
     "execution_count": 96,
     "metadata": {},
     "output_type": "execute_result"
    }
   ],
   "source": [
    "str1='python'\n",
    "str1[0]"
   ]
  },
  {
   "cell_type": "code",
   "execution_count": 101,
   "id": "7fd0a557-535e-42d0-b796-e9c19c1a1cf9",
   "metadata": {},
   "outputs": [
    {
     "data": {
      "text/plain": [
       "20"
      ]
     },
     "execution_count": 101,
     "metadata": {},
     "output_type": "execute_result"
    }
   ],
   "source": [
    "dict2={'apple':20,'banana':30}\n",
    "dict2['apple']"
   ]
  },
  {
   "cell_type": "code",
   "execution_count": null,
   "id": "8e515376-2986-4b4e-9b86-30e641570984",
   "metadata": {},
   "outputs": [],
   "source": [
    "# **key Error** :: means u provided wrong information"
   ]
  },
  {
   "cell_type": "markdown",
   "id": "4ca87b0b-3905-4789-912a-d34c61c61929",
   "metadata": {},
   "source": [
    "**how to extract the values**\n",
    "\n",
    "- in dictionary we have a concept key:value pair\n",
    "\n",
    "- keys are very imp \n",
    "\n",
    "- in order to get the values we need to take the keys help\n",
    "\n",
    "- call the values by using keys"
   ]
  },
  {
   "cell_type": "code",
   "execution_count": 107,
   "id": "cda2aef1-3fac-4220-9444-57e6386e13f9",
   "metadata": {},
   "outputs": [
    {
     "name": "stdout",
     "output_type": "stream",
     "text": [
      "apple 20\n",
      "banana 30\n",
      "cherry 50\n"
     ]
    }
   ],
   "source": [
    "# both keys and values come \n",
    "\n",
    "dict1={'apple':20,'banana':30,'cherry':50}\n",
    "for i in dict1:\n",
    "    print(i,dict1[i])"
   ]
  },
  {
   "cell_type": "code",
   "execution_count": 115,
   "id": "dae692ad-3b68-4396-a36f-2c09ca60d2e3",
   "metadata": {},
   "outputs": [
    {
     "name": "stdout",
     "output_type": "stream",
     "text": [
      "ramesh age is 20\n",
      "suresh age is 25\n",
      "sathish age is 30\n"
     ]
    }
   ],
   "source": [
    "names={'ramesh':20,'suresh':25,'sathish':30}\n",
    "for i in names:\n",
    "    print(f'{i} age is {names[i]}')"
   ]
  },
  {
   "cell_type": "code",
   "execution_count": 127,
   "id": "5fc29cb1-f483-42f8-8890-5af74bc10d40",
   "metadata": {},
   "outputs": [
    {
     "data": {
      "text/plain": [
       "'cherry'"
      ]
     },
     "execution_count": 127,
     "metadata": {},
     "output_type": "execute_result"
    }
   ],
   "source": [
    "d={'fruits':['apple','banana','cherry']}\n",
    "d['fruits'][2]"
   ]
  },
  {
   "cell_type": "code",
   "execution_count": 137,
   "id": "0121d81e-3f90-4700-bdf0-30ffeea33feb",
   "metadata": {},
   "outputs": [
    {
     "data": {
      "text/plain": [
       "'green'"
      ]
     },
     "execution_count": 137,
     "metadata": {},
     "output_type": "execute_result"
    }
   ],
   "source": [
    "d={'fruits':{'apple':['sweet','sour','green']}}\n",
    "d['fruits']['apple'][2]"
   ]
  },
  {
   "cell_type": "code",
   "execution_count": null,
   "id": "1552188c-eec7-4d1e-8b2c-80bb9c931db6",
   "metadata": {},
   "outputs": [],
   "source": [
    "d={'fruits':{'apple':['sweet','sour','green']}}\n",
    "d['fruits'] # dictionary \n",
    "d['fruits']['apple'] # list\n",
    "d['fruits']['apple'][2]"
   ]
  },
  {
   "cell_type": "code",
   "execution_count": 155,
   "id": "5ab405fe-6520-48de-a218-dc946399ca52",
   "metadata": {},
   "outputs": [
    {
     "data": {
      "text/plain": [
       "50"
      ]
     },
     "execution_count": 155,
     "metadata": {},
     "output_type": "execute_result"
    }
   ],
   "source": [
    "d={'fruits':[{'cost':[50]}]}\n",
    " #len(d)\n",
    "d['fruits'][0]['cost'][0]"
   ]
  },
  {
   "cell_type": "code",
   "execution_count": 167,
   "id": "215a369b-0d23-4b33-8171-bcee073df1f9",
   "metadata": {},
   "outputs": [
    {
     "data": {
      "text/plain": [
       "40"
      ]
     },
     "execution_count": 167,
     "metadata": {},
     "output_type": "execute_result"
    }
   ],
   "source": [
    "d={'fruits':['apple'],'cost':[{'1kg':[20,30,40],'2kg':'none'}]}\n",
    "d['cost'][0]['1kg'][2]"
   ]
  },
  {
   "cell_type": "code",
   "execution_count": 169,
   "id": "d1b8c9a1-2792-426b-9033-8fac03270c33",
   "metadata": {},
   "outputs": [
    {
     "data": {
      "text/plain": [
       "'none'"
      ]
     },
     "execution_count": 169,
     "metadata": {},
     "output_type": "execute_result"
    }
   ],
   "source": [
    "d={'fruits':['apple'],'cost':[{'1kg':[20,30,40],'2kg':'none'}]}\n",
    "d['cost'][0]['2kg']"
   ]
  },
  {
   "cell_type": "code",
   "execution_count": 193,
   "id": "0b7f355e-c384-4680-ace6-97d3ea51b318",
   "metadata": {},
   "outputs": [
    {
     "data": {
      "text/plain": [
       "{'shambaji'}"
      ]
     },
     "execution_count": 193,
     "metadata": {},
     "output_type": "execute_result"
    }
   ],
   "source": [
    "d={'fruits':{'orange':{'nagpur':{'MH':{'king':{'shivaji':{'shambaji'}}}}}}}\n",
    "d['fruits']['orange']['nagpur']['MH']['king']['shivaji']"
   ]
  },
  {
   "cell_type": "markdown",
   "id": "70eba03d-ad85-4abf-95c7-07eec0ba63f0",
   "metadata": {},
   "source": [
    "- do it sets today "
   ]
  },
  {
   "cell_type": "markdown",
   "id": "1029e179-9296-425c-bfca-465d56ca0d76",
   "metadata": {},
   "source": [
    "**how to create an empty dictionary**\n",
    "\n",
    "- now onwards focus on creation of empty list,string,dictionary \n",
    "\n",
    "- we will take empty list will use append operation\n",
    "\n",
    "- we will take empty string will use conactenation\n",
    "\n",
    "- we will take empty dictionary will use key:value pair concept"
   ]
  },
  {
   "cell_type": "code",
   "execution_count": 1,
   "id": "65c4d60c-d9dc-44c5-a2f7-12f9e1087162",
   "metadata": {},
   "outputs": [
    {
     "data": {
      "text/plain": [
       "[10, 20]"
      ]
     },
     "execution_count": 1,
     "metadata": {},
     "output_type": "execute_result"
    }
   ],
   "source": [
    "# list\n",
    "l=[]\n",
    "l.append(10)\n",
    "l.append(20)\n",
    "l "
   ]
  },
  {
   "cell_type": "code",
   "execution_count": 5,
   "id": "79fe90d9-d2fd-46ad-b768-19c4d42871b5",
   "metadata": {},
   "outputs": [
    {
     "data": {
      "text/plain": [
       "' py'"
      ]
     },
     "execution_count": 5,
     "metadata": {},
     "output_type": "execute_result"
    }
   ],
   "source": [
    "# string\n",
    "s=' '\n",
    "s=s+'p'  #''+'p'\n",
    "s=s+'y'  #'p'+'y' = 'py'\n",
    "s"
   ]
  },
  {
   "cell_type": "code",
   "execution_count": 11,
   "id": "3c58bb90-c547-4a40-a4ff-8613c6df3471",
   "metadata": {},
   "outputs": [
    {
     "data": {
      "text/plain": [
       "{'apple': 20, 'banana': 25, 'cherry': 30}"
      ]
     },
     "execution_count": 11,
     "metadata": {},
     "output_type": "execute_result"
    }
   ],
   "source": [
    "# dictionary \n",
    "d={}\n",
    "d['apple']=20\n",
    "d['banana']=25\n",
    "d['cherry']=30\n",
    "d"
   ]
  },
  {
   "cell_type": "code",
   "execution_count": null,
   "id": "980c7489-4dbb-4c02-99be-abd978305549",
   "metadata": {},
   "outputs": [],
   "source": [
    "**how to convert list to dictionary**"
   ]
  },
  {
   "cell_type": "code",
   "execution_count": 27,
   "id": "37880e56-302b-4680-9e11-1e53cf300fb0",
   "metadata": {},
   "outputs": [
    {
     "name": "stdout",
     "output_type": "stream",
     "text": [
      "ramesh 20\n",
      "suresh 25\n",
      "sathist 30\n"
     ]
    },
    {
     "data": {
      "text/plain": [
       "{'ramesh': 20, 'suresh': 25, 'sathist': 30}"
      ]
     },
     "execution_count": 27,
     "metadata": {},
     "output_type": "execute_result"
    }
   ],
   "source": [
    "# d[i]=j\n",
    "names=['ramesh','suresh','sathist']\n",
    "age=[20,25,30]\n",
    "d1={}\n",
    "for i,j in zip(names,age):\n",
    "    print(i,j)\n",
    "    d1[i]=j\n",
    "\n",
    "d1"
   ]
  },
  {
   "cell_type": "code",
   "execution_count": 30,
   "id": "c92f2224-93d6-4064-a0ea-8c98b9e6ee7f",
   "metadata": {},
   "outputs": [
    {
     "data": {
      "text/plain": [
       "{'ramesh': 20, 'suresh': 25, 'sathist': 30}"
      ]
     },
     "execution_count": 30,
     "metadata": {},
     "output_type": "execute_result"
    }
   ],
   "source": [
    "# dictionary comprehension\n",
    "\n",
    "{i:j for i,j in zip(names,age)}"
   ]
  },
  {
   "cell_type": "code",
   "execution_count": null,
   "id": "c67f62b9-eecd-4041-af0c-c4401bf01ab8",
   "metadata": {},
   "outputs": [],
   "source": []
  },
  {
   "cell_type": "code",
   "execution_count": null,
   "id": "a8957910-5683-42c1-af36-2478eb27dbb1",
   "metadata": {},
   "outputs": [],
   "source": []
  },
  {
   "cell_type": "code",
   "execution_count": 34,
   "id": "6d7b3535-2062-4fbf-9277-d4a8cb2fb779",
   "metadata": {},
   "outputs": [
    {
     "name": "stdout",
     "output_type": "stream",
     "text": [
      "apple 20\n",
      "banana 30\n",
      "cherry 50\n"
     ]
    },
    {
     "data": {
      "text/plain": [
       "{'apple': 20, 'banana': 30, 'cherry': 50}"
      ]
     },
     "execution_count": 34,
     "metadata": {},
     "output_type": "execute_result"
    }
   ],
   "source": [
    "# dict1={'apple':20,'banana':30,'cherry':50}\n",
    "fruits=['apple','banana','cherry']\n",
    "rate=[20,30,50]\n",
    "total={}\n",
    "for i,j in zip(fruits,rate):\n",
    "    print(i,j)\n",
    "    total[i]=j\n",
    "\n",
    "total"
   ]
  },
  {
   "cell_type": "code",
   "execution_count": 37,
   "id": "8232befd-8afe-4092-a323-3c659fbc5457",
   "metadata": {},
   "outputs": [
    {
     "data": {
      "text/plain": [
       "{'apple': 20, 'banana': 30, 'cherry': 50}"
      ]
     },
     "execution_count": 37,
     "metadata": {},
     "output_type": "execute_result"
    }
   ],
   "source": [
    "fruits=['apple','banana','cherry']\n",
    "rate=[20,30,50]\n",
    "{i:j for i,j in zip(fruits,rate)}"
   ]
  },
  {
   "cell_type": "markdown",
   "id": "71d458e4-a9a1-42a8-90e6-2d493b0e166a",
   "metadata": {},
   "source": [
    "# dictionary comprehension"
   ]
  },
  {
   "cell_type": "code",
   "execution_count": null,
   "id": "b11d920c-e23d-44b8-81fb-3e5b434cbd11",
   "metadata": {},
   "outputs": [],
   "source": [
    "- for list comprehension we written inside list\n",
    "\n",
    "- for dictionary comprehension we should write everything inside dictionary \n",
    "\n",
    "- for list comprehension: [<output> <for loop>]\n",
    "\n",
    "- for dictionary comprehension: {key:value}"
   ]
  },
  {
   "cell_type": "code",
   "execution_count": null,
   "id": "645ee7d8-252d-43ce-a13f-8beda5243567",
   "metadata": {},
   "outputs": [],
   "source": [
    "**mutable - immutable**\n",
    "\n",
    "- lists are mutable\n",
    "\n",
    "- dictionary are also mutable\n",
    "\n",
    "- strings are immutable \n",
    "\n",
    "- tuple are immutable\n",
    "\n",
    "- in dictionary we can change the values using keys\n"
   ]
  },
  {
   "cell_type": "code",
   "execution_count": 40,
   "id": "540fb3a5-047d-485b-ab7f-9062e660a934",
   "metadata": {},
   "outputs": [
    {
     "data": {
      "text/plain": [
       "{'ramesh': 40, 'suresh': 25, 'sathist': 30}"
      ]
     },
     "execution_count": 40,
     "metadata": {},
     "output_type": "execute_result"
    }
   ],
   "source": [
    "# example \n",
    "\n",
    "d={'ramesh': 20, 'suresh': 25, 'sathist': 30}\n",
    "d['ramesh']=40\n",
    "d"
   ]
  },
  {
   "cell_type": "code",
   "execution_count": null,
   "id": "fb6a4576-d32c-457b-91d4-8bff43a9002e",
   "metadata": {},
   "outputs": [],
   "source": [
    "# methods"
   ]
  },
  {
   "cell_type": "code",
   "execution_count": 42,
   "id": "3a04e268-1144-4a75-b6eb-8ec9bf53be3e",
   "metadata": {},
   "outputs": [
    {
     "data": {
      "text/plain": [
       "['__class__',\n",
       " '__class_getitem__',\n",
       " '__contains__',\n",
       " '__delattr__',\n",
       " '__delitem__',\n",
       " '__dir__',\n",
       " '__doc__',\n",
       " '__eq__',\n",
       " '__format__',\n",
       " '__ge__',\n",
       " '__getattribute__',\n",
       " '__getitem__',\n",
       " '__getstate__',\n",
       " '__gt__',\n",
       " '__hash__',\n",
       " '__init__',\n",
       " '__init_subclass__',\n",
       " '__ior__',\n",
       " '__iter__',\n",
       " '__le__',\n",
       " '__len__',\n",
       " '__lt__',\n",
       " '__ne__',\n",
       " '__new__',\n",
       " '__or__',\n",
       " '__reduce__',\n",
       " '__reduce_ex__',\n",
       " '__repr__',\n",
       " '__reversed__',\n",
       " '__ror__',\n",
       " '__setattr__',\n",
       " '__setitem__',\n",
       " '__sizeof__',\n",
       " '__str__',\n",
       " '__subclasshook__',\n",
       " 'clear',\n",
       " 'copy',\n",
       " 'fromkeys',\n",
       " 'get',\n",
       " 'items',\n",
       " 'keys',\n",
       " 'pop',\n",
       " 'popitem',\n",
       " 'setdefault',\n",
       " 'update',\n",
       " 'values']"
      ]
     },
     "execution_count": 42,
     "metadata": {},
     "output_type": "execute_result"
    }
   ],
   "source": [
    "dir({})"
   ]
  },
  {
   "cell_type": "code",
   "execution_count": null,
   "id": "eac9b02c-6477-4d4e-972a-729da3137cca",
   "metadata": {},
   "outputs": [],
   "source": [
    "# 'clear',\n",
    "#  'copy',\n",
    "#  'fromkeys',\n",
    "#  'get',\n",
    "#  'items',\n",
    "#  'keys',\n",
    "#  'pop',\n",
    "#  'popitem',\n",
    "#  'setdefault',\n",
    "#  'update',\n",
    "#  'values'"
   ]
  },
  {
   "cell_type": "code",
   "execution_count": null,
   "id": "e718c939-0054-4914-9284-228bf17d2787",
   "metadata": {},
   "outputs": [],
   "source": [
    "# 'clear', #  'copy', #  'keys', #  'values', #  'items',"
   ]
  },
  {
   "cell_type": "code",
   "execution_count": 4,
   "id": "ce5ceac7-ba15-4060-8fae-b33c7e7eba2e",
   "metadata": {},
   "outputs": [
    {
     "data": {
      "text/plain": [
       "{}"
      ]
     },
     "execution_count": 4,
     "metadata": {},
     "output_type": "execute_result"
    }
   ],
   "source": [
    "d={'hello':20,'world':476}\n",
    "d.clear()\n",
    "d"
   ]
  },
  {
   "cell_type": "code",
   "execution_count": null,
   "id": "ac2b6585-ae9e-49c5-9cb1-e3557f94fdb8",
   "metadata": {},
   "outputs": [],
   "source": []
  },
  {
   "cell_type": "code",
   "execution_count": 8,
   "id": "1b4f230c-5c4f-4fca-b3a9-3769e5cdf635",
   "metadata": {},
   "outputs": [
    {
     "data": {
      "text/plain": [
       "{'mark': 39, 'microsoft': 7899}"
      ]
     },
     "execution_count": 8,
     "metadata": {},
     "output_type": "execute_result"
    }
   ],
   "source": [
    "d1={'mark':39,'microsoft':7899}\n",
    "d1.copy()\n",
    "d1"
   ]
  },
  {
   "cell_type": "code",
   "execution_count": 14,
   "id": "b3d7103b-c2df-46c0-b9c4-145ecb64024d",
   "metadata": {},
   "outputs": [
    {
     "data": {
      "text/plain": [
       "{'youtube': 384, 'whatsapp': 63485}"
      ]
     },
     "execution_count": 14,
     "metadata": {},
     "output_type": "execute_result"
    }
   ],
   "source": [
    "k9={'youtube':384,'whatsapp':63485}\n",
    "k9.keys()\n",
    "k9"
   ]
  },
  {
   "cell_type": "code",
   "execution_count": 20,
   "id": "408611be-4303-4e41-9064-f2c9217a8b12",
   "metadata": {},
   "outputs": [
    {
     "data": {
      "text/plain": [
       "dict_values([8040, 754])"
      ]
     },
     "execution_count": 20,
     "metadata": {},
     "output_type": "execute_result"
    }
   ],
   "source": [
    "hgu={'bhanu':8040,'bhanu_mom':754}\n",
    "hgu.values()"
   ]
  },
  {
   "cell_type": "code",
   "execution_count": 28,
   "id": "52260073-37ff-4d74-a76d-8806f2951477",
   "metadata": {},
   "outputs": [
    {
     "data": {
      "text/plain": [
       "dict_items([('python', 9), ('html', 1)])"
      ]
     },
     "execution_count": 28,
     "metadata": {},
     "output_type": "execute_result"
    }
   ],
   "source": [
    "fhy={'python':9,'html':1}\n",
    "fhy.items()\n"
   ]
  }
 ],
 "metadata": {
  "kernelspec": {
   "display_name": "Python [conda env:base] *",
   "language": "python",
   "name": "conda-base-py"
  },
  "language_info": {
   "codemirror_mode": {
    "name": "ipython",
    "version": 3
   },
   "file_extension": ".py",
   "mimetype": "text/x-python",
   "name": "python",
   "nbconvert_exporter": "python",
   "pygments_lexer": "ipython3",
   "version": "3.12.7"
  }
 },
 "nbformat": 4,
 "nbformat_minor": 5
}

{
 "cells": [
  {
   "cell_type": "markdown",
   "id": "73a202f1-e144-4278-8cb8-14ff11d65f9a",
   "metadata": {},
   "source": [
    "**loops**\n",
    "-"
   ]
  },
  {
   "cell_type": "markdown",
   "id": "83f1be95-0cce-49b4-a83c-eab8baf9b724",
   "metadata": {},
   "source": [
    "- loops are used to itearate the code multiple times\n",
    "  \n",
    "- functions are used to reuse the code block\n",
    "\n",
    "  \n",
    "- that code block can be repeated multiple times\n",
    "\n",
    "  \n",
    "- whenever you are doing same task multiple times then think about loop\n",
    "\n",
    "  \n",
    "- we have two loops\n",
    "    - for loop\n",
    "    - while loop\n",
    "\n",
    "- any loop we need three things\n",
    "    - intialization (start point)\n",
    "    - incerment or decrement\n",
    "    - condition to stop"
   ]
  },
  {
   "cell_type": "markdown",
   "id": "2fae0ac1-73c2-4413-b3dc-abe7f4c4c0e0",
   "metadata": {},
   "source": [
    "**For loop**"
   ]
  },
  {
   "cell_type": "code",
   "execution_count": null,
   "id": "0c0abaaa-3bad-43e8-a194-e565356c38f1",
   "metadata": {},
   "outputs": [],
   "source": [
    "for <varieble> in range(<number>):\n",
    "    <write ur code here>"
   ]
  },
  {
   "cell_type": "code",
   "execution_count": 1,
   "id": "a551d104-ca8c-41b4-a35d-5d629f814240",
   "metadata": {},
   "outputs": [
    {
     "name": "stdout",
     "output_type": "stream",
     "text": [
      "0\n",
      "1\n",
      "2\n",
      "3\n",
      "4\n"
     ]
    }
   ],
   "source": [
    "##### Example #####\n",
    "\n",
    "for i in range(5):\n",
    "    print(i)"
   ]
  },
  {
   "cell_type": "code",
   "execution_count": 16,
   "id": "eae5673a-e16c-4aa2-bce8-58164f3d70f9",
   "metadata": {},
   "outputs": [
    {
     "name": "stdout",
     "output_type": "stream",
     "text": [
      "0\n",
      "1\n",
      "2\n"
     ]
    }
   ],
   "source": [
    "# print(0)\n",
    "# print(1)\n",
    "# print(2)\n",
    "for i in range(3):\n",
    "    print(i)"
   ]
  },
  {
   "cell_type": "code",
   "execution_count": 18,
   "id": "67471dfb-c510-4a12-a0aa-e38a558b8930",
   "metadata": {},
   "outputs": [
    {
     "name": "stdout",
     "output_type": "stream",
     "text": [
      "0 1 2 3 "
     ]
    }
   ],
   "source": [
    "# print(0,end=' ')\n",
    "# print(1,end=' ')\n",
    "# print(2)\n",
    "for i in range(4):\n",
    "    print(i,end=' ')"
   ]
  },
  {
   "cell_type": "markdown",
   "id": "95d73ac9-37fc-438a-91cd-6c828c504519",
   "metadata": {},
   "source": [
    "**case-1: range(stop)**\n",
    "\n",
    "- start = 0: python index always starts with zero\n",
    "- increment by 1\n",
    "- last = stop-1"
   ]
  },
  {
   "cell_type": "code",
   "execution_count": 26,
   "id": "050a486c-98c3-4316-b190-736bb6b8c254",
   "metadata": {},
   "outputs": [
    {
     "name": "stdout",
     "output_type": "stream",
     "text": [
      "0 1 2 3 4 5 6 7 8 9 "
     ]
    }
   ],
   "source": [
    "for i in range(10):\n",
    "    print(i,end=' ')"
   ]
  },
  {
   "cell_type": "code",
   "execution_count": 28,
   "id": "cfff7374-b7ab-4754-a6c0-9e6c0fcbdf00",
   "metadata": {},
   "outputs": [
    {
     "name": "stdout",
     "output_type": "stream",
     "text": [
      "good night\n",
      "good night\n",
      "good night\n"
     ]
    }
   ],
   "source": [
    "for i in range(3):\n",
    "    print('good night')"
   ]
  },
  {
   "cell_type": "markdown",
   "id": "734c8105-6f96-4d39-b7fa-25c2f5b3c20e",
   "metadata": {},
   "source": [
    "**case-2: range(start,stop)**\n",
    "\n",
    "- suppose i want to start my loop with a particular number\n",
    "- then add stop also inside range\n",
    "- start = start\n",
    "- incerment by 1\n",
    "- last = stop-1"
   ]
  },
  {
   "cell_type": "code",
   "execution_count": null,
   "id": "859c0c6b-12d3-4ad5-820a-a1f0e7d0b4cc",
   "metadata": {},
   "outputs": [],
   "source": [
    "range(10,20)\n",
    "- start = 10 , incerement by 1, last = 20-1 =19 "
   ]
  },
  {
   "cell_type": "code",
   "execution_count": 31,
   "id": "e13f2631-43b0-41aa-91cc-a90e4732755a",
   "metadata": {},
   "outputs": [
    {
     "name": "stdout",
     "output_type": "stream",
     "text": [
      "10 11 12 13 14 15 16 17 18 19 "
     ]
    }
   ],
   "source": [
    "for i in range(10,20):\n",
    "    print(i,end=' ')"
   ]
  },
  {
   "cell_type": "code",
   "execution_count": 45,
   "id": "1ee6faa8-92b0-4be1-b48d-f003eb9ef0b3",
   "metadata": {},
   "outputs": [
    {
     "name": "stdout",
     "output_type": "stream",
     "text": [
      "square of 1 is 1 =  1\n",
      "square of 2 is 2 =  4\n",
      "square of 3 is 3 =  9\n",
      "square of 4 is 4 =  16\n",
      "square of 5 is 5 =  25\n"
     ]
    }
   ],
   "source": [
    "# wap ask the user the square of first five numbers \n",
    "# square of 1 is 1\n",
    "\n",
    "for i in range(1,6):\n",
    "    print(f\"square of {i} is {i} = \",i*i)"
   ]
  },
  {
   "cell_type": "code",
   "execution_count": null,
   "id": "30b4bf41-0dbc-4c0c-b7e2-bffe5be692ec",
   "metadata": {},
   "outputs": [],
   "source": [
    "# wap ask the user to enter a number the promt should happen 5 times\n",
    "and print the square of the number\n"
   ]
  },
  {
   "cell_type": "code",
   "execution_count": 55,
   "id": "14c0c0c7-7dcf-45e9-b797-9af4ed40d515",
   "metadata": {},
   "outputs": [
    {
     "name": "stdin",
     "output_type": "stream",
     "text": [
      "enter the number 7\n"
     ]
    },
    {
     "name": "stdout",
     "output_type": "stream",
     "text": [
      "the square of 7 is : 49\n"
     ]
    },
    {
     "name": "stdin",
     "output_type": "stream",
     "text": [
      "enter the number 8\n"
     ]
    },
    {
     "name": "stdout",
     "output_type": "stream",
     "text": [
      "the square of 8 is : 64\n"
     ]
    },
    {
     "name": "stdin",
     "output_type": "stream",
     "text": [
      "enter the number 9\n"
     ]
    },
    {
     "name": "stdout",
     "output_type": "stream",
     "text": [
      "the square of 9 is : 81\n"
     ]
    },
    {
     "name": "stdin",
     "output_type": "stream",
     "text": [
      "enter the number 0\n"
     ]
    },
    {
     "name": "stdout",
     "output_type": "stream",
     "text": [
      "the square of 0 is : 0\n"
     ]
    },
    {
     "name": "stdin",
     "output_type": "stream",
     "text": [
      "enter the number 6\n"
     ]
    },
    {
     "name": "stdout",
     "output_type": "stream",
     "text": [
      "the square of 6 is : 36\n"
     ]
    }
   ],
   "source": [
    "for i in range(5):\n",
    "    num=eval(input(\"enter the number\"))\n",
    "    print(f\"the square of {num} is : {num*num}\")"
   ]
  },
  {
   "cell_type": "code",
   "execution_count": 59,
   "id": "687f4c4b-64a8-4dbe-ba3c-045fe3fb60f6",
   "metadata": {},
   "outputs": [
    {
     "name": "stdin",
     "output_type": "stream",
     "text": [
      "enter the number 3\n"
     ]
    },
    {
     "name": "stdout",
     "output_type": "stream",
     "text": [
      "the square of 3: 9\n"
     ]
    },
    {
     "name": "stdin",
     "output_type": "stream",
     "text": [
      "enter the number 4\n"
     ]
    },
    {
     "name": "stdout",
     "output_type": "stream",
     "text": [
      "the square of 4: 16\n"
     ]
    }
   ],
   "source": [
    "def square():\n",
    "    num=eval(input('enter the number'))\n",
    "    print(f\"the square of {num}: {num*num}\")\n",
    "\n",
    "for i in range(2):\n",
    "    square()"
   ]
  },
  {
   "cell_type": "markdown",
   "id": "99d870f7-6972-4471-9493-1ed6dd58d44e",
   "metadata": {},
   "source": [
    "**case-3: range(start,stop,step)**\n",
    "\n",
    "- start= start only\n",
    "- step:\n",
    "  - look about step sign is it positive or negative sign\n",
    "  - positive means increment\n",
    "      - last:stop-1\n",
    "  - negative means decrement\n",
    "      - last:stop+1"
   ]
  },
  {
   "cell_type": "code",
   "execution_count": 68,
   "id": "a3b0b1cd-8fc9-4b36-a57e-06b989dac904",
   "metadata": {},
   "outputs": [
    {
     "name": "stdout",
     "output_type": "stream",
     "text": [
      "3 5 7 9 11 13 15 17 "
     ]
    }
   ],
   "source": [
    "# example -1 : range(3,20,2)\n",
    "# start=3\n",
    "# step=+2 positive direction\n",
    "# last =20-1 = 19\n",
    "# 3,5,7,9,11,13,15,17\n",
    "\n",
    "for i in range(3,19,2):\n",
    "    print(i,end=' ')"
   ]
  },
  {
   "cell_type": "code",
   "execution_count": 74,
   "id": "498a4228-5838-46d2-a9d0-04d414f99e8d",
   "metadata": {},
   "outputs": [],
   "source": [
    "for i in range(3,19,-2):\n",
    "    print(i,end=' ')     # dont give any output"
   ]
  },
  {
   "cell_type": "code",
   "execution_count": 76,
   "id": "6ab5038d-935e-497d-b366-72391bcbd69a",
   "metadata": {},
   "outputs": [
    {
     "name": "stdout",
     "output_type": "stream",
     "text": [
      "3 1 -1 -3 -5 -7 -9 -11 -13 -15 -17 "
     ]
    }
   ],
   "source": [
    "for i in range(3,-19,-2):\n",
    "    print(i,end=' ')"
   ]
  },
  {
   "cell_type": "code",
   "execution_count": 78,
   "id": "73dc72f9-d5a8-4ecc-ac00-1c3277d99a3c",
   "metadata": {},
   "outputs": [],
   "source": [
    "for i in range(3,-19,2): \n",
    "    print(i,end=' ')    # dont give any output"
   ]
  },
  {
   "cell_type": "code",
   "execution_count": 94,
   "id": "dda4dd10-59d7-49e0-b89e-9ba6bb2f000c",
   "metadata": {},
   "outputs": [
    {
     "name": "stdout",
     "output_type": "stream",
     "text": [
      "190 180 170 160 "
     ]
    }
   ],
   "source": [
    "for i in range(190,150,-10):\n",
    "    print(i,end=' ')"
   ]
  },
  {
   "cell_type": "code",
   "execution_count": null,
   "id": "c6f8568d-145f-42fd-8402-ca88cf9c1a55",
   "metadata": {},
   "outputs": [],
   "source": []
  },
  {
   "cell_type": "code",
   "execution_count": null,
   "id": "cdfc0215-636e-4f6f-a8d5-2993c53eaa93",
   "metadata": {},
   "outputs": [],
   "source": []
  },
  {
   "cell_type": "code",
   "execution_count": null,
   "id": "88313041-15ac-4d0c-8818-d78112ab6dfd",
   "metadata": {},
   "outputs": [],
   "source": []
  },
  {
   "cell_type": "code",
   "execution_count": null,
   "id": "757c5116-4162-4f42-aae1-03425c4defd2",
   "metadata": {},
   "outputs": [],
   "source": []
  },
  {
   "cell_type": "code",
   "execution_count": null,
   "id": "75f91449-e80d-4305-bcd5-8fa0d86732c7",
   "metadata": {},
   "outputs": [],
   "source": []
  },
  {
   "cell_type": "code",
   "execution_count": null,
   "id": "d942b341-d8cf-4199-ad0c-bc7a2f0f5253",
   "metadata": {},
   "outputs": [],
   "source": []
  },
  {
   "cell_type": "code",
   "execution_count": null,
   "id": "a1aa6d3e-e068-4f90-a856-d510015f4776",
   "metadata": {},
   "outputs": [],
   "source": []
  },
  {
   "cell_type": "code",
   "execution_count": null,
   "id": "c5811ebc-79fe-4fc5-8bf3-5e8c6ee9d1d5",
   "metadata": {},
   "outputs": [],
   "source": []
  },
  {
   "cell_type": "code",
   "execution_count": null,
   "id": "455ac755-a1a9-4a66-b795-9313cddff092",
   "metadata": {},
   "outputs": [],
   "source": []
  },
  {
   "cell_type": "code",
   "execution_count": null,
   "id": "bd8bf519-ff46-41d9-adb0-2debacd261f6",
   "metadata": {},
   "outputs": [],
   "source": []
  }
 ],
 "metadata": {
  "kernelspec": {
   "display_name": "Python [conda env:base] *",
   "language": "python",
   "name": "conda-base-py"
  },
  "language_info": {
   "codemirror_mode": {
    "name": "ipython",
    "version": 3
   },
   "file_extension": ".py",
   "mimetype": "text/x-python",
   "name": "python",
   "nbconvert_exporter": "python",
   "pygments_lexer": "ipython3",
   "version": "3.12.7"
  }
 },
 "nbformat": 4,
 "nbformat_minor": 5
}

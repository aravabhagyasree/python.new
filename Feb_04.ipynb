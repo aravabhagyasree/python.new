{
 "cells": [
  {
   "cell_type": "markdown",
   "id": "6fd7711d-7af7-4082-9b42-37c9fc4ad218",
   "metadata": {},
   "source": [
    "**range vs in**\n",
    "\n",
    "- when we have use with 'index' then go for \"range\"\n",
    "\n",
    "- when we have use with only element go for in"
   ]
  },
  {
   "cell_type": "markdown",
   "id": "ce781b5c-ee0f-49d4-921b-c66888875ac6",
   "metadata": {},
   "source": [
    "**mutable vs immutable**"
   ]
  },
  {
   "cell_type": "code",
   "execution_count": 9,
   "id": "18554ce9-1e73-46a4-ba67-a36261b7cd58",
   "metadata": {},
   "outputs": [
    {
     "data": {
      "text/plain": [
       "[20, 2, 3, 4, 5]"
      ]
     },
     "execution_count": 9,
     "metadata": {},
     "output_type": "execute_result"
    }
   ],
   "source": [
    "list1=[1,2,3,4,5]\n",
    "list1[0]=20\n",
    "list1\n",
    "\n",
    "# lists are mutable"
   ]
  },
  {
   "cell_type": "code",
   "execution_count": 7,
   "id": "23369a9e-0c71-4f0a-931f-39506a52370c",
   "metadata": {},
   "outputs": [
    {
     "ename": "TypeError",
     "evalue": "'str' object does not support item assignment",
     "output_type": "error",
     "traceback": [
      "\u001b[0;31m---------------------------------------------------------------------------\u001b[0m",
      "\u001b[0;31mTypeError\u001b[0m                                 Traceback (most recent call last)",
      "Cell \u001b[0;32mIn[7], line 2\u001b[0m\n\u001b[1;32m      1\u001b[0m str1\u001b[38;5;241m=\u001b[39m\u001b[38;5;124m'\u001b[39m\u001b[38;5;124mpython\u001b[39m\u001b[38;5;124m'\u001b[39m\n\u001b[0;32m----> 2\u001b[0m str1[\u001b[38;5;241m0\u001b[39m]\u001b[38;5;241m=\u001b[39m\u001b[38;5;124m'\u001b[39m\u001b[38;5;124mo\u001b[39m\u001b[38;5;124m'\u001b[39m\n\u001b[1;32m      3\u001b[0m str1\n",
      "\u001b[0;31mTypeError\u001b[0m: 'str' object does not support item assignment"
     ]
    }
   ],
   "source": [
    "str1='python'\n",
    "str1[0]='o'\n",
    "str1"
   ]
  },
  {
   "cell_type": "markdown",
   "id": "8f4efba6-38a1-4377-a679-4c766fb9756f",
   "metadata": {},
   "source": [
    "**slice**"
   ]
  },
  {
   "cell_type": "code",
   "execution_count": 59,
   "id": "b9127f2b-e4a9-44f0-8919-741a2a764462",
   "metadata": {},
   "outputs": [
    {
     "data": {
      "text/plain": [
       "11"
      ]
     },
     "execution_count": 59,
     "metadata": {},
     "output_type": "execute_result"
    }
   ],
   "source": [
    "l1=[10,20,30,40,50,'A','B','C','E','apple','banana']\n",
    "len(l1)"
   ]
  },
  {
   "cell_type": "code",
   "execution_count": 41,
   "id": "73cb634a-dfd7-4dc1-8709-5fc8201e6a38",
   "metadata": {},
   "outputs": [
    {
     "data": {
      "text/plain": [
       "[10, 20, 30, 40, 50, 'A', 'B', 'C', 'E', 'apple', 'banana']"
      ]
     },
     "execution_count": 41,
     "metadata": {},
     "output_type": "execute_result"
    }
   ],
   "source": [
    "l1[:]"
   ]
  },
  {
   "cell_type": "code",
   "execution_count": 43,
   "id": "b433b06a-70b8-40cc-a799-a14a8378c847",
   "metadata": {},
   "outputs": [
    {
     "data": {
      "text/plain": [
       "[10, 20, 30, 40, 50, 'A', 'B', 'C', 'E', 'apple', 'banana']"
      ]
     },
     "execution_count": 43,
     "metadata": {},
     "output_type": "execute_result"
    }
   ],
   "source": [
    "l1[::]"
   ]
  },
  {
   "cell_type": "code",
   "execution_count": 45,
   "id": "e93732a1-6d0d-4b82-aced-3a45390df15e",
   "metadata": {},
   "outputs": [
    {
     "data": {
      "text/plain": [
       "['banana', 'apple', 'E', 'C', 'B', 'A', 50, 40, 30, 20, 10]"
      ]
     },
     "execution_count": 45,
     "metadata": {},
     "output_type": "execute_result"
    }
   ],
   "source": [
    "l1[::-1]"
   ]
  },
  {
   "cell_type": "code",
   "execution_count": 47,
   "id": "634c64f9-64ec-4260-b49b-476273614b7e",
   "metadata": {},
   "outputs": [
    {
     "data": {
      "text/plain": [
       "[30, 50, 'B', 'E']"
      ]
     },
     "execution_count": 47,
     "metadata": {},
     "output_type": "execute_result"
    }
   ],
   "source": [
    "l1[2:10:2]"
   ]
  },
  {
   "cell_type": "code",
   "execution_count": 49,
   "id": "2ae22763-daa4-4288-85f7-ad8bfc0280b7",
   "metadata": {},
   "outputs": [
    {
     "data": {
      "text/plain": [
       "[]"
      ]
     },
     "execution_count": 49,
     "metadata": {},
     "output_type": "execute_result"
    }
   ],
   "source": [
    "l1[2:10:-2]"
   ]
  },
  {
   "cell_type": "code",
   "execution_count": 25,
   "id": "8e1018a7-10ec-4d7f-ba66-cb9ad127fb66",
   "metadata": {},
   "outputs": [
    {
     "data": {
      "text/plain": [
       "[]"
      ]
     },
     "execution_count": 25,
     "metadata": {},
     "output_type": "execute_result"
    }
   ],
   "source": [
    "l1[2:-10:2]"
   ]
  },
  {
   "cell_type": "code",
   "execution_count": 27,
   "id": "50945836-71fe-47c6-989c-e8ed01206e8e",
   "metadata": {},
   "outputs": [
    {
     "data": {
      "text/plain": [
       "['apple']"
      ]
     },
     "execution_count": 27,
     "metadata": {},
     "output_type": "execute_result"
    }
   ],
   "source": [
    "l1[-2:10:2]"
   ]
  },
  {
   "cell_type": "code",
   "execution_count": 29,
   "id": "2536a213-4e25-4be3-8084-58c2daa12592",
   "metadata": {},
   "outputs": [
    {
     "data": {
      "text/plain": [
       "[30]"
      ]
     },
     "execution_count": 29,
     "metadata": {},
     "output_type": "execute_result"
    }
   ],
   "source": [
    "l1[2:-10:-2]"
   ]
  },
  {
   "cell_type": "code",
   "execution_count": 31,
   "id": "e3979faa-c9c9-443d-85a9-e17818208f11",
   "metadata": {},
   "outputs": [
    {
     "data": {
      "text/plain": [
       "[]"
      ]
     },
     "execution_count": 31,
     "metadata": {},
     "output_type": "execute_result"
    }
   ],
   "source": [
    "l1[-2:10:-2]"
   ]
  },
  {
   "cell_type": "code",
   "execution_count": 33,
   "id": "a07d7173-cc87-4af9-af88-84ddf7e08c05",
   "metadata": {},
   "outputs": [
    {
     "data": {
      "text/plain": [
       "[]"
      ]
     },
     "execution_count": 33,
     "metadata": {},
     "output_type": "execute_result"
    }
   ],
   "source": [
    "l1[-2:-10:2]"
   ]
  },
  {
   "cell_type": "code",
   "execution_count": 35,
   "id": "cf7318b7-c2dc-47df-879c-b8c117cdbc3f",
   "metadata": {},
   "outputs": [
    {
     "data": {
      "text/plain": [
       "['apple', 'C', 'A', 40]"
      ]
     },
     "execution_count": 35,
     "metadata": {},
     "output_type": "execute_result"
    }
   ],
   "source": [
    "l1[-2:-10:-2]"
   ]
  },
  {
   "cell_type": "code",
   "execution_count": 37,
   "id": "259078ea-8b5f-448b-9d91-2c96a9e3c850",
   "metadata": {},
   "outputs": [
    {
     "data": {
      "text/plain": [
       "[]"
      ]
     },
     "execution_count": 37,
     "metadata": {},
     "output_type": "execute_result"
    }
   ],
   "source": [
    "l1[10:2:2]"
   ]
  },
  {
   "cell_type": "code",
   "execution_count": 39,
   "id": "3529f444-1be0-4748-91dc-2deb840cc310",
   "metadata": {},
   "outputs": [
    {
     "data": {
      "text/plain": [
       "['banana', 'E', 'B', 50]"
      ]
     },
     "execution_count": 39,
     "metadata": {},
     "output_type": "execute_result"
    }
   ],
   "source": [
    "l1[10:2:-2]"
   ]
  },
  {
   "cell_type": "markdown",
   "id": "51856918-c45c-4ff9-8414-0d3d2b9a10e6",
   "metadata": {},
   "source": [
    "**methods**\n",
    "\n",
    "- if u want to know the string method ==> dir('')\n",
    "\n",
    "- if u want to know the list method ==> dir([])"
   ]
  },
  {
   "cell_type": "markdown",
   "id": "b320fd4f-b5ba-4c21-b3f4-eb23989dd46c",
   "metadata": {},
   "source": [
    "dir([])"
   ]
  },
  {
   "cell_type": "code",
   "execution_count": null,
   "id": "b7e3c230-bce6-4469-948c-8fb660c20b96",
   "metadata": {},
   "outputs": [],
   "source": [
    " # 'append',\n",
    " # 'clear',\n",
    " # 'copy',\n",
    " # 'count',\n",
    " # 'extend',\n",
    " # 'index',\n",
    " # 'insert',\n",
    " # 'pop',\n",
    " # 'remove',\n",
    " # 'reverse',\n",
    " # 'sort'"
   ]
  },
  {
   "cell_type": "code",
   "execution_count": 90,
   "id": "9436cb92-d395-4ab0-9a2d-898f7a89f3b4",
   "metadata": {},
   "outputs": [
    {
     "data": {
      "text/plain": [
       "[]"
      ]
     },
     "execution_count": 90,
     "metadata": {},
     "output_type": "execute_result"
    }
   ],
   "source": [
    "l2=[10,20,30,40,50,'A','B','C','E','apple','banana']\n",
    "l2.clear()\n",
    "l2"
   ]
  },
  {
   "cell_type": "code",
   "execution_count": 106,
   "id": "7f0f0d90-4a35-4231-8f65-d53f76c306b6",
   "metadata": {},
   "outputs": [
    {
     "name": "stdout",
     "output_type": "stream",
     "text": [
      "[]\n",
      "[10, 20, 30, 40, 50, 'A', 'B', 'C', 'E', 'apple', 'banana']\n"
     ]
    }
   ],
   "source": [
    "l2=[10,20,30,40,50,'A','B','C','E','apple','banana']\n",
    "l3=l2.copy()\n",
    "l2.clear()\n",
    "print(l2)\n",
    "print(l3)"
   ]
  },
  {
   "cell_type": "code",
   "execution_count": 98,
   "id": "9dea0980-2e15-4ae0-ae84-b2f584247139",
   "metadata": {},
   "outputs": [
    {
     "data": {
      "text/plain": [
       "2"
      ]
     },
     "execution_count": 98,
     "metadata": {},
     "output_type": "execute_result"
    }
   ],
   "source": [
    "l2=[10,20,30,40,50,'A','B','C','E','apple','banana',1.0,20,19,10,92]\n",
    "l2.count(10)"
   ]
  },
  {
   "cell_type": "markdown",
   "id": "758b3b1f-0281-469a-8489-1b5baac9504c",
   "metadata": {},
   "source": [
    "**append**\n",
    "\n",
    "- very very imp method in the list\n",
    "\n",
    "- in our life we will use this method very very frequently \n",
    "\n",
    "- append means adding an element at last"
   ]
  },
  {
   "cell_type": "code",
   "execution_count": 116,
   "id": "0e628e9a-73b3-4fa8-ad45-09fd051a4639",
   "metadata": {},
   "outputs": [
    {
     "ename": "TypeError",
     "evalue": "list.append() takes exactly one argument (2 given)",
     "output_type": "error",
     "traceback": [
      "\u001b[0;31m---------------------------------------------------------------------------\u001b[0m",
      "\u001b[0;31mTypeError\u001b[0m                                 Traceback (most recent call last)",
      "Cell \u001b[0;32mIn[116], line 2\u001b[0m\n\u001b[1;32m      1\u001b[0m l1\u001b[38;5;241m=\u001b[39m[\u001b[38;5;241m10\u001b[39m,\u001b[38;5;241m20\u001b[39m,\u001b[38;5;241m30\u001b[39m]\n\u001b[0;32m----> 2\u001b[0m l1\u001b[38;5;241m.\u001b[39mappend(\u001b[38;5;124m'\u001b[39m\u001b[38;5;124mapple\u001b[39m\u001b[38;5;124m'\u001b[39m,\u001b[38;5;124m'\u001b[39m\u001b[38;5;124mbanana\u001b[39m\u001b[38;5;124m'\u001b[39m)\n\u001b[1;32m      3\u001b[0m l1\n",
      "\u001b[0;31mTypeError\u001b[0m: list.append() takes exactly one argument (2 given)"
     ]
    }
   ],
   "source": [
    "l1=[10,20,30]\n",
    "l1.append('apple','banana')\n",
    "l1"
   ]
  },
  {
   "cell_type": "markdown",
   "id": "be7684d1-eafe-40fb-8585-f5e763d848f8",
   "metadata": {},
   "source": [
    "- always recall if you see anywhere multiple values menas most of the time we will keep those values in list."
   ]
  },
  {
   "cell_type": "code",
   "execution_count": 118,
   "id": "3e653781-766e-4ea6-b842-b1da1e122991",
   "metadata": {},
   "outputs": [
    {
     "data": {
      "text/plain": [
       "[10.2, 30, 'apple']"
      ]
     },
     "execution_count": 118,
     "metadata": {},
     "output_type": "execute_result"
    }
   ],
   "source": [
    "l1=[10.20,30]\n",
    "l1.append('apple')\n",
    "l1"
   ]
  },
  {
   "cell_type": "code",
   "execution_count": 120,
   "id": "6d80515c-9062-486b-8515-dcbbb6f7d054",
   "metadata": {},
   "outputs": [
    {
     "data": {
      "text/plain": [
       "[10.2, 30, 'apple', 'banana']"
      ]
     },
     "execution_count": 120,
     "metadata": {},
     "output_type": "execute_result"
    }
   ],
   "source": [
    "l1=[10.20,30]\n",
    "l1.append('apple')\n",
    "l1.append('banana')\n",
    "l1"
   ]
  },
  {
   "cell_type": "code",
   "execution_count": 122,
   "id": "59a81ecb-f9e3-4d75-a520-71702cdd0c3c",
   "metadata": {},
   "outputs": [
    {
     "ename": "TypeError",
     "evalue": "list.append() takes exactly one argument (2 given)",
     "output_type": "error",
     "traceback": [
      "\u001b[0;31m---------------------------------------------------------------------------\u001b[0m",
      "\u001b[0;31mTypeError\u001b[0m                                 Traceback (most recent call last)",
      "Cell \u001b[0;32mIn[122], line 2\u001b[0m\n\u001b[1;32m      1\u001b[0m l1\u001b[38;5;241m=\u001b[39m[\u001b[38;5;241m10.20\u001b[39m,\u001b[38;5;241m30\u001b[39m]\n\u001b[0;32m----> 2\u001b[0m l1\u001b[38;5;241m.\u001b[39mappend(\u001b[38;5;124m'\u001b[39m\u001b[38;5;124mapple\u001b[39m\u001b[38;5;124m'\u001b[39m,\u001b[38;5;124m'\u001b[39m\u001b[38;5;124mbanana\u001b[39m\u001b[38;5;124m'\u001b[39m)\n\u001b[1;32m      3\u001b[0m l1\n",
      "\u001b[0;31mTypeError\u001b[0m: list.append() takes exactly one argument (2 given)"
     ]
    }
   ],
   "source": [
    "l1=[10.20,30]\n",
    "l1.append('apple','banana')\n",
    "l1"
   ]
  },
  {
   "cell_type": "code",
   "execution_count": 124,
   "id": "2f04d8fa-3497-40c8-a998-5719df477ed8",
   "metadata": {},
   "outputs": [
    {
     "data": {
      "text/plain": [
       "[10.2, 30, ['apple', 'banana']]"
      ]
     },
     "execution_count": 124,
     "metadata": {},
     "output_type": "execute_result"
    }
   ],
   "source": [
    "l1=[10.20,30]\n",
    "l1.append(['apple','banana'])\n",
    "l1"
   ]
  },
  {
   "cell_type": "code",
   "execution_count": 138,
   "id": "51b7c4a9-e775-4d6a-b758-d63e0c5bda06",
   "metadata": {},
   "outputs": [
    {
     "name": "stdout",
     "output_type": "stream",
     "text": [
      "3\n",
      "apple\n",
      "banana\n"
     ]
    }
   ],
   "source": [
    "print(len(l1))\n",
    "print(l1[2][0])\n",
    "print(l1[2][1])"
   ]
  },
  {
   "cell_type": "code",
   "execution_count": null,
   "id": "c64841fc-16b6-4397-bfc7-0dd173bc1762",
   "metadata": {},
   "outputs": [],
   "source": [
    "- append method is used to store the outputs "
   ]
  },
  {
   "cell_type": "code",
   "execution_count": 144,
   "id": "60260745-967f-46d3-8067-5cf2dcd818fb",
   "metadata": {},
   "outputs": [
    {
     "data": {
      "text/plain": [
       "[1, 2, 3, 4, 5]"
      ]
     },
     "execution_count": 144,
     "metadata": {},
     "output_type": "execute_result"
    }
   ],
   "source": [
    "# for example i want to append a numbers from 1 to 5\n",
    "# l=[1,2,3,4,5]\n",
    "# without for loop\n",
    "\n",
    "l=[]           # taking an empty list\n",
    "#######################################\n",
    "l.append(1)\n",
    "l.append(2)\n",
    "l.append(3)    # appending values into list\n",
    "l.append(4)\n",
    "l.append(5)\n",
    "########################################\n",
    "l              # printing output"
   ]
  },
  {
   "cell_type": "code",
   "execution_count": 140,
   "id": "89f928c5-946e-4ce2-b98f-48053eb597be",
   "metadata": {},
   "outputs": [
    {
     "data": {
      "text/plain": [
       "[1, 2, 3, 4, 5]"
      ]
     },
     "execution_count": 140,
     "metadata": {},
     "output_type": "execute_result"
    }
   ],
   "source": [
    "# for example i want to append a numbers from 1 to 5\n",
    "# l=[1,2,3,4,5]\n",
    "# using for loop\n",
    "l=[]\n",
    "for i in range(1,6):\n",
    "    l.append(i)\n",
    "\n",
    "l"
   ]
  },
  {
   "cell_type": "code",
   "execution_count": 164,
   "id": "e63a5624-7fe3-44ef-8ac1-e487f2511fa5",
   "metadata": {},
   "outputs": [
    {
     "name": "stdout",
     "output_type": "stream",
     "text": [
      "53\n",
      "36\n",
      "85\n"
     ]
    }
   ],
   "source": [
    "# Q1) wap ask the user enter 3 random numbers\n",
    "#     and perform the square of munbers save them a list\n",
    "\n",
    "####### step-1 #########\n",
    "import random\n",
    "for i in range(3):\n",
    "    num=random.randint(1,100)\n",
    "    print(num)"
   ]
  },
  {
   "cell_type": "code",
   "execution_count": 170,
   "id": "3379981f-f059-4ba1-9f8d-070ebab89e2d",
   "metadata": {},
   "outputs": [
    {
     "data": {
      "text/plain": [
       "[61, 91, 63]"
      ]
     },
     "execution_count": 170,
     "metadata": {},
     "output_type": "execute_result"
    }
   ],
   "source": [
    "###### step-2 ######\n",
    "\n",
    "l=[]\n",
    "import random\n",
    "for i in range(3):\n",
    "    num=random.randint(1,100)\n",
    "    l.append(num)\n",
    "\n",
    "l"
   ]
  },
  {
   "cell_type": "code",
   "execution_count": 178,
   "id": "eb1db771-206b-41be-8bb1-c0ef76271c26",
   "metadata": {},
   "outputs": [
    {
     "name": "stdout",
     "output_type": "stream",
     "text": [
      "42:1764\n",
      "100:10000\n",
      "71:5041\n"
     ]
    }
   ],
   "source": [
    "######## step-3 ######\n",
    "\n",
    "l=[]\n",
    "import random\n",
    "for i in range(3):\n",
    "    num=random.randint(1,100)\n",
    "    print(f'{num}:{num*num}')"
   ]
  },
  {
   "cell_type": "code",
   "execution_count": 180,
   "id": "339c83b3-231e-488e-84ec-ca9838de1bce",
   "metadata": {},
   "outputs": [
    {
     "data": {
      "text/plain": [
       "['80:6400', '5:25', '99:9801']"
      ]
     },
     "execution_count": 180,
     "metadata": {},
     "output_type": "execute_result"
    }
   ],
   "source": [
    "l=[]\n",
    "import random\n",
    "for i in range(3):\n",
    "    num=random.randint(1,100)\n",
    "    l.append(f'{num}:{num*num}')\n",
    "\n",
    "l"
   ]
  },
  {
   "cell_type": "code",
   "execution_count": 194,
   "id": "d3b19edc-b973-471b-b82f-3bf0d5b1fc0f",
   "metadata": {},
   "outputs": [
    {
     "name": "stdout",
     "output_type": "stream",
     "text": [
      "[10, 12]\n",
      "[47, 53, 27]\n"
     ]
    }
   ],
   "source": [
    "# Q2) \n",
    "l=[10,47,53,12,27]\n",
    "odd_list=[]\n",
    "even_list=[]\n",
    "for i in l:\n",
    "    if i%2==0:\n",
    "        even_list.append(i)\n",
    "    else:\n",
    "        odd_list.append(i)\n",
    "\n",
    "print(even_list)\n",
    "print(odd_list)"
   ]
  },
  {
   "cell_type": "code",
   "execution_count": 206,
   "id": "64a52361-69a7-4e36-9d98-1fc1cf43e4c6",
   "metadata": {},
   "outputs": [
    {
     "name": "stdin",
     "output_type": "stream",
     "text": [
      "enter city ben\n",
      "enter city hyd\n",
      "enter city mum\n",
      "enter city pune\n"
     ]
    },
    {
     "data": {
      "text/plain": [
       "[['ben', 'hyd', 'mum', 'pune']]"
      ]
     },
     "execution_count": 206,
     "metadata": {},
     "output_type": "execute_result"
    }
   ],
   "source": [
    "#Q3) \n",
    "cities=[]\n",
    "city1= input('enter city')\n",
    "city2= input('enter city')\n",
    "city3= input('enter city')\n",
    "city4= input('enter city')\n",
    "cities.append([city1,city2,city3,city4])\n",
    "\n",
    "cities"
   ]
  }
 ],
 "metadata": {
  "kernelspec": {
   "display_name": "Python [conda env:base] *",
   "language": "python",
   "name": "conda-base-py"
  },
  "language_info": {
   "codemirror_mode": {
    "name": "ipython",
    "version": 3
   },
   "file_extension": ".py",
   "mimetype": "text/x-python",
   "name": "python",
   "nbconvert_exporter": "python",
   "pygments_lexer": "ipython3",
   "version": "3.12.7"
  }
 },
 "nbformat": 4,
 "nbformat_minor": 5
}

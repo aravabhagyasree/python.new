{
 "cells": [
  {
   "cell_type": "markdown",
   "id": "07b5fd68-c9a5-4548-afd6-fefc78b1a539",
   "metadata": {},
   "source": [
    "$INPUT$"
   ]
  },
  {
   "cell_type": "code",
   "execution_count": null,
   "id": "b3684578-e7e0-44a2-82a4-8e384c2384e9",
   "metadata": {},
   "outputs": [],
   "source": [
    "- in above we provided the value \n",
    "- input is the inbulit fuction \n",
    "- using input the user can provide any value"
   ]
  },
  {
   "cell_type": "code",
   "execution_count": 2,
   "id": "e0781999-acc4-424b-877c-1135dd1cbc5f",
   "metadata": {},
   "outputs": [
    {
     "data": {
      "text/plain": [
       "<bound method Kernel.raw_input of <ipykernel.ipkernel.IPythonKernel object at 0x103d81520>>"
      ]
     },
     "execution_count": 2,
     "metadata": {},
     "output_type": "execute_result"
    }
   ],
   "source": [
    "input"
   ]
  },
  {
   "cell_type": "markdown",
   "id": "b6a40ea7-fb24-45af-8b71-f22efe80a05d",
   "metadata": {},
   "source": [
    "**imp_note**\n",
    "- whenever if u see bound method or function it indicates we forgot the brackes"
   ]
  },
  {
   "cell_type": "code",
   "execution_count": 4,
   "id": "28433cbd-d23c-453e-a84f-0eea18f0677f",
   "metadata": {},
   "outputs": [
    {
     "name": "stdin",
     "output_type": "stream",
     "text": [
      " 9000\n"
     ]
    },
    {
     "data": {
      "text/plain": [
       "'9000'"
      ]
     },
     "execution_count": 4,
     "metadata": {},
     "output_type": "execute_result"
    }
   ],
   "source": [
    "input()"
   ]
  },
  {
   "cell_type": "code",
   "execution_count": 7,
   "id": "6b2959c1-ff6c-4e02-9d14-677463b77e76",
   "metadata": {},
   "outputs": [
    {
     "name": "stdin",
     "output_type": "stream",
     "text": [
      " helo\n"
     ]
    },
    {
     "data": {
      "text/plain": [
       "'helo'"
      ]
     },
     "execution_count": 7,
     "metadata": {},
     "output_type": "execute_result"
    }
   ],
   "source": [
    "input()"
   ]
  },
  {
   "cell_type": "code",
   "execution_count": 9,
   "id": "90520b3a-530e-4fc4-bc21-da40d2dd9cea",
   "metadata": {},
   "outputs": [
    {
     "name": "stdin",
     "output_type": "stream",
     "text": [
      " 10.0\n"
     ]
    },
    {
     "data": {
      "text/plain": [
       "'10.0'"
      ]
     },
     "execution_count": 9,
     "metadata": {},
     "output_type": "execute_result"
    }
   ],
   "source": [
    "input()"
   ]
  },
  {
   "cell_type": "code",
   "execution_count": 17,
   "id": "ff8af9c1-ba40-4ba3-8288-998b0460ad96",
   "metadata": {},
   "outputs": [
    {
     "name": "stdin",
     "output_type": "stream",
     "text": [
      " 9.1\n"
     ]
    },
    {
     "ename": "ValueError",
     "evalue": "invalid literal for int() with base 10: '9.1'",
     "output_type": "error",
     "traceback": [
      "\u001b[0;31m---------------------------------------------------------------------------\u001b[0m",
      "\u001b[0;31mValueError\u001b[0m                                Traceback (most recent call last)",
      "Cell \u001b[0;32mIn[17], line 1\u001b[0m\n\u001b[0;32m----> 1\u001b[0m \u001b[38;5;28mint\u001b[39m(\u001b[38;5;28minput\u001b[39m())\n",
      "\u001b[0;31mValueError\u001b[0m: invalid literal for int() with base 10: '9.1'"
     ]
    }
   ],
   "source": [
    "int(input())"
   ]
  },
  {
   "cell_type": "code",
   "execution_count": 19,
   "id": "4f58bc1c-49ec-4b32-92f3-42384936b7c7",
   "metadata": {},
   "outputs": [
    {
     "name": "stdin",
     "output_type": "stream",
     "text": [
      " 9\n"
     ]
    },
    {
     "data": {
      "text/plain": [
       "9.0"
      ]
     },
     "execution_count": 19,
     "metadata": {},
     "output_type": "execute_result"
    }
   ],
   "source": [
    "float(input())"
   ]
  },
  {
   "cell_type": "code",
   "execution_count": 21,
   "id": "a9eaaa92-102b-47b5-b999-411b7b63f78d",
   "metadata": {},
   "outputs": [
    {
     "name": "stdin",
     "output_type": "stream",
     "text": [
      " 9\n"
     ]
    },
    {
     "data": {
      "text/plain": [
       "'9'"
      ]
     },
     "execution_count": 21,
     "metadata": {},
     "output_type": "execute_result"
    }
   ],
   "source": [
    "str(input())"
   ]
  },
  {
   "cell_type": "code",
   "execution_count": 2,
   "id": "7de8a324-9933-4ab1-9265-d8301b3cba9e",
   "metadata": {},
   "outputs": [
    {
     "name": "stdin",
     "output_type": "stream",
     "text": [
      " 100\n",
      " 200\n",
      " 300\n"
     ]
    }
   ],
   "source": [
    "n1=input()\n",
    "n2=input()\n",
    "n3=input()"
   ]
  },
  {
   "cell_type": "code",
   "execution_count": null,
   "id": "64336d5b-9a5d-4779-8133-e11dc40d3cbc",
   "metadata": {},
   "outputs": [],
   "source": []
  },
  {
   "cell_type": "code",
   "execution_count": null,
   "id": "e89cffd8-8e3b-4049-b98b-e7c30a46ccd2",
   "metadata": {},
   "outputs": [],
   "source": []
  },
  {
   "cell_type": "code",
   "execution_count": 4,
   "id": "af9aee54-2f80-402c-8705-315f15d126b3",
   "metadata": {},
   "outputs": [
    {
     "data": {
      "text/plain": [
       "'100'"
      ]
     },
     "execution_count": 4,
     "metadata": {},
     "output_type": "execute_result"
    }
   ],
   "source": [
    "n1"
   ]
  },
  {
   "cell_type": "code",
   "execution_count": 6,
   "id": "b02ad6a7-224d-4e6a-b0f9-48a19a7e5af9",
   "metadata": {},
   "outputs": [
    {
     "data": {
      "text/plain": [
       "'200'"
      ]
     },
     "execution_count": 6,
     "metadata": {},
     "output_type": "execute_result"
    }
   ],
   "source": [
    "n2"
   ]
  },
  {
   "cell_type": "code",
   "execution_count": 10,
   "id": "ee1b80a3-8f36-4457-a522-17ef9565da48",
   "metadata": {},
   "outputs": [
    {
     "name": "stdin",
     "output_type": "stream",
     "text": [
      "enter the number 1: 100\n",
      "enter the number 2: 200\n"
     ]
    }
   ],
   "source": [
    "n1=input(\"enter the number 1:\")\n",
    "n2=input(\"enter the number 2:\")"
   ]
  },
  {
   "cell_type": "code",
   "execution_count": 12,
   "id": "19320719-9fc8-419f-9a9c-12f537aac09d",
   "metadata": {},
   "outputs": [
    {
     "data": {
      "text/plain": [
       "'100200'"
      ]
     },
     "execution_count": 12,
     "metadata": {},
     "output_type": "execute_result"
    }
   ],
   "source": [
    "n1+n2"
   ]
  },
  {
   "cell_type": "markdown",
   "id": "cfe0c628-0155-4583-8547-ad72e39f4d6a",
   "metadata": {},
   "source": [
    "**input values by default string type**"
   ]
  },
  {
   "cell_type": "code",
   "execution_count": null,
   "id": "693dc7b3-2058-4e3d-a017-b03c10135f02",
   "metadata": {},
   "outputs": [],
   "source": [
    "str1='apple'\n",
    "str2='is'\n",
    "str3='fruit'"
   ]
  },
  {
   "cell_type": "code",
   "execution_count": 3,
   "id": "7a4698f8-ac39-4b73-93c0-ce547c3b5ea4",
   "metadata": {},
   "outputs": [
    {
     "name": "stdin",
     "output_type": "stream",
     "text": [
      " hello\n",
      " hi\n",
      " hru\n"
     ]
    }
   ],
   "source": [
    "str1=input()\n",
    "str2=input()\n",
    "str3=input()"
   ]
  },
  {
   "cell_type": "code",
   "execution_count": 29,
   "id": "0345e366-bcae-4d3e-9c33-4137d1d56a22",
   "metadata": {},
   "outputs": [
    {
     "name": "stdout",
     "output_type": "stream",
     "text": [
      "appleisfriut\n"
     ]
    }
   ],
   "source": [
    "print(str1+str2+str3)"
   ]
  },
  {
   "cell_type": "code",
   "execution_count": null,
   "id": "ba6ace89-692f-4cd7-9583-009b3a0b28a1",
   "metadata": {},
   "outputs": [],
   "source": []
  },
  {
   "cell_type": "code",
   "execution_count": null,
   "id": "27b1a390-3d0e-46cc-a705-0b2b3cedbf36",
   "metadata": {},
   "outputs": [],
   "source": []
  },
  {
   "cell_type": "code",
   "execution_count": null,
   "id": "c3e83476-f7b7-4552-9cf7-5b2e72876ec8",
   "metadata": {},
   "outputs": [],
   "source": []
  },
  {
   "cell_type": "markdown",
   "id": "2dd15f7b-21d9-49c9-85e1-b1d32b27b76a",
   "metadata": {},
   "source": [
    "**adding int will convert the string into number**"
   ]
  },
  {
   "cell_type": "code",
   "execution_count": null,
   "id": "1326416c-c6a6-48ab-8e3c-ec21d3ab75fe",
   "metadata": {},
   "outputs": [],
   "source": []
  },
  {
   "cell_type": "markdown",
   "id": "6d3d3bb7-7c30-47e7-bed4-63d7d4f204b2",
   "metadata": {},
   "source": [
    "**type1**"
   ]
  },
  {
   "cell_type": "code",
   "execution_count": 7,
   "id": "9fb8ff15-8bd2-4249-9296-e6524af1a4e6",
   "metadata": {},
   "outputs": [
    {
     "name": "stdin",
     "output_type": "stream",
     "text": [
      "enter the number 1: 100\n",
      "enter the number 2: 200\n"
     ]
    },
    {
     "data": {
      "text/plain": [
       "300"
      ]
     },
     "execution_count": 7,
     "metadata": {},
     "output_type": "execute_result"
    }
   ],
   "source": [
    "n1=int(input('enter the number 1:')) #n1='100'\n",
    "n2=int(input('enter the number 2:'))\n",
    "n1+n2"
   ]
  },
  {
   "cell_type": "markdown",
   "id": "50f0e9de-3767-4e03-8416-bf4300da617c",
   "metadata": {},
   "source": [
    "**type2**"
   ]
  },
  {
   "cell_type": "code",
   "execution_count": 10,
   "id": "4c34ae58-586c-404e-a4c8-2e1b3d091ed1",
   "metadata": {},
   "outputs": [
    {
     "name": "stdin",
     "output_type": "stream",
     "text": [
      "enter the number 1: 10\n",
      "enter the number 2: 20\n"
     ]
    },
    {
     "data": {
      "text/plain": [
       "30"
      ]
     },
     "execution_count": 10,
     "metadata": {},
     "output_type": "execute_result"
    }
   ],
   "source": [
    "n1=input('enter the number 1:')\n",
    "n2=input('enter the number 2:')\n",
    "int(n1)+int(n2)"
   ]
  },
  {
   "cell_type": "code",
   "execution_count": null,
   "id": "63ca71c6-c25e-4f01-8790-4986fac89f82",
   "metadata": {},
   "outputs": [],
   "source": []
  },
  {
   "cell_type": "markdown",
   "id": "d8b89c63-1ab2-4e2e-9b69-2f40eb41cbe9",
   "metadata": {},
   "source": [
    "$eval$"
   ]
  },
  {
   "cell_type": "markdown",
   "id": "10ac368f-af28-4089-a6b1-7ea6bbce6af5",
   "metadata": {},
   "source": [
    "- eval means evaluate\n",
    "- it is related to math family\n",
    "- which means it works only on number representstion as string\n",
    "- it will not work on english letters\n",
    "- eval will convert respestive datatype which is user enter\n",
    "- if user enter 10 in code it will convet into 10 only \n",
    "- if user enter 10.5 then it will convert into 10.5\n",
    "- eval('10'), eval('10.8') '' have to give for numbers"
   ]
  },
  {
   "cell_type": "code",
   "execution_count": null,
   "id": "9201f14f-cfbd-40c4-83d2-db257cb1e927",
   "metadata": {},
   "outputs": [],
   "source": []
  },
  {
   "cell_type": "code",
   "execution_count": 26,
   "id": "4edde96c-7d10-406c-a10f-b699c3fe673b",
   "metadata": {},
   "outputs": [
    {
     "data": {
      "text/plain": [
       "(10, 10.8)"
      ]
     },
     "execution_count": 26,
     "metadata": {},
     "output_type": "execute_result"
    }
   ],
   "source": [
    "eval('10'), eval('10.8')"
   ]
  },
  {
   "cell_type": "code",
   "execution_count": 10,
   "id": "d8aff008-43d7-4e05-9e1f-c72fff799317",
   "metadata": {},
   "outputs": [
    {
     "name": "stdin",
     "output_type": "stream",
     "text": [
      " 5\n"
     ]
    },
    {
     "data": {
      "text/plain": [
       "'5'"
      ]
     },
     "execution_count": 10,
     "metadata": {},
     "output_type": "execute_result"
    }
   ],
   "source": [
    "input()"
   ]
  },
  {
   "cell_type": "code",
   "execution_count": 30,
   "id": "8133430b-e79d-4363-936d-6d9e99065636",
   "metadata": {},
   "outputs": [
    {
     "data": {
      "text/plain": [
       "(10, 10.8)"
      ]
     },
     "execution_count": 30,
     "metadata": {},
     "output_type": "execute_result"
    }
   ],
   "source": [
    "eval('10'), eval('10.8')"
   ]
  },
  {
   "cell_type": "code",
   "execution_count": 35,
   "id": "c5a3d11a-f29b-45bf-be94-f942b6bb4d86",
   "metadata": {},
   "outputs": [
    {
     "name": "stdin",
     "output_type": "stream",
     "text": [
      "enter the number 1: 1.5\n",
      "enter the number 2: 1.5\n"
     ]
    },
    {
     "data": {
      "text/plain": [
       "3.0"
      ]
     },
     "execution_count": 35,
     "metadata": {},
     "output_type": "execute_result"
    }
   ],
   "source": [
    "n1=eval(input('enter the number 1:'))\n",
    "n2=eval(input('enter the number 2:'))\n",
    "n1+n2"
   ]
  },
  {
   "cell_type": "code",
   "execution_count": null,
   "id": "6f854232-c6d3-47b7-add2-22edb5afacbb",
   "metadata": {},
   "outputs": [],
   "source": [
    "# 1)wap ask the user enter 3 number n1,n2,n3 from keyboard\n",
    "# calculate avg\n",
    "\n",
    "\n",
    "# 2)wap ask the user enter name age city\n",
    "# print my name is python im 10 years old and came from hyd\n"
   ]
  },
  {
   "cell_type": "code",
   "execution_count": null,
   "id": "47db3fc9-2e9a-42e7-8c0b-9b1b295dc49f",
   "metadata": {},
   "outputs": [],
   "source": []
  },
  {
   "cell_type": "code",
   "execution_count": 43,
   "id": "e5406c00-d294-4a1d-9d0c-2abc422390c8",
   "metadata": {},
   "outputs": [
    {
     "name": "stdin",
     "output_type": "stream",
     "text": [
      "enter n1: 1\n",
      "enter n2: 2\n",
      "enter n3: 3\n"
     ]
    },
    {
     "data": {
      "text/plain": [
       "2.0"
      ]
     },
     "execution_count": 43,
     "metadata": {},
     "output_type": "execute_result"
    }
   ],
   "source": [
    "#1\n",
    "n1=eval(input('enter n1:'))\n",
    "n2=eval(input('enter n2:'))\n",
    "n3=eval(input('enter n3:'))\n",
    "avg=(n1+n2+n3)/3\n",
    "avg"
   ]
  },
  {
   "cell_type": "code",
   "execution_count": 51,
   "id": "59592ff9-9cf9-4b8c-b8b9-4c2af7fc87d5",
   "metadata": {},
   "outputs": [
    {
     "name": "stdin",
     "output_type": "stream",
     "text": [
      "name python\n",
      "age 10\n",
      "city hyd\n"
     ]
    },
    {
     "name": "stdout",
     "output_type": "stream",
     "text": [
      "my name is python im 10 years old im from hyd\n"
     ]
    }
   ],
   "source": [
    "#2\n",
    "name=input('name')\n",
    "age=input('age')\n",
    "city=input('city')\n",
    "print(f\"my name is {name} im {age} years old im from {city}\")"
   ]
  },
  {
   "cell_type": "code",
   "execution_count": 53,
   "id": "2554c450-3a40-4732-bc0a-b9e557653a50",
   "metadata": {},
   "outputs": [
    {
     "name": "stdin",
     "output_type": "stream",
     "text": [
      "enter the radius: 5\n"
     ]
    },
    {
     "data": {
      "text/plain": [
       "49.36082"
      ]
     },
     "execution_count": 53,
     "metadata": {},
     "output_type": "execute_result"
    }
   ],
   "source": [
    "#3\n",
    "rad=eval(input('enter the radius:'))\n",
    "pi=3.142\n",
    "area=pi*pi*rad\n",
    "area"
   ]
  },
  {
   "cell_type": "code",
   "execution_count": 55,
   "id": "406c58be-f47a-4054-ad7a-ea1fb4d00999",
   "metadata": {},
   "outputs": [
    {
     "name": "stdin",
     "output_type": "stream",
     "text": [
      "enter br: 3\n",
      "enter he: 3\n"
     ]
    },
    {
     "data": {
      "text/plain": [
       "4.5"
      ]
     },
     "execution_count": 55,
     "metadata": {},
     "output_type": "execute_result"
    }
   ],
   "source": [
    "#4\n",
    "br=eval(input('enter br:'))\n",
    "he=eval(input('enter he:'))\n",
    "arear=0.5*br*he\n",
    "arear"
   ]
  },
  {
   "cell_type": "code",
   "execution_count": 57,
   "id": "8449a516-152c-484a-93c2-37ebe9af85dd",
   "metadata": {},
   "outputs": [
    {
     "name": "stdin",
     "output_type": "stream",
     "text": [
      "bill 100\n",
      "tip 20\n"
     ]
    },
    {
     "data": {
      "text/plain": [
       "120"
      ]
     },
     "execution_count": 57,
     "metadata": {},
     "output_type": "execute_result"
    }
   ],
   "source": [
    "#5\n",
    "bill=eval(input('bill'))\n",
    "tip=eval(input('tip'))\n",
    "totalbill=bill+tip\n",
    "totalbill"
   ]
  },
  {
   "cell_type": "code",
   "execution_count": 61,
   "id": "ea45c998-94f2-42c5-9728-cff200adefda",
   "metadata": {},
   "outputs": [
    {
     "name": "stdin",
     "output_type": "stream",
     "text": [
      "bill 3\n",
      "tip 3\n"
     ]
    },
    {
     "data": {
      "text/plain": [
       "0.6"
      ]
     },
     "execution_count": 61,
     "metadata": {},
     "output_type": "execute_result"
    }
   ],
   "source": [
    "#6\n",
    "bill=eval(input('bill'))\n",
    "tip=eval(input('tip'))\n",
    "tipper=10\n",
    "totalbill=(bill+tip)*10/100\n",
    "totalbill"
   ]
  },
  {
   "cell_type": "code",
   "execution_count": 59,
   "id": "943a87bd-3bc4-41d8-997a-307b85ea5919",
   "metadata": {},
   "outputs": [
    {
     "name": "stdin",
     "output_type": "stream",
     "text": [
      "lenght: 5\n",
      "breadth: 4\n"
     ]
    },
    {
     "data": {
      "text/plain": [
       "20"
      ]
     },
     "execution_count": 59,
     "metadata": {},
     "output_type": "execute_result"
    }
   ],
   "source": [
    "#7\n",
    "le=eval(input('lenght:'))\n",
    "br=eval(input('breadth:'))\n",
    "areare=le*br\n",
    "areare"
   ]
  },
  {
   "cell_type": "code",
   "execution_count": 29,
   "id": "7749b166-17ed-46a1-95dc-fc5e335a91f3",
   "metadata": {},
   "outputs": [
    {
     "name": "stdin",
     "output_type": "stream",
     "text": [
      "radius: 3\n"
     ]
    },
    {
     "data": {
      "text/plain": [
       "2398.935852"
      ]
     },
     "execution_count": 29,
     "metadata": {},
     "output_type": "execute_result"
    }
   ],
   "source": [
    "#8\n",
    "r=eval(input('radius:'))\n",
    "pi=3.142\n",
    "volume=float(pi*r*3)*(pi*r*r*r)\n",
    "volume"
   ]
  },
  {
   "cell_type": "code",
   "execution_count": 3,
   "id": "cf826d64-18fb-46f0-96eb-6a03894cc48e",
   "metadata": {},
   "outputs": [
    {
     "name": "stdin",
     "output_type": "stream",
     "text": [
      "dollor: 10000\n"
     ]
    },
    {
     "data": {
      "text/plain": [
       "850000"
      ]
     },
     "execution_count": 3,
     "metadata": {},
     "output_type": "execute_result"
    }
   ],
   "source": [
    "#9\n",
    "doll=eval(input('dollor:'))\n",
    "rs=85\n",
    "convert=doll*rs\n",
    "convert"
   ]
  },
  {
   "cell_type": "code",
   "execution_count": 5,
   "id": "5df0e673-e6f9-4df8-9be2-cd5b095afebb",
   "metadata": {},
   "outputs": [
    {
     "name": "stdin",
     "output_type": "stream",
     "text": [
      "kg: 75\n"
     ]
    },
    {
     "data": {
      "text/plain": [
       "165.0"
      ]
     },
     "execution_count": 5,
     "metadata": {},
     "output_type": "execute_result"
    }
   ],
   "source": [
    "#10\n",
    "kg=eval(input('kg:'))\n",
    "po=2.2\n",
    "total_weight=kg*po\n",
    "total_weight"
   ]
  },
  {
   "cell_type": "code",
   "execution_count": null,
   "id": "3b2c92b9-4b0e-400d-8cde-0ba387031ec9",
   "metadata": {},
   "outputs": [],
   "source": []
  },
  {
   "cell_type": "code",
   "execution_count": null,
   "id": "e483a73d-5c9d-4641-abb1-8166c93861b9",
   "metadata": {},
   "outputs": [],
   "source": []
  },
  {
   "cell_type": "code",
   "execution_count": null,
   "id": "e174a709-902e-45a2-86a8-b536870d7e07",
   "metadata": {},
   "outputs": [],
   "source": []
  },
  {
   "cell_type": "code",
   "execution_count": null,
   "id": "e925e49d-f1f2-4ddf-8f09-47cf227f043c",
   "metadata": {},
   "outputs": [],
   "source": []
  },
  {
   "cell_type": "code",
   "execution_count": null,
   "id": "6d51930a-49a2-45ac-a1cd-2b0a3fdad30a",
   "metadata": {},
   "outputs": [],
   "source": []
  },
  {
   "cell_type": "code",
   "execution_count": null,
   "id": "d1ee4d17-99aa-4d85-91fa-d7cc995f6ab4",
   "metadata": {},
   "outputs": [],
   "source": []
  },
  {
   "cell_type": "code",
   "execution_count": null,
   "id": "e2990ef7-4306-4613-ba6c-5dccb45cf3ea",
   "metadata": {},
   "outputs": [],
   "source": []
  },
  {
   "cell_type": "code",
   "execution_count": null,
   "id": "6c7aae72-04cf-473c-b908-ba6720711f35",
   "metadata": {},
   "outputs": [],
   "source": []
  },
  {
   "cell_type": "code",
   "execution_count": null,
   "id": "111b3f68-c845-4845-af50-8f2191bb5fc2",
   "metadata": {},
   "outputs": [],
   "source": []
  }
 ],
 "metadata": {
  "kernelspec": {
   "display_name": "Python [conda env:base] *",
   "language": "python",
   "name": "conda-base-py"
  },
  "language_info": {
   "codemirror_mode": {
    "name": "ipython",
    "version": 3
   },
   "file_extension": ".py",
   "mimetype": "text/x-python",
   "name": "python",
   "nbconvert_exporter": "python",
   "pygments_lexer": "ipython3",
   "version": "3.12.7"
  }
 },
 "nbformat": 4,
 "nbformat_minor": 5
}

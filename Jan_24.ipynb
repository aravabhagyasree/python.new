{
 "cells": [
  {
   "cell_type": "code",
   "execution_count": 4,
   "id": "b9ae4e1e-94ac-4d32-867c-bd28a8a562ff",
   "metadata": {},
   "outputs": [
    {
     "name": "stdout",
     "output_type": "stream",
     "text": [
      "20 10 0 -10 "
     ]
    }
   ],
   "source": [
    "for i in range(20,-20,-10):\n",
    "    print(i,end=' ')"
   ]
  },
  {
   "cell_type": "code",
   "execution_count": null,
   "id": "f93b5085-3231-44e4-98b2-2ef472120c5f",
   "metadata": {},
   "outputs": [],
   "source": [
    "**print the 7th table**"
   ]
  },
  {
   "cell_type": "code",
   "execution_count": 24,
   "id": "10c8cba5-fc5a-4695-91d6-05ac1f0cc92e",
   "metadata": {},
   "outputs": [
    {
     "name": "stdout",
     "output_type": "stream",
     "text": [
      "7x1= 0\n",
      "7x1= 7\n",
      "7x1= 14\n",
      "7x1= 21\n",
      "7x1= 28\n",
      "7x1= 35\n",
      "7x1= 42\n",
      "7x1= 49\n",
      "7x1= 56\n",
      "7x1= 63\n",
      "7x1= 70\n"
     ]
    }
   ],
   "source": [
    "for i in range(0,77,7):   \n",
    "    print('7x1=',i)"
   ]
  },
  {
   "cell_type": "code",
   "execution_count": 38,
   "id": "4ab76d65-3d91-46e9-aeff-de142026c77b",
   "metadata": {},
   "outputs": [
    {
     "name": "stdin",
     "output_type": "stream",
     "text": [
      "enter the table number 7\n"
     ]
    },
    {
     "name": "stdout",
     "output_type": "stream",
     "text": [
      "7x1 = 7\n",
      "7x2 = 14\n",
      "7x3 = 21\n",
      "7x4 = 28\n",
      "7x5 = 35\n",
      "7x6 = 42\n",
      "7x7 = 49\n",
      "7x8 = 56\n",
      "7x9 = 63\n",
      "7x10 = 70\n"
     ]
    }
   ],
   "source": [
    "num=eval(input('enter the table number'))\n",
    "for i in range(1,11):\n",
    "    print(f\"{num}x{i} = {num*i}\")"
   ]
  },
  {
   "cell_type": "code",
   "execution_count": null,
   "id": "48f66e01-521d-4821-b238-ac5c36b7b11a",
   "metadata": {},
   "outputs": [],
   "source": [
    "find the number of divisior of 75\n"
   ]
  },
  {
   "cell_type": "code",
   "execution_count": 56,
   "id": "d574c240-f372-48ae-b0c8-f50c738c8e2e",
   "metadata": {},
   "outputs": [
    {
     "name": "stdout",
     "output_type": "stream",
     "text": [
      "true 1\n",
      "true 3\n",
      "true 5\n",
      "true 15\n",
      "true 25\n",
      "true 75\n"
     ]
    }
   ],
   "source": [
    "num=75\n",
    "for i in range(1,76):\n",
    "    if (num%i==0):\n",
    "        print('true',i)"
   ]
  },
  {
   "cell_type": "markdown",
   "id": "535b0a11-cac5-4e1c-a748-50687bb08090",
   "metadata": {},
   "source": [
    "summation wrapper\n",
    "-"
   ]
  },
  {
   "cell_type": "code",
   "execution_count": null,
   "id": "d7a8167e-fe1c-48e6-ab43-8f9b1114918c",
   "metadata": {},
   "outputs": [],
   "source": [
    "- starting we intialise the sum value =0\n",
    "- inside loop we will add a simple line: summ==summ+i\n",
    "- summ=0\n",
    "- for loop\n",
    "    - summ=summ+i"
   ]
  },
  {
   "cell_type": "code",
   "execution_count": 83,
   "id": "18fe0e25-4e48-45a4-b693-bb693eabc469",
   "metadata": {},
   "outputs": [
    {
     "name": "stdout",
     "output_type": "stream",
     "text": [
      "1\n",
      "3\n",
      "6\n",
      "10\n",
      "15\n",
      "21\n",
      "28\n",
      "36\n",
      "45\n",
      "55\n"
     ]
    }
   ],
   "source": [
    "summ=0\n",
    "for i in range(1,11):    # inside loop it prints all numbers\n",
    "    summ = summ + i\n",
    "    print(summ)"
   ]
  },
  {
   "cell_type": "code",
   "execution_count": 81,
   "id": "948bede5-9362-4841-a0f0-f961ddc1e949",
   "metadata": {},
   "outputs": [
    {
     "name": "stdout",
     "output_type": "stream",
     "text": [
      "55\n"
     ]
    }
   ],
   "source": [
    "summ=0\n",
    "for i in range(1,11):    # outside loop it prints only last value \n",
    "    summ = summ + i\n",
    "print(summ)"
   ]
  },
  {
   "cell_type": "code",
   "execution_count": null,
   "id": "98fedefc-97cd-4e6c-b7de-0d5f9bdc49f4",
   "metadata": {},
   "outputs": [],
   "source": [
    "find the sum of divisors of 75\n",
    "75: 1,3,5,15,25,75"
   ]
  },
  {
   "cell_type": "code",
   "execution_count": 109,
   "id": "816c0af7-6026-4c6d-9506-a55543b38e7d",
   "metadata": {},
   "outputs": [
    {
     "name": "stdout",
     "output_type": "stream",
     "text": [
      "1\n",
      "3\n",
      "5\n",
      "15\n",
      "25\n",
      "75\n"
     ]
    },
    {
     "data": {
      "text/plain": [
       "124"
      ]
     },
     "execution_count": 109,
     "metadata": {},
     "output_type": "execute_result"
    }
   ],
   "source": [
    "summ=0\n",
    "\n",
    "num=75\n",
    "for i in range(1,76):\n",
    "    if (num%i==0):\n",
    "        print(i)\n",
    "\n",
    "        summ=summ+i\n",
    "summ"
   ]
  },
  {
   "cell_type": "code",
   "execution_count": null,
   "id": "137366d6-95a3-4a35-8355-353902849e60",
   "metadata": {},
   "outputs": [],
   "source": [
    "**counter wrapper**"
   ]
  },
  {
   "cell_type": "code",
   "execution_count": null,
   "id": "5043f4fd-f677-4d09-a35b-4a7e1d4c0618",
   "metadata": {},
   "outputs": [],
   "source": [
    "- counter means counting the success onces \n",
    "- count = 0\n",
    "- for loop \n",
    "    - count=count+1\n"
   ]
  },
  {
   "cell_type": "code",
   "execution_count": 113,
   "id": "348b669f-41f5-4f8b-8a01-7927aa7e9ead",
   "metadata": {},
   "outputs": [
    {
     "name": "stdout",
     "output_type": "stream",
     "text": [
      "1\n",
      "3\n",
      "5\n",
      "15\n",
      "25\n",
      "75\n"
     ]
    },
    {
     "data": {
      "text/plain": [
       "6"
      ]
     },
     "execution_count": 113,
     "metadata": {},
     "output_type": "execute_result"
    }
   ],
   "source": [
    "# find the number of divisiors of 75\n",
    "\n",
    "\n",
    "count=0\n",
    "numm=75\n",
    "for i in range(1,76):\n",
    "    if(numm%i==0):\n",
    "        print(i)\n",
    "        count=count+1\n",
    "\n",
    "count"
   ]
  },
  {
   "cell_type": "code",
   "execution_count": null,
   "id": "79a14962-5e09-4f18-8b15-016ac44a550a",
   "metadata": {},
   "outputs": [],
   "source": [
    "ask the user get 5 random number \n",
    "means you need a get a random number inside for loop\n",
    "the loop should run 5 times\n",
    "now perform the even and odd operation \n",
    "1) even count 2) sum of even number 3) odd count 4) sum of odd numbers\n",
    "even_count=0\n",
    "odd_count=0\n",
    "even_sum=0\n",
    "odd_sum=0\n",
    "for loop\n",
    "random\n",
    "if even "
   ]
  },
  {
   "cell_type": "code",
   "execution_count": null,
   "id": "e02caebb-478b-4d35-b619-d4cbb907a355",
   "metadata": {},
   "outputs": [],
   "source": []
  },
  {
   "cell_type": "code",
   "execution_count": 168,
   "id": "6119fff7-a28c-46ac-a99f-5e445e2186c7",
   "metadata": {},
   "outputs": [
    {
     "name": "stdout",
     "output_type": "stream",
     "text": [
      "32 is even\n",
      "33 is odd\n",
      "72 is even\n",
      "67 is odd\n",
      "37 is odd\n",
      "2\n",
      "104\n",
      "3\n",
      "137\n"
     ]
    }
   ],
   "source": [
    "import random\n",
    "even_count,odd_count=0,0\n",
    "even_sum,odd_sum=0,0\n",
    "for i in range(5):\n",
    "    num=random.randint(1,100)\n",
    "    if num%2==0:\n",
    "        print(f'{num} is even')\n",
    "        even_count=even_count+1\n",
    "        even_sum=even_sum+num\n",
    "    else:\n",
    "        print(f'{num} is odd')\n",
    "        odd_count=odd_count+1\n",
    "        odd_sum=odd_sum+num\n",
    "print(even_count)\n",
    "print(even_sum)\n",
    "print(odd_count)\n",
    "print(odd_sum)"
   ]
  },
  {
   "cell_type": "code",
   "execution_count": null,
   "id": "eafa79ae-0f0b-4f5e-afc8-184f6a433e3b",
   "metadata": {},
   "outputs": [],
   "source": [
    "# game program "
   ]
  },
  {
   "cell_type": "code",
   "execution_count": 138,
   "id": "99849954-c231-4b11-9c80-c87750aa77cd",
   "metadata": {},
   "outputs": [
    {
     "name": "stdin",
     "output_type": "stream",
     "text": [
      "enter any number 6\n"
     ]
    },
    {
     "name": "stdout",
     "output_type": "stream",
     "text": [
      "1\n",
      "you lost\n"
     ]
    },
    {
     "name": "stdin",
     "output_type": "stream",
     "text": [
      "enter any number 5\n"
     ]
    },
    {
     "name": "stdout",
     "output_type": "stream",
     "text": [
      "2\n",
      "you lost\n"
     ]
    },
    {
     "name": "stdin",
     "output_type": "stream",
     "text": [
      "enter any number 3\n"
     ]
    },
    {
     "name": "stdout",
     "output_type": "stream",
     "text": [
      "1\n",
      "you lost\n"
     ]
    }
   ],
   "source": [
    "import random\n",
    "for i in range(3):\n",
    "    num1=eval(input(\"enter any number\"))\n",
    "    num2=print(random.randint(1,10))       #here we get one error i.e: if won also we \n",
    "    if num1==num2                             #  we get 2 other chances\n",
    "        print('you won') \n",
    "    else:\n",
    "        print('you lost') "
   ]
  },
  {
   "cell_type": "markdown",
   "id": "d0763451-b808-4b94-8f18-fdfe090de625",
   "metadata": {},
   "source": [
    "case-1:\n",
    "-"
   ]
  },
  {
   "cell_type": "code",
   "execution_count": 166,
   "id": "1e48b83f-45ce-4a56-ad6f-d784a497f310",
   "metadata": {},
   "outputs": [
    {
     "name": "stdout",
     "output_type": "stream",
     "text": [
      "10\n"
     ]
    },
    {
     "name": "stdin",
     "output_type": "stream",
     "text": [
      "enter any number 9\n"
     ]
    },
    {
     "name": "stdout",
     "output_type": "stream",
     "text": [
      "you lost\n",
      "5\n"
     ]
    },
    {
     "name": "stdin",
     "output_type": "stream",
     "text": [
      "enter any number 4\n"
     ]
    },
    {
     "name": "stdout",
     "output_type": "stream",
     "text": [
      "you lost\n",
      "9\n"
     ]
    },
    {
     "name": "stdin",
     "output_type": "stream",
     "text": [
      "enter any number 3\n"
     ]
    },
    {
     "name": "stdout",
     "output_type": "stream",
     "text": [
      "you lost\n"
     ]
    }
   ],
   "source": [
    "import random\n",
    "for i in range(3):\n",
    "    n1=random.randint(1,10)\n",
    "    print(n1)\n",
    "    n2=eval(input(\"enter any number\"))\n",
    "    if n1==n2:\n",
    "        print('you won')\n",
    "        break\n",
    "    else:\n",
    "        print('you lost')"
   ]
  },
  {
   "cell_type": "markdown",
   "id": "7a072e9a-269f-40c0-baf9-29d59164e7a8",
   "metadata": {},
   "source": [
    "case-2:\n",
    "-"
   ]
  },
  {
   "cell_type": "code",
   "execution_count": 202,
   "id": "86d3b117-b331-44b8-a8b0-e7a35eae6787",
   "metadata": {},
   "outputs": [
    {
     "name": "stdout",
     "output_type": "stream",
     "text": [
      "2\n"
     ]
    },
    {
     "name": "stdin",
     "output_type": "stream",
     "text": [
      "enter any number 4\n"
     ]
    },
    {
     "name": "stdout",
     "output_type": "stream",
     "text": [
      "better luck next time\n",
      "how many chances you left: 2\n",
      "6\n"
     ]
    },
    {
     "name": "stdin",
     "output_type": "stream",
     "text": [
      "enter any number 4\n"
     ]
    },
    {
     "name": "stdout",
     "output_type": "stream",
     "text": [
      "better luck next time\n",
      "how many chances you left: 1\n",
      "9\n"
     ]
    },
    {
     "name": "stdin",
     "output_type": "stream",
     "text": [
      "enter any number 4\n"
     ]
    },
    {
     "name": "stdout",
     "output_type": "stream",
     "text": [
      "better luck next time\n",
      "how many chances you left: 0\n"
     ]
    }
   ],
   "source": [
    "import random\n",
    "for i in range(3):\n",
    "    n1=random.randint(1,10)\n",
    "    print(n1)\n",
    "    n2=eval(input(\"enter any number\"))\n",
    "    if n1==n2:\n",
    "        print('you won')\n",
    "        break\n",
    "    else:\n",
    "        print('better luck next time')\n",
    "        print('how many chances you left:',2-i)"
   ]
  },
  {
   "cell_type": "markdown",
   "id": "26a1a7e6-54b7-4550-9ee7-de29c4b94155",
   "metadata": {},
   "source": [
    "case:3\n",
    "-"
   ]
  },
  {
   "cell_type": "code",
   "execution_count": 218,
   "id": "5a0896d2-4cd1-419a-93a8-1bc599d6ba14",
   "metadata": {},
   "outputs": [
    {
     "name": "stdout",
     "output_type": "stream",
     "text": [
      "1\n"
     ]
    },
    {
     "name": "stdin",
     "output_type": "stream",
     "text": [
      "enter any number 6\n"
     ]
    },
    {
     "name": "stdout",
     "output_type": "stream",
     "text": [
      "better luck next time\n",
      "how many chances you left: 2\n",
      "4\n"
     ]
    },
    {
     "name": "stdin",
     "output_type": "stream",
     "text": [
      "enter any number 7\n"
     ]
    },
    {
     "name": "stdout",
     "output_type": "stream",
     "text": [
      "better luck next time\n",
      "how many chances you left: 1\n",
      "7\n"
     ]
    },
    {
     "name": "stdin",
     "output_type": "stream",
     "text": [
      "enter any number 8\n"
     ]
    },
    {
     "name": "stdout",
     "output_type": "stream",
     "text": [
      "better luck next time\n",
      "how many chances you left: 0\n",
      "try after 24 hours\n"
     ]
    }
   ],
   "source": [
    "import random\n",
    "for i in range(3):\n",
    "    n1=random.randint(1,10)\n",
    "    print(n1)\n",
    "    n2=eval(input(\"enter any number\"))\n",
    "    if n1==n2:\n",
    "        print('you won')\n",
    "        break\n",
    "    else:\n",
    "        print('better luck next time')\n",
    "        print('how many chances you left:',2-i)\n",
    "        if 2-i==0:\n",
    "            print('try after 24 hours')    "
   ]
  },
  {
   "cell_type": "code",
   "execution_count": null,
   "id": "ac6a1fde-2f55-488e-8801-3707b7480ba3",
   "metadata": {},
   "outputs": [],
   "source": []
  },
  {
   "cell_type": "code",
   "execution_count": null,
   "id": "516752b9-2db7-4e65-9a93-3d86f4220253",
   "metadata": {},
   "outputs": [],
   "source": []
  },
  {
   "cell_type": "code",
   "execution_count": null,
   "id": "f1ba5792-26bd-43f8-a58f-bd456eea58c0",
   "metadata": {},
   "outputs": [],
   "source": []
  },
  {
   "cell_type": "code",
   "execution_count": null,
   "id": "3f7d59d9-602e-43ce-87a6-2e32588fd3d3",
   "metadata": {},
   "outputs": [],
   "source": []
  },
  {
   "cell_type": "code",
   "execution_count": null,
   "id": "a7552b38-dbf2-47e5-9e48-2525d2ff1177",
   "metadata": {},
   "outputs": [],
   "source": []
  },
  {
   "cell_type": "code",
   "execution_count": null,
   "id": "f34e3567-f318-4039-b901-e4659ca8d0e4",
   "metadata": {},
   "outputs": [],
   "source": []
  },
  {
   "cell_type": "code",
   "execution_count": null,
   "id": "48690059-9064-4494-83eb-ae10da1ca5b6",
   "metadata": {},
   "outputs": [],
   "source": []
  },
  {
   "cell_type": "code",
   "execution_count": null,
   "id": "cc9e68fb-f951-40cf-b991-0e0296db8ae2",
   "metadata": {},
   "outputs": [],
   "source": []
  },
  {
   "cell_type": "code",
   "execution_count": null,
   "id": "a71ddf34-5259-4c42-aefb-b91cdc1e3d44",
   "metadata": {},
   "outputs": [],
   "source": []
  },
  {
   "cell_type": "code",
   "execution_count": null,
   "id": "f88df452-45e4-419b-9d1c-dfba8c14a366",
   "metadata": {},
   "outputs": [],
   "source": []
  },
  {
   "cell_type": "code",
   "execution_count": null,
   "id": "03b0d8af-6349-464e-8d05-7a2979715eda",
   "metadata": {},
   "outputs": [],
   "source": []
  },
  {
   "cell_type": "code",
   "execution_count": null,
   "id": "7b7facb0-0cdd-4483-8d7e-e909cd4ef998",
   "metadata": {},
   "outputs": [],
   "source": []
  },
  {
   "cell_type": "code",
   "execution_count": null,
   "id": "340439d7-8a6b-4c6b-8e95-6d43f726a403",
   "metadata": {},
   "outputs": [],
   "source": []
  },
  {
   "cell_type": "code",
   "execution_count": null,
   "id": "a2ad15ab-9b46-44ab-9a9f-a092032974c1",
   "metadata": {},
   "outputs": [],
   "source": []
  },
  {
   "cell_type": "code",
   "execution_count": null,
   "id": "89bcd380-ca70-40b5-bb35-62451edeba4b",
   "metadata": {},
   "outputs": [],
   "source": []
  }
 ],
 "metadata": {
  "kernelspec": {
   "display_name": "Python [conda env:base] *",
   "language": "python",
   "name": "conda-base-py"
  },
  "language_info": {
   "codemirror_mode": {
    "name": "ipython",
    "version": 3
   },
   "file_extension": ".py",
   "mimetype": "text/x-python",
   "name": "python",
   "nbconvert_exporter": "python",
   "pygments_lexer": "ipython3",
   "version": "3.12.7"
  }
 },
 "nbformat": 4,
 "nbformat_minor": 5
}

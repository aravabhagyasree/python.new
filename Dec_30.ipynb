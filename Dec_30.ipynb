{
 "cells": [
  {
   "cell_type": "code",
   "execution_count": 27,
   "id": "468580b4-5787-4ed2-903d-5ee29a5315ad",
   "metadata": {},
   "outputs": [
    {
     "data": {
      "text/plain": [
       "'/Users/bhagyasree/NareshIT/Python_Sessions'"
      ]
     },
     "execution_count": 27,
     "metadata": {},
     "output_type": "execute_result"
    }
   ],
   "source": [
    "import os\n",
    "os.getcwd()"
   ]
  },
  {
   "cell_type": "code",
   "execution_count": 29,
   "id": "4c7851de-68b4-4a5f-8b6e-addb055d11a8",
   "metadata": {},
   "outputs": [],
   "source": [
    "# check point - 1 :\n",
    "# empty [ ] before the code cell\n",
    "# indicate we did not run the cell\n",
    "\n",
    "\n",
    "# check point - 2 :\n",
    "# if we see a * mark inside [ ] \n",
    "# do not run the next code cell\n",
    "\n",
    "# * it indicates kernel is busy \n",
    "# the same we can observe the top left corner black dot"
   ]
  },
  {
   "cell_type": "markdown",
   "id": "02df6391-6a9e-485a-aa0b-b2bc1560193c",
   "metadata": {},
   "source": [
    "hello today im learning python\n",
    "\n",
    "[] is there : yes\n",
    "\n",
    "code mode is there : yes \n",
    "\n",
    "if these two are there which indicates this current cell used for to write code only\n",
    "\n",
    "if you write english i will throw erro \n",
    "\n",
    "go to top code mode after a drop down symbol is there \n",
    "\n",
    "click on that\n",
    "\n",
    "we can see markdown option select it \n",
    "\n",
    "then we cant see []"
   ]
  },
  {
   "cell_type": "code",
   "execution_count": null,
   "id": "c99a91c3-ce6d-4490-8a99-cb8d00c1fee5",
   "metadata": {},
   "outputs": [],
   "source": [
    "** now i will show how to upload image **\n",
    "\n",
    "\n"
   ]
  },
  {
   "cell_type": "code",
   "execution_count": null,
   "id": "b2c47c20-4286-4e45-9806-6de6bca83e4e",
   "metadata": {},
   "outputs": [],
   "source": []
  },
  {
   "cell_type": "code",
   "execution_count": null,
   "id": "13c1a179-d542-404b-b77d-f3ebc884afb1",
   "metadata": {},
   "outputs": [],
   "source": []
  },
  {
   "cell_type": "code",
   "execution_count": null,
   "id": "699affee-b0e9-4d3e-a518-aace81ded3eb",
   "metadata": {},
   "outputs": [],
   "source": []
  },
  {
   "cell_type": "code",
   "execution_count": null,
   "id": "ce6087b0-7048-48df-8163-12d741e0be56",
   "metadata": {},
   "outputs": [],
   "source": []
  },
  {
   "cell_type": "code",
   "execution_count": null,
   "id": "c668277f-c867-407a-8ac0-08826e1b70c7",
   "metadata": {},
   "outputs": [],
   "source": []
  },
  {
   "cell_type": "code",
   "execution_count": null,
   "id": "a95ead3b-1e41-4d0a-ae83-e37104576be0",
   "metadata": {},
   "outputs": [],
   "source": []
  },
  {
   "cell_type": "code",
   "execution_count": null,
   "id": "fef07dc4-545b-47a3-9895-764fd505aa75",
   "metadata": {},
   "outputs": [],
   "source": []
  },
  {
   "cell_type": "code",
   "execution_count": null,
   "id": "af92a394-49b3-4b09-a2c6-5be6493ed0f9",
   "metadata": {},
   "outputs": [],
   "source": []
  },
  {
   "cell_type": "code",
   "execution_count": null,
   "id": "cdc16c9e-f46e-4446-9a2a-3633815f9255",
   "metadata": {},
   "outputs": [],
   "source": []
  }
 ],
 "metadata": {
  "kernelspec": {
   "display_name": "Python [conda env:base] *",
   "language": "python",
   "name": "conda-base-py"
  },
  "language_info": {
   "codemirror_mode": {
    "name": "ipython",
    "version": 3
   },
   "file_extension": ".py",
   "mimetype": "text/x-python",
   "name": "python",
   "nbconvert_exporter": "python",
   "pygments_lexer": "ipython3",
   "version": "3.12.7"
  }
 },
 "nbformat": 4,
 "nbformat_minor": 5
}

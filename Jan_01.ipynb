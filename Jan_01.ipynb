{
 "cells": [
  {
   "cell_type": "markdown",
   "id": "81ddd030-b735-4bc2-b61f-8d398f000bc8",
   "metadata": {},
   "source": [
    "# data types"
   ]
  },
  {
   "cell_type": "markdown",
   "id": "dc02180f-aad1-4f3a-a84e-accdc4eb5e6f",
   "metadata": {},
   "source": [
    "# imp\n",
    "- integer : int\n",
    "- float \n",
    "- string\n",
    "- list\n",
    "- tuple\n",
    "- set\n",
    "    - frozen st\n",
    "- dictionary\n",
    "- boolean\n",
    "- complex\n",
    "- range\n",
    "####### \n",
    "- byte\n",
    "- byte array\n",
    "- memory view\n",
    "- none type"
   ]
  },
  {
   "cell_type": "code",
   "execution_count": null,
   "id": "c36c87a0-9616-43e9-a281-a1716d4fa763",
   "metadata": {},
   "outputs": [],
   "source": [
    "- myth \n",
    "    - only 14 - 15 data types avaliable"
   ]
  },
  {
   "cell_type": "markdown",
   "id": "1b99063f-b457-4670-82ea-a2959c5d4711",
   "metadata": {},
   "source": [
    "$INTEGER$"
   ]
  },
  {
   "cell_type": "code",
   "execution_count": 10,
   "id": "2dfba650-3894-49ef-941e-9d4eabf4a451",
   "metadata": {},
   "outputs": [
    {
     "data": {
      "text/plain": [
       "100"
      ]
     },
     "execution_count": 10,
     "metadata": {},
     "output_type": "execute_result"
    }
   ],
   "source": [
    "number = 100\n",
    "number "
   ]
  },
  {
   "cell_type": "code",
   "execution_count": 12,
   "id": "298b6ab9-b3ed-4bed-838f-e6b37367b14c",
   "metadata": {},
   "outputs": [
    {
     "data": {
      "text/plain": [
       "int"
      ]
     },
     "execution_count": 12,
     "metadata": {},
     "output_type": "execute_result"
    }
   ],
   "source": [
    "type (number)"
   ]
  },
  {
   "cell_type": "code",
   "execution_count": 28,
   "id": "8d0fbf1b-0f1d-4ec3-80c8-5b648f8ff593",
   "metadata": {},
   "outputs": [
    {
     "data": {
      "text/plain": [
       "90.0"
      ]
     },
     "execution_count": 28,
     "metadata": {},
     "output_type": "execute_result"
    }
   ],
   "source": [
    "num = float(90)\n",
    "num"
   ]
  },
  {
   "cell_type": "code",
   "execution_count": 30,
   "id": "b3ab50a7-9761-4707-af71-09057326e17a",
   "metadata": {},
   "outputs": [
    {
     "data": {
      "text/plain": [
       "float"
      ]
     },
     "execution_count": 30,
     "metadata": {},
     "output_type": "execute_result"
    }
   ],
   "source": [
    "type(num)"
   ]
  },
  {
   "cell_type": "code",
   "execution_count": null,
   "id": "9ce97b97-376a-41d1-a8af-27098d64911f",
   "metadata": {},
   "outputs": [],
   "source": []
  },
  {
   "cell_type": "markdown",
   "id": "5e9d33eb-2d92-467b-9df6-da9518fcd340",
   "metadata": {},
   "source": [
    "$number system$"
   ]
  },
  {
   "cell_type": "markdown",
   "id": "a81ff041-1d7d-4bfa-88dd-b5999981bca4",
   "metadata": {},
   "source": [
    "- binary number system\n",
    "- dmecimal numbmer system\n",
    "- octa number system\n",
    "- hexa number system"
   ]
  },
  {
   "cell_type": "markdown",
   "id": "08b2004d-f792-4510-b674-64bafec615b9",
   "metadata": {},
   "source": [
    "**$BINARY NUMBER SYSTEM$**"
   ]
  },
  {
   "cell_type": "markdown",
   "id": "69403dbd-b74a-435b-969e-12ecb5580979",
   "metadata": {},
   "source": [
    "- denoted with **0b** or **0B**\n",
    "- binary means two\n",
    "- we have generaly 0 to 9 digits only avaliable \n",
    "- binary means only two digits allowed : 0 and 1\n",
    "- ex: 0b101 0b111 0b000\n",
    "- not valid: 0b123 0B10000123321"
   ]
  },
  {
   "cell_type": "code",
   "execution_count": 48,
   "id": "e492069d-9d69-4df8-9832-58bb9e738a35",
   "metadata": {},
   "outputs": [
    {
     "data": {
      "text/plain": [
       "7"
      ]
     },
     "execution_count": 48,
     "metadata": {},
     "output_type": "execute_result"
    }
   ],
   "source": [
    "0b111"
   ]
  },
  {
   "cell_type": "code",
   "execution_count": 50,
   "id": "e22ddd84-dd20-40fd-91d8-4ea25d871e4b",
   "metadata": {},
   "outputs": [
    {
     "data": {
      "text/plain": [
       "29"
      ]
     },
     "execution_count": 50,
     "metadata": {},
     "output_type": "execute_result"
    }
   ],
   "source": [
    "0b11101"
   ]
  },
  {
   "cell_type": "code",
   "execution_count": null,
   "id": "ed6cedf4-b5af-4f9e-bd64-98a8bb5f5a57",
   "metadata": {},
   "outputs": [],
   "source": [
    "2^2^2  2^2  2^1  2^0\n",
    "8      4    2    1\n",
    "#######################\n",
    "0      0    0    0    0\n",
    "0      0    0    1    1\n",
    "0      0    1    0    2\n",
    "0      0    1    1    3\n",
    "0      1    0    0    4\n",
    "0      1    0    1    5\n",
    "0      1    1    0    6\n",
    "0      1    1    1    7\n",
    "1      0    0    0    8\n",
    "1      0    0    1    9\n",
    "1      0    1    0    10\n",
    "1      0    1    1    11\n",
    "1      1    0    0    12\n",
    "1      1    0    1    13\n",
    "1      1    1    0    14\n",
    "1      1    1    1    15"
   ]
  },
  {
   "cell_type": "code",
   "execution_count": 59,
   "id": "cc8ffdae-d86b-45cf-9b13-fc4f75c33f9f",
   "metadata": {},
   "outputs": [
    {
     "data": {
      "text/plain": [
       "1"
      ]
     },
     "execution_count": 59,
     "metadata": {},
     "output_type": "execute_result"
    }
   ],
   "source": [
    "0b001"
   ]
  },
  {
   "cell_type": "code",
   "execution_count": 61,
   "id": "c94e966a-3bc1-4d19-878b-ef11f7564984",
   "metadata": {},
   "outputs": [
    {
     "data": {
      "text/plain": [
       "15"
      ]
     },
     "execution_count": 61,
     "metadata": {},
     "output_type": "execute_result"
    }
   ],
   "source": [
    "0b1111"
   ]
  },
  {
   "cell_type": "code",
   "execution_count": 69,
   "id": "b40c07e8-fbe9-4b33-98f4-e463b0a89774",
   "metadata": {},
   "outputs": [
    {
     "data": {
      "text/plain": [
       "30"
      ]
     },
     "execution_count": 69,
     "metadata": {},
     "output_type": "execute_result"
    }
   ],
   "source": [
    "0b11110"
   ]
  },
  {
   "cell_type": "code",
   "execution_count": null,
   "id": "061d93ac-89d1-43b8-acbe-bd6b8d048bf4",
   "metadata": {},
   "outputs": [],
   "source": []
  },
  {
   "cell_type": "markdown",
   "id": "7754d92e-65f3-48c9-9fe0-023fb83a536c",
   "metadata": {},
   "source": [
    "$ OCTA NUMBER SYSTEM $"
   ]
  },
  {
   "cell_type": "markdown",
   "id": "8db8d3ed-803f-4a94-96a3-782eb41ae9d3",
   "metadata": {},
   "source": [
    "- it is denoted with **0o** or **0O**\n",
    "- octa means 8\n",
    "- we have generally 0 to 9 \n",
    "- octa means 0,1,2,3,4,5,6,7\n",
    "- ex: 0o567, 0O77\n",
    "- not valid: 0o678"
   ]
  },
  {
   "cell_type": "code",
   "execution_count": 75,
   "id": "eae4ee7f-7c44-48ec-85b9-dc0f0f2c16d5",
   "metadata": {},
   "outputs": [
    {
     "data": {
      "text/plain": [
       "375"
      ]
     },
     "execution_count": 75,
     "metadata": {},
     "output_type": "execute_result"
    }
   ],
   "source": [
    "0o567"
   ]
  },
  {
   "cell_type": "code",
   "execution_count": 77,
   "id": "e7f382a7-c244-4d23-a4eb-fdfeb884b1d7",
   "metadata": {},
   "outputs": [
    {
     "data": {
      "text/plain": [
       "63"
      ]
     },
     "execution_count": 77,
     "metadata": {},
     "output_type": "execute_result"
    }
   ],
   "source": [
    "0o77"
   ]
  },
  {
   "cell_type": "code",
   "execution_count": null,
   "id": "ef6a3948-bdc6-480a-a7bf-85f2352096fd",
   "metadata": {},
   "outputs": [],
   "source": []
  },
  {
   "cell_type": "markdown",
   "id": "fe35645e-4b8a-4025-9a08-7f04d8c8d2e3",
   "metadata": {},
   "source": [
    "$Hexa number system$"
   ]
  },
  {
   "cell_type": "markdown",
   "id": "4749f52a-931b-4f39-9bc6-f22dc6135ff1",
   "metadata": {},
   "source": [
    "- it is denoted with **0x** or **0X**\n",
    "- hexa means 16\n",
    "- we have generally 0 to 9 digits avaliable\n",
    "- hexa means only two digits allowed: 0 to 9 a to f\n",
    "- A: 10 F:15\n",
    "- ex: 0xabc\n",
    "- not valid: oxefg"
   ]
  },
  {
   "cell_type": "code",
   "execution_count": 80,
   "id": "e0315599-de9e-4e9d-9d8e-eeac827c015a",
   "metadata": {},
   "outputs": [
    {
     "data": {
      "text/plain": [
       "2748"
      ]
     },
     "execution_count": 80,
     "metadata": {},
     "output_type": "execute_result"
    }
   ],
   "source": [
    "0xabc"
   ]
  },
  {
   "cell_type": "code",
   "execution_count": 83,
   "id": "9a3ccba1-fc56-4ff2-b77d-c8317c713272",
   "metadata": {},
   "outputs": [
    {
     "data": {
      "text/plain": [
       "2025"
      ]
     },
     "execution_count": 83,
     "metadata": {},
     "output_type": "execute_result"
    }
   ],
   "source": [
    "0b11111101001"
   ]
  },
  {
   "cell_type": "code",
   "execution_count": 85,
   "id": "338c3184-003e-4a40-b24f-0842e26270d8",
   "metadata": {},
   "outputs": [
    {
     "data": {
      "text/plain": [
       "2025"
      ]
     },
     "execution_count": 85,
     "metadata": {},
     "output_type": "execute_result"
    }
   ],
   "source": [
    "0x7e9"
   ]
  },
  {
   "cell_type": "code",
   "execution_count": 87,
   "id": "37d040c8-a133-45dc-a9ad-4e2e5e77e00a",
   "metadata": {},
   "outputs": [
    {
     "data": {
      "text/plain": [
       "2025"
      ]
     },
     "execution_count": 87,
     "metadata": {},
     "output_type": "execute_result"
    }
   ],
   "source": [
    "0o3751"
   ]
  },
  {
   "cell_type": "code",
   "execution_count": null,
   "id": "f7f250b0-53e6-42c4-a93d-694d78395898",
   "metadata": {},
   "outputs": [],
   "source": []
  },
  {
   "cell_type": "markdown",
   "id": "010d79ae-76dd-4795-b78e-84216324fd31",
   "metadata": {},
   "source": [
    "$float$"
   ]
  },
  {
   "cell_type": "code",
   "execution_count": 90,
   "id": "264b1866-c24d-4e71-a220-6ce471fe1ab8",
   "metadata": {},
   "outputs": [
    {
     "data": {
      "text/plain": [
       "float"
      ]
     },
     "execution_count": 90,
     "metadata": {},
     "output_type": "execute_result"
    }
   ],
   "source": [
    "number = 10.5\n",
    "type(number)"
   ]
  },
  {
   "cell_type": "markdown",
   "id": "455c15ad-e86e-4009-84de-4117f7d8b799",
   "metadata": {},
   "source": [
    "** e representation **"
   ]
  },
  {
   "cell_type": "code",
   "execution_count": 93,
   "id": "01995108-d2ae-407e-b701-742dd1565a57",
   "metadata": {},
   "outputs": [
    {
     "data": {
      "text/plain": [
       "10.0"
      ]
     },
     "execution_count": 93,
     "metadata": {},
     "output_type": "execute_result"
    }
   ],
   "source": [
    "1e1"
   ]
  },
  {
   "cell_type": "code",
   "execution_count": 95,
   "id": "7473c196-3c67-421e-9ed0-0e816f804abc",
   "metadata": {},
   "outputs": [
    {
     "data": {
      "text/plain": [
       "100.0"
      ]
     },
     "execution_count": 95,
     "metadata": {},
     "output_type": "execute_result"
    }
   ],
   "source": [
    "1e2"
   ]
  },
  {
   "cell_type": "code",
   "execution_count": 99,
   "id": "579ddcde-bfc0-4ae0-a05f-a50c8a3a70da",
   "metadata": {},
   "outputs": [
    {
     "data": {
      "text/plain": [
       "2025.0"
      ]
     },
     "execution_count": 99,
     "metadata": {},
     "output_type": "execute_result"
    }
   ],
   "source": [
    "2e3+25"
   ]
  },
  {
   "cell_type": "code",
   "execution_count": null,
   "id": "103b511a-2144-4f0c-9c37-201449f8245f",
   "metadata": {},
   "outputs": [],
   "source": [
    "1e1  # 1*10=10\n",
    "2e2  # 2*100=200\n",
    "4e3  # 4*1000=3,000 "
   ]
  },
  {
   "cell_type": "code",
   "execution_count": 109,
   "id": "0f2f88af-b0a7-4ea2-b235-1e38fccca720",
   "metadata": {},
   "outputs": [
    {
     "name": "stdout",
     "output_type": "stream",
     "text": [
      "100.0\n",
      "2000.0\n",
      "30000.0\n",
      "400000.0\n"
     ]
    }
   ],
   "source": [
    "print(1e+2)\n",
    "print(2e+3)\n",
    "print(3e+4)\n",
    "print(4e+5)"
   ]
  },
  {
   "cell_type": "code",
   "execution_count": 119,
   "id": "354fc200-1a6c-414b-94aa-8ad4a66aba3e",
   "metadata": {},
   "outputs": [
    {
     "name": "stdout",
     "output_type": "stream",
     "text": [
      "0.001\n",
      "0.01\n",
      "0.1\n"
     ]
    }
   ],
   "source": [
    "print(1e-3)  #1/1000=0.001 \n",
    "print(1e-2)  #1/100=0.01 \n",
    "print(1e-1)  #1/10=0.1 "
   ]
  },
  {
   "cell_type": "code",
   "execution_count": null,
   "id": "7fc6a4b2-0824-4947-969d-5b43722b38a2",
   "metadata": {},
   "outputs": [],
   "source": []
  },
  {
   "cell_type": "code",
   "execution_count": null,
   "id": "0220a4c8-b905-40fc-ac30-70c5f73aa484",
   "metadata": {},
   "outputs": [],
   "source": []
  },
  {
   "cell_type": "code",
   "execution_count": null,
   "id": "f85d1811-ab4d-458d-ad72-6c8e04f4590c",
   "metadata": {},
   "outputs": [],
   "source": []
  },
  {
   "cell_type": "code",
   "execution_count": null,
   "id": "a3d864c0-a3e2-4c27-96ad-3ac9a66611e1",
   "metadata": {},
   "outputs": [],
   "source": []
  },
  {
   "cell_type": "code",
   "execution_count": null,
   "id": "e0556bd0-9cce-44c4-b638-dc94a9824fd6",
   "metadata": {},
   "outputs": [],
   "source": []
  },
  {
   "cell_type": "code",
   "execution_count": null,
   "id": "ff897371-96e6-4b3f-b58d-9ca0707f206f",
   "metadata": {},
   "outputs": [],
   "source": []
  }
 ],
 "metadata": {
  "kernelspec": {
   "display_name": "Python [conda env:base] *",
   "language": "python",
   "name": "conda-base-py"
  },
  "language_info": {
   "codemirror_mode": {
    "name": "ipython",
    "version": 3
   },
   "file_extension": ".py",
   "mimetype": "text/x-python",
   "name": "python",
   "nbconvert_exporter": "python",
   "pygments_lexer": "ipython3",
   "version": "3.12.7"
  }
 },
 "nbformat": 4,
 "nbformat_minor": 5
}

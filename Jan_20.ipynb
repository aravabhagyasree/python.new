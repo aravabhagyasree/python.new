{
 "cells": [
  {
   "cell_type": "markdown",
   "id": "56e279d6-54c5-4308-8226-969aa3e5ce7a",
   "metadata": {},
   "source": [
    "**Function_without_argumrnts**"
   ]
  },
  {
   "cell_type": "code",
   "execution_count": null,
   "id": "aba3c107-2543-4042-a82c-67ceb68ea5c1",
   "metadata": {},
   "outputs": [],
   "source": [
    "def addition():\n",
    "    n1=eval(input(\"n1\"))\n",
    "    n2=eval(input(\"n2\"))\n",
    "    add=n1+n2\n",
    "    print(f'{n1} and {n2} is: {add})\n",
    "addition()"
   ]
  },
  {
   "cell_type": "markdown",
   "id": "203f2a7d-d2e0-4b5a-b355-4208b5b2e10e",
   "metadata": {},
   "source": [
    "- how many variables are there?\n",
    "    - in above addtion function 3 variables are there n1,n2,add\n",
    "- how many input variables are there?\n",
    "    - inout variables means the varibles access the values from user as input\n",
    "- how many output variables are there?\n",
    "    - outpuy variables means the varibles created because of some operation:**add**\n",
    "- **dont touch the output variable**"
   ]
  },
  {
   "cell_type": "markdown",
   "id": "a6f2a235-e168-4fe4-a808-465cda2df7de",
   "metadata": {},
   "source": [
    "**function_with_arguments**"
   ]
  },
  {
   "cell_type": "code",
   "execution_count": 12,
   "id": "57fda2a3-3e86-45e9-8a06-9e7fdcbab286",
   "metadata": {},
   "outputs": [],
   "source": [
    "def addition1(n1,n2):\n",
    "    print(n1)\n",
    "    print(n2)\n",
    "    add=n1+n2\n",
    "    print(f'{n1} and {n2} is: {add}')\n",
    "\n",
    "addit"
   ]
  },
  {
   "cell_type": "code",
   "execution_count": 14,
   "id": "5373a04e-acb7-4ae7-9499-4e98b1abff9a",
   "metadata": {},
   "outputs": [
    {
     "name": "stdout",
     "output_type": "stream",
     "text": [
      "100\n",
      "670\n",
      "100 and 670 is: 770\n"
     ]
    }
   ],
   "source": [
    "addition1(100,670)"
   ]
  },
  {
   "cell_type": "code",
   "execution_count": 20,
   "id": "91f62e27-2ecc-4461-9c3a-fb7c30110dfb",
   "metadata": {},
   "outputs": [
    {
     "ename": "TypeError",
     "evalue": "addition1() missing 2 required positional arguments: 'n1' and 'n2'",
     "output_type": "error",
     "traceback": [
      "\u001b[0;31m---------------------------------------------------------------------------\u001b[0m",
      "\u001b[0;31mTypeError\u001b[0m                                 Traceback (most recent call last)",
      "Cell \u001b[0;32mIn[20], line 1\u001b[0m\n\u001b[0;32m----> 1\u001b[0m addition1()\n",
      "\u001b[0;31mTypeError\u001b[0m: addition1() missing 2 required positional arguments: 'n1' and 'n2'"
     ]
    }
   ],
   "source": [
    "addition1()"
   ]
  },
  {
   "cell_type": "code",
   "execution_count": 22,
   "id": "4f7763dc-cfca-4f2c-94dd-74f7141c4ae0",
   "metadata": {},
   "outputs": [
    {
     "ename": "TypeError",
     "evalue": "addition1() missing 1 required positional argument: 'n2'",
     "output_type": "error",
     "traceback": [
      "\u001b[0;31m---------------------------------------------------------------------------\u001b[0m",
      "\u001b[0;31mTypeError\u001b[0m                                 Traceback (most recent call last)",
      "Cell \u001b[0;32mIn[22], line 1\u001b[0m\n\u001b[0;32m----> 1\u001b[0m addition1(\u001b[38;5;241m8\u001b[39m)\n",
      "\u001b[0;31mTypeError\u001b[0m: addition1() missing 1 required positional argument: 'n2'"
     ]
    }
   ],
   "source": [
    "addition1(8)"
   ]
  },
  {
   "cell_type": "code",
   "execution_count": 36,
   "id": "d6ab1575-75fa-49c1-80e0-343a8b4002cb",
   "metadata": {},
   "outputs": [
    {
     "ename": "TypeError",
     "evalue": "addition1() missing 1 required positional argument: 'n2'",
     "output_type": "error",
     "traceback": [
      "\u001b[0;31m---------------------------------------------------------------------------\u001b[0m",
      "\u001b[0;31mTypeError\u001b[0m                                 Traceback (most recent call last)",
      "Cell \u001b[0;32mIn[36], line 1\u001b[0m\n\u001b[0;32m----> 1\u001b[0m addition1(\u001b[38;5;241m388\u001b[39m)\n",
      "\u001b[0;31mTypeError\u001b[0m: addition1() missing 1 required positional argument: 'n2'"
     ]
    }
   ],
   "source": [
    "addition1(388)"
   ]
  },
  {
   "cell_type": "code",
   "execution_count": 50,
   "id": "9d0cbef4-7477-4fca-a39d-f1bb073a37a5",
   "metadata": {},
   "outputs": [
    {
     "name": "stdin",
     "output_type": "stream",
     "text": [
      "n1 8\n",
      "n2 3\n"
     ]
    },
    {
     "name": "stdout",
     "output_type": "stream",
     "text": [
      "11\n",
      "---------------\n",
      "300\n",
      "---------------\n"
     ]
    },
    {
     "name": "stdin",
     "output_type": "stream",
     "text": [
      "n2 4\n"
     ]
    },
    {
     "name": "stdout",
     "output_type": "stream",
     "text": [
      "304\n"
     ]
    }
   ],
   "source": [
    "def additionn():\n",
    "    n1=eval(input(\"n1\"))\n",
    "    n2=eval(input(\"n2\"))\n",
    "    add=n1+n2\n",
    "    print(add)\n",
    "    \n",
    "additionn()\n",
    "print(\"---------------\")\n",
    "def additionn1(n1,n2):\n",
    "    add=n1+n2\n",
    "    print(add)\n",
    "\n",
    "additionn1(100,200)\n",
    "print(\"---------------\")\n",
    "def additionn2(n1):\n",
    "    n2=eval(input(\"n2\"))\n",
    "    add=n1+n2\n",
    "    print(add)\n",
    "\n",
    "additionn2(300)"
   ]
  },
  {
   "cell_type": "code",
   "execution_count": 62,
   "id": "52a434df-baad-4080-8b96-baeb5745e14b",
   "metadata": {},
   "outputs": [
    {
     "name": "stdin",
     "output_type": "stream",
     "text": [
      "n1 67\n",
      "n2 568\n",
      "n3 345\n"
     ]
    },
    {
     "name": "stdout",
     "output_type": "stream",
     "text": [
      "326.6666666666667\n",
      "--------------------\n"
     ]
    },
    {
     "name": "stdin",
     "output_type": "stream",
     "text": [
      "n2 346\n",
      "n3 34\n"
     ]
    },
    {
     "name": "stdout",
     "output_type": "stream",
     "text": [
      "130.0\n",
      "--------------------\n"
     ]
    },
    {
     "name": "stdin",
     "output_type": "stream",
     "text": [
      "n3 4566\n"
     ]
    },
    {
     "name": "stdout",
     "output_type": "stream",
     "text": [
      "1566.6666666666667\n",
      "--------------------\n",
      "56.333333333333336\n",
      "--------------------\n"
     ]
    }
   ],
   "source": [
    "def avg():\n",
    "    n1=eval(input(\"n1\"))\n",
    "    n2=eval(input(\"n2\"))\n",
    "    n3=eval(input(\"n3\"))\n",
    "    avg=(n1+n2+n3)/3\n",
    "    print(avg)\n",
    "\n",
    "avg()\n",
    "\n",
    "print(\"--------------------\")\n",
    "\n",
    "def avgg1(n1):\n",
    "    n2=eval(input(\"n2\"))\n",
    "    n3=eval(input(\"n3\"))\n",
    "    avgg1=(n1+n2+n3)/3\n",
    "    print(avgg1)\n",
    "\n",
    "avgg1(10)\n",
    "\n",
    "print(\"--------------------\")\n",
    "\n",
    "def avgg2(n1,n2):\n",
    "    n3=eval(input(\"n3\"))\n",
    "    avgg2=(n1+n2+n3)/3\n",
    "    print(avgg2)\n",
    "\n",
    "avgg2(78,56)\n",
    "\n",
    "print(\"--------------------\")\n",
    "\n",
    "def avgg3(n1,n2,n3):\n",
    "    avgg3=(n1+n2+n3)/3\n",
    "    print(avgg3)\n",
    "\n",
    "avgg3(78,56,35)\n",
    "\n",
    "print(\"--------------------\")"
   ]
  },
  {
   "cell_type": "markdown",
   "id": "ae671cf6-95e0-4fde-abba-2bf23971a43a",
   "metadata": {},
   "source": [
    "- in above funtion the tip is fixed this is called default argumrnts\n",
    "- while calling the funtion not need to provide again.\n",
    "- if u provide again the value will never change"
   ]
  },
  {
   "cell_type": "code",
   "execution_count": 65,
   "id": "162a421c-b78e-47de-a69c-801ea35edb7b",
   "metadata": {},
   "outputs": [
    {
     "name": "stdout",
     "output_type": "stream",
     "text": [
      "1200.0\n"
     ]
    }
   ],
   "source": [
    "def tip1(bill,tip_per=20):\n",
    "    tip_amount=bill*tip_per/100\n",
    "    total_bill=bill+tip_amount\n",
    "    print(total_bill)\n",
    "\n",
    "tip1(1000)"
   ]
  },
  {
   "cell_type": "markdown",
   "id": "ad4a2553-1edb-45c1-83ed-8e5bf1990cbc",
   "metadata": {},
   "source": [
    "- while calling the funtion not need to provide again.\n",
    "- if u provide again the value will never change"
   ]
  },
  {
   "cell_type": "code",
   "execution_count": 67,
   "id": "1c8f9aab-c6a2-400a-b92e-45b77bb7cc4b",
   "metadata": {},
   "outputs": [
    {
     "name": "stdout",
     "output_type": "stream",
     "text": [
      "1300.0\n"
     ]
    }
   ],
   "source": [
    "def tip12(bill,tip_per=20):\n",
    "    tip_amount=bill*tip_per/100\n",
    "    total_bill=bill+tip_amount\n",
    "    print(total_bill)\n",
    "\n",
    "tip12(1000,30)"
   ]
  },
  {
   "cell_type": "code",
   "execution_count": 79,
   "id": "579c58cc-ed47-4dd9-89c7-fa3a2aec0e05",
   "metadata": {},
   "outputs": [
    {
     "name": "stdout",
     "output_type": "stream",
     "text": [
      "54.666666666666664\n"
     ]
    }
   ],
   "source": [
    "def avgg4(n1,n2,n3=30):\n",
    "    avge=(n1+n2+n3)/3\n",
    "    print(avge)\n",
    "\n",
    "avgg4(78,56)"
   ]
  },
  {
   "cell_type": "markdown",
   "id": "c450577a-b164-427f-8f4b-16514f0090e1",
   "metadata": {},
   "source": [
    "- **note**: default arguments always at last"
   ]
  },
  {
   "cell_type": "code",
   "execution_count": 81,
   "id": "667dccfc-25e1-41e8-aaba-3841a251b018",
   "metadata": {},
   "outputs": [
    {
     "name": "stdout",
     "output_type": "stream",
     "text": [
      "54.666666666666664\n"
     ]
    }
   ],
   "source": [
    "def avgg5(n1,n3,n2=30):\n",
    "    avge=(n1+n2+n3)/3\n",
    "    print(avge)\n",
    "\n",
    "avgg5(78,56)"
   ]
  },
  {
   "cell_type": "code",
   "execution_count": null,
   "id": "e53dcb48-7aa5-42dd-98bd-39fa3b2233ee",
   "metadata": {},
   "outputs": [],
   "source": [
    "n1,n2,n3=100   w\n",
    "n1,n2=200,n3 f\n",
    "n1=100,n2,n3f\n",
    "n1,n2=200,n3=300 w\n",
    "n1=100,n2,n3=300 f\n",
    "n1=100,n2=200,n3 f\n",
    "n1=100,n2=200,n3=300 w"
   ]
  },
  {
   "cell_type": "code",
   "execution_count": null,
   "id": "51e8d5ed-42b6-44d5-bdf0-676749069449",
   "metadata": {},
   "outputs": [],
   "source": []
  },
  {
   "cell_type": "code",
   "execution_count": null,
   "id": "d4a31498-58d9-4fa6-b195-d3aabab7118f",
   "metadata": {},
   "outputs": [],
   "source": []
  },
  {
   "cell_type": "code",
   "execution_count": null,
   "id": "6f1e4f1e-5376-4956-bbaa-c8bc6890e9f8",
   "metadata": {},
   "outputs": [],
   "source": []
  },
  {
   "cell_type": "code",
   "execution_count": null,
   "id": "47534720-0c1a-4156-be31-bbfd1f501833",
   "metadata": {},
   "outputs": [],
   "source": []
  }
 ],
 "metadata": {
  "kernelspec": {
   "display_name": "Python [conda env:base] *",
   "language": "python",
   "name": "conda-base-py"
  },
  "language_info": {
   "codemirror_mode": {
    "name": "ipython",
    "version": 3
   },
   "file_extension": ".py",
   "mimetype": "text/x-python",
   "name": "python",
   "nbconvert_exporter": "python",
   "pygments_lexer": "ipython3",
   "version": "3.12.7"
  }
 },
 "nbformat": 4,
 "nbformat_minor": 5
}

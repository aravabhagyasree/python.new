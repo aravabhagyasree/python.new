{
 "cells": [
  {
   "cell_type": "code",
   "execution_count": null,
   "id": "b5d87579-cd48-49e1-b25c-0f56c6f0b83b",
   "metadata": {},
   "outputs": [],
   "source": [
    "slice**\n",
    "\n",
    "- slice means cut into pieces\n",
    "\n",
    "- it has similar analogy with for loop\n",
    "\n",
    "- in the for loop range we have start,stop,step\n",
    "\n",
    "- range(start,stop,step) str[start:stop:step]"
   ]
  },
  {
   "cell_type": "code",
   "execution_count": null,
   "id": "a6cd1b0c-4772-49ae-b493-02cf0fbb0c58",
   "metadata": {},
   "outputs": [],
   "source": [
    "-17  -16  -15  -14  -13  -12  -11  -10  -9  -8  -7  -6  -5  -4  -3   -2   -1\n",
    "  h   e    l    l     o         h    o   w       a   r   e       y    o    u\n",
    "  0   1    2    3     4    5    6    7   8   9   10  11  12  13  14   15  16"
   ]
  },
  {
   "cell_type": "code",
   "execution_count": null,
   "id": "78d6c1a7-be44-4f91-bafe-8ab2ae5cf26c",
   "metadata": {},
   "outputs": [],
   "source": [
    "case-1\n",
    "str[:stop]\n",
    "- by default start=0\n",
    "- by default step=positive direction 1\n",
    "- last = stop-1"
   ]
  },
  {
   "cell_type": "code",
   "execution_count": 2,
   "id": "0fe35979-42db-4399-8ff2-ae5b55c7661e",
   "metadata": {},
   "outputs": [
    {
     "data": {
      "text/plain": [
       "'hello'"
      ]
     },
     "execution_count": 2,
     "metadata": {},
     "output_type": "execute_result"
    }
   ],
   "source": [
    "str1='hello how are you'\n",
    "str1[:5]\n",
    "# start =0 step=1 stop=5-1=4"
   ]
  },
  {
   "cell_type": "code",
   "execution_count": 8,
   "id": "fa38f1ca-98b8-4251-8962-ddc5c0fd0c35",
   "metadata": {},
   "outputs": [
    {
     "data": {
      "text/plain": [
       "'hello how'"
      ]
     },
     "execution_count": 8,
     "metadata": {},
     "output_type": "execute_result"
    }
   ],
   "source": [
    "str1[:9]"
   ]
  },
  {
   "cell_type": "code",
   "execution_count": null,
   "id": "02cb0f60-7558-4765-9329-48b4d00061e9",
   "metadata": {},
   "outputs": [],
   "source": [
    "str1["
   ]
  },
  {
   "cell_type": "code",
   "execution_count": null,
   "id": "da7fb669-2571-4a66-9db1-3fc47c052ad2",
   "metadata": {},
   "outputs": [],
   "source": [
    "case-2\n",
    "str[start:]\n",
    "- by default start=start value\n",
    "- by default step=positive direction 1\n",
    "- last = last index"
   ]
  },
  {
   "cell_type": "code",
   "execution_count": 6,
   "id": "fc24f1f1-a618-4379-9fbb-9badcdbd8d81",
   "metadata": {},
   "outputs": [
    {
     "data": {
      "text/plain": [
       "' how are you'"
      ]
     },
     "execution_count": 6,
     "metadata": {},
     "output_type": "execute_result"
    }
   ],
   "source": [
    "str1[5:]"
   ]
  },
  {
   "cell_type": "code",
   "execution_count": 12,
   "id": "d6186cfc-5aa6-4b7e-9919-faaf3a94b211",
   "metadata": {},
   "outputs": [
    {
     "data": {
      "text/plain": [
       "'you'"
      ]
     },
     "execution_count": 12,
     "metadata": {},
     "output_type": "execute_result"
    }
   ],
   "source": [
    "str1[-3:]"
   ]
  },
  {
   "cell_type": "code",
   "execution_count": null,
   "id": "d933647e-25f0-4df8-879c-5d12ad4b867f",
   "metadata": {},
   "outputs": [],
   "source": [
    "case-3\n",
    "str[start:stop]\n",
    "- by default start=start value\n",
    "- by default step=positive direction 1\n",
    "- last = stop-1"
   ]
  },
  {
   "cell_type": "code",
   "execution_count": null,
   "id": "53e54ec7-6bfa-4969-9809-ae0dbffc32f2",
   "metadata": {},
   "outputs": [],
   "source": [
    "# -17  -16  -15  -14  -13  -12  -11  -10  -9  -8  -7  -6  -5  -4  -3   -2   -1\n",
    "#   h   e    l    l     o         h    o   w       a   r   e       y    o    u\n",
    "#   0   1    2    3     4    5    6    7   8   9   10  11  12  13  14   15  16"
   ]
  },
  {
   "cell_type": "code",
   "execution_count": 20,
   "id": "69431933-ccf9-449e-9c99-0d65ca3f41eb",
   "metadata": {},
   "outputs": [
    {
     "data": {
      "text/plain": [
       "'are y'"
      ]
     },
     "execution_count": 20,
     "metadata": {},
     "output_type": "execute_result"
    }
   ],
   "source": [
    "str1[10:15]"
   ]
  },
  {
   "cell_type": "code",
   "execution_count": 22,
   "id": "9e941599-722c-4025-ba0a-fd2dd5d6cecb",
   "metadata": {},
   "outputs": [
    {
     "data": {
      "text/plain": [
       "'hello how'"
      ]
     },
     "execution_count": 22,
     "metadata": {},
     "output_type": "execute_result"
    }
   ],
   "source": [
    "str1[-17:9]"
   ]
  },
  {
   "cell_type": "code",
   "execution_count": 24,
   "id": "27f42a67-b6ba-4210-b57d-7366fa6b8dd0",
   "metadata": {},
   "outputs": [
    {
     "data": {
      "text/plain": [
       "'llo how are y'"
      ]
     },
     "execution_count": 24,
     "metadata": {},
     "output_type": "execute_result"
    }
   ],
   "source": [
    "str1[2:-2]"
   ]
  },
  {
   "cell_type": "code",
   "execution_count": 28,
   "id": "ed79aebb-7e7a-4b05-86cd-34e79f99a560",
   "metadata": {},
   "outputs": [],
   "source": [
    "for i in range(2,-2):\n",
    "    print(i)"
   ]
  },
  {
   "cell_type": "code",
   "execution_count": null,
   "id": "5cf83383-a102-4253-8d19-b0df5d2bf1ab",
   "metadata": {},
   "outputs": [],
   "source": [
    "**note**:\n",
    "in for loop it takes \" -3 -2 -1 0 1 2 3 \" \n",
    "but in slicing we take : -3 -2 -1 \n",
    "                          0  1  2  # same like 2 parallel lines"
   ]
  },
  {
   "cell_type": "code",
   "execution_count": null,
   "id": "f041eaab-c77a-467e-bb5e-a915ce2b77be",
   "metadata": {},
   "outputs": [],
   "source": [
    "# -17  -16  -15  -14  -13  -12  -11  -10  -9  -8  -7  -6  -5  -4  -3   -2   -1\n",
    "#   h   e    l    l     o         h    o   w       a   r   e       y    o    u\n",
    "#   0   1    2    3     4    5    6    7   8   9   10  11  12  13  14   15  16"
   ]
  },
  {
   "cell_type": "code",
   "execution_count": 34,
   "id": "8604a7e7-2d93-493b-b0fc-f126a12b256f",
   "metadata": {},
   "outputs": [
    {
     "data": {
      "text/plain": [
       "'hello how are y'"
      ]
     },
     "execution_count": 34,
     "metadata": {},
     "output_type": "execute_result"
    }
   ],
   "source": [
    "str1[-17:15:1]"
   ]
  },
  {
   "cell_type": "code",
   "execution_count": 46,
   "id": "7435836f-8ea7-4bdf-b626-ba0bbb306c65",
   "metadata": {},
   "outputs": [
    {
     "data": {
      "text/plain": [
       "''"
      ]
     },
     "execution_count": 46,
     "metadata": {},
     "output_type": "execute_result"
    }
   ],
   "source": [
    "str1[-1:-1:-1]"
   ]
  },
  {
   "cell_type": "code",
   "execution_count": 52,
   "id": "4e978942-9453-49fe-866d-b87a584c86b3",
   "metadata": {},
   "outputs": [
    {
     "data": {
      "text/plain": [
       "'zyxwvutsrqponmlkjihgfedcba'"
      ]
     },
     "execution_count": 52,
     "metadata": {},
     "output_type": "execute_result"
    }
   ],
   "source": [
    "numm=\"abcdefghijklmnopqrstuvwxyz\"\n",
    "numm[::-1]"
   ]
  },
  {
   "cell_type": "code",
   "execution_count": 54,
   "id": "02fa0589-6d72-4242-8802-a145730b551f",
   "metadata": {},
   "outputs": [
    {
     "data": {
      "text/plain": [
       "'abcdefghijklmnopqrstuvwxyz'"
      ]
     },
     "execution_count": 54,
     "metadata": {},
     "output_type": "execute_result"
    }
   ],
   "source": [
    "numm[::]"
   ]
  },
  {
   "cell_type": "code",
   "execution_count": 64,
   "id": "5b183a11-dd69-4d36-9d7d-e46313f77f44",
   "metadata": {},
   "outputs": [
    {
     "data": {
      "text/plain": [
       "'zm'"
      ]
     },
     "execution_count": 64,
     "metadata": {},
     "output_type": "execute_result"
    }
   ],
   "source": [
    "numm[::-13]"
   ]
  },
  {
   "cell_type": "code",
   "execution_count": 60,
   "id": "ec4bf522-581a-493f-9b5e-630386c4329b",
   "metadata": {},
   "outputs": [
    {
     "data": {
      "text/plain": [
       "26"
      ]
     },
     "execution_count": 60,
     "metadata": {},
     "output_type": "execute_result"
    }
   ],
   "source": [
    "len(numm)"
   ]
  },
  {
   "cell_type": "code",
   "execution_count": null,
   "id": "ae2d41b3-77ff-426d-bb8c-3436c7e20b15",
   "metadata": {},
   "outputs": [],
   "source": []
  },
  {
   "cell_type": "markdown",
   "id": "a1dd0928-bf47-4e8e-9a88-f142a57ee055",
   "metadata": {},
   "source": [
    "**METHODS**\n",
    "-"
   ]
  },
  {
   "cell_type": "code",
   "execution_count": 69,
   "id": "8f0331fd-8864-4d4e-95e6-f2ef8853f645",
   "metadata": {},
   "outputs": [
    {
     "data": {
      "text/plain": [
       "['__add__',\n",
       " '__class__',\n",
       " '__contains__',\n",
       " '__delattr__',\n",
       " '__dir__',\n",
       " '__doc__',\n",
       " '__eq__',\n",
       " '__format__',\n",
       " '__ge__',\n",
       " '__getattribute__',\n",
       " '__getitem__',\n",
       " '__getnewargs__',\n",
       " '__getstate__',\n",
       " '__gt__',\n",
       " '__hash__',\n",
       " '__init__',\n",
       " '__init_subclass__',\n",
       " '__iter__',\n",
       " '__le__',\n",
       " '__len__',\n",
       " '__lt__',\n",
       " '__mod__',\n",
       " '__mul__',\n",
       " '__ne__',\n",
       " '__new__',\n",
       " '__reduce__',\n",
       " '__reduce_ex__',\n",
       " '__repr__',\n",
       " '__rmod__',\n",
       " '__rmul__',\n",
       " '__setattr__',\n",
       " '__sizeof__',\n",
       " '__str__',\n",
       " '__subclasshook__',\n",
       " 'capitalize',\n",
       " 'casefold',\n",
       " 'center',\n",
       " 'count',\n",
       " 'encode',\n",
       " 'endswith',\n",
       " 'expandtabs',\n",
       " 'find',\n",
       " 'format',\n",
       " 'format_map',\n",
       " 'index',\n",
       " 'isalnum',\n",
       " 'isalpha',\n",
       " 'isascii',\n",
       " 'isdecimal',\n",
       " 'isdigit',\n",
       " 'isidentifier',\n",
       " 'islower',\n",
       " 'isnumeric',\n",
       " 'isprintable',\n",
       " 'isspace',\n",
       " 'istitle',\n",
       " 'isupper',\n",
       " 'join',\n",
       " 'ljust',\n",
       " 'lower',\n",
       " 'lstrip',\n",
       " 'maketrans',\n",
       " 'partition',\n",
       " 'removeprefix',\n",
       " 'removesuffix',\n",
       " 'replace',\n",
       " 'rfind',\n",
       " 'rindex',\n",
       " 'rjust',\n",
       " 'rpartition',\n",
       " 'rsplit',\n",
       " 'rstrip',\n",
       " 'split',\n",
       " 'splitlines',\n",
       " 'startswith',\n",
       " 'strip',\n",
       " 'swapcase',\n",
       " 'title',\n",
       " 'translate',\n",
       " 'upper',\n",
       " 'zfill']"
      ]
     },
     "execution_count": 69,
     "metadata": {},
     "output_type": "execute_result"
    }
   ],
   "source": [
    "name='pyhton'\n",
    "dir('python')"
   ]
  },
  {
   "cell_type": "markdown",
   "id": "87ba0d54-7dbb-44fb-8300-cf0dafdf055a",
   "metadata": {},
   "source": [
    "**upper**"
   ]
  },
  {
   "cell_type": "code",
   "execution_count": 108,
   "id": "10907bfe-613a-4aec-9e68-a8e30fdebe4a",
   "metadata": {},
   "outputs": [
    {
     "data": {
      "text/plain": [
       "'WELLCOME HI HOW ARE YOU, NICE TO MEET YOU MEET YOU.'"
      ]
     },
     "execution_count": 108,
     "metadata": {},
     "output_type": "execute_result"
    }
   ],
   "source": [
    "str1='wellcome hi how are you, nice to meet you meet you.'\n",
    "str1.upper()"
   ]
  },
  {
   "cell_type": "code",
   "execution_count": 110,
   "id": "0b826fef-e33e-4456-b3bf-8bc4696e1f86",
   "metadata": {},
   "outputs": [
    {
     "data": {
      "text/plain": [
       "'wellcome hi how are you, nice to meet you meet you.'"
      ]
     },
     "execution_count": 110,
     "metadata": {},
     "output_type": "execute_result"
    }
   ],
   "source": [
    "str1.lower()"
   ]
  },
  {
   "cell_type": "code",
   "execution_count": 112,
   "id": "d46838c7-eaa9-4799-88ce-504938d325dd",
   "metadata": {},
   "outputs": [
    {
     "data": {
      "text/plain": [
       "'Wellcome Hi How Are You, Nice To Meet You Meet You.'"
      ]
     },
     "execution_count": 112,
     "metadata": {},
     "output_type": "execute_result"
    }
   ],
   "source": [
    "str1.title()"
   ]
  },
  {
   "cell_type": "code",
   "execution_count": 114,
   "id": "4432e845-8857-4082-90cd-2c5b3cc66385",
   "metadata": {},
   "outputs": [
    {
     "data": {
      "text/plain": [
       "'Wellcome hi how are you, nice to meet you meet you.'"
      ]
     },
     "execution_count": 114,
     "metadata": {},
     "output_type": "execute_result"
    }
   ],
   "source": [
    "str1.capitalize()"
   ]
  },
  {
   "cell_type": "code",
   "execution_count": 116,
   "id": "4486b13e-6541-44ba-b2e2-d298fbf87705",
   "metadata": {},
   "outputs": [
    {
     "data": {
      "text/plain": [
       "'wellcome hi how are you, nice to meet you meet you.'"
      ]
     },
     "execution_count": 116,
     "metadata": {},
     "output_type": "execute_result"
    }
   ],
   "source": [
    "str1.casefold()"
   ]
  },
  {
   "cell_type": "markdown",
   "id": "659e022e-b0e9-47d4-be12-6e71873ee676",
   "metadata": {},
   "source": [
    "**difference bt methods and inbuilt functions**"
   ]
  },
  {
   "cell_type": "code",
   "execution_count": null,
   "id": "d5bc5fb9-0ea9-4afe-9e55-8ef81141dbe4",
   "metadata": {},
   "outputs": [],
   "source": [
    "######### inbuild fucntions ########\n",
    "len()\n",
    "max()\n",
    "min()\n",
    "type()\n",
    "print()\n",
    "sum()\n",
    "############ methods ##########\n",
    "str1.upper()\n",
    "str1.lower()\n",
    "str1.title()\n",
    "str1.capitalize()\n",
    "str1.casefold()"
   ]
  },
  {
   "cell_type": "code",
   "execution_count": 120,
   "id": "9acb0aab-2526-4fbc-ab18-1453cd432161",
   "metadata": {},
   "outputs": [
    {
     "data": {
      "text/plain": [
       "6"
      ]
     },
     "execution_count": 120,
     "metadata": {},
     "output_type": "execute_result"
    }
   ],
   "source": [
    "len('python')"
   ]
  },
  {
   "cell_type": "code",
   "execution_count": 126,
   "id": "827e3ba2-e0b9-4752-a0f5-0568217bd1e3",
   "metadata": {},
   "outputs": [
    {
     "data": {
      "text/plain": [
       "'PYTHON'"
      ]
     },
     "execution_count": 126,
     "metadata": {},
     "output_type": "execute_result"
    }
   ],
   "source": [
    "str.upper('python')"
   ]
  },
  {
   "cell_type": "code",
   "execution_count": null,
   "id": "18035853-f6cb-4db6-b152-db5ab7e1add8",
   "metadata": {},
   "outputs": [],
   "source": [
    "**center**\n"
   ]
  },
  {
   "cell_type": "code",
   "execution_count": 154,
   "id": "daf04fcb-49c9-42f0-8093-7009bb028f43",
   "metadata": {},
   "outputs": [
    {
     "data": {
      "text/plain": [
       "'____python____'"
      ]
     },
     "execution_count": 154,
     "metadata": {},
     "output_type": "execute_result"
    }
   ],
   "source": [
    "str11='python'\n",
    "str11.center(14,'_')\n",
    "\n",
    "# here 14 means the len of string becomes 12 charcters\n",
    "# already 'python' has 6 charcters \n",
    "# so remaining 6 charcters add as _"
   ]
  },
  {
   "cell_type": "code",
   "execution_count": null,
   "id": "60864bca-04a8-4c19-80f3-fd06f788ea07",
   "metadata": {},
   "outputs": [],
   "source": [
    "**strip-lstrip-rstrip**\n",
    "\n",
    "- strip will remove the charcters both left and right side\n",
    "\n",
    "- lstrip will remove the charcter left side"
   ]
  },
  {
   "cell_type": "code",
   "execution_count": 156,
   "id": "67227d01-f9dd-4168-be9e-aaf3e517ca77",
   "metadata": {},
   "outputs": [
    {
     "data": {
      "text/plain": [
       "'pyhton '"
      ]
     },
     "execution_count": 156,
     "metadata": {},
     "output_type": "execute_result"
    }
   ],
   "source": [
    "str111=' pyhton '\n",
    "str111.lstrip()"
   ]
  },
  {
   "cell_type": "code",
   "execution_count": 194,
   "id": "6a524b21-52e2-4db3-8956-0e321b125cf9",
   "metadata": {},
   "outputs": [
    {
     "data": {
      "text/plain": [
       "'8 ****pyhton**** 8'"
      ]
     },
     "execution_count": 194,
     "metadata": {},
     "output_type": "execute_result"
    }
   ],
   "source": [
    "str2='8 ****pyhton**** 8'\n",
    "str2.strip()"
   ]
  },
  {
   "cell_type": "code",
   "execution_count": 216,
   "id": "98833b8b-bc75-4aa3-897c-8a095e96255c",
   "metadata": {},
   "outputs": [
    {
     "data": {
      "text/plain": [
       "'pyhton'"
      ]
     },
     "execution_count": 216,
     "metadata": {},
     "output_type": "execute_result"
    }
   ],
   "source": [
    "str3='pyhton*****'\n",
    "str3.rstrip('*')"
   ]
  },
  {
   "cell_type": "code",
   "execution_count": 220,
   "id": "006c5fdc-3b82-4edc-bbce-4c33e51fc336",
   "metadata": {},
   "outputs": [
    {
     "data": {
      "text/plain": [
       "'PYTHON'"
      ]
     },
     "execution_count": 220,
     "metadata": {},
     "output_type": "execute_result"
    }
   ],
   "source": [
    "# 2 methods at once\n",
    "str4='python***'\n",
    "str4.rstrip('*').upper()"
   ]
  },
  {
   "cell_type": "code",
   "execution_count": null,
   "id": "3dda3822-3a4f-44a3-b00c-f8c72be6c10f",
   "metadata": {},
   "outputs": [],
   "source": []
  }
 ],
 "metadata": {
  "kernelspec": {
   "display_name": "Python [conda env:base] *",
   "language": "python",
   "name": "conda-base-py"
  },
  "language_info": {
   "codemirror_mode": {
    "name": "ipython",
    "version": 3
   },
   "file_extension": ".py",
   "mimetype": "text/x-python",
   "name": "python",
   "nbconvert_exporter": "python",
   "pygments_lexer": "ipython3",
   "version": "3.12.7"
  }
 },
 "nbformat": 4,
 "nbformat_minor": 5
}

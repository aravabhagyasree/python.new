{
 "cells": [
  {
   "cell_type": "markdown",
   "id": "84a92db7-bfeb-4a8f-a41c-6694ca9241f5",
   "metadata": {},
   "source": [
    "# BASIC PYHTON"
   ]
  },
  {
   "cell_type": "markdown",
   "id": "0a38a216-1c8e-41e2-9e45-c52f95119f8a",
   "metadata": {},
   "source": [
    "- Variables\n",
    "- Data Types\n",
    "- Type conversion\n",
    "- Print \n",
    "- eval and input\n",
    "- Basic codes\n",
    "- Packages\n",
    "- Conditional Statements\n",
    "- try and except \n",
    "- functions\n",
    "- for loop\n",
    "- while loop"
   ]
  },
  {
   "cell_type": "markdown",
   "id": "9471b9d1-ba68-44a6-90a8-35c3d6f0f30d",
   "metadata": {},
   "source": [
    "# INTERMEDIATE PYTHON"
   ]
  },
  {
   "cell_type": "markdown",
   "id": "cf521c85-2cb3-45db-9d37-cdf260ed0d21",
   "metadata": {},
   "source": [
    "- Strings\n",
    "- Lists\n",
    "- List Comprhension\n",
    "- Tuple \n",
    "- Sets\n",
    "- Dictionary\n",
    "- Lambda funtions\n",
    "- File handling"
   ]
  },
  {
   "cell_type": "markdown",
   "id": "07fef5a9-d82e-46fe-9cef-4dc77b811816",
   "metadata": {},
   "source": [
    "- Basic representations\n",
    "- inbuilt functions\n",
    "    - print\n",
    "    - type\n",
    "    - len\n",
    "    - sum\n",
    "    - max\n",
    "    - min\n",
    "    - sorted\n",
    "    - reversed\n",
    "- concatenation\n",
    "- indexing\n",
    "- mutable or immutable concept\n",
    "- slice\n",
    "- methods"
   ]
  },
  {
   "cell_type": "markdown",
   "id": "03a4470a-064f-4a8d-bb28-647e732d327b",
   "metadata": {},
   "source": [
    " **basic_representations**\n",
    " -"
   ]
  },
  {
   "cell_type": "code",
   "execution_count": 3,
   "id": "46795d4c-0d62-4645-b972-9ce3d5236b05",
   "metadata": {},
   "outputs": [
    {
     "data": {
      "text/plain": [
       "'pyhton'"
      ]
     },
     "execution_count": 3,
     "metadata": {},
     "output_type": "execute_result"
    }
   ],
   "source": [
    "name='pyhton'\n",
    "name"
   ]
  },
  {
   "cell_type": "code",
   "execution_count": 5,
   "id": "35b0830e-9bc4-44d5-bb64-ec13bf8d14f3",
   "metadata": {},
   "outputs": [
    {
     "name": "stdout",
     "output_type": "stream",
     "text": [
      "pyhton\n"
     ]
    }
   ],
   "source": [
    "print(name)"
   ]
  },
  {
   "cell_type": "code",
   "execution_count": 7,
   "id": "2f471fbc-f106-40c3-82a5-e013746fa362",
   "metadata": {},
   "outputs": [
    {
     "data": {
      "text/plain": [
       "'python'"
      ]
     },
     "execution_count": 7,
     "metadata": {},
     "output_type": "execute_result"
    }
   ],
   "source": [
    "name=\"python\"\n",
    "name"
   ]
  },
  {
   "cell_type": "code",
   "execution_count": null,
   "id": "569ef229-be86-48c3-9da1-c3f87164289d",
   "metadata": {},
   "outputs": [],
   "source": [
    "- python by default gives output in single quotes \n",
    "- when we print the string the output will display without quotes"
   ]
  },
  {
   "cell_type": "code",
   "execution_count": 11,
   "id": "c4c7a879-4143-4d44-8203-0b1bb3b7f0ef",
   "metadata": {},
   "outputs": [
    {
     "name": "stdout",
     "output_type": "stream",
     "text": [
      "i love 'python' \n"
     ]
    }
   ],
   "source": [
    "str1=\"i love 'python' \"\n",
    "print(str1)"
   ]
  },
  {
   "cell_type": "code",
   "execution_count": 17,
   "id": "a2553bec-b938-46e0-8e54-02f056468c92",
   "metadata": {},
   "outputs": [
    {
     "name": "stdout",
     "output_type": "stream",
     "text": [
      "i love \"python\" \n"
     ]
    }
   ],
   "source": [
    "str2='i love \"python\" '\n",
    "print(str2)"
   ]
  },
  {
   "cell_type": "code",
   "execution_count": null,
   "id": "c768863d-1510-4eb6-a019-966e1f0fb0a9",
   "metadata": {},
   "outputs": [],
   "source": [
    "**Doc string**\n",
    "- triple quotes also called as doc string\n",
    "- triple quotes means the user try to convey some information "
   ]
  },
  {
   "cell_type": "code",
   "execution_count": 21,
   "id": "550329d8-db60-4fba-b6b3-bbb398714424",
   "metadata": {},
   "outputs": [
    {
     "data": {
      "text/plain": [
       "str"
      ]
     },
     "execution_count": 21,
     "metadata": {},
     "output_type": "execute_result"
    }
   ],
   "source": [
    "name='python'\n",
    "type(name)"
   ]
  },
  {
   "cell_type": "code",
   "execution_count": 25,
   "id": "67774f53-ffe5-4c50-ad25-6003a8fa2b9c",
   "metadata": {},
   "outputs": [
    {
     "data": {
      "text/plain": [
       "6"
      ]
     },
     "execution_count": 25,
     "metadata": {},
     "output_type": "execute_result"
    }
   ],
   "source": [
    "name='python'\n",
    "len(name)"
   ]
  },
  {
   "cell_type": "code",
   "execution_count": 43,
   "id": "f267a4ba-ff24-4aeb-990a-ab9af66aad94",
   "metadata": {},
   "outputs": [
    {
     "data": {
      "text/plain": [
       "'y'"
      ]
     },
     "execution_count": 43,
     "metadata": {},
     "output_type": "execute_result"
    }
   ],
   "source": [
    "name2='bhagyasree'\n",
    "max(name2)"
   ]
  },
  {
   "cell_type": "code",
   "execution_count": 45,
   "id": "bd13bfe1-3639-46ab-8acd-120b4b6e8c63",
   "metadata": {},
   "outputs": [
    {
     "data": {
      "text/plain": [
       "'a'"
      ]
     },
     "execution_count": 45,
     "metadata": {},
     "output_type": "execute_result"
    }
   ],
   "source": [
    "name2='bhagyasree'\n",
    "min(name2)"
   ]
  },
  {
   "cell_type": "markdown",
   "id": "289fd7aa-f64e-493e-9af7-083af79056c2",
   "metadata": {},
   "source": [
    "**SORTED**\n",
    "-"
   ]
  },
  {
   "cell_type": "code",
   "execution_count": 47,
   "id": "c6baaf31-a629-437d-9ab4-479e00fea08c",
   "metadata": {},
   "outputs": [
    {
     "data": {
      "text/plain": [
       "['a', 'a', 'b', 'e', 'e', 'g', 'h', 'r', 's', 'y']"
      ]
     },
     "execution_count": 47,
     "metadata": {},
     "output_type": "execute_result"
    }
   ],
   "source": [
    "hi='bhagyasree'\n",
    "sorted(hi)"
   ]
  },
  {
   "cell_type": "code",
   "execution_count": null,
   "id": "c88191e1-89a9-41b0-8c86-86d34885a0d3",
   "metadata": {},
   "outputs": [],
   "source": [
    "sorted(iterable, /, *, key=None, reverse=False)"
   ]
  },
  {
   "cell_type": "markdown",
   "id": "41328fb4-47b9-4423-8e45-a3ea62f94740",
   "metadata": {},
   "source": [
    "iterable\n",
    "-"
   ]
  },
  {
   "cell_type": "code",
   "execution_count": null,
   "id": "7a438777-63b2-45fd-8db9-33aec31ad4ef",
   "metadata": {},
   "outputs": [],
   "source": []
  },
  {
   "cell_type": "markdown",
   "id": "a6e3d149-5ac7-4b7c-874f-21d6c1e5d294",
   "metadata": {},
   "source": [
    "**_/_**\n",
    "- "
   ]
  },
  {
   "cell_type": "code",
   "execution_count": 52,
   "id": "47935af7-fbf0-4e21-a074-9af85e17967b",
   "metadata": {},
   "outputs": [
    {
     "name": "stdout",
     "output_type": "stream",
     "text": [
      "30\n"
     ]
    }
   ],
   "source": [
    "def add(a,b):\n",
    "    print(a+b)\n",
    "add(a=10,b=20)"
   ]
  },
  {
   "cell_type": "code",
   "execution_count": 54,
   "id": "b5b9d1ae-0919-4072-ad39-b70aa585fdb8",
   "metadata": {},
   "outputs": [
    {
     "ename": "TypeError",
     "evalue": "add() got some positional-only arguments passed as keyword arguments: 'a'",
     "output_type": "error",
     "traceback": [
      "\u001b[0;31m---------------------------------------------------------------------------\u001b[0m",
      "\u001b[0;31mTypeError\u001b[0m                                 Traceback (most recent call last)",
      "Cell \u001b[0;32mIn[54], line 3\u001b[0m\n\u001b[1;32m      1\u001b[0m \u001b[38;5;28;01mdef\u001b[39;00m \u001b[38;5;21madd\u001b[39m(a,\u001b[38;5;241m/\u001b[39m,b):\n\u001b[1;32m      2\u001b[0m     \u001b[38;5;28mprint\u001b[39m(a\u001b[38;5;241m+\u001b[39mb)\n\u001b[0;32m----> 3\u001b[0m add(a\u001b[38;5;241m=\u001b[39m\u001b[38;5;241m10\u001b[39m,b\u001b[38;5;241m=\u001b[39m\u001b[38;5;241m20\u001b[39m)\n",
      "\u001b[0;31mTypeError\u001b[0m: add() got some positional-only arguments passed as keyword arguments: 'a'"
     ]
    }
   ],
   "source": [
    "def add(a,/,b):\n",
    "    print(a+b)\n",
    "add(a=10,b=20)"
   ]
  },
  {
   "cell_type": "code",
   "execution_count": 58,
   "id": "892fef28-5b10-4c64-906f-58161fd74b60",
   "metadata": {},
   "outputs": [
    {
     "name": "stdout",
     "output_type": "stream",
     "text": [
      "30\n"
     ]
    }
   ],
   "source": [
    "def add(a,/,b):\n",
    "    print(a+b)\n",
    "add(10,b=20)"
   ]
  },
  {
   "cell_type": "code",
   "execution_count": 60,
   "id": "ca7d1593-1324-4ef1-b117-a2b94ea63ee9",
   "metadata": {},
   "outputs": [
    {
     "ename": "SyntaxError",
     "evalue": "positional argument follows keyword argument (3787002837.py, line 3)",
     "output_type": "error",
     "traceback": [
      "\u001b[0;36m  Cell \u001b[0;32mIn[60], line 3\u001b[0;36m\u001b[0m\n\u001b[0;31m    add(a=10,20)\u001b[0m\n\u001b[0m               ^\u001b[0m\n\u001b[0;31mSyntaxError\u001b[0m\u001b[0;31m:\u001b[0m positional argument follows keyword argument\n"
     ]
    }
   ],
   "source": [
    "def add(a,/,b):\n",
    "    print(a+b)\n",
    "add(a=10,20)"
   ]
  },
  {
   "cell_type": "markdown",
   "id": "1d972201-cd06-4d3f-9442-067d6531e5d7",
   "metadata": {},
   "source": [
    "**Note:**\n",
    "\n",
    "- '/' before will not work\n",
    " \n",
    "- '/' after u can use argument name\n",
    "\n",
    "- '*' indicates no need maintain the order of the arguments"
   ]
  },
  {
   "cell_type": "markdown",
   "id": "c44f4787-9e89-4525-ab9f-5391f3a1c4a0",
   "metadata": {},
   "source": [
    "**_*_**\n",
    "-"
   ]
  },
  {
   "cell_type": "code",
   "execution_count": null,
   "id": "99ba0d1d-dacc-444a-8275-2944411f309e",
   "metadata": {},
   "outputs": [],
   "source": [
    "def add(a,b,c):\n",
    "    print(a+b)\n",
    "\n",
    "add(10,20,30"
   ]
  },
  {
   "cell_type": "markdown",
   "id": "54e165b6-d7dc-463e-892c-2acda9264160",
   "metadata": {},
   "source": [
    "**NOTE:**\n",
    "\n",
    "- (*) indicates provide the argument name "
   ]
  },
  {
   "cell_type": "code",
   "execution_count": 82,
   "id": "f0a42e7b-2077-4608-88fa-8ad709312610",
   "metadata": {},
   "outputs": [
    {
     "ename": "TypeError",
     "evalue": "sorted expected 1 argument, got 0",
     "output_type": "error",
     "traceback": [
      "\u001b[0;31m---------------------------------------------------------------------------\u001b[0m",
      "\u001b[0;31mTypeError\u001b[0m                                 Traceback (most recent call last)",
      "Cell \u001b[0;32mIn[82], line 2\u001b[0m\n\u001b[1;32m      1\u001b[0m \u001b[38;5;28msorted\u001b[39m(\u001b[38;5;124m'\u001b[39m\u001b[38;5;124mpython\u001b[39m\u001b[38;5;124m'\u001b[39m)\n\u001b[0;32m----> 2\u001b[0m \u001b[38;5;28msorted\u001b[39m(iterable\u001b[38;5;241m=\u001b[39m\u001b[38;5;124m'\u001b[39m\u001b[38;5;124mpython\u001b[39m\u001b[38;5;124m'\u001b[39m)\n\u001b[1;32m      3\u001b[0m \u001b[38;5;28msorted\u001b[39m(iterable\u001b[38;5;241m=\u001b[39m\u001b[38;5;124m'\u001b[39m\u001b[38;5;124mpython\u001b[39m\u001b[38;5;124m'\u001b[39m,reverse\u001b[38;5;241m=\u001b[39m\u001b[38;5;28;01mTrue\u001b[39;00m)\n\u001b[1;32m      4\u001b[0m \u001b[38;5;28msorted\u001b[39m(\u001b[38;5;124m'\u001b[39m\u001b[38;5;124mpython\u001b[39m\u001b[38;5;124m'\u001b[39m,reverse\u001b[38;5;241m=\u001b[39m\u001b[38;5;28;01mTrue\u001b[39;00m)\n",
      "\u001b[0;31mTypeError\u001b[0m: sorted expected 1 argument, got 0"
     ]
    }
   ],
   "source": [
    "sorted('python')        # works , by defult reverse=False\n",
    "sorted(iterable='python')  # fail\n",
    "sorted('python',reverse=True)   # works \n",
    "sorted(iterable='python',reverse=True)  # fails\n",
    "sorted('python',True)  #fails"
   ]
  },
  {
   "cell_type": "code",
   "execution_count": 84,
   "id": "6b0d7a78-9223-4738-92e8-39443df1c366",
   "metadata": {},
   "outputs": [
    {
     "ename": "TypeError",
     "evalue": "sorted expected 1 argument, got 0",
     "output_type": "error",
     "traceback": [
      "\u001b[0;31m---------------------------------------------------------------------------\u001b[0m",
      "\u001b[0;31mTypeError\u001b[0m                                 Traceback (most recent call last)",
      "Cell \u001b[0;32mIn[84], line 1\u001b[0m\n\u001b[0;32m----> 1\u001b[0m \u001b[38;5;28msorted\u001b[39m(iterable\u001b[38;5;241m=\u001b[39m\u001b[38;5;124m'\u001b[39m\u001b[38;5;124mpython\u001b[39m\u001b[38;5;124m'\u001b[39m,reverse\u001b[38;5;241m=\u001b[39m\u001b[38;5;28;01mTrue\u001b[39;00m)\n",
      "\u001b[0;31mTypeError\u001b[0m: sorted expected 1 argument, got 0"
     ]
    }
   ],
   "source": [
    "sorted(iterable='python',reverse=True) "
   ]
  },
  {
   "cell_type": "code",
   "execution_count": 86,
   "id": "41678e45-325f-43c7-afa7-81f8e64caa9a",
   "metadata": {},
   "outputs": [
    {
     "ename": "TypeError",
     "evalue": "sorted expected 1 argument, got 2",
     "output_type": "error",
     "traceback": [
      "\u001b[0;31m---------------------------------------------------------------------------\u001b[0m",
      "\u001b[0;31mTypeError\u001b[0m                                 Traceback (most recent call last)",
      "Cell \u001b[0;32mIn[86], line 1\u001b[0m\n\u001b[0;32m----> 1\u001b[0m \u001b[38;5;28msorted\u001b[39m(\u001b[38;5;124m'\u001b[39m\u001b[38;5;124mpython\u001b[39m\u001b[38;5;124m'\u001b[39m,\u001b[38;5;28;01mTrue\u001b[39;00m)\n",
      "\u001b[0;31mTypeError\u001b[0m: sorted expected 1 argument, got 2"
     ]
    }
   ],
   "source": [
    "sorted('python',True)"
   ]
  },
  {
   "cell_type": "markdown",
   "id": "39a6bc6a-5f63-4c6e-a1b4-efa3a61d8520",
   "metadata": {},
   "source": [
    "Reversed\n",
    "-"
   ]
  },
  {
   "cell_type": "code",
   "execution_count": 89,
   "id": "5ccf2587-e89b-4535-aead-b49fe62f4169",
   "metadata": {},
   "outputs": [
    {
     "ename": "TypeError",
     "evalue": "reversed() takes no keyword arguments",
     "output_type": "error",
     "traceback": [
      "\u001b[0;31m---------------------------------------------------------------------------\u001b[0m",
      "\u001b[0;31mTypeError\u001b[0m                                 Traceback (most recent call last)",
      "Cell \u001b[0;32mIn[89], line 1\u001b[0m\n\u001b[0;32m----> 1\u001b[0m \u001b[38;5;28mreversed\u001b[39m(sequence\u001b[38;5;241m=\u001b[39m\u001b[38;5;124m'\u001b[39m\u001b[38;5;124mbhagyasree\u001b[39m\u001b[38;5;124m'\u001b[39m)\n",
      "\u001b[0;31mTypeError\u001b[0m: reversed() takes no keyword arguments"
     ]
    }
   ],
   "source": [
    "reversed(sequence='bhagyasree')"
   ]
  },
  {
   "cell_type": "code",
   "execution_count": 91,
   "id": "31c9efc5-6dcc-4425-9fe6-beb880644b25",
   "metadata": {},
   "outputs": [
    {
     "data": {
      "text/plain": [
       "<reversed at 0x13fd35de0>"
      ]
     },
     "execution_count": 91,
     "metadata": {},
     "output_type": "execute_result"
    }
   ],
   "source": [
    "reversed('bhagyasree')"
   ]
  },
  {
   "cell_type": "code",
   "execution_count": null,
   "id": "294b2cc3-ac8d-4f6c-bb60-e904ddd4835d",
   "metadata": {},
   "outputs": [],
   "source": [
    "**Method-1:**"
   ]
  },
  {
   "cell_type": "code",
   "execution_count": 93,
   "id": "1dcdc1db-c5d0-4e77-9a35-26b6d3bcface",
   "metadata": {},
   "outputs": [
    {
     "data": {
      "text/plain": [
       "<reversed at 0x13fc3a470>"
      ]
     },
     "execution_count": 93,
     "metadata": {},
     "output_type": "execute_result"
    }
   ],
   "source": [
    "ans=reversed('bhagyasree')\n",
    "ans"
   ]
  },
  {
   "cell_type": "code",
   "execution_count": 95,
   "id": "a7258599-0c90-4516-9e35-149759cb1a48",
   "metadata": {},
   "outputs": [
    {
     "name": "stdout",
     "output_type": "stream",
     "text": [
      "e\n",
      "e\n",
      "r\n",
      "s\n",
      "a\n",
      "y\n",
      "g\n",
      "a\n",
      "h\n",
      "b\n"
     ]
    }
   ],
   "source": [
    "for i in ans:\n",
    "    print(i)"
   ]
  },
  {
   "cell_type": "code",
   "execution_count": null,
   "id": "cb556938-9a27-44ff-81f0-0f9e1d572af9",
   "metadata": {},
   "outputs": [],
   "source": [
    "- Answer saved at address memory location \n",
    "\n",
    "- we can see the answer by using for loop of list"
   ]
  },
  {
   "cell_type": "markdown",
   "id": "dbcf20db-2f26-4d95-a67b-50d1a112ed60",
   "metadata": {},
   "source": [
    "**Method-2:**"
   ]
  },
  {
   "cell_type": "code",
   "execution_count": 97,
   "id": "b69ad417-a5bf-47ed-b718-ed766c0ff31c",
   "metadata": {},
   "outputs": [
    {
     "data": {
      "text/plain": [
       "['e', 'e', 'r', 's', 'a', 'y', 'g', 'a', 'h', 'b']"
      ]
     },
     "execution_count": 97,
     "metadata": {},
     "output_type": "execute_result"
    }
   ],
   "source": [
    "ans=reversed('bhagyasree')\n",
    "list(ans)"
   ]
  },
  {
   "cell_type": "code",
   "execution_count": null,
   "id": "0e25f886-6d04-4200-93a9-9b399bfee2a2",
   "metadata": {},
   "outputs": [],
   "source": [
    "- whenver we see less < > symbol answer\n",
    "\n",
    "- try to apply for loop or list"
   ]
  },
  {
   "cell_type": "code",
   "execution_count": null,
   "id": "da820377-5ac5-4c1b-a024-52a484ba57dd",
   "metadata": {},
   "outputs": [],
   "source": []
  },
  {
   "cell_type": "code",
   "execution_count": null,
   "id": "0a3f10a5-bc6b-4293-8093-4a93dae08b59",
   "metadata": {},
   "outputs": [],
   "source": []
  },
  {
   "cell_type": "code",
   "execution_count": null,
   "id": "2e1c3b86-badd-4419-b283-6f3f0d2a6908",
   "metadata": {},
   "outputs": [],
   "source": []
  },
  {
   "cell_type": "code",
   "execution_count": null,
   "id": "510f90fb-fb28-4623-89e7-e4f336e7bb06",
   "metadata": {},
   "outputs": [],
   "source": []
  },
  {
   "cell_type": "markdown",
   "id": "0b671914-b54e-4bf7-a5bb-30be3ad69c56",
   "metadata": {},
   "source": [
    "**Concatenation**\n",
    "-"
   ]
  },
  {
   "cell_type": "code",
   "execution_count": 102,
   "id": "53c5d525-77ee-4a27-bffd-7fe2772fc4f5",
   "metadata": {},
   "outputs": [
    {
     "data": {
      "text/plain": [
       "'hellopython'"
      ]
     },
     "execution_count": 102,
     "metadata": {},
     "output_type": "execute_result"
    }
   ],
   "source": [
    "str1='hello'\n",
    "str2='python'\n",
    "str1+str2"
   ]
  },
  {
   "cell_type": "code",
   "execution_count": 106,
   "id": "6ddca675-a264-4955-8feb-287462ec22d5",
   "metadata": {},
   "outputs": [
    {
     "ename": "TypeError",
     "evalue": "unsupported operand type(s) for -: 'str' and 'str'",
     "output_type": "error",
     "traceback": [
      "\u001b[0;31m---------------------------------------------------------------------------\u001b[0m",
      "\u001b[0;31mTypeError\u001b[0m                                 Traceback (most recent call last)",
      "Cell \u001b[0;32mIn[106], line 3\u001b[0m\n\u001b[1;32m      1\u001b[0m str1\u001b[38;5;241m=\u001b[39m\u001b[38;5;124m'\u001b[39m\u001b[38;5;124mhello\u001b[39m\u001b[38;5;124m'\u001b[39m\n\u001b[1;32m      2\u001b[0m str2\u001b[38;5;241m=\u001b[39m\u001b[38;5;124m'\u001b[39m\u001b[38;5;124mpython\u001b[39m\u001b[38;5;124m'\u001b[39m\n\u001b[0;32m----> 3\u001b[0m str1\u001b[38;5;241m-\u001b[39mstr2\n",
      "\u001b[0;31mTypeError\u001b[0m: unsupported operand type(s) for -: 'str' and 'str'"
     ]
    }
   ],
   "source": [
    "str1='hello'\n",
    "str2='python'\n",
    "str1-str2"
   ]
  },
  {
   "cell_type": "code",
   "execution_count": 108,
   "id": "2ba0f9b1-e63d-4fe8-b351-0d1fd05fb7af",
   "metadata": {},
   "outputs": [
    {
     "ename": "TypeError",
     "evalue": "can't multiply sequence by non-int of type 'str'",
     "output_type": "error",
     "traceback": [
      "\u001b[0;31m---------------------------------------------------------------------------\u001b[0m",
      "\u001b[0;31mTypeError\u001b[0m                                 Traceback (most recent call last)",
      "Cell \u001b[0;32mIn[108], line 3\u001b[0m\n\u001b[1;32m      1\u001b[0m str1\u001b[38;5;241m=\u001b[39m\u001b[38;5;124m'\u001b[39m\u001b[38;5;124mhello\u001b[39m\u001b[38;5;124m'\u001b[39m\n\u001b[1;32m      2\u001b[0m str2\u001b[38;5;241m=\u001b[39m\u001b[38;5;124m'\u001b[39m\u001b[38;5;124mpython\u001b[39m\u001b[38;5;124m'\u001b[39m\n\u001b[0;32m----> 3\u001b[0m str1\u001b[38;5;241m*\u001b[39mstr2\n",
      "\u001b[0;31mTypeError\u001b[0m: can't multiply sequence by non-int of type 'str'"
     ]
    }
   ],
   "source": [
    "str1='hello'\n",
    "str2='python'\n",
    "str1*str2"
   ]
  },
  {
   "cell_type": "code",
   "execution_count": 110,
   "id": "8ec88a4a-227b-459e-9851-154ccac184a9",
   "metadata": {},
   "outputs": [
    {
     "ename": "TypeError",
     "evalue": "unsupported operand type(s) for /: 'str' and 'str'",
     "output_type": "error",
     "traceback": [
      "\u001b[0;31m---------------------------------------------------------------------------\u001b[0m",
      "\u001b[0;31mTypeError\u001b[0m                                 Traceback (most recent call last)",
      "Cell \u001b[0;32mIn[110], line 3\u001b[0m\n\u001b[1;32m      1\u001b[0m str1\u001b[38;5;241m=\u001b[39m\u001b[38;5;124m'\u001b[39m\u001b[38;5;124mhello\u001b[39m\u001b[38;5;124m'\u001b[39m\n\u001b[1;32m      2\u001b[0m str2\u001b[38;5;241m=\u001b[39m\u001b[38;5;124m'\u001b[39m\u001b[38;5;124mpython\u001b[39m\u001b[38;5;124m'\u001b[39m\n\u001b[0;32m----> 3\u001b[0m str1\u001b[38;5;241m/\u001b[39mstr2\n",
      "\u001b[0;31mTypeError\u001b[0m: unsupported operand type(s) for /: 'str' and 'str'"
     ]
    }
   ],
   "source": [
    "str1='hello'\n",
    "str2='python'\n",
    "str1/str2"
   ]
  },
  {
   "cell_type": "code",
   "execution_count": null,
   "id": "22f3ec39-8d5e-462a-ad57-17868121ed0a",
   "metadata": {},
   "outputs": [],
   "source": [
    "str1-str2\n",
    "unsupported operand type(s) for -: 'str' and 'str'\n",
    "\n",
    "str1/str2\n",
    "unsupported operand type(s) for /: 'str' and 'str'\n",
    "\n",
    "str1*str2\n",
    "can't multiply sequence by non-int of type 'str'"
   ]
  },
  {
   "cell_type": "code",
   "execution_count": 112,
   "id": "be675f86-471a-4b4d-bbed-0f131d429163",
   "metadata": {},
   "outputs": [
    {
     "data": {
      "text/plain": [
       "'pythonpythonpython'"
      ]
     },
     "execution_count": 112,
     "metadata": {},
     "output_type": "execute_result"
    }
   ],
   "source": [
    "'python'*3"
   ]
  },
  {
   "cell_type": "code",
   "execution_count": 114,
   "id": "f52af2fc-1e36-4800-b9a3-7242372e28bd",
   "metadata": {},
   "outputs": [
    {
     "data": {
      "text/plain": [
       "'hellopython'"
      ]
     },
     "execution_count": 114,
     "metadata": {},
     "output_type": "execute_result"
    }
   ],
   "source": [
    "str1='hello'\n",
    "str2='python'\n",
    "str1+str2"
   ]
  },
  {
   "cell_type": "code",
   "execution_count": 126,
   "id": "dad5e32b-ff4d-4b0c-94a9-8a7566819ce0",
   "metadata": {},
   "outputs": [
    {
     "data": {
      "text/plain": [
       "'hello python'"
      ]
     },
     "execution_count": 126,
     "metadata": {},
     "output_type": "execute_result"
    }
   ],
   "source": [
    "str1='hello '\n",
    "str2='python'\n",
    "str1+str2"
   ]
  },
  {
   "cell_type": "code",
   "execution_count": 120,
   "id": "f085dea2-597e-4250-b9c0-147764654d48",
   "metadata": {},
   "outputs": [
    {
     "data": {
      "text/plain": [
       "'hello python'"
      ]
     },
     "execution_count": 120,
     "metadata": {},
     "output_type": "execute_result"
    }
   ],
   "source": [
    "str1='hello'\n",
    "str2=' python'\n",
    "str1+str2"
   ]
  },
  {
   "cell_type": "code",
   "execution_count": 124,
   "id": "edbc1352-9b7f-48af-b1fe-df805ff9593e",
   "metadata": {},
   "outputs": [
    {
     "data": {
      "text/plain": [
       "'hello python'"
      ]
     },
     "execution_count": 124,
     "metadata": {},
     "output_type": "execute_result"
    }
   ],
   "source": [
    "str1='hello'\n",
    "str2='python'\n",
    "str1+' '+str2"
   ]
  }
 ],
 "metadata": {
  "kernelspec": {
   "display_name": "Python [conda env:base] *",
   "language": "python",
   "name": "conda-base-py"
  },
  "language_info": {
   "codemirror_mode": {
    "name": "ipython",
    "version": 3
   },
   "file_extension": ".py",
   "mimetype": "text/x-python",
   "name": "python",
   "nbconvert_exporter": "python",
   "pygments_lexer": "ipython3",
   "version": "3.12.7"
  }
 },
 "nbformat": 4,
 "nbformat_minor": 5
}

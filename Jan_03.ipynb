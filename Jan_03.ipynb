{
 "cells": [
  {
   "cell_type": "markdown",
   "id": "e9e68e2a-cf52-4cc7-aaf8-96f63b00445d",
   "metadata": {},
   "source": [
    "**print statements**"
   ]
  },
  {
   "cell_type": "code",
   "execution_count": 3,
   "id": "fba979db-52ce-48c4-b76d-a51e460d38f6",
   "metadata": {},
   "outputs": [
    {
     "name": "stdout",
     "output_type": "stream",
     "text": [
      "10\n",
      "20\n"
     ]
    }
   ],
   "source": [
    "a=10\n",
    "b=20\n",
    "print(a)\n",
    "print(b)"
   ]
  },
  {
   "cell_type": "code",
   "execution_count": 5,
   "id": "3a082a82-6017-4739-8e33-9bfe7547167e",
   "metadata": {},
   "outputs": [
    {
     "name": "stdout",
     "output_type": "stream",
     "text": [
      "10\n",
      "20\n"
     ]
    }
   ],
   "source": [
    "print(10)\n",
    "print(20)"
   ]
  },
  {
   "cell_type": "code",
   "execution_count": 7,
   "id": "b2a61d19-bdc0-4d52-84c2-4873da0455d8",
   "metadata": {},
   "outputs": [
    {
     "name": "stdout",
     "output_type": "stream",
     "text": [
      "10\n",
      "20\n"
     ]
    },
    {
     "data": {
      "text/plain": [
       "(None, None)"
      ]
     },
     "execution_count": 7,
     "metadata": {},
     "output_type": "execute_result"
    }
   ],
   "source": [
    "print(10), print(20)"
   ]
  },
  {
   "cell_type": "code",
   "execution_count": 9,
   "id": "8a12aa2f-4156-47a6-a3b1-f3d45ad11108",
   "metadata": {},
   "outputs": [
    {
     "data": {
      "text/plain": [
       "(10, 20)"
      ]
     },
     "execution_count": 9,
     "metadata": {},
     "output_type": "execute_result"
    }
   ],
   "source": [
    "10,20"
   ]
  },
  {
   "cell_type": "code",
   "execution_count": 11,
   "id": "485827f5-f06c-40b3-82df-1b39c09ef238",
   "metadata": {},
   "outputs": [
    {
     "name": "stdout",
     "output_type": "stream",
     "text": [
      "10 20\n"
     ]
    }
   ],
   "source": [
    "print(a,b)"
   ]
  },
  {
   "cell_type": "code",
   "execution_count": 13,
   "id": "46628216-5096-4504-bb6f-db01879cd924",
   "metadata": {},
   "outputs": [
    {
     "name": "stdout",
     "output_type": "stream",
     "text": [
      "30 nareshit hyd\n"
     ]
    }
   ],
   "source": [
    "print(30,'nareshit','hyd')"
   ]
  },
  {
   "cell_type": "code",
   "execution_count": 31,
   "id": "8080df5b-3599-437a-8e29-a3abf9cc03fe",
   "metadata": {},
   "outputs": [
    {
     "name": "stdout",
     "output_type": "stream",
     "text": [
      "the addition of 103.0 and 200.0 is 1.941747572815534\n"
     ]
    }
   ],
   "source": [
    "num1= float(103)\n",
    "num2=float(200)\n",
    "add= num2/num1\n",
    "# the addition of 100 and 200 is 300\n",
    "print(\"the addition of\",num1,\"and\",num2,\"is\",add)"
   ]
  },
  {
   "cell_type": "code",
   "execution_count": 88,
   "id": "084f2ed1-9817-4969-82e0-4d28f1743701",
   "metadata": {},
   "outputs": [
    {
     "name": "stdout",
     "output_type": "stream",
     "text": [
      "my name is python im 10 years old and came from hyd.\n"
     ]
    }
   ],
   "source": [
    "name=\"python\"\n",
    "age = 10\n",
    "city = \"hyd.\"\n",
    "# my name is python im 10 years old comae from hyd\n",
    "print(\"my name is\",name,\"im\",age,\"years old and came from\",city)"
   ]
  },
  {
   "cell_type": "markdown",
   "id": "0b9fbe02-3059-4c2f-b12a-e9e58eedca8a",
   "metadata": {},
   "source": [
    "**formate method**"
   ]
  },
  {
   "cell_type": "code",
   "execution_count": 76,
   "id": "c2df837e-caa1-479b-b180-33d66e5a4a16",
   "metadata": {},
   "outputs": [
    {
     "name": "stdout",
     "output_type": "stream",
     "text": [
      "my name is python im 10 years old and came from hyd\n",
      "my name is python im 10 years old and came from hyd\n"
     ]
    }
   ],
   "source": [
    "name=\"python\"\n",
    "age = 10\n",
    "city = \"hyd\"\n",
    "print(\"my name is {} im {} years old and came from {}\".format(name,age,city))\n",
    "print(f\"my name is {name} im {age} years old and came from {city}\")"
   ]
  },
  {
   "cell_type": "code",
   "execution_count": 52,
   "id": "f25f90ae-9a8c-4bc5-bb25-8b89056827ff",
   "metadata": {},
   "outputs": [
    {
     "name": "stdout",
     "output_type": "stream",
     "text": [
      "the addition of 103.0 and 200.0 is 303.0\n"
     ]
    }
   ],
   "source": [
    "num1= float(103)\n",
    "num2=float(200)\n",
    "add= num2+num1\n",
    "print(\"the addition of {} and {} is {}\".format(num1,num2,add))"
   ]
  },
  {
   "cell_type": "code",
   "execution_count": 72,
   "id": "1970dd5f-2ed0-408d-bbd9-5bd7f9780e1d",
   "metadata": {},
   "outputs": [
    {
     "name": "stdout",
     "output_type": "stream",
     "text": [
      "the addition of 100 and 200 is 300\n",
      "the sub of 100 and 200 is -100\n",
      "the div of 100 and 200 is 0.5\n",
      "the mul of 100 and 200 is 20000\n",
      "---------------------------------------\n",
      "the add of 100 and 200 is 300\n",
      "the sub of 100 and 200 is -100\n",
      "the div of 100 and 200 is -100\n",
      "the mul of 100 and 200 is -100\n"
     ]
    }
   ],
   "source": [
    "num1=100\n",
    "num2=200\n",
    "add=num1+num2\n",
    "sub=num1-num2\n",
    "mul=num1*num2\n",
    "div=num1/num2\n",
    "print(\"the addition of {} and {} is {}\".format(num1,num2,add))\n",
    "print(\"the sub of {} and {} is {}\".format(num1,num2,sub))\n",
    "print(\"the div of {} and {} is {}\".format(num1,num2,div))\n",
    "print(\"the mul of {} and {} is {}\".format(num1,num2,mul))\n",
    "print(\"---------------------------------------\")\n",
    "print(f\"the add of {num1} and {num2} is {add}\")\n",
    "print(f\"the sub of {num1} and {num2} is {sub}\")\n",
    "print(f\"the div of {num1} and {num2} is {sub}\")\n",
    "print(f\"the mul of {num1} and {num2} is {sub}\")"
   ]
  },
  {
   "cell_type": "code",
   "execution_count": 74,
   "id": "e0a34c3e-8d0c-4873-9a7c-f37ca8cddb55",
   "metadata": {},
   "outputs": [
    {
     "name": "stdout",
     "output_type": "stream",
     "text": [
      " the avg of 1 , 2, 3 is: 2.0\n",
      " the avg of 1 , 2, 3 is: 2.0\n"
     ]
    }
   ],
   "source": [
    "num1=1\n",
    "num2=2\n",
    "num3=3\n",
    "avg = (num1+num2+num3)/3\n",
    "print(\" the avg of {} , {}, {} is: {}\".format(num1,num2,num3,avg))\n",
    "print(f\" the avg of {num1} , {num2}, {num3} is: {avg}\")"
   ]
  },
  {
   "cell_type": "markdown",
   "id": "99425743-9c86-4c98-ad63-1d458e473139",
   "metadata": {},
   "source": [
    "**f string method**"
   ]
  },
  {
   "cell_type": "code",
   "execution_count": 64,
   "id": "4bd03cdb-3e68-415d-84da-5fb2f7155dfe",
   "metadata": {},
   "outputs": [
    {
     "name": "stdout",
     "output_type": "stream",
     "text": [
      "the addition of 103.0 and 200.0 is 303.0\n"
     ]
    }
   ],
   "source": [
    "num1= float(103)\n",
    "num2=float(200)\n",
    "add= num2+num1\n",
    "print(f\"the addition of {num1} and {num2} is {add}\")"
   ]
  },
  {
   "cell_type": "markdown",
   "id": "cc200d64-2362-4a33-afee-1ce1e79d9146",
   "metadata": {},
   "source": [
    "**round**"
   ]
  },
  {
   "cell_type": "markdown",
   "id": "f18c2c17-de2a-4d45-81cc-551aa0950a51",
   "metadata": {},
   "source": [
    "**round**"
   ]
  },
  {
   "cell_type": "markdown",
   "id": "f2072d8f-69b4-4886-857c-f60d655b78a9",
   "metadata": {},
   "source": [
    "**round**"
   ]
  },
  {
   "cell_type": "code",
   "execution_count": null,
   "id": "6c6f9342-eacc-4ab8-b03a-8bb60cdd25ec",
   "metadata": {},
   "outputs": [],
   "source": [
    "# print()\n",
    "# type()\n",
    "# COMMAND A + command / = # comes which means comments"
   ]
  },
  {
   "cell_type": "code",
   "execution_count": 104,
   "id": "a67eac12-a493-47b1-886c-3440078b0795",
   "metadata": {},
   "outputs": [
    {
     "name": "stdout",
     "output_type": "stream",
     "text": [
      "20.0\n"
     ]
    }
   ],
   "source": [
    "a=10\n",
    "b=20\n",
    "avg=a+b/2\n",
    "print(avg)"
   ]
  },
  {
   "cell_type": "code",
   "execution_count": 5,
   "id": "615f6ca1-dc58-4f79-ac2b-2f288f509889",
   "metadata": {},
   "outputs": [
    {
     "data": {
      "text/plain": [
       "24"
      ]
     },
     "execution_count": 5,
     "metadata": {},
     "output_type": "execute_result"
    }
   ],
   "source": [
    "round(23.999)"
   ]
  },
  {
   "cell_type": "code",
   "execution_count": 7,
   "id": "e3bf8336-b035-45f4-825c-42e3efecab23",
   "metadata": {},
   "outputs": [
    {
     "data": {
      "text/plain": [
       "23.989"
      ]
     },
     "execution_count": 7,
     "metadata": {},
     "output_type": "execute_result"
    }
   ],
   "source": [
    "round(23.988776,3)"
   ]
  },
  {
   "cell_type": "code",
   "execution_count": 100,
   "id": "505a97c6-6dd8-48a8-8c38-d5b2ebd263b5",
   "metadata": {},
   "outputs": [
    {
     "name": "stdout",
     "output_type": "stream",
     "text": [
      "24\n",
      "23.999\n"
     ]
    }
   ],
   "source": [
    "print(round(23.999))\n",
    "print(round(23.999,3))"
   ]
  },
  {
   "cell_type": "code",
   "execution_count": 118,
   "id": "f9f80763-b313-4fad-944d-a16630671632",
   "metadata": {},
   "outputs": [
    {
     "name": "stdout",
     "output_type": "stream",
     "text": [
      "22.5\n"
     ]
    }
   ],
   "source": [
    "a=12\n",
    "b=21\n",
    "avg=a+b/2\n",
    "print(round(avg,2))\n",
    "# type 1 "
   ]
  },
  {
   "cell_type": "code",
   "execution_count": 116,
   "id": "31de599a-3f8b-42e0-927b-1c0251758f9d",
   "metadata": {},
   "outputs": [
    {
     "name": "stdout",
     "output_type": "stream",
     "text": [
      "22.5\n"
     ]
    }
   ],
   "source": [
    "a=12\n",
    "b=21\n",
    "avg=a+b/2\n",
    "avg1=round(avg,2)\n",
    "print(avg1)\n",
    "# type 2"
   ]
  },
  {
   "cell_type": "markdown",
   "id": "1c14322b-4ee4-465b-966f-f512f2f5b50e",
   "metadata": {},
   "source": [
    "**i have multiple statemen ts but i want to show in single line**"
   ]
  },
  {
   "cell_type": "markdown",
   "id": "5528226a-e658-4bd1-80f2-e6025435af78",
   "metadata": {},
   "source": [
    "**end operator**"
   ]
  },
  {
   "cell_type": "markdown",
   "id": "d9d573e3-fe5a-4a0c-b3d0-86e367e9531f",
   "metadata": {},
   "source": [
    "**end operator**"
   ]
  },
  {
   "cell_type": "markdown",
   "id": "fce0241f-89fc-4122-a790-f13680d5909a",
   "metadata": {},
   "source": [
    "**end operaor**"
   ]
  },
  {
   "cell_type": "code",
   "execution_count": 11,
   "id": "6f7b70fa-11f3-4613-9d4c-5bd311d5f163",
   "metadata": {},
   "outputs": [
    {
     "name": "stdout",
     "output_type": "stream",
     "text": [
      "10\n",
      "20\n"
     ]
    }
   ],
   "source": [
    "print(10)\n",
    "print(20)"
   ]
  },
  {
   "cell_type": "code",
   "execution_count": 124,
   "id": "608f1b34-231d-4b64-9ddf-c79749435052",
   "metadata": {},
   "outputs": [
    {
     "name": "stdout",
     "output_type": "stream",
     "text": [
      "10 20\n"
     ]
    }
   ],
   "source": [
    "print(10,end=\" \")\n",
    "print(20)"
   ]
  },
  {
   "cell_type": "code",
   "execution_count": 16,
   "id": "d4b923d2-a92e-486f-8b21-ecb888da0027",
   "metadata": {},
   "outputs": [
    {
     "name": "stdout",
     "output_type": "stream",
     "text": [
      "10 ======> 20\n"
     ]
    }
   ],
   "source": [
    "print(10,end=\" ======> \")\n",
    "print(20)"
   ]
  },
  {
   "cell_type": "code",
   "execution_count": 22,
   "id": "055aa5dc-d61e-47f5-9abb-da8f3c7fdd80",
   "metadata": {},
   "outputs": [
    {
     "name": "stdout",
     "output_type": "stream",
     "text": [
      "10 **####** 20\n"
     ]
    }
   ],
   "source": [
    "print(10,end=\" **####** \")\n",
    "print(20)"
   ]
  },
  {
   "cell_type": "code",
   "execution_count": null,
   "id": "04db0598-9257-40c5-a4d8-d627e4a74c4d",
   "metadata": {},
   "outputs": [],
   "source": []
  },
  {
   "cell_type": "code",
   "execution_count": null,
   "id": "1a61373a-a467-4c48-acf7-067071bb848b",
   "metadata": {},
   "outputs": [],
   "source": []
  },
  {
   "cell_type": "code",
   "execution_count": 130,
   "id": "e71f9c13-41be-413a-9877-a054c03d2d1e",
   "metadata": {},
   "outputs": [
    {
     "name": "stdout",
     "output_type": "stream",
     "text": [
      "10 30 20\n"
     ]
    }
   ],
   "source": [
    "print(10,end=\" \")\n",
    "print(30,end=\" \")\n",
    "print(20)"
   ]
  },
  {
   "cell_type": "code",
   "execution_count": 136,
   "id": "e6ea8f21-90d7-4ce3-8b5c-ba61747bfd00",
   "metadata": {},
   "outputs": [
    {
     "name": "stdout",
     "output_type": "stream",
     "text": [
      "hello how are you\n"
     ]
    }
   ],
   "source": [
    "print(\"hello\",end=\" \")\n",
    "print(\"how\",end=\" \")\n",
    "print(\"are\",end=\" \")\n",
    "print(\"you\")"
   ]
  },
  {
   "cell_type": "markdown",
   "id": "1f65af3c-9c4c-42ad-a27a-de31246b8caf",
   "metadata": {},
   "source": [
    "**i have multiple values in single print statement**\n",
    "**i want print them with some seperation**"
   ]
  },
  {
   "cell_type": "code",
   "execution_count": null,
   "id": "d0aede4d-a31a-4bd3-aa9d-c3baec32abcd",
   "metadata": {},
   "outputs": [],
   "source": [
    "print(10,20,30)\n",
    "# 10 ===> 20 ===> 30"
   ]
  },
  {
   "cell_type": "markdown",
   "id": "ca1cfc82-646f-49c8-aff5-647b9d48c720",
   "metadata": {},
   "source": []
  },
  {
   "cell_type": "markdown",
   "id": "bb6ce297-0b6b-489f-a35b-191aa7adbaf5",
   "metadata": {},
   "source": [
    "**sep operator**"
   ]
  },
  {
   "cell_type": "code",
   "execution_count": 143,
   "id": "049898ad-8ace-43f9-ab04-b2757be89592",
   "metadata": {},
   "outputs": [
    {
     "name": "stdout",
     "output_type": "stream",
     "text": [
      "10 ===> 20 ===> 30\n"
     ]
    }
   ],
   "source": [
    "print(10,20,30,sep=' ===> ')"
   ]
  },
  {
   "cell_type": "code",
   "execution_count": null,
   "id": "d4ba6719-a62d-40e9-939c-d7b7ef4c633c",
   "metadata": {},
   "outputs": [],
   "source": [
    "# # wap take the radious of a circle calculate area of the circle \n",
    "# # var: radious var pi=3.142 \n",
    "# # formaul: pi*radius*radious\n",
    "# # print the ans using f string and formate\n",
    "\n",
    "\n",
    "# wap take the breadth and height of a right angle triangle\n",
    "# calculate the area \n",
    "# var1: breadth var2: height\n",
    "# formule: 0.5*breadth*height\n",
    "\n",
    "# wap take the bill amoout and tip amount\n",
    "# calculate total bill v\n",
    "# var1: bill amount var2:tip amount\n",
    "# formule\n",
    "\n",
    "\n",
    "\n",
    "# wap take the lenght and breadth of a rectangle calculate area \n",
    "# var1:lenght var2:breadth\n",
    "# formula: lenght*breadth\n"
   ]
  },
  {
   "cell_type": "code",
   "execution_count": 1,
   "id": "ba7351f2-9453-47c6-ab70-9898b7d5f87f",
   "metadata": {},
   "outputs": [],
   "source": [
    "# problem 1\n",
    "# lets take radius = 5\n",
    "# pi = 3.142"
   ]
  },
  {
   "cell_type": "code",
   "execution_count": null,
   "id": "987b7b29-9605-4089-8a79-91bf01edfefe",
   "metadata": {},
   "outputs": [],
   "source": []
  },
  {
   "cell_type": "code",
   "execution_count": null,
   "id": "86fe5c9c-55a5-43a5-9294-948e9b124640",
   "metadata": {},
   "outputs": [],
   "source": []
  },
  {
   "cell_type": "code",
   "execution_count": null,
   "id": "08df8fae-6b58-4804-a63e-8325a9378b8b",
   "metadata": {},
   "outputs": [],
   "source": []
  },
  {
   "cell_type": "code",
   "execution_count": null,
   "id": "f9fb50cf-57da-4452-8951-5a1d087d7070",
   "metadata": {},
   "outputs": [],
   "source": []
  }
 ],
 "metadata": {
  "kernelspec": {
   "display_name": "Python [conda env:base] *",
   "language": "python",
   "name": "conda-base-py"
  },
  "language_info": {
   "codemirror_mode": {
    "name": "ipython",
    "version": 3
   },
   "file_extension": ".py",
   "mimetype": "text/x-python",
   "name": "python",
   "nbconvert_exporter": "python",
   "pygments_lexer": "ipython3",
   "version": "3.12.7"
  }
 },
 "nbformat": 4,
 "nbformat_minor": 5
}

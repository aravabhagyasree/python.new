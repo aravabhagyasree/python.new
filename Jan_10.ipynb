{
 "cells": [
  {
   "cell_type": "markdown",
   "id": "c17fe701-4d73-4eb4-9573-b9bd51873a90",
   "metadata": {},
   "source": [
    "**if-elif-else**"
   ]
  },
  {
   "cell_type": "markdown",
   "id": "459a6562-505e-429d-95b7-07788eba82cb",
   "metadata": {},
   "source": [
    "- when ever we have multiple conditions we will use if elif else\n",
    "\n",
    "- if single condition is there we will go **if and else**\n",
    "    - two answers\n",
    "    - if needs condition then else does not required any condition\n",
    "\n",
    "- if **two conditions** are there we will go for **if-elif-else**\n",
    "    - three answers\n",
    "    - if and elif need condtion else doesnot require any condtion\n",
    "\n",
    "- if **three conditions** are there we will go **if-elif-elif-else**\n",
    "    - four answers\n",
    "    - if elif and elif need contion and else does not require any condition"
   ]
  },
  {
   "cell_type": "code",
   "execution_count": null,
   "id": "bb4e7f77-ea4b-4af5-9cda-3dd5239db6b4",
   "metadata": {},
   "outputs": [],
   "source": [
    "if <condition>:\n",
    "    <write ur code here>\n",
    "elif <condition>:\n",
    "    <write ur code here>\n",
    "elif <condition>:\n",
    "    <write ur code here>\n",
    "else:\n",
    "    <write ur code here>\n",
    "        \n"
   ]
  },
  {
   "cell_type": "code",
   "execution_count": null,
   "id": "dbee6e17-c5ac-4f26-a2fd-40e7ed9317cf",
   "metadata": {},
   "outputs": [],
   "source": [
    "# wap ask the user to enter a number \n",
    "# if num=1 then print 'one'\n",
    "# if num=2 then print 'two'\n",
    "# if num=3 then print 'trhree'\n",
    "# otherwise print enter a valid number"
   ]
  },
  {
   "cell_type": "code",
   "execution_count": 36,
   "id": "c38c908a-68e9-484a-952a-5b088b56c387",
   "metadata": {},
   "outputs": [
    {
     "name": "stdin",
     "output_type": "stream",
     "text": [
      "enter a number 3\n"
     ]
    },
    {
     "name": "stdout",
     "output_type": "stream",
     "text": [
      "three\n"
     ]
    }
   ],
   "source": [
    "num=eval(input('enter a number'))\n",
    "if num==1:\n",
    "    print('one')\n",
    "elif num==2:\n",
    "    print('two')\n",
    "elif num==3:\n",
    "    print('three')\n",
    "else:\n",
    "    print('enter the valid number')\n",
    "\n",
    "#process#\n",
    "num=2\n"
   ]
  },
  {
   "cell_type": "code",
   "execution_count": 34,
   "id": "5c845a42-0f2d-428e-83f3-73a7f549d8eb",
   "metadata": {},
   "outputs": [
    {
     "name": "stdout",
     "output_type": "stream",
     "text": [
      "8\n",
      "enter the valid number\n"
     ]
    }
   ],
   "source": [
    "import random\n",
    "num=random.randint(1,10)\n",
    "print(num)\n",
    "if num==1:\n",
    "    print('one')\n",
    "elif num==2:\n",
    "    print('two')\n",
    "elif num==3:\n",
    "    print('three')\n",
    "else:\n",
    "    print('enter the valid number')"
   ]
  },
  {
   "cell_type": "code",
   "execution_count": null,
   "id": "a0e7578c-13ad-460d-aaa7-d9513037ffc5",
   "metadata": {},
   "outputs": [],
   "source": [
    "# wap ask the user enter percentage of marks \n",
    "# if marks greater than 90 then print a grade\n",
    "# if marks bt 70-90 then print b grade\n",
    "# if marks bt 50-70 then print c grade\n",
    "# if marks bt 35-50 then print d grade"
   ]
  },
  {
   "cell_type": "code",
   "execution_count": 40,
   "id": "f46ae632-bf0c-4de0-abb1-d07765021f58",
   "metadata": {},
   "outputs": [
    {
     "name": "stdin",
     "output_type": "stream",
     "text": [
      "enter a marks 98\n"
     ]
    },
    {
     "name": "stdout",
     "output_type": "stream",
     "text": [
      "A grade\n"
     ]
    }
   ],
   "source": [
    "marks=eval(input('enter a marks'))\n",
    "if marks>90:\n",
    "    print('A grade')\n",
    "elif marks>70 and marks<90:\n",
    "    print('B grade')\n",
    "elif marks>70 and marks<50:\n",
    "    print('C grade')\n",
    "elif marks>50 and marks<35:\n",
    "    print('D grade')\n",
    "else:\n",
    "    print('fail')"
   ]
  },
  {
   "cell_type": "code",
   "execution_count": 46,
   "id": "041fad75-40b7-4938-becd-a805564a65d7",
   "metadata": {},
   "outputs": [
    {
     "name": "stdout",
     "output_type": "stream",
     "text": [
      "80\n",
      "B grade\n"
     ]
    }
   ],
   "source": [
    "marks=random.randint(1,100)\n",
    "print(marks)\n",
    "if marks>90:\n",
    "    print('A grade')\n",
    "elif marks>70 and marks<90:\n",
    "    print('B grade')\n",
    "elif marks>70 and marks<50:\n",
    "    print('C grade')\n",
    "elif marks>50 and marks<35:\n",
    "    print('D grade')\n",
    "else:\n",
    "    print('fail')"
   ]
  },
  {
   "cell_type": "markdown",
   "id": "6ae89f7b-ad1c-4140-871d-50fc9822c51e",
   "metadata": {},
   "source": [
    "Answer:\n",
    "-"
   ]
  },
  {
   "cell_type": "code",
   "execution_count": 86,
   "id": "b2a93308-27f8-45b8-ac6e-7437e90a634f",
   "metadata": {},
   "outputs": [
    {
     "name": "stdout",
     "output_type": "stream",
     "text": [
      "65\n",
      "C grade\n"
     ]
    }
   ],
   "source": [
    "marks=random.randint(1,100)\n",
    "print(marks)\n",
    "if marks>90:\n",
    "    print('A grade')\n",
    "elif marks>=70:\n",
    "    print('B grade')\n",
    "elif marks>=50:\n",
    "    print('C grade')\n",
    "elif marks>=35:\n",
    "    print('D grade')\n",
    "else:\n",
    "    print('fail')\n",
    "\n",
    "# step 1 : per=75\n",
    "# if 75>90 f\n",
    "# elif 75>=70 t\n",
    "# then it will print b \n",
    "# stops at first true"
   ]
  },
  {
   "cell_type": "code",
   "execution_count": null,
   "id": "bbfa7204-c7f6-4650-9c7d-3f97bd782d52",
   "metadata": {},
   "outputs": [],
   "source": [
    "if-elif\n",
    "if fails === elif\n",
    "\n",
    "if-if\n",
    "if fails or pass === if"
   ]
  },
  {
   "cell_type": "code",
   "execution_count": null,
   "id": "53274e59-9926-4c29-8fd2-220d8a1dd93d",
   "metadata": {},
   "outputs": [],
   "source": [
    "# wap ask the user ener age\n",
    "if age >100\n",
    "if age 80 to100\n",
    "if age 60 to 80 senior citizen\n",
    "if age 40 to 60 middle aged\n",
    "if age 20 to 40 young\n",
    "if age 10 to 20 teen\n",
    "otherwise print kid"
   ]
  },
  {
   "cell_type": "code",
   "execution_count": 3,
   "id": "544ca6c7-1a91-4d12-890f-d3e1b8855206",
   "metadata": {},
   "outputs": [
    {
     "name": "stdout",
     "output_type": "stream",
     "text": [
      "unlucky\n"
     ]
    }
   ],
   "source": [
    "import random\n",
    "age=random.randint(1,150)\n",
    "if age>=100:\n",
    "    print('unlucky')\n",
    "elif age>=80:\n",
    "    print('old')\n",
    "elif age>=60:\n",
    "    print('sc')\n",
    "elif age>=40:\n",
    "    print('ma')\n",
    "elif age>=20:\n",
    "    print('young')\n",
    "elif age>=10:\n",
    "    print('teen')\n",
    "else:\n",
    "    print('kid')"
   ]
  },
  {
   "cell_type": "code",
   "execution_count": 1,
   "id": "41b469bd-0850-4cd2-a56e-09021866bc5a",
   "metadata": {},
   "outputs": [
    {
     "ename": "SyntaxError",
     "evalue": "invalid syntax (1000042424.py, line 1)",
     "output_type": "error",
     "traceback": [
      "\u001b[0;36m  Cell \u001b[0;32mIn[1], line 1\u001b[0;36m\u001b[0m\n\u001b[0;31m    enter gender\u001b[0m\n\u001b[0m          ^\u001b[0m\n\u001b[0;31mSyntaxError\u001b[0m\u001b[0;31m:\u001b[0m invalid syntax\n"
     ]
    }
   ],
   "source": [
    "enter gender\n",
    "if gender = male\n",
    "    ask the user enter age\n",
    "    if age > 60 then print sc\n",
    "    if age bt 30-60 then print ma\n",
    "    if age bt 15-30 then print young\n",
    "    otherwise print boy\n",
    "if gender = female\n",
    "    ask the user enter age\n",
    "    if age > 60 then print sc\n",
    "    if age bt 30-60 then print ma\n",
    "    if age bt 15-30 then print young\n",
    "    otherwise print girl\n",
    "else:\n",
    " print enter a valid gender\n"
   ]
  },
  {
   "cell_type": "code",
   "execution_count": 33,
   "id": "f46c6551-b47f-423d-a1ca-3b879b0d0771",
   "metadata": {},
   "outputs": [
    {
     "name": "stdin",
     "output_type": "stream",
     "text": [
      "enter gender male\n",
      "age= 4\n"
     ]
    },
    {
     "name": "stdout",
     "output_type": "stream",
     "text": [
      "boy\n"
     ]
    }
   ],
   "source": [
    "gen=input('enter gender')\n",
    "if gen=='male':\n",
    "    age=eval(input('age='))\n",
    "    if age>=60:\n",
    "        print('sc')\n",
    "    elif age>=30:\n",
    "        print('ma')\n",
    "    elif age>=15:\n",
    "        print('young')\n",
    "    else:\n",
    "        print('boy')\n",
    "elif gen=='female':\n",
    "    age=eval(input('age='))\n",
    "    if age>=60:\n",
    "        print('sc')\n",
    "    elif age>=30:\n",
    "        print('ma')\n",
    "    elif age>=15:\n",
    "        print('young girl')\n",
    "    else:\n",
    "        print('girl')\n",
    "else:\n",
    "    print('enter a valid gender')"
   ]
  },
  {
   "cell_type": "code",
   "execution_count": null,
   "id": "1f187782-ca61-4583-96cc-119f82561aed",
   "metadata": {},
   "outputs": [],
   "source": [
    "#wap ask the user enter a number \n",
    "if num >= 0 then\n",
    "    if num>0 then print postive\n",
    "    otherwise print 0\n",
    "else print negatvive number\n"
   ]
  },
  {
   "cell_type": "code",
   "execution_count": 51,
   "id": "61c72b52-659f-476b-a7fd-dbeda07789d8",
   "metadata": {},
   "outputs": [
    {
     "name": "stdin",
     "output_type": "stream",
     "text": [
      " 90\n"
     ]
    },
    {
     "name": "stdout",
     "output_type": "stream",
     "text": [
      "positive\n"
     ]
    }
   ],
   "source": [
    "num=eval(input())\n",
    "if num>=0:\n",
    "    if num>0:\n",
    "        print('positive')\n",
    "    else:\n",
    "        print('zero')\n",
    "else:\n",
    "    print('negative')"
   ]
  },
  {
   "cell_type": "code",
   "execution_count": null,
   "id": "b65e3923-36f1-4e33-b0a9-66be0a82e66d",
   "metadata": {},
   "outputs": [],
   "source": [
    "print statements like below\n",
    "enter 1 for addition\n",
    "enter 2 for sub\n",
    "enter 3 for mul\n",
    "enter 4 for div\n",
    "wap ask the user enter number 1to4\n",
    "if op==1\n",
    "    enter two number\n",
    "    n1\n",
    "    n2\n",
    "    add=n1+n2\n",
    "\n",
    "elif oper==2\n",
    "    subt\n",
    "elif oper==3\n",
    " mul\n",
    "elif oper==4\n",
    "div\n",
    "else: \n",
    "enter a valid number"
   ]
  },
  {
   "cell_type": "code",
   "execution_count": 67,
   "id": "5ccf1797-6714-448a-aa55-eee6920b4cb8",
   "metadata": {},
   "outputs": [
    {
     "name": "stdout",
     "output_type": "stream",
     "text": [
      "enter 1 for add\n",
      "enter 2 for sub\n",
      "enter 3 for mul\n",
      "enter 4 for div\n"
     ]
    },
    {
     "name": "stdin",
     "output_type": "stream",
     "text": [
      " 4\n"
     ]
    },
    {
     "name": "stdout",
     "output_type": "stream",
     "text": [
      "enter two numbers\n"
     ]
    },
    {
     "name": "stdin",
     "output_type": "stream",
     "text": [
      " 6\n",
      " 2\n"
     ]
    },
    {
     "name": "stdout",
     "output_type": "stream",
     "text": [
      "3.0\n"
     ]
    }
   ],
   "source": [
    "import random\n",
    "print('enter 1 for add')\n",
    "print('enter 2 for sub')\n",
    "print('enter 3 for mul')\n",
    "print('enter 4 for div')\n",
    "ope=eval(input())\n",
    "if ope==1:\n",
    "    print('enter two numbers')\n",
    "    n1=eval(input())\n",
    "    n2=eval(input())\n",
    "    add=n1+n2\n",
    "    print(add)\n",
    "elif ope==2:\n",
    "    print('enter two numbers')\n",
    "    n1=eval(input())\n",
    "    n2=eval(input())\n",
    "    add=n1-n2\n",
    "    print(add)\n",
    "elif ope==3:\n",
    "    print('enter any two numbers')\n",
    "    n1=eval(input())\n",
    "    n2=eval(input())\n",
    "    add=n1*n2\n",
    "    print(add)\n",
    "elif ope==4:\n",
    "    print('enter two numbers')\n",
    "    n1=eval(input())\n",
    "    n2=eval(input())\n",
    "    add=n1/n2\n",
    "    print(add)\n",
    "else:\n",
    "    print('enter valid number')"
   ]
  }
 ],
 "metadata": {
  "kernelspec": {
   "display_name": "Python [conda env:base] *",
   "language": "python",
   "name": "conda-base-py"
  },
  "language_info": {
   "codemirror_mode": {
    "name": "ipython",
    "version": 3
   },
   "file_extension": ".py",
   "mimetype": "text/x-python",
   "name": "python",
   "nbconvert_exporter": "python",
   "pygments_lexer": "ipython3",
   "version": "3.12.7"
  }
 },
 "nbformat": 4,
 "nbformat_minor": 5
}

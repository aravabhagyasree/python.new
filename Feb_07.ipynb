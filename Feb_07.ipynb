{
 "cells": [
  {
   "cell_type": "markdown",
   "id": "9b8faf9b-742c-402f-ba64-aa7ef1d9a943",
   "metadata": {},
   "source": [
    "# list comprehension\n",
    "- list comprehension a way to write list operatins in a single line\n",
    "- when we apply for loop and if else conditional statements then the code compilation becomes slow\n",
    "- which means it takes much time\n",
    "- in order to avoid the time complexity we will use list comprehension\n",
    "- list comprehension is a single line code"
   ]
  },
  {
   "cell_type": "markdown",
   "id": "717d1560-9b6a-4738-adc8-1e9ac821257d",
   "metadata": {},
   "source": [
    "# case-1: only for loop"
   ]
  },
  {
   "cell_type": "code",
   "execution_count": 14,
   "id": "22cfd041-8385-4157-8ce2-f7482cd34a1f",
   "metadata": {},
   "outputs": [
    {
     "data": {
      "text/plain": [
       "[0, 1, 2, 3, 4, 5, 6, 7, 8, 9]"
      ]
     },
     "execution_count": 14,
     "metadata": {},
     "output_type": "execute_result"
    }
   ],
   "source": [
    "list1=[]\n",
    "for i in range(10):\n",
    "    list1.append(i)\n",
    "\n",
    "list1"
   ]
  },
  {
   "cell_type": "code",
   "execution_count": null,
   "id": "096c5f86-6b00-4faf-8c6c-989f1c482965",
   "metadata": {},
   "outputs": [],
   "source": [
    "list1=[<code should write here]\n",
    "\n",
    "list1=[<output variable><for loop>]\n",
    "# dont give : after for loop"
   ]
  },
  {
   "cell_type": "code",
   "execution_count": 18,
   "id": "c30ae2a7-83c8-4706-906e-ab78c96fe971",
   "metadata": {},
   "outputs": [
    {
     "data": {
      "text/plain": [
       "[0, 1, 2, 3, 4, 5, 6, 7, 8, 9]"
      ]
     },
     "execution_count": 18,
     "metadata": {},
     "output_type": "execute_result"
    }
   ],
   "source": [
    "list1=[i for i in range(10)]\n",
    "list1"
   ]
  },
  {
   "cell_type": "code",
   "execution_count": 22,
   "id": "3cf6b27f-f8d6-4d2e-ada2-a4017d7cb1f5",
   "metadata": {},
   "outputs": [
    {
     "name": "stdout",
     "output_type": "stream",
     "text": [
      "0 hyd\n",
      "1 bengaluru\n",
      "2 pune\n",
      "3 mumabi\n"
     ]
    }
   ],
   "source": [
    "# Q1) \n",
    "inputt=['hyd','bengaluru','pune','mumabi']\n",
    "for i in range(len(inputt)):\n",
    "    print(i,inputt[i])  "
   ]
  },
  {
   "cell_type": "code",
   "execution_count": 26,
   "id": "541e6345-04ec-4fed-9a2d-e2c202a574e1",
   "metadata": {},
   "outputs": [
    {
     "data": {
      "text/plain": [
       "[(0, 'hyd'), (1, 'bengaluru'), (2, 'pune'), (3, 'mumabi')]"
      ]
     },
     "execution_count": 26,
     "metadata": {},
     "output_type": "execute_result"
    }
   ],
   "source": [
    "inputt=[(i,inputt[i]) for i in range(len(inputt))]\n",
    "inputt"
   ]
  },
  {
   "cell_type": "code",
   "execution_count": 36,
   "id": "9201fe9c-f204-4708-b350-648d6d2fd9c9",
   "metadata": {},
   "outputs": [
    {
     "data": {
      "text/plain": [
       "['Hyd', 'Bengaluru', 'Pune', 'Mumabi']"
      ]
     },
     "execution_count": 36,
     "metadata": {},
     "output_type": "execute_result"
    }
   ],
   "source": [
    "# Q2)\n",
    "inputt=['hyd','bengaluru','pune','mumabi'] \n",
    "inputt=[i.capitalize() for i in inputt]\n",
    "inputt"
   ]
  },
  {
   "cell_type": "code",
   "execution_count": 40,
   "id": "0d06da3b-cb86-47d6-87a6-ed5c45ef7975",
   "metadata": {},
   "outputs": [
    {
     "data": {
      "text/plain": [
       "['HYD', 'BENGALURU', 'PUNE', 'MUMABI']"
      ]
     },
     "execution_count": 40,
     "metadata": {},
     "output_type": "execute_result"
    }
   ],
   "source": [
    "Q#\n",
    "inputt=['hyd','bengaluru','pune','mumabi']\n",
    "inputt=[i.upper() for i in inputt]\n",
    "inputt"
   ]
  },
  {
   "cell_type": "code",
   "execution_count": 58,
   "id": "0125e156-c920-4ee5-bd77-75d1b0dc6bed",
   "metadata": {},
   "outputs": [
    {
     "data": {
      "text/plain": [
       "[0, 10, 20, 30]"
      ]
     },
     "execution_count": 58,
     "metadata": {},
     "output_type": "execute_result"
    }
   ],
   "source": [
    "inputt=['hyd','bengaluru','pune','mumabi']\n",
    "inputt=[(inputt.index(i)*10) for i in inputt]\n",
    "# inputt=[(inputt.index(i)*10) for i in 'hyd','bengaluru','pune','mumabi']\n",
    "inputt\n"
   ]
  },
  {
   "cell_type": "code",
   "execution_count": 70,
   "id": "7b754135-bac9-4046-bdfe-354ea2f63551",
   "metadata": {},
   "outputs": [
    {
     "data": {
      "text/plain": [
       "60"
      ]
     },
     "execution_count": 70,
     "metadata": {},
     "output_type": "execute_result"
    }
   ],
   "source": [
    "inputt=['hyd','bengaluru','pune','mumabi']\n",
    "inputt=[(inputt.index(i)*10) for i in inputt]\n",
    "sum(inputt)"
   ]
  },
  {
   "cell_type": "markdown",
   "id": "9b2ed49a-d34f-4be7-9b68-2a2e439fefe9",
   "metadata": {},
   "source": [
    "# walrus operator \n"
   ]
  },
  {
   "cell_type": "code",
   "execution_count": 75,
   "id": "ac37aa93-fcbf-4174-b079-a7e7b6e01d32",
   "metadata": {},
   "outputs": [
    {
     "ename": "SyntaxError",
     "evalue": "invalid syntax. Maybe you meant '==' or ':=' instead of '='? (1496155787.py, line 1)",
     "output_type": "error",
     "traceback": [
      "\u001b[0;36m  Cell \u001b[0;32mIn[75], line 1\u001b[0;36m\u001b[0m\n\u001b[0;31m    inputt=[summ=summ+i for i in range(1,11)]\u001b[0m\n\u001b[0m            ^\u001b[0m\n\u001b[0;31mSyntaxError\u001b[0m\u001b[0;31m:\u001b[0m invalid syntax. Maybe you meant '==' or ':=' instead of '='?\n"
     ]
    }
   ],
   "source": [
    "inputt=[summ=summ+i for i in range(1,11)]"
   ]
  },
  {
   "cell_type": "code",
   "execution_count": 79,
   "id": "c1d6c8cb-9c9d-4b74-b49d-5e4ede96ddf8",
   "metadata": {},
   "outputs": [
    {
     "data": {
      "text/plain": [
       "55"
      ]
     },
     "execution_count": 79,
     "metadata": {},
     "output_type": "execute_result"
    }
   ],
   "source": [
    "summ=0\n",
    "[summ:=summ+i for i in range(1,11)]\n",
    "summ"
   ]
  },
  {
   "cell_type": "markdown",
   "id": "03b86229-9a62-42e7-836d-acb5bfa323b4",
   "metadata": {},
   "source": [
    "# case-2: for loop and if condition"
   ]
  },
  {
   "cell_type": "code",
   "execution_count": null,
   "id": "be667756-e150-47fb-8afc-b3c5106a2318",
   "metadata": {},
   "outputs": [],
   "source": []
  },
  {
   "cell_type": "code",
   "execution_count": null,
   "id": "e470f8bf-5033-41fd-8f67-fe2f50e5340a",
   "metadata": {},
   "outputs": [],
   "source": [
    "# Syntax\n",
    "[<output> <for loop> <if condition>]"
   ]
  },
  {
   "cell_type": "code",
   "execution_count": 83,
   "id": "bec36a63-8f13-4c1a-9bf7-701b05080147",
   "metadata": {},
   "outputs": [
    {
     "data": {
      "text/plain": [
       "['even2', 'even4', 'even6', 'even8']"
      ]
     },
     "execution_count": 83,
     "metadata": {},
     "output_type": "execute_result"
    }
   ],
   "source": [
    "even_list=[]\n",
    "for i in range(1,10):\n",
    "    if i%2==0:\n",
    "        even_list.append(f'even{i}')\n",
    "\n",
    "even_list"
   ]
  },
  {
   "cell_type": "code",
   "execution_count": null,
   "id": "426858eb-ff22-474b-9de1-fa2d033ae079",
   "metadata": {},
   "outputs": [],
   "source": [
    "# [<output> <if condition> <for loop>]  # not works\n",
    "# [<output> <for loop> <if condition>]  # it works"
   ]
  },
  {
   "cell_type": "code",
   "execution_count": 87,
   "id": "6f043769-0ada-4f4a-903d-0f6d229b628a",
   "metadata": {},
   "outputs": [
    {
     "data": {
      "text/plain": [
       "['even2', 'even4', 'even6', 'even8']"
      ]
     },
     "execution_count": 87,
     "metadata": {},
     "output_type": "execute_result"
    }
   ],
   "source": [
    "even_list=[(f'even{i}') for i in range(1,10) if i%2==0]\n",
    "even_list"
   ]
  },
  {
   "cell_type": "code",
   "execution_count": null,
   "id": "1701f020-5e56-4cb3-8185-706cfb95e6ea",
   "metadata": {},
   "outputs": [],
   "source": [
    "cities=['hyd','be#ngaluru','pune','mu#mbai']\n",
    "output=[]\n",
    "for i in cities:\n",
    "    if '#' in i:\n",
    "        output.append(i)\n",
    "\n",
    "output"
   ]
  },
  {
   "cell_type": "code",
   "execution_count": 97,
   "id": "1dbe45ac-e69d-4d09-a402-623769e8fe27",
   "metadata": {},
   "outputs": [
    {
     "data": {
      "text/plain": [
       "['be#ngaluru', 'mu#mbai']"
      ]
     },
     "execution_count": 97,
     "metadata": {},
     "output_type": "execute_result"
    }
   ],
   "source": [
    "output=[i for i in cities if '#' in i]\n",
    "output"
   ]
  },
  {
   "cell_type": "code",
   "execution_count": 99,
   "id": "b682c939-928e-443b-8666-59453450613b",
   "metadata": {},
   "outputs": [
    {
     "data": {
      "text/plain": [
       "['hyd', 'pune']"
      ]
     },
     "execution_count": 99,
     "metadata": {},
     "output_type": "execute_result"
    }
   ],
   "source": [
    "output=[i for i in cities if '#' not in i]\n",
    "output"
   ]
  },
  {
   "cell_type": "markdown",
   "id": "d7e83702-c77b-4676-8487-167128b4e9ec",
   "metadata": {},
   "source": [
    "# case-3: "
   ]
  },
  {
   "cell_type": "code",
   "execution_count": null,
   "id": "157b0681-681e-42c1-bbaf-9e0ede76819a",
   "metadata": {},
   "outputs": [],
   "source": [
    "for - else - for loop\n",
    "[<if out> <if cond> else <else cond> <for loop>]"
   ]
  },
  {
   "cell_type": "code",
   "execution_count": 120,
   "id": "e4eee29e-8b21-43da-85bf-4e410800bb45",
   "metadata": {},
   "outputs": [
    {
     "data": {
      "text/plain": [
       "['even 0',\n",
       " 'odd 1',\n",
       " 'even 2',\n",
       " 'odd 3',\n",
       " 'even 4',\n",
       " 'odd 5',\n",
       " 'even 6',\n",
       " 'odd 7',\n",
       " 'even 8',\n",
       " 'odd 9',\n",
       " 'even 10']"
      ]
     },
     "execution_count": 120,
     "metadata": {},
     "output_type": "execute_result"
    }
   ],
   "source": [
    "list1=[(f'even {i}') if i%2==0 else (f'odd {i}') for i in range(0,11)]\n",
    "list1"
   ]
  },
  {
   "cell_type": "code",
   "execution_count": null,
   "id": "ac37c00f-b735-4a3c-bfc7-b38ccdf997fe",
   "metadata": {},
   "outputs": [],
   "source": [
    "# case-4:\n",
    "\n",
    "for - if - elif - else :\n",
    "\n",
    "- in list comprehension we dont have elif representation \n",
    "- elif aslo represent as **else+if**\n",
    "- in elif we have **elif condition** and **elif output**\n",
    "- else elif_output elif_condition"
   ]
  },
  {
   "cell_type": "code",
   "execution_count": null,
   "id": "eb020f05-d4ea-4fc5-bbe4-c6603682b72e",
   "metadata": {},
   "outputs": [],
   "source": [
    "[<if out > <if cond> else <elif out> <elif cond> else <else out> <for loop>\n",
    "\n",
    "**note : insted of elif term write if**\n",
    "\n",
    "[<if out> <if cond> else <if out> <if cond> else <else out> <for loop>"
   ]
  },
  {
   "cell_type": "code",
   "execution_count": 176,
   "id": "5dabd237-4d65-432f-bc22-890cad22d45d",
   "metadata": {},
   "outputs": [
    {
     "name": "stdout",
     "output_type": "stream",
     "text": [
      "45,c grade\n",
      "55,c grade\n",
      "65,b garde\n",
      "75,b garde\n",
      "85,b garde\n",
      "95,a grade\n"
     ]
    }
   ],
   "source": [
    "# # >85 a grade \n",
    "# 60-85 b\n",
    "# 60 c\n",
    "l=[45,55,65,75,85,95]\n",
    "for i in l:\n",
    "    if i > 85:\n",
    "        print(f'{i},a grade')\n",
    "    elif i> 60:\n",
    "        print(f'{i},b garde')\n",
    "    else:\n",
    "        print(f'{i},c grade')\n",
    "        "
   ]
  },
  {
   "cell_type": "code",
   "execution_count": 174,
   "id": "4875f8aa-3ca1-4ded-aa6e-f11059ff22b1",
   "metadata": {},
   "outputs": [
    {
     "data": {
      "text/plain": [
       "['95,a grade',\n",
       " '70,b garde',\n",
       " '50,c grade',\n",
       " '88,a grade',\n",
       " '66,b garde',\n",
       " '45,c grade']"
      ]
     },
     "execution_count": 174,
     "metadata": {},
     "output_type": "execute_result"
    }
   ],
   "source": [
    "grade=[(f'{i},a grade') if i > 85 else (f'{i},b garde') if i >60  else (f'{i},c grade') for i in l]\n",
    "grade"
   ]
  },
  {
   "cell_type": "code",
   "execution_count": 182,
   "id": "c85687e5-e8a0-486b-ab9b-26352111bca4",
   "metadata": {},
   "outputs": [
    {
     "data": {
      "text/plain": [
       "[22, 32, 42, 52]"
      ]
     },
     "execution_count": 182,
     "metadata": {},
     "output_type": "execute_result"
    }
   ],
   "source": [
    "marks=[20,30,40,50]\n",
    "new_marks=[]\n",
    "for i in marks:\n",
    "    new_marks.append(i+2)\n",
    "\n",
    "new_marks"
   ]
  },
  {
   "cell_type": "code",
   "execution_count": 186,
   "id": "5ab06441-7261-4bbb-9e2b-1ac6613b16ba",
   "metadata": {},
   "outputs": [
    {
     "data": {
      "text/plain": [
       "[102, 12, 22, 5]"
      ]
     },
     "execution_count": 186,
     "metadata": {},
     "output_type": "execute_result"
    }
   ],
   "source": [
    "marks=[100,10,20,3]\n",
    "new_marks=[(i+2) for i in marks]\n",
    "new_marks"
   ]
  },
  {
   "cell_type": "code",
   "execution_count": null,
   "id": "7cea8811-36a4-4eed-b2ab-bcf905944704",
   "metadata": {},
   "outputs": [],
   "source": []
  }
 ],
 "metadata": {
  "kernelspec": {
   "display_name": "Python [conda env:base] *",
   "language": "python",
   "name": "conda-base-py"
  },
  "language_info": {
   "codemirror_mode": {
    "name": "ipython",
    "version": 3
   },
   "file_extension": ".py",
   "mimetype": "text/x-python",
   "name": "python",
   "nbconvert_exporter": "python",
   "pygments_lexer": "ipython3",
   "version": "3.12.7"
  }
 },
 "nbformat": 4,
 "nbformat_minor": 5
}

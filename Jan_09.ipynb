{
 "cells": [
  {
   "cell_type": "code",
   "execution_count": null,
   "id": "6f145fd2-a323-4ffe-bde4-dfc7585c6163",
   "metadata": {},
   "outputs": [],
   "source": [
    "if <con>:\n",
    "    <write our code here>"
   ]
  },
  {
   "cell_type": "markdown",
   "id": "1f744d3d-56a5-4953-aa7e-9d8bccdf4b73",
   "metadata": {},
   "source": [
    "**case-2: if-else**"
   ]
  },
  {
   "cell_type": "markdown",
   "id": "26a224b3-19b4-4c23-ba1f-55709735b6cb",
   "metadata": {},
   "source": [
    "- if condition is True then if statements will execute\n",
    "- if condition is False then else statements will execute\n",
    "- one condtion two outputs\n",
    "- if needs contion but not else"
   ]
  },
  {
   "cell_type": "code",
   "execution_count": null,
   "id": "0d2b1f0c-9a97-472e-8727-8659268fec64",
   "metadata": {},
   "outputs": [],
   "source": [
    "#syntax\n",
    "if <condition>:\n",
    "    <write code here>\n",
    "else:\n",
    "    <write code here>"
   ]
  },
  {
   "cell_type": "code",
   "execution_count": 7,
   "id": "9f6f01e3-0f49-4495-a1c5-c4ff86730a1f",
   "metadata": {},
   "outputs": [
    {
     "name": "stdout",
     "output_type": "stream",
     "text": [
      "hello\n"
     ]
    }
   ],
   "source": [
    "print('hello')"
   ]
  },
  {
   "cell_type": "code",
   "execution_count": 9,
   "id": "faa3830b-dd27-4503-96e0-b438fb22bf55",
   "metadata": {},
   "outputs": [
    {
     "name": "stdout",
     "output_type": "stream",
     "text": [
      "hello\n"
     ]
    }
   ],
   "source": [
    "friend='yes'\n",
    "if friend=='yes':\n",
    "    print('hello')"
   ]
  },
  {
   "cell_type": "code",
   "execution_count": 11,
   "id": "70945ff5-9c6f-43df-8257-9ebf9545b5a8",
   "metadata": {},
   "outputs": [
    {
     "name": "stdout",
     "output_type": "stream",
     "text": [
      "positive number\n"
     ]
    }
   ],
   "source": [
    "if 100>0:\n",
    "    print('positive number')\n",
    "else:\n",
    "    print('negative number')"
   ]
  },
  {
   "cell_type": "code",
   "execution_count": 25,
   "id": "10a11822-f290-4549-a5bb-345e3504eae3",
   "metadata": {},
   "outputs": [
    {
     "name": "stdout",
     "output_type": "stream",
     "text": [
      "positive number\n"
     ]
    }
   ],
   "source": [
    "n=100\n",
    "if n>0:\n",
    "    print('positive number')\n",
    "else:\n",
    "    print('negative number')"
   ]
  },
  {
   "cell_type": "code",
   "execution_count": 27,
   "id": "10154fd9-d9ba-4fa3-9cd4-012e7cd477d7",
   "metadata": {},
   "outputs": [
    {
     "name": "stdin",
     "output_type": "stream",
     "text": [
      "enter any value -9\n"
     ]
    },
    {
     "name": "stdout",
     "output_type": "stream",
     "text": [
      "negative number\n"
     ]
    }
   ],
   "source": [
    "n= eval(input('enter any value'))\n",
    "if n>0:\n",
    "    print('positive number')\n",
    "else:\n",
    "    print('negative number')"
   ]
  },
  {
   "cell_type": "code",
   "execution_count": 29,
   "id": "91e133f8-461a-488e-a9ff-6ae8b1d33e65",
   "metadata": {},
   "outputs": [
    {
     "name": "stdout",
     "output_type": "stream",
     "text": [
      "-61 is a negative number\n"
     ]
    }
   ],
   "source": [
    "import random\n",
    "n=random.randint(-100,100)\n",
    "if n>0:\n",
    "    print(f'{n} is a positive number')\n",
    "else:\n",
    "    print(f'{n} is a negative number')"
   ]
  },
  {
   "cell_type": "code",
   "execution_count": 31,
   "id": "34e80083-54bb-4575-abc9-a11248b308d9",
   "metadata": {},
   "outputs": [
    {
     "name": "stdout",
     "output_type": "stream",
     "text": [
      "helo\n",
      "postive number\n",
      "condition is Ture\n",
      "bye\n"
     ]
    }
   ],
   "source": [
    "print('helo')\n",
    "if 100>0:\n",
    "    print('postive number')\n",
    "    print('condition is Ture')\n",
    "else:\n",
    "    print('negative number')\n",
    "    print('condition is False')\n",
    "print('bye')"
   ]
  },
  {
   "cell_type": "code",
   "execution_count": 33,
   "id": "4ff24326-33b7-42fe-92bb-4af2efeffb4f",
   "metadata": {},
   "outputs": [
    {
     "name": "stdout",
     "output_type": "stream",
     "text": [
      "helo\n",
      "negative number\n",
      "condition is False\n",
      "bye\n"
     ]
    }
   ],
   "source": [
    "print('helo')\n",
    "if 100<0:\n",
    "    print('postive number')\n",
    "    print('condition is Ture')\n",
    "else:\n",
    "    print('negative number')\n",
    "    print('condition is False')\n",
    "print('bye')"
   ]
  },
  {
   "cell_type": "code",
   "execution_count": 35,
   "id": "a3ba95b1-9e2c-4f6d-9841-87335e07ba9d",
   "metadata": {},
   "outputs": [
    {
     "ename": "SyntaxError",
     "evalue": "invalid syntax (2940680186.py, line 6)",
     "output_type": "error",
     "traceback": [
      "\u001b[0;36m  Cell \u001b[0;32mIn[35], line 6\u001b[0;36m\u001b[0m\n\u001b[0;31m    else:\u001b[0m\n\u001b[0m    ^\u001b[0m\n\u001b[0;31mSyntaxError\u001b[0m\u001b[0;31m:\u001b[0m invalid syntax\n"
     ]
    }
   ],
   "source": [
    "print('helo')\n",
    "if 100>0:\n",
    "    print('postive number')\n",
    "    print('condition is Ture')\n",
    "print('in middle we cant print a statement')\n",
    "else:\n",
    "    print('negative number')\n",
    "    print('condition is False')\n",
    "print('bye')"
   ]
  },
  {
   "cell_type": "code",
   "execution_count": null,
   "id": "a39b02d0-c7e1-458c-b795-d69ffe84576b",
   "metadata": {},
   "outputs": [],
   "source": [
    "print('helo')     ################ (area 1\n",
    "################################## (area 2)\n",
    "if 100>0:\n",
    "    print('postive number')\n",
    "    print('condition is Ture')\n",
    "else:\n",
    "    print('negative number')\n",
    "    print('condition is False')\n",
    "################################## (area 3)\n",
    "print('bye')"
   ]
  },
  {
   "cell_type": "code",
   "execution_count": null,
   "id": "3735fade-6516-4022-a2be-b799b5314c77",
   "metadata": {},
   "outputs": [],
   "source": [
    "#wap ask the user enter 2 numbers find the greatest number\n",
    "# n1=eval(input())\n",
    "#n2=eval(input())\n",
    "if condition:\n",
    "    print()\n",
    "else:\n",
    "    print()"
   ]
  },
  {
   "cell_type": "code",
   "execution_count": 49,
   "id": "0609825c-66d4-42f6-bd04-9aa71c804e77",
   "metadata": {},
   "outputs": [
    {
     "name": "stdin",
     "output_type": "stream",
     "text": [
      " 2\n",
      " 33\n"
     ]
    },
    {
     "name": "stdout",
     "output_type": "stream",
     "text": [
      "n2 is greater\n",
      "2\n",
      "33\n"
     ]
    }
   ],
   "source": [
    "n1=eval(input('enter n1 num'))\n",
    "n2=eval(input('enter n2 num'))\n",
    "if n1>n2:\n",
    "    print('n1 is greater')\n",
    "else:\n",
    "    print('n2 is greater')"
   ]
  },
  {
   "cell_type": "code",
   "execution_count": 47,
   "id": "d229f399-14e2-41ef-81c0-b84a4ad32299",
   "metadata": {},
   "outputs": [
    {
     "name": "stdout",
     "output_type": "stream",
     "text": [
      "-1 n2 is greater\n"
     ]
    }
   ],
   "source": [
    "import random\n",
    "n1=random.randint(-100,100)\n",
    "n2=random.randint(-100,100)\n",
    "if n1>n2:\n",
    "    print(f'{n1} n1 is greater')\n",
    "else:\n",
    "    print(f'{n2} n2 is greater')"
   ]
  },
  {
   "cell_type": "code",
   "execution_count": null,
   "id": "2d89c26a-7cba-4977-979c-fbb180073900",
   "metadata": {},
   "outputs": [],
   "source": [
    "#wap user enter distance\n",
    "# if distance greater 25km then ask the charge for km\n",
    "# then calculate the charge\n",
    "#other wise print freeride\n",
    "\n",
    "step1: enter the distance\n",
    "if distiance >25km\n",
    "inside ask the charge\n",
    "calculate the total charge\n",
    "else \n",
    "print free ride"
   ]
  },
  {
   "cell_type": "code",
   "execution_count": 65,
   "id": "0d756446-19fa-4e6c-83e2-737ba17829a7",
   "metadata": {},
   "outputs": [
    {
     "name": "stdout",
     "output_type": "stream",
     "text": [
      "distance 47\n",
      "extra km are 22\n",
      "total chrage 110\n"
     ]
    }
   ],
   "source": [
    "import random\n",
    "dis=random.randint(1,100)\n",
    "print(f'distance {dis}')\n",
    "if dis>25:\n",
    "    ext=dis-25\n",
    "    print(f'extra km are {ext}')\n",
    "    tol=ext*5\n",
    "    print(f'total chrage {tol}')\n",
    "else:\n",
    "    print('free ride')"
   ]
  },
  {
   "cell_type": "code",
   "execution_count": null,
   "id": "db7ec604-1c44-49fa-82c1-3d73cad652fe",
   "metadata": {},
   "outputs": [],
   "source": [
    "# #wap user enter distance\n",
    "# # if distance greater 25km then ask the charge for km\n",
    "# # then calculate the charge\n",
    "# #other wise print freeride\n",
    "\n",
    "# step1: enter the distance\n",
    "# if distiance >25km\n",
    "# inside ask the charge\n",
    "# calculate the total charge\n",
    "# else \n",
    "# print free ride"
   ]
  },
  {
   "cell_type": "code",
   "execution_count": 73,
   "id": "d000da60-bb0f-4088-932b-0ff4d02a4beb",
   "metadata": {},
   "outputs": [
    {
     "name": "stdout",
     "output_type": "stream",
     "text": [
      "52\n",
      "5\n",
      "260\n"
     ]
    }
   ],
   "source": [
    "dist=random.randint(1,100)\n",
    "print(dist)\n",
    "charge=5\n",
    "print(charge)\n",
    "if dist>25:\n",
    "    tot=dist*charge\n",
    "    print(tot)\n",
    "else:\n",
    "    print('free ride')"
   ]
  },
  {
   "cell_type": "code",
   "execution_count": 85,
   "id": "cc54228b-7029-4893-96be-de1e8b734465",
   "metadata": {},
   "outputs": [
    {
     "name": "stdout",
     "output_type": "stream",
     "text": [
      "46\n",
      "5\n",
      "230\n"
     ]
    }
   ],
   "source": [
    "dist=random.randint(1,100)\n",
    "print(dist)\n",
    "charge=5\n",
    "print(charge)\n",
    "if dist<25:\n",
    "    print('free ride')\n",
    "else: \n",
    "    tot=dist*charge\n",
    "    print(tot)\n",
    "    "
   ]
  },
  {
   "cell_type": "markdown",
   "id": "2248a5de-6189-4532-a60e-638ce75ca87a",
   "metadata": {},
   "source": [
    "# wap ask the user to enter number from keyboard n1\n",
    "# ask the random number bt1,1o n2\n",
    "# if n1 = n2 u won \n",
    "# lost"
   ]
  },
  {
   "cell_type": "code",
   "execution_count": 93,
   "id": "a53bb32c-8273-41f1-a399-0aa94ca5bce2",
   "metadata": {},
   "outputs": [
    {
     "name": "stdin",
     "output_type": "stream",
     "text": [
      " 3\n"
     ]
    },
    {
     "name": "stdout",
     "output_type": "stream",
     "text": [
      "19\n",
      "loss\n"
     ]
    }
   ],
   "source": [
    "n1=eval(input())\n",
    "n2=random.randint(1,100)\n",
    "print(n2)\n",
    "if n1==n2:\n",
    "    print('u win')\n",
    "else:\n",
    "    print('loss')"
   ]
  },
  {
   "cell_type": "code",
   "execution_count": 97,
   "id": "afdae9fc-95df-41d5-8d68-e819c09635f7",
   "metadata": {},
   "outputs": [
    {
     "name": "stdout",
     "output_type": "stream",
     "text": [
      "45\n"
     ]
    },
    {
     "name": "stdin",
     "output_type": "stream",
     "text": [
      " 45\n"
     ]
    },
    {
     "name": "stdout",
     "output_type": "stream",
     "text": [
      "u win\n"
     ]
    }
   ],
   "source": [
    "n1=random.randint(1,100)\n",
    "print(n1)\n",
    "n2=eval(input())\n",
    "if n1==n2:\n",
    "    print('u win')\n",
    "else:\n",
    "    print('loss')"
   ]
  },
  {
   "cell_type": "code",
   "execution_count": null,
   "id": "a0469cf6-622f-4aa9-9ca9-07196fe09c54",
   "metadata": {},
   "outputs": [],
   "source": [
    "course = datascience\n",
    "institute= naresh it\n",
    "ask the user enter course name\n",
    "and ask the user institute name\n",
    "    if course name = data sci\n",
    "and institue name= nareshit\n",
    "then print ur at safe place\n",
    "otherwise print katam zindagi"
   ]
  },
  {
   "cell_type": "code",
   "execution_count": 7,
   "id": "33db387a-0d8e-4d6b-8111-68dc9b97421f",
   "metadata": {},
   "outputs": [
    {
     "name": "stdin",
     "output_type": "stream",
     "text": [
      " datascience\n",
      " nareshit\n"
     ]
    },
    {
     "name": "stdout",
     "output_type": "stream",
     "text": [
      "safe place\n"
     ]
    }
   ],
   "source": [
    "cou_name=input()\n",
    "ins_name=input()\n",
    "if cou_name=='datascience' and ins_name=='nareshit':\n",
    "    print('safe place')\n",
    "else:\n",
    "    print('katam zindagi')"
   ]
  },
  {
   "cell_type": "code",
   "execution_count": 9,
   "id": "29850151-5cdc-40bf-b997-515334a9a651",
   "metadata": {},
   "outputs": [
    {
     "name": "stdin",
     "output_type": "stream",
     "text": [
      " java\n",
      " suresh\n"
     ]
    },
    {
     "name": "stdout",
     "output_type": "stream",
     "text": [
      "katam zindagi\n"
     ]
    }
   ],
   "source": [
    "cou_name=input()\n",
    "ins_name=input()\n",
    "if cou_name=='datascience' and ins_name=='nareshit':\n",
    "    print('safe place')\n",
    "else:\n",
    "    print('katam zindagi')"
   ]
  },
  {
   "cell_type": "markdown",
   "id": "c397daa6-ddf1-497b-8301-a3d69c3b949c",
   "metadata": {},
   "source": [
    "# even - odd\n",
    "# ask the user a number print if it is even or odd number \n",
    "# idea i\n",
    "# if any divided by 2 then reminder =0 then it is even number\n"
   ]
  },
  {
   "cell_type": "code",
   "execution_count": 25,
   "id": "5cc65566-4e27-4355-a938-4aeeaa8c6dd5",
   "metadata": {},
   "outputs": [
    {
     "name": "stdout",
     "output_type": "stream",
     "text": [
      "98\n",
      "even\n"
     ]
    }
   ],
   "source": [
    "import random\n",
    "n1=random.randint(1,100)\n",
    "print(n1)\n",
    "if n1%2==0:\n",
    "    print('even')\n",
    "else:\n",
    "    print('odd')"
   ]
  },
  {
   "cell_type": "code",
   "execution_count": null,
   "id": "0da01515-f77d-41dc-8327-1a57fa46ab75",
   "metadata": {},
   "outputs": [],
   "source": [
    "modulus %\n",
    "division /\n",
    "floor division //"
   ]
  },
  {
   "cell_type": "code",
   "execution_count": 10,
   "id": "e3996d3a-fb76-4490-a98d-b40f9e94ccf8",
   "metadata": {},
   "outputs": [
    {
     "name": "stdin",
     "output_type": "stream",
     "text": [
      "enter any number  90\n"
     ]
    },
    {
     "name": "stdout",
     "output_type": "stream",
     "text": [
      "even\n"
     ]
    }
   ],
   "source": [
    "n8=eval(input(\"enter any number \"))\n",
    "if n8%2==0:\n",
    "        print('even')\n",
    "else:\n",
    "    print('odd')"
   ]
  },
  {
   "cell_type": "code",
   "execution_count": null,
   "id": "6bb81cc4-c13f-452b-8f5a-8c2c65312efa",
   "metadata": {},
   "outputs": [],
   "source": []
  },
  {
   "cell_type": "code",
   "execution_count": null,
   "id": "ebedca7c-3b5d-4d32-a05a-4774511680d9",
   "metadata": {},
   "outputs": [],
   "source": []
  }
 ],
 "metadata": {
  "kernelspec": {
   "display_name": "Python [conda env:base] *",
   "language": "python",
   "name": "conda-base-py"
  },
  "language_info": {
   "codemirror_mode": {
    "name": "ipython",
    "version": 3
   },
   "file_extension": ".py",
   "mimetype": "text/x-python",
   "name": "python",
   "nbconvert_exporter": "python",
   "pygments_lexer": "ipython3",
   "version": "3.12.7"
  }
 },
 "nbformat": 4,
 "nbformat_minor": 5
}

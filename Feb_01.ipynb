{
 "cells": [
  {
   "cell_type": "code",
   "execution_count": null,
   "id": "1e46f2d4-75f1-4790-bf7c-2f225b288ce5",
   "metadata": {},
   "outputs": [],
   "source": [
    "# extract the first name \n",
    "# second name\n",
    "# company name"
   ]
  },
  {
   "cell_type": "code",
   "execution_count": 93,
   "id": "1f218a5d-5264-421c-975b-ddfed45d3344",
   "metadata": {},
   "outputs": [
    {
     "name": "stdout",
     "output_type": "stream",
     "text": [
      "the first name is \" virat \"\n",
      "the second name is \" kohli \"\n",
      "the company name is \" rcb \"\n",
      "\n",
      "the first name is \" rohit \"\n",
      "the second name is \" sharma \"\n",
      "the company name is \" mi \"\n",
      "\n",
      "the first name is \" ms \"\n",
      "the second name is \" dhoni \"\n",
      "the company name is \" csk \"\n",
      "\n"
     ]
    }
   ],
   "source": [
    "str1='virat.kohli@rcb.com'\n",
    "str2='rohit.sharma@mi.com'\n",
    "str3='ms.dhoni@csk.com'\n",
    "for email in [str1,str2,str3]:\n",
    "    id1=email.index('.')\n",
    "    id2=email.index('@')\n",
    "    id3=email.index('.',id2)\n",
    "    print(f'the first name is \" {email[0:id1]} \"')\n",
    "    print(f'the second name is \" {email[id1+1:id2]} \"')\n",
    "    print(f'the company name is \" {email[id2+1:id3]} \"')\n",
    "    print()"
   ]
  },
  {
   "cell_type": "code",
   "execution_count": 97,
   "id": "eff458f5-06e4-4639-9535-1ac13aa7c410",
   "metadata": {},
   "outputs": [
    {
     "name": "stdout",
     "output_type": "stream",
     "text": [
      "5 5 11\n"
     ]
    }
   ],
   "source": [
    "def extract(str1):\n",
    "    first_dot=str1.index('.')\n",
    "    second_dot=str1.index('.',first_dot)\n",
    "    at_the_rate=str1.index('@')\n",
    "    print(first_dot,second_dot,at_the_rate)\n",
    "    first_name=str1[:first_dot]\n",
    "    second_name=str1[first_dot+1:at_the_rate]\n",
    "    company_name=str1[at_the_rate+1:second_dot]\n",
    "\n",
    "extract(str1)"
   ]
  },
  {
   "cell_type": "code",
   "execution_count": null,
   "id": "2b2d3445-487e-4461-8c78-a9c47345677d",
   "metadata": {},
   "outputs": [],
   "source": [
    "**split**\n",
    "\n",
    "- split is used to convert \n",
    "\n",
    "- by default it will split based on space"
   ]
  },
  {
   "cell_type": "code",
   "execution_count": 99,
   "id": "b0b26d02-dbda-45aa-9ab0-eacbc5e94a33",
   "metadata": {},
   "outputs": [
    {
     "data": {
      "text/plain": [
       "['hai', 'how', 'are', 'you']"
      ]
     },
     "execution_count": 99,
     "metadata": {},
     "output_type": "execute_result"
    }
   ],
   "source": [
    "str1='hai how are you'\n",
    "str1.split()"
   ]
  },
  {
   "cell_type": "code",
   "execution_count": 107,
   "id": "9ce84f66-d695-48d3-a97b-29b8c7955d40",
   "metadata": {},
   "outputs": [
    {
     "data": {
      "text/plain": [
       "['hai how', 'are you']"
      ]
     },
     "execution_count": 107,
     "metadata": {},
     "output_type": "execute_result"
    }
   ],
   "source": [
    "str1='hai how,are you'\n",
    "str1.split(',')"
   ]
  },
  {
   "cell_type": "code",
   "execution_count": 139,
   "id": "2e080c08-8710-40d1-a825-3d61441657fa",
   "metadata": {},
   "outputs": [
    {
     "name": "stdout",
     "output_type": "stream",
     "text": [
      "['i', 'love', 'fucking', 'cars']\n",
      "\n"
     ]
    },
    {
     "data": {
      "text/plain": [
       "'i love fucking cars'"
      ]
     },
     "execution_count": 139,
     "metadata": {},
     "output_type": "execute_result"
    }
   ],
   "source": [
    "str2='i love fucking cars'\n",
    "sp=str2.split(' ')\n",
    "print(sp)\n",
    "print()\n",
    "' '.join(sp)"
   ]
  },
  {
   "cell_type": "code",
   "execution_count": 131,
   "id": "71e3721d-ee1d-451a-933a-0ce9cfc5fef7",
   "metadata": {},
   "outputs": [
    {
     "name": "stdout",
     "output_type": "stream",
     "text": [
      "['i l', 've fucking cars']\n",
      "\n"
     ]
    },
    {
     "data": {
      "text/plain": [
       "'i love fucking cars'"
      ]
     },
     "execution_count": 131,
     "metadata": {},
     "output_type": "execute_result"
    }
   ],
   "source": [
    "str2='i love fucking cars'\n",
    "f=str2.split('o')\n",
    "print(f)\n",
    "print()\n",
    "'o'.join(f)"
   ]
  },
  {
   "cell_type": "code",
   "execution_count": 113,
   "id": "54fe743c-f768-424a-9c88-25e1b213c5ac",
   "metadata": {},
   "outputs": [
    {
     "data": {
      "text/plain": [
       "['h', 'llo how ar', ' you']"
      ]
     },
     "execution_count": 113,
     "metadata": {},
     "output_type": "execute_result"
    }
   ],
   "source": [
    "str3='hello how are you'\n",
    "str3.split('e')"
   ]
  },
  {
   "cell_type": "code",
   "execution_count": null,
   "id": "8403c3b5-9749-44de-8f76-8529e4fe56c7",
   "metadata": {},
   "outputs": [],
   "source": [
    "**join**\n",
    "\n",
    "-"
   ]
  },
  {
   "cell_type": "code",
   "execution_count": 123,
   "id": "833b0206-e731-44b3-b8e1-75bc595a491d",
   "metadata": {},
   "outputs": [
    {
     "name": "stdout",
     "output_type": "stream",
     "text": [
      "['h', 'llo how ar', ' you']\n",
      "\n"
     ]
    },
    {
     "data": {
      "text/plain": [
       "'hello how are you'"
      ]
     },
     "execution_count": 123,
     "metadata": {},
     "output_type": "execute_result"
    }
   ],
   "source": [
    "str3='hello how are you'\n",
    "o=str3.split('e')\n",
    "print(o)\n",
    "print()\n",
    "'e'.join(o)"
   ]
  },
  {
   "cell_type": "code",
   "execution_count": 141,
   "id": "58aa875f-aea6-4c2c-a42b-c0e2517b4edd",
   "metadata": {},
   "outputs": [
    {
     "name": "stdout",
     "output_type": "stream",
     "text": [
      "['i', 'love', 'fucking', 'cars']\n",
      "\n"
     ]
    },
    {
     "data": {
      "text/plain": [
       "'i love fucking cars'"
      ]
     },
     "execution_count": 141,
     "metadata": {},
     "output_type": "execute_result"
    }
   ],
   "source": [
    "str2='i love fucking cars'\n",
    "sp=str2.split(' ')\n",
    "print(sp)\n",
    "print()\n",
    "' '.join(sp)"
   ]
  },
  {
   "cell_type": "code",
   "execution_count": 151,
   "id": "acbeba62-02de-4057-a64e-6a1ccd516ab2",
   "metadata": {},
   "outputs": [
    {
     "name": "stdout",
     "output_type": "stream",
     "text": [
      "['i', 'love', 'fucking', 'cars', 'with', 'v8', 'engine.']\n",
      "\n"
     ]
    },
    {
     "data": {
      "text/plain": [
       "'i love fucking cars with v8 engine.'"
      ]
     },
     "execution_count": 151,
     "metadata": {},
     "output_type": "execute_result"
    }
   ],
   "source": [
    "str2='i love fucking cars with v8 engine.'\n",
    "f=str2.split(' ')\n",
    "print(f)\n",
    "print()\n",
    "' '.join(f)"
   ]
  },
  {
   "cell_type": "code",
   "execution_count": 181,
   "id": "5ac10615-c05e-44b6-960e-6954f781cb9c",
   "metadata": {},
   "outputs": [
    {
     "name": "stdout",
     "output_type": "stream",
     "text": [
      "['i love fucking cars', 'with v8 engine', 'its fucking crazy']\n",
      "\n"
     ]
    },
    {
     "data": {
      "text/plain": [
       "'i love fucking cars,with v8 engine,its fucking crazy'"
      ]
     },
     "execution_count": 181,
     "metadata": {},
     "output_type": "execute_result"
    }
   ],
   "source": [
    "str2='i love fucking cars,with v8 engine,its fucking crazy'\n",
    "f=str2.split(',')\n",
    "print(f)\n",
    "print()\n",
    "','.join(f)"
   ]
  },
  {
   "cell_type": "code",
   "execution_count": null,
   "id": "a0f4054c-071d-4ce3-baa4-26c0a61da295",
   "metadata": {},
   "outputs": [],
   "source": [
    "- upper/lower/casefold\n",
    "- title/capitalize\n",
    "- center\n",
    "- lstrip/rstrip/strip\n",
    "- startwith/endwith\n",
    "- replace\n",
    "- count\n",
    "- index/find\n",
    "- split/join"
   ]
  },
  {
   "cell_type": "code",
   "execution_count": null,
   "id": "0999a117-9e28-47e1-9730-b53788411c09",
   "metadata": {},
   "outputs": [],
   "source": [
    "dir()"
   ]
  }
 ],
 "metadata": {
  "kernelspec": {
   "display_name": "Python [conda env:base] *",
   "language": "python",
   "name": "conda-base-py"
  },
  "language_info": {
   "codemirror_mode": {
    "name": "ipython",
    "version": 3
   },
   "file_extension": ".py",
   "mimetype": "text/x-python",
   "name": "python",
   "nbconvert_exporter": "python",
   "pygments_lexer": "ipython3",
   "version": "3.12.7"
  }
 },
 "nbformat": 4,
 "nbformat_minor": 5
}

{
 "cells": [
  {
   "cell_type": "markdown",
   "id": "11570fcc-9988-403b-8a77-9efa3787e97d",
   "metadata": {},
   "source": [
    "**in_operator**"
   ]
  },
  {
   "cell_type": "markdown",
   "id": "f76271fc-a1a6-47ae-affe-d4b7489dd2f6",
   "metadata": {},
   "source": [
    "- in for loop we have range and in operators\n",
    "- range is math related word, whenever we use range it expects a number inside range\n",
    "- in operator expects a string "
   ]
  },
  {
   "cell_type": "code",
   "execution_count": 3,
   "id": "fae2d56a-2c62-4867-8173-596017351645",
   "metadata": {},
   "outputs": [
    {
     "name": "stdout",
     "output_type": "stream",
     "text": [
      "0 1 2 3 4 5 6 7 8 9 "
     ]
    }
   ],
   "source": [
    "for i in range(10):\n",
    "    print(i,end=' ')"
   ]
  },
  {
   "cell_type": "code",
   "execution_count": 5,
   "id": "aae549d3-e111-4902-9241-e767902e8df1",
   "metadata": {},
   "outputs": [
    {
     "ename": "TypeError",
     "evalue": "'str' object cannot be interpreted as an integer",
     "output_type": "error",
     "traceback": [
      "\u001b[0;31m---------------------------------------------------------------------------\u001b[0m",
      "\u001b[0;31mTypeError\u001b[0m                                 Traceback (most recent call last)",
      "Cell \u001b[0;32mIn[5], line 1\u001b[0m\n\u001b[0;32m----> 1\u001b[0m \u001b[38;5;28;01mfor\u001b[39;00m i \u001b[38;5;129;01min\u001b[39;00m \u001b[38;5;28mrange\u001b[39m(\u001b[38;5;124m'\u001b[39m\u001b[38;5;124mpyhton\u001b[39m\u001b[38;5;124m'\u001b[39m):\n\u001b[1;32m      2\u001b[0m     \u001b[38;5;28mprint\u001b[39m(i,end\u001b[38;5;241m=\u001b[39m\u001b[38;5;124m'\u001b[39m\u001b[38;5;124m \u001b[39m\u001b[38;5;124m'\u001b[39m)\n",
      "\u001b[0;31mTypeError\u001b[0m: 'str' object cannot be interpreted as an integer"
     ]
    }
   ],
   "source": [
    "for i in range('pyhton'):\n",
    "    print(i,end=' ')"
   ]
  },
  {
   "cell_type": "code",
   "execution_count": 7,
   "id": "0ba88d0f-a095-4b56-a281-dc241622ec90",
   "metadata": {},
   "outputs": [
    {
     "name": "stdout",
     "output_type": "stream",
     "text": [
      "p y t h o n "
     ]
    }
   ],
   "source": [
    "for i in 'python':\n",
    "    print(i,end=' ')"
   ]
  },
  {
   "cell_type": "code",
   "execution_count": null,
   "id": "77c75082-de77-446f-923a-7d5ffde58dfe",
   "metadata": {},
   "outputs": [],
   "source": [
    "'p' in 'python'\n",
    "\n",
    "'y' in 'python'\n",
    "\n",
    "'t' in 'python'\n",
    "\n",
    "'h' in 'python'\n",
    "\n",
    "'o' in 'python'\n",
    "\n",
    "'n' in 'python'\n",
    "\n",
    "i in 'python'"
   ]
  },
  {
   "cell_type": "markdown",
   "id": "00cc9b39-f7f0-48b9-821b-0590a61aa6fc",
   "metadata": {},
   "source": [
    "**ASCII**"
   ]
  },
  {
   "cell_type": "code",
   "execution_count": 12,
   "id": "466bd076-faad-4f9d-acfd-647e2b00bc7b",
   "metadata": {},
   "outputs": [
    {
     "data": {
      "text/plain": [
       "True"
      ]
     },
     "execution_count": 12,
     "metadata": {},
     "output_type": "execute_result"
    }
   ],
   "source": [
    "'A' < 'a'"
   ]
  },
  {
   "cell_type": "code",
   "execution_count": null,
   "id": "36f69f50-aaeb-44c3-a153-fef892ab9eae",
   "metadata": {},
   "outputs": [],
   "source": [
    "- how to convert char to number\n",
    "- how to convert number to char"
   ]
  },
  {
   "cell_type": "markdown",
   "id": "bab1b05d-cf30-451f-9015-8774911a23e7",
   "metadata": {},
   "source": [
    "**char-ord**"
   ]
  },
  {
   "cell_type": "code",
   "execution_count": 30,
   "id": "49e86534-e612-41ef-8a95-cf6ec732b09c",
   "metadata": {},
   "outputs": [
    {
     "data": {
      "text/plain": [
       "'a'"
      ]
     },
     "execution_count": 30,
     "metadata": {},
     "output_type": "execute_result"
    }
   ],
   "source": [
    "chr(97)"
   ]
  },
  {
   "cell_type": "code",
   "execution_count": 24,
   "id": "6d971137-5de3-4fc1-8bf6-4cfde42b595e",
   "metadata": {},
   "outputs": [
    {
     "data": {
      "text/plain": [
       "97"
      ]
     },
     "execution_count": 24,
     "metadata": {},
     "output_type": "execute_result"
    }
   ],
   "source": [
    "ord('a')"
   ]
  },
  {
   "cell_type": "markdown",
   "id": "bdfa68b4-8ce3-43ac-8892-8a1628a0979b",
   "metadata": {},
   "source": [
    "- ord converting char to number\n",
    "- chr converting number to char"
   ]
  },
  {
   "cell_type": "code",
   "execution_count": 44,
   "id": "1c57f595-0d3e-43b5-a6b2-c3ab0a8f085e",
   "metadata": {},
   "outputs": [
    {
     "ename": "SyntaxError",
     "evalue": "invalid syntax (1226296465.py, line 2)",
     "output_type": "error",
     "traceback": [
      "\u001b[0;36m  Cell \u001b[0;32mIn[44], line 2\u001b[0;36m\u001b[0m\n\u001b[0;31m    for i in A to Z:\u001b[0m\n\u001b[0m               ^\u001b[0m\n\u001b[0;31mSyntaxError\u001b[0m\u001b[0;31m:\u001b[0m invalid syntax\n"
     ]
    }
   ],
   "source": [
    "# wap ask the user  get the ascii a to z\n",
    "for i in A :\n",
    "    print(i)"
   ]
  },
  {
   "cell_type": "code",
   "execution_count": null,
   "id": "6615a9d6-2d3d-4b50-a455-d602e3a41219",
   "metadata": {},
   "outputs": [],
   "source": [
    "package: string"
   ]
  },
  {
   "cell_type": "code",
   "execution_count": null,
   "id": "bd150df9-2101-42b3-b3f7-d49858f5aed0",
   "metadata": {},
   "outputs": [],
   "source": [
    "import <packagename>\n",
    "dir(<packagename>)"
   ]
  },
  {
   "cell_type": "code",
   "execution_count": 54,
   "id": "9009dad4-5270-4301-823d-867325005dbe",
   "metadata": {},
   "outputs": [
    {
     "data": {
      "text/plain": [
       "['Formatter',\n",
       " 'Template',\n",
       " '_ChainMap',\n",
       " '__all__',\n",
       " '__builtins__',\n",
       " '__cached__',\n",
       " '__doc__',\n",
       " '__file__',\n",
       " '__loader__',\n",
       " '__name__',\n",
       " '__package__',\n",
       " '__spec__',\n",
       " '_re',\n",
       " '_sentinel_dict',\n",
       " '_string',\n",
       " 'ascii_letters',\n",
       " 'ascii_lowercase',\n",
       " 'ascii_uppercase',\n",
       " 'capwords',\n",
       " 'digits',\n",
       " 'hexdigits',\n",
       " 'octdigits',\n",
       " 'printable',\n",
       " 'punctuation',\n",
       " 'whitespace']"
      ]
     },
     "execution_count": 54,
     "metadata": {},
     "output_type": "execute_result"
    }
   ],
   "source": [
    "import string\n",
    "dir(string)"
   ]
  },
  {
   "cell_type": "code",
   "execution_count": 56,
   "id": "2820624e-8439-4b14-ad9d-c3aa338c8cbf",
   "metadata": {},
   "outputs": [
    {
     "data": {
      "text/plain": [
       "'abcdefghijklmnopqrstuvwxyzABCDEFGHIJKLMNOPQRSTUVWXYZ'"
      ]
     },
     "execution_count": 56,
     "metadata": {},
     "output_type": "execute_result"
    }
   ],
   "source": [
    "string.ascii_letters"
   ]
  },
  {
   "cell_type": "code",
   "execution_count": 58,
   "id": "bcb86fe7-d2b1-480f-a93d-21e23245e8c9",
   "metadata": {},
   "outputs": [
    {
     "data": {
      "text/plain": [
       "'ABCDEFGHIJKLMNOPQRSTUVWXYZ'"
      ]
     },
     "execution_count": 58,
     "metadata": {},
     "output_type": "execute_result"
    }
   ],
   "source": [
    "string.ascii_uppercase"
   ]
  },
  {
   "cell_type": "code",
   "execution_count": 60,
   "id": "45f376e0-9278-40d5-b849-daa3173f0412",
   "metadata": {},
   "outputs": [
    {
     "name": "stdout",
     "output_type": "stream",
     "text": [
      "A : 65\n",
      "B : 66\n",
      "C : 67\n",
      "D : 68\n",
      "E : 69\n",
      "F : 70\n",
      "G : 71\n",
      "H : 72\n",
      "I : 73\n",
      "J : 74\n",
      "K : 75\n",
      "L : 76\n",
      "M : 77\n",
      "N : 78\n",
      "O : 79\n",
      "P : 80\n",
      "Q : 81\n",
      "R : 82\n",
      "S : 83\n",
      "T : 84\n",
      "U : 85\n",
      "V : 86\n",
      "W : 87\n",
      "X : 88\n",
      "Y : 89\n",
      "Z : 90\n"
     ]
    }
   ],
   "source": [
    "for i in string.ascii_uppercase:\n",
    "    print(f'{i} : {ord(i)}')"
   ]
  },
  {
   "cell_type": "code",
   "execution_count": 62,
   "id": "4061534b-82a8-4bee-a4bc-983829cf1c5a",
   "metadata": {},
   "outputs": [
    {
     "name": "stdout",
     "output_type": "stream",
     "text": [
      "a : 97\n",
      "b : 98\n",
      "c : 99\n",
      "d : 100\n",
      "e : 101\n",
      "f : 102\n",
      "g : 103\n",
      "h : 104\n",
      "i : 105\n",
      "j : 106\n",
      "k : 107\n",
      "l : 108\n",
      "m : 109\n",
      "n : 110\n",
      "o : 111\n",
      "p : 112\n",
      "q : 113\n",
      "r : 114\n",
      "s : 115\n",
      "t : 116\n",
      "u : 117\n",
      "v : 118\n",
      "w : 119\n",
      "x : 120\n",
      "y : 121\n",
      "z : 122\n"
     ]
    }
   ],
   "source": [
    "for i in string.ascii_lowercase:\n",
    "    print(f'{i} : {ord(i)}')"
   ]
  },
  {
   "cell_type": "code",
   "execution_count": 64,
   "id": "32c807ce-2fed-497d-8309-4262c40e00f4",
   "metadata": {},
   "outputs": [
    {
     "name": "stdout",
     "output_type": "stream",
     "text": [
      "a : 97\n",
      "b : 98\n",
      "c : 99\n",
      "d : 100\n",
      "e : 101\n",
      "f : 102\n",
      "g : 103\n",
      "h : 104\n",
      "i : 105\n",
      "j : 106\n",
      "k : 107\n",
      "l : 108\n",
      "m : 109\n",
      "n : 110\n",
      "o : 111\n",
      "p : 112\n",
      "q : 113\n",
      "r : 114\n",
      "s : 115\n",
      "t : 116\n",
      "u : 117\n",
      "v : 118\n",
      "w : 119\n",
      "x : 120\n",
      "y : 121\n",
      "z : 122\n",
      "A : 65\n",
      "B : 66\n",
      "C : 67\n",
      "D : 68\n",
      "E : 69\n",
      "F : 70\n",
      "G : 71\n",
      "H : 72\n",
      "I : 73\n",
      "J : 74\n",
      "K : 75\n",
      "L : 76\n",
      "M : 77\n",
      "N : 78\n",
      "O : 79\n",
      "P : 80\n",
      "Q : 81\n",
      "R : 82\n",
      "S : 83\n",
      "T : 84\n",
      "U : 85\n",
      "V : 86\n",
      "W : 87\n",
      "X : 88\n",
      "Y : 89\n",
      "Z : 90\n"
     ]
    }
   ],
   "source": [
    "for i in string.ascii_letters:\n",
    "    print(f'{i} : {ord(i)}')"
   ]
  },
  {
   "cell_type": "code",
   "execution_count": 70,
   "id": "8775a4a3-fd08-4a56-9156-f4b6d76d42b9",
   "metadata": {},
   "outputs": [
    {
     "name": "stdout",
     "output_type": "stream",
     "text": [
      "! : 33\n",
      "\" : 34\n",
      "# : 35\n",
      "$ : 36\n",
      "% : 37\n",
      "& : 38\n",
      "' : 39\n",
      "( : 40\n",
      ") : 41\n",
      "* : 42\n",
      "+ : 43\n",
      ", : 44\n",
      "- : 45\n",
      ". : 46\n",
      "/ : 47\n",
      ": : 58\n",
      "; : 59\n",
      "< : 60\n",
      "= : 61\n",
      "> : 62\n",
      "? : 63\n",
      "@ : 64\n",
      "[ : 91\n",
      "\\ : 92\n",
      "] : 93\n",
      "^ : 94\n",
      "_ : 95\n",
      "` : 96\n",
      "{ : 123\n",
      "| : 124\n",
      "} : 125\n",
      "~ : 126\n"
     ]
    }
   ],
   "source": [
    "for i in string.punctuation:\n",
    "    print(f'{i} : {ord(i)}')"
   ]
  },
  {
   "cell_type": "code",
   "execution_count": null,
   "id": "51c37dfc-df2a-4e3b-a681-f12c897507de",
   "metadata": {},
   "outputs": [],
   "source": [
    "range(33,127)"
   ]
  },
  {
   "cell_type": "code",
   "execution_count": 76,
   "id": "0af0dfe0-e647-489b-b22f-2b18f74a7198",
   "metadata": {},
   "outputs": [
    {
     "name": "stdout",
     "output_type": "stream",
     "text": [
      "33 : !\n",
      "34 : \"\n",
      "35 : #\n",
      "36 : $\n",
      "37 : %\n",
      "38 : &\n",
      "39 : '\n",
      "40 : (\n",
      "41 : )\n",
      "42 : *\n",
      "43 : +\n",
      "44 : ,\n",
      "45 : -\n",
      "46 : .\n",
      "47 : /\n",
      "48 : 0\n",
      "49 : 1\n",
      "50 : 2\n",
      "51 : 3\n",
      "52 : 4\n",
      "53 : 5\n",
      "54 : 6\n",
      "55 : 7\n",
      "56 : 8\n",
      "57 : 9\n",
      "58 : :\n",
      "59 : ;\n",
      "60 : <\n",
      "61 : =\n",
      "62 : >\n",
      "63 : ?\n",
      "64 : @\n",
      "65 : A\n",
      "66 : B\n",
      "67 : C\n",
      "68 : D\n",
      "69 : E\n",
      "70 : F\n",
      "71 : G\n",
      "72 : H\n",
      "73 : I\n",
      "74 : J\n",
      "75 : K\n",
      "76 : L\n",
      "77 : M\n",
      "78 : N\n",
      "79 : O\n",
      "80 : P\n",
      "81 : Q\n",
      "82 : R\n",
      "83 : S\n",
      "84 : T\n",
      "85 : U\n",
      "86 : V\n",
      "87 : W\n",
      "88 : X\n",
      "89 : Y\n",
      "90 : Z\n",
      "91 : [\n",
      "92 : \\\n",
      "93 : ]\n",
      "94 : ^\n",
      "95 : _\n",
      "96 : `\n",
      "97 : a\n",
      "98 : b\n",
      "99 : c\n",
      "100 : d\n",
      "101 : e\n",
      "102 : f\n",
      "103 : g\n",
      "104 : h\n",
      "105 : i\n",
      "106 : j\n",
      "107 : k\n",
      "108 : l\n",
      "109 : m\n",
      "110 : n\n",
      "111 : o\n",
      "112 : p\n",
      "113 : q\n",
      "114 : r\n",
      "115 : s\n",
      "116 : t\n",
      "117 : u\n",
      "118 : v\n",
      "119 : w\n",
      "120 : x\n",
      "121 : y\n",
      "122 : z\n",
      "123 : {\n",
      "124 : |\n",
      "125 : }\n",
      "126 : ~\n"
     ]
    }
   ],
   "source": [
    "for i in range(33,127):\n",
    "    print(f'{i} : {chr(i)}')"
   ]
  },
  {
   "cell_type": "code",
   "execution_count": 80,
   "id": "adaacf41-8eb7-4354-b86f-6223a34c07fc",
   "metadata": {},
   "outputs": [
    {
     "name": "stdout",
     "output_type": "stream",
     "text": [
      "0 : \u0000\n",
      "1 : \u0001\n",
      "2 : \u0002\n",
      "3 : \u0003\n",
      "4 : \u0004\n",
      "5 : \u0005\n",
      "6 : \u0006\n",
      "7 : \u0007\n",
      "8 :\n",
      "9 : \t\n",
      "10 : \n",
      "\n",
      "11 : \u000b",
      "\n",
      "12 : \f",
      "\n",
      "13 : \n",
      "14 : \u000e\n",
      "15 : \u000f\n",
      "16 : \u0010\n",
      "17 : \u0011\n",
      "18 : \u0012\n",
      "19 : \u0013\n",
      "20 : \u0014\n",
      "21 : \u0015\n",
      "22 : \u0016\n",
      "23 : \u0017\n",
      "24 : \u0018\n",
      "25 : \u0019\n",
      "26 : \u001a\n",
      "27 : \u001b\n",
      "28 : \u001c",
      "\n",
      "29 : \u001d",
      "\n",
      "30 : \u001e",
      "\n",
      "31 : \u001f\n",
      "32 :  \n"
     ]
    }
   ],
   "source": [
    "for i in range(0,33):\n",
    "    print(f'{i} : {chr(i)}')"
   ]
  },
  {
   "cell_type": "code",
   "execution_count": 102,
   "id": "7d0f763b-d5f4-4d18-ad4d-b1e82de3aad0",
   "metadata": {},
   "outputs": [
    {
     "name": "stdout",
     "output_type": "stream",
     "text": [
      "3077 : అ\n",
      "3078 : ఆ\n",
      "3079 : ఇ\n",
      "3080 : ఈ\n",
      "3081 : ఉ\n",
      "3082 : ఊ\n",
      "3083 : ఋ\n",
      "3084 : ఌ\n",
      "3085 : ఍\n",
      "3086 : ఎ\n",
      "3087 : ఏ\n",
      "3088 : ఐ\n",
      "3089 : ఑\n",
      "3090 : ఒ\n",
      "3091 : ఓ\n",
      "3092 : ఔ\n",
      "3093 : క\n",
      "3094 : ఖ\n",
      "3095 : గ\n",
      "3096 : ఘ\n",
      "3097 : ఙ\n",
      "3098 : చ\n",
      "3099 : ఛ\n",
      "3100 : జ\n",
      "3101 : ఝ\n",
      "3102 : ఞ\n",
      "3103 : ట\n",
      "3104 : ఠ\n",
      "3105 : డ\n",
      "3106 : ఢ\n",
      "3107 : ణ\n",
      "3108 : త\n",
      "3109 : థ\n",
      "3110 : ద\n",
      "3111 : ధ\n",
      "3112 : న\n",
      "3113 : ఩\n",
      "3114 : ప\n",
      "3115 : ఫ\n",
      "3116 : బ\n",
      "3117 : భ\n",
      "3118 : మ\n",
      "3119 : య\n",
      "3120 : ర\n",
      "3121 : ఱ\n",
      "3122 : ల\n",
      "3123 : ళ\n",
      "3124 : ఴ\n",
      "3125 : వ\n",
      "3126 : శ\n",
      "3127 : ష\n",
      "3128 : స\n",
      "3129 : హ\n",
      "3130 : ఺\n",
      "3131 : ఻\n",
      "3132 : ఼\n",
      "3133 : ఽ\n",
      "3134 : ా\n",
      "3135 : ి\n",
      "3136 : ీ\n",
      "3137 : ు\n",
      "3138 : ూ\n",
      "3139 : ృ\n",
      "3140 : ౄ\n",
      "3141 : ౅\n",
      "3142 : ె\n",
      "3143 : ే\n",
      "3144 : ై\n",
      "3145 : ౉\n",
      "3146 : ొ\n",
      "3147 : ో\n",
      "3148 : ౌ\n",
      "3149 : ్\n",
      "3150 : ౎\n",
      "3151 : ౏\n",
      "3152 : ౐\n",
      "3153 : ౑\n",
      "3154 : ౒\n",
      "3155 : ౓\n",
      "3156 : ౔\n",
      "3157 : ౕ\n",
      "3158 : ౖ\n",
      "3159 : ౗\n",
      "3160 : ౘ\n",
      "3161 : ౙ\n",
      "3162 : ౚ\n",
      "3163 : ౛\n",
      "3164 : ౜\n",
      "3165 : ౝ\n",
      "3166 : ౞\n",
      "3167 : ౟\n",
      "3168 : ౠ\n",
      "3169 : ౡ\n",
      "3170 : ౢ\n",
      "3171 : ౣ\n",
      "3172 : ౤\n",
      "3173 : ౥\n",
      "3174 : ౦\n",
      "3175 : ౧\n",
      "3176 : ౨\n",
      "3177 : ౩\n",
      "3178 : ౪\n",
      "3179 : ౫\n",
      "3180 : ౬\n",
      "3181 : ౭\n",
      "3182 : ౮\n",
      "3183 : ౯\n",
      "3184 : ౰\n",
      "3185 : ౱\n",
      "3186 : ౲\n",
      "3187 : ౳\n",
      "3188 : ౴\n",
      "3189 : ౵\n",
      "3190 : ౶\n",
      "3191 : ౷\n",
      "3192 : ౸\n",
      "3193 : ౹\n",
      "3194 : ౺\n",
      "3195 : ౻\n",
      "3196 : ౼\n",
      "3197 : ౽\n",
      "3198 : ౾\n",
      "3199 : ౿\n",
      "3200 : ಀ\n",
      "3201 : ಁ\n",
      "3202 : ಂ\n",
      "3203 : ಃ\n"
     ]
    }
   ],
   "source": [
    "for i in range(3077,3204):\n",
    "    print(f'{i} : {chr(i)}')"
   ]
  },
  {
   "cell_type": "code",
   "execution_count": null,
   "id": "97656cd8-ded7-4d0f-8ac6-94932bcd5a8e",
   "metadata": {},
   "outputs": [],
   "source": []
  },
  {
   "cell_type": "code",
   "execution_count": null,
   "id": "8d27acb4-cc7e-4006-9252-056e5a00c33d",
   "metadata": {},
   "outputs": [],
   "source": []
  },
  {
   "cell_type": "markdown",
   "id": "7178bf9f-a82d-483e-84ee-d2ea9aa2e917",
   "metadata": {},
   "source": [
    "while loop\n",
    "-"
   ]
  },
  {
   "cell_type": "markdown",
   "id": "a42eaa92-f782-4c83-b3e4-bb07292d9d31",
   "metadata": {},
   "source": [
    "- intialization to start \n",
    "- increment or decrement\n",
    "- condition to stop"
   ]
  },
  {
   "cell_type": "code",
   "execution_count": null,
   "id": "5bc718fc-e7db-4d41-92eb-55f877856360",
   "metadata": {},
   "outputs": [],
   "source": [
    "for i in range(1,10)\n",
    "in a single line we have start=1 incerment +1 stop 10-1=9"
   ]
  },
  {
   "cell_type": "code",
   "execution_count": null,
   "id": "d2f861eb-eb96-4b41-b1a3-385264a7bfe2",
   "metadata": {},
   "outputs": [],
   "source": [
    "<intialization>\n",
    "\n",
    " while <condition>:             ## SYNTAX ##\n",
    "     # pyhton code  \n",
    "\n",
    "     increment/decrement"
   ]
  },
  {
   "cell_type": "code",
   "execution_count": 108,
   "id": "18b866f1-9877-4e49-be3e-162521899cca",
   "metadata": {},
   "outputs": [
    {
     "name": "stdout",
     "output_type": "stream",
     "text": [
      "1 2 "
     ]
    }
   ],
   "source": [
    "# for i in range(1,10):\n",
    "#    print(i,end=' ')\n",
    "\n",
    "\n",
    "\n",
    "i=1\n",
    "while i<3:\n",
    "    print(i,end=' ')\n",
    "    i=i+1\n",
    "\n",
    "#step-1: i=1 while 1<3 true print(1) i=1+1=2\n",
    "#step-2: i=2 while 2<3 true print(2) i=2+1=3\n",
    "#step-3: i=3 while 3<3 false "
   ]
  },
  {
   "cell_type": "code",
   "execution_count": null,
   "id": "9e82ee4f-f2b8-4cd7-bcfe-9221fd6103ec",
   "metadata": {},
   "outputs": [],
   "source": [
    "Q1) print 1 to 10\n",
    "print 10 to 1\n",
    "print -1 to -10\n",
    "print -10 to -1"
   ]
  },
  {
   "cell_type": "code",
   "execution_count": 112,
   "id": "20fe65d5-6c06-4a7f-8b6f-0c6d88bac4ab",
   "metadata": {},
   "outputs": [
    {
     "name": "stdout",
     "output_type": "stream",
     "text": [
      "10\n",
      "9\n",
      "8\n",
      "7\n",
      "6\n",
      "5\n",
      "4\n",
      "3\n",
      "2\n",
      "1\n"
     ]
    }
   ],
   "source": [
    "i=10\n",
    "while i>0:\n",
    "    print(i)\n",
    "    i=i-1"
   ]
  },
  {
   "cell_type": "code",
   "execution_count": 1,
   "id": "f8c173e5-14d5-41ed-b6d5-312f49392f60",
   "metadata": {},
   "outputs": [
    {
     "name": "stdout",
     "output_type": "stream",
     "text": [
      "10\n",
      "9\n",
      "8\n",
      "7\n",
      "6\n",
      "5\n",
      "4\n",
      "3\n",
      "2\n",
      "1\n"
     ]
    }
   ],
   "source": [
    "i=10\n",
    "while True:\n",
    "    print(i)\n",
    "    i=i-1\n",
    "    if i==0:\n",
    "        break"
   ]
  },
  {
   "cell_type": "code",
   "execution_count": 4,
   "id": "95444ae9-12f7-4979-9418-37921975c01a",
   "metadata": {},
   "outputs": [
    {
     "name": "stdout",
     "output_type": "stream",
     "text": [
      "-10\n",
      "-9\n",
      "-8\n",
      "-7\n",
      "-6\n",
      "-5\n",
      "-4\n",
      "-3\n",
      "-2\n",
      "-1\n"
     ]
    }
   ],
   "source": [
    "# Initialize the variable\n",
    "num = -10\n",
    "\n",
    "# Use a while loop to print numbers from -10 to -1\n",
    "while num < 0:\n",
    "    print(num)\n",
    "    num += 1\n"
   ]
  },
  {
   "cell_type": "code",
   "execution_count": 8,
   "id": "28aa33a4-1d67-4370-b67f-a617e315042c",
   "metadata": {},
   "outputs": [
    {
     "name": "stdout",
     "output_type": "stream",
     "text": [
      "-10\n",
      "-9\n",
      "-8\n",
      "-7\n",
      "-6\n",
      "-5\n",
      "-4\n",
      "-3\n",
      "-2\n",
      "-1\n"
     ]
    }
   ],
   "source": [
    "i=-10\n",
    "while i<0:\n",
    "    print(i)\n",
    "    i=i+1"
   ]
  },
  {
   "cell_type": "code",
   "execution_count": 26,
   "id": "76cf120a-5ae1-4d4d-a1b7-197c3537bf69",
   "metadata": {},
   "outputs": [
    {
     "name": "stdout",
     "output_type": "stream",
     "text": [
      "-1\n",
      "-2\n",
      "-3\n",
      "-4\n",
      "-5\n",
      "-6\n",
      "-7\n",
      "-8\n",
      "-9\n",
      "-10\n"
     ]
    }
   ],
   "source": [
    "i = -1\n",
    "while i>=-10:\n",
    "    print(i)\n",
    "    i=i-1"
   ]
  },
  {
   "cell_type": "code",
   "execution_count": 24,
   "id": "bc4a40ca-4e55-4cc6-95cd-af1baa444ece",
   "metadata": {},
   "outputs": [
    {
     "name": "stdout",
     "output_type": "stream",
     "text": [
      "-1\n",
      "-2\n",
      "-3\n",
      "-4\n",
      "-5\n",
      "-6\n",
      "-7\n",
      "-8\n",
      "-9\n",
      "-10\n"
     ]
    }
   ],
   "source": [
    "# Initialize the variable\n",
    "num = -1\n",
    "\n",
    "# Use a while loop to print numbers from -1 to -10\n",
    "while num >= -10:\n",
    "    print(num)\n",
    "    num -= 1  # Decrement num by 1\n"
   ]
  },
  {
   "cell_type": "code",
   "execution_count": 32,
   "id": "d5653e72-5f12-4e4c-a5d2-6996974042df",
   "metadata": {},
   "outputs": [
    {
     "name": "stdout",
     "output_type": "stream",
     "text": [
      "10\n",
      "9\n",
      "8\n",
      "7\n",
      "6\n",
      "5\n",
      "4\n",
      "3\n",
      "2\n",
      "1\n"
     ]
    }
   ],
   "source": [
    "# 10 to 1\n",
    "i=10\n",
    "while i >= 1:\n",
    "    print(i)\n",
    "    i=i-1"
   ]
  },
  {
   "cell_type": "code",
   "execution_count": 1,
   "id": "7f44b41b-c0a7-48db-9b8d-302cb89b1ffc",
   "metadata": {},
   "outputs": [
    {
     "name": "stdout",
     "output_type": "stream",
     "text": [
      "2\n",
      "4\n",
      "6\n",
      "8\n",
      "10\n",
      "12\n",
      "14\n",
      "16\n",
      "18\n",
      "20\n"
     ]
    }
   ],
   "source": [
    "i=1\n",
    "while i<=20:\n",
    "    if i%2==0:\n",
    "        print(i)\n",
    "    i=i+1"
   ]
  },
  {
   "cell_type": "code",
   "execution_count": 5,
   "id": "c2e4dbef-1dd6-4c1e-824e-b95fad6f2d0b",
   "metadata": {},
   "outputs": [
    {
     "name": "stdout",
     "output_type": "stream",
     "text": [
      "1 2 3 4 5 6 7 8 9 10 11 12 13 14 15 16 17 18 19 20 21 22 23 24 25 26 27 28 29 30 31 32 33 34 35 36 37 38 39 40 41 42 43 44 45 46 47 48 49 50 51 52 53 54 55 56 57 58 59 60 61 62 63 64 65 66 67 68 69 70 71 72 73 74 75 76 77 78 79 80 81 82 83 84 85 86 87 88 89 90 91 92 93 94 95 96 97 98 99 100 "
     ]
    }
   ],
   "source": [
    "i=1\n",
    "while i<=100:\n",
    "    print(i,end=' ')\n",
    "    i=i+1"
   ]
  },
  {
   "cell_type": "code",
   "execution_count": 5,
   "id": "e8a09fa8-139b-4cdf-b46a-31bb12358585",
   "metadata": {},
   "outputs": [
    {
     "name": "stdout",
     "output_type": "stream",
     "text": [
      "1 2 3 4 5 6 7 8 9 10 11 12 13 14 15 16 17 18 19 20 21 22 23 24 25 26 27 28 29 30 31 32 33 34 35 36 37 38 39 40 41 42 43 44 45 46 47 48 49 50 51 52 53 54 55 56 57 58 59 60 61 62 63 64 65 66 67 68 69 70 71 72 73 74 75 76 77 78 79 80 81 82 83 84 85 86 87 88 89 90 91 92 93 94 95 96 97 98 99 100 "
     ]
    }
   ],
   "source": [
    "i=1\n",
    "while i<=100:\n",
    "    print(i,end=' ')\n",
    "    i=i+1"
   ]
  },
  {
   "cell_type": "code",
   "execution_count": 9,
   "id": "e77b3fbe-f2f1-4f52-89e6-5ac83b35324d",
   "metadata": {},
   "outputs": [
    {
     "name": "stdout",
     "output_type": "stream",
     "text": [
      "1 3 5 7 9 11 13 15 17 19 21 23 25 27 29 31 33 35 37 39 41 43 45 47 49 "
     ]
    }
   ],
   "source": [
    "i=1\n",
    "while i<=50:\n",
    "    if i%2!=0:\n",
    "        print(i,end=' ')\n",
    "    i=i+1"
   ]
  },
  {
   "cell_type": "code",
   "execution_count": 11,
   "id": "17f76822-774a-4ac6-a780-581afb897ea9",
   "metadata": {},
   "outputs": [
    {
     "name": "stdout",
     "output_type": "stream",
     "text": [
      "7 14 21 28 35 42 49 56 63 70 77 84 91 98 "
     ]
    }
   ],
   "source": [
    "i=1\n",
    "while i<=100:\n",
    "    if i%7==0:\n",
    "        print(i,end=' ')\n",
    "    i=i+1"
   ]
  },
  {
   "cell_type": "code",
   "execution_count": 13,
   "id": "72676464-1ccf-4e7a-8303-601da4a5acb2",
   "metadata": {},
   "outputs": [
    {
     "name": "stdout",
     "output_type": "stream",
     "text": [
      "10\n",
      "9\n",
      "8\n",
      "7\n",
      "6\n",
      "5\n",
      "4\n",
      "3\n",
      "2\n",
      "1\n",
      "0\n",
      "0 blast off\n"
     ]
    }
   ],
   "source": [
    "i=10\n",
    "while i>=0:\n",
    "    print(i)\n",
    "    if i==0:\n",
    "        print(f\"{i} blast off\")\n",
    "    i=i-1"
   ]
  },
  {
   "cell_type": "code",
   "execution_count": null,
   "id": "4ee152cd-e89d-4bb6-a998-0236ef868eca",
   "metadata": {},
   "outputs": [],
   "source": []
  }
 ],
 "metadata": {
  "kernelspec": {
   "display_name": "Python [conda env:base] *",
   "language": "python",
   "name": "conda-base-py"
  },
  "language_info": {
   "codemirror_mode": {
    "name": "ipython",
    "version": 3
   },
   "file_extension": ".py",
   "mimetype": "text/x-python",
   "name": "python",
   "nbconvert_exporter": "python",
   "pygments_lexer": "ipython3",
   "version": "3.12.7"
  }
 },
 "nbformat": 4,
 "nbformat_minor": 5
}

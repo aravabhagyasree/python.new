{
 "cells": [
  {
   "cell_type": "markdown",
   "id": "69dd246a-20bd-4613-bf8c-3cf525ebaec8",
   "metadata": {},
   "source": [
    "index\n",
    "-"
   ]
  },
  {
   "cell_type": "code",
   "execution_count": 2,
   "id": "b131234a-dafe-42e4-a399-70d440d281cc",
   "metadata": {},
   "outputs": [
    {
     "data": {
      "text/plain": [
       "'python'"
      ]
     },
     "execution_count": 2,
     "metadata": {},
     "output_type": "execute_result"
    }
   ],
   "source": [
    "str1='python'\n",
    "str1"
   ]
  },
  {
   "cell_type": "code",
   "execution_count": null,
   "id": "ab841185-1a79-4886-ab51-b4cf9bda9413",
   "metadata": {},
   "outputs": [],
   "source": [
    "-6 -5 -4 -3 -2 -1\n",
    " p  y  t  h  o  n\n",
    " 0  1  2  3  4  5"
   ]
  },
  {
   "cell_type": "code",
   "execution_count": null,
   "id": "a1de6da8-e5bf-4a21-b407-b986573a0799",
   "metadata": {},
   "outputs": [],
   "source": [
    "- access the charachter or elements use squre brackets "
   ]
  },
  {
   "cell_type": "code",
   "execution_count": 14,
   "id": "7010a574-7ade-457e-9942-d94250d54b7d",
   "metadata": {},
   "outputs": [
    {
     "data": {
      "text/plain": [
       "'p'"
      ]
     },
     "execution_count": 14,
     "metadata": {},
     "output_type": "execute_result"
    }
   ],
   "source": [
    "str1[0] "
   ]
  },
  {
   "cell_type": "code",
   "execution_count": 10,
   "id": "a93521a3-7545-4013-b14a-f71754907f88",
   "metadata": {},
   "outputs": [
    {
     "data": {
      "text/plain": [
       "'y'"
      ]
     },
     "execution_count": 10,
     "metadata": {},
     "output_type": "execute_result"
    }
   ],
   "source": [
    "str1[1]"
   ]
  },
  {
   "cell_type": "code",
   "execution_count": 176,
   "id": "c0ffc594-4fa8-4367-98f1-00f573b92eeb",
   "metadata": {},
   "outputs": [
    {
     "data": {
      "text/plain": [
       "'a'"
      ]
     },
     "execution_count": 176,
     "metadata": {},
     "output_type": "execute_result"
    }
   ],
   "source": [
    "str1[9]"
   ]
  },
  {
   "cell_type": "code",
   "execution_count": 16,
   "id": "24dd0f43-f788-40c8-aadc-846b0cf44627",
   "metadata": {},
   "outputs": [
    {
     "data": {
      "text/plain": [
       "'p'"
      ]
     },
     "execution_count": 16,
     "metadata": {},
     "output_type": "execute_result"
    }
   ],
   "source": [
    "str1[-6]"
   ]
  },
  {
   "cell_type": "code",
   "execution_count": 32,
   "id": "0c90a5a4-8409-40b7-a74f-759d5c207118",
   "metadata": {},
   "outputs": [
    {
     "name": "stdout",
     "output_type": "stream",
     "text": [
      "p\n",
      "y\n",
      "t\n",
      "h\n",
      "o\n",
      "n\n"
     ]
    }
   ],
   "source": [
    "str1='python'\n",
    "for i in range(0,6):\n",
    "    print(str1[i])"
   ]
  },
  {
   "cell_type": "code",
   "execution_count": 24,
   "id": "9b8c17de-e282-4975-a3ed-613ef4666447",
   "metadata": {},
   "outputs": [
    {
     "name": "stdout",
     "output_type": "stream",
     "text": [
      "p\n",
      "y\n",
      "h\n",
      "t\n",
      "o\n",
      "n\n"
     ]
    }
   ],
   "source": [
    "for i in 'pyhton':\n",
    "    print(i)"
   ]
  },
  {
   "cell_type": "code",
   "execution_count": 39,
   "id": "b593910f-4c2c-4faa-867d-76c6efec73fa",
   "metadata": {},
   "outputs": [
    {
     "name": "stdout",
     "output_type": "stream",
     "text": [
      "h\n",
      "e\n",
      "l\n",
      "l\n",
      " \n",
      "h\n",
      "o\n",
      "w\n",
      " \n",
      "a\n",
      "r\n",
      "e\n",
      " \n",
      "y\n",
      "o\n",
      "u\n"
     ]
    }
   ],
   "source": [
    "str1='hell how are you'\n",
    "n=len(str1)\n",
    "for i in range(0,n):\n",
    "    print(str1[i])"
   ]
  },
  {
   "cell_type": "code",
   "execution_count": 45,
   "id": "fa036425-0c17-4532-aca6-ad2eeadb7622",
   "metadata": {},
   "outputs": [
    {
     "name": "stdout",
     "output_type": "stream",
     "text": [
      "the positive index of p is 0\n",
      "the positive index of y is 1\n",
      "the positive index of t is 2\n",
      "the positive index of h is 3\n",
      "the positive index of o is 4\n",
      "the positive index of n is 5\n"
     ]
    }
   ],
   "source": [
    "str2='python'\n",
    "for i in range(0,6):\n",
    "    print(f'the positive index of {str2[i]} is {i}')"
   ]
  },
  {
   "cell_type": "code",
   "execution_count": 53,
   "id": "f2c7886f-d23e-4785-9435-727d06647be2",
   "metadata": {},
   "outputs": [
    {
     "name": "stdout",
     "output_type": "stream",
     "text": [
      "the negative index of p is -6\n",
      "the negative index of y is -5\n",
      "the negative index of t is -4\n",
      "the negative index of h is -3\n",
      "the negative index of o is -2\n",
      "the negative index of n is -1\n"
     ]
    }
   ],
   "source": [
    "str2='python'\n",
    "for i in range(-6,0):\n",
    "    print(f'the negative index of {str2[i]} is {i}')"
   ]
  },
  {
   "cell_type": "code",
   "execution_count": 116,
   "id": "36e4e19d-ea4c-4264-a703-b92268f2d098",
   "metadata": {},
   "outputs": [
    {
     "name": "stdout",
     "output_type": "stream",
     "text": [
      "0 -6\n",
      "the positive index of p is  0 & the negative index of p is -6.\n",
      "the positive index of p is  0.\n",
      "the negative index of p is -6.\n",
      "1 -5\n",
      "the positive index of y is  1 & the negative index of y is -5.\n",
      "the positive index of y is  1.\n",
      "the negative index of y is -5.\n",
      "2 -4\n",
      "the positive index of t is  2 & the negative index of t is -4.\n",
      "the positive index of t is  2.\n",
      "the negative index of t is -4.\n",
      "3 -3\n",
      "the positive index of h is  3 & the negative index of h is -3.\n",
      "the positive index of h is  3.\n",
      "the negative index of h is -3.\n",
      "4 -2\n",
      "the positive index of o is  4 & the negative index of o is -2.\n",
      "the positive index of o is  4.\n",
      "the negative index of o is -2.\n",
      "5 -1\n",
      "the positive index of n is  5 & the negative index of n is -1.\n",
      "the positive index of n is  5.\n",
      "the negative index of n is -1.\n"
     ]
    }
   ],
   "source": [
    "str2='python'\n",
    "for i in range(0,6):\n",
    "    print(i,i-6)\n",
    "    print(f'the positive index of {str2[i]} is  {i} & the negative index of {str2[i]} is {i-6}.')\n",
    "    print(f'the positive index of {str2[i]} is  {i}.')\n",
    "    print(f'the negative index of {str2[i]} is {i-6}.')"
   ]
  },
  {
   "cell_type": "markdown",
   "id": "05f96a3d-ee8d-47f5-a774-5f4debd1da26",
   "metadata": {},
   "source": [
    "**when to use in - when to use range operator**"
   ]
  },
  {
   "cell_type": "markdown",
   "id": "791dd187-149a-4fca-956d-4c52d46a1d2e",
   "metadata": {},
   "source": [
    "- in operator directly acces the elements\n",
    "- range operator access the elements using index or numbers\n",
    "- any problem statement if you need numbers then go for range\n",
    "- otherwise go for in operator directly"
   ]
  },
  {
   "cell_type": "code",
   "execution_count": 126,
   "id": "d29df06a-9658-4178-ab52-c61b4dbd0964",
   "metadata": {},
   "outputs": [
    {
     "name": "stdout",
     "output_type": "stream",
     "text": [
      "p\n",
      "y\n",
      "t\n",
      "h\n",
      "o\n",
      "n\n",
      "0,p\n",
      "1,y\n",
      "2,t\n",
      "3,h\n",
      "4,o\n",
      "5,n\n"
     ]
    }
   ],
   "source": [
    "str3='python'\n",
    "for i in str3:\n",
    "    print(i)\n",
    "\n",
    "for i in range(0,6):\n",
    "    print(f'{i},{str3[i]}')"
   ]
  },
  {
   "cell_type": "code",
   "execution_count": 182,
   "id": "598c86cb-6e75-47ee-9870-61b409f8a7a7",
   "metadata": {},
   "outputs": [
    {
     "name": "stdout",
     "output_type": "stream",
     "text": [
      "2\n",
      "6\n",
      "10\n"
     ]
    }
   ],
   "source": [
    "# Q4)\n",
    "str18='ola ola ola'\n",
    "for i in range(len(str18)):\n",
    "    if str18[i]=='a':\n",
    "        print(i)"
   ]
  },
  {
   "cell_type": "code",
   "execution_count": 188,
   "id": "7ffd90c9-a84a-4a75-9de2-cef38bd3d1e5",
   "metadata": {},
   "outputs": [
    {
     "name": "stdout",
     "output_type": "stream",
     "text": [
      "2\n",
      "6\n",
      "10\n",
      "18\n",
      "3\n"
     ]
    }
   ],
   "source": [
    "# Q5)\n",
    "str18='ola ola ola'\n",
    "summ=0\n",
    "count=0\n",
    "for i in range(len(str18)):\n",
    "    if str18[i]=='a':\n",
    "        print(i)\n",
    "        summ=summ+i\n",
    "        count=count+1\n",
    "\n",
    "print(summ)\n",
    "print(count)"
   ]
  },
  {
   "cell_type": "code",
   "execution_count": 192,
   "id": "f07e4e38-0527-4942-9913-3a435fb1c06c",
   "metadata": {},
   "outputs": [
    {
     "name": "stdout",
     "output_type": "stream",
     "text": [
      "3\n"
     ]
    }
   ],
   "source": [
    "# Q6) \n",
    "# Ans) In this problem we are counting no.of 'a'\n",
    "#      we are not using index\n",
    "\n",
    "count=0\n",
    "for i in str18:\n",
    "    if i=='a':\n",
    "        count=count+1\n",
    "\n",
    "print(count)"
   ]
  },
  {
   "cell_type": "code",
   "execution_count": 194,
   "id": "5d4818e4-6702-426c-ad5c-97b91bf18372",
   "metadata": {},
   "outputs": [
    {
     "name": "stdout",
     "output_type": "stream",
     "text": [
      "e\n",
      "o\n",
      "o\n",
      "a\n",
      "e\n",
      "o\n",
      "u\n",
      "7\n"
     ]
    }
   ],
   "source": [
    "#Q7)\n",
    "\n",
    "str1='hello how are you'\n",
    "s1='aeiou'\n",
    "count=0\n",
    "for i in str1:\n",
    "    if i in s1:\n",
    "        print(i)\n",
    "        count=count+1\n",
    "\n",
    "print(count)"
   ]
  },
  {
   "cell_type": "code",
   "execution_count": 9,
   "id": "a845d359-d0a0-49e3-bc13-3728f0cb0b0a",
   "metadata": {},
   "outputs": [
    {
     "name": "stdout",
     "output_type": "stream",
     "text": [
      "e\n",
      "o\n",
      "o\n",
      "a\n",
      "e\n",
      "o\n",
      "u\n",
      " \n"
     ]
    }
   ],
   "source": [
    "str1='hello how are you'\n",
    "s1='aeiou'\n",
    "s2=' '\n",
    "for i in str1:\n",
    "    if i in s1 and i not in s2:\n",
    "        print(i)\n",
    "        s2=s2*1\n",
    "print(s2)"
   ]
  },
  {
   "cell_type": "code",
   "execution_count": null,
   "id": "0b02cd2f-3498-450e-93a4-4008b0e19730",
   "metadata": {},
   "outputs": [],
   "source": [
    "mutable & immutable"
   ]
  },
  {
   "cell_type": "markdown",
   "id": "308b0bb8-ef62-4fe5-a9af-469aec48b9f5",
   "metadata": {},
   "source": [
    "- mutable means change\n",
    "- immutable means can not change\n",
    "- we can not change the elements using index operations\n",
    "- **strings** are immutable.\n",
    "- **lists** is mutable"
   ]
  },
  {
   "cell_type": "code",
   "execution_count": 208,
   "id": "25119487-880e-4b5b-ba23-b5e873d868cb",
   "metadata": {},
   "outputs": [
    {
     "ename": "TypeError",
     "evalue": "'str' object does not support item assignment",
     "output_type": "error",
     "traceback": [
      "\u001b[0;31m---------------------------------------------------------------------------\u001b[0m",
      "\u001b[0;31mTypeError\u001b[0m                                 Traceback (most recent call last)",
      "Cell \u001b[0;32mIn[208], line 2\u001b[0m\n\u001b[1;32m      1\u001b[0m str1\u001b[38;5;241m=\u001b[39m\u001b[38;5;124m'\u001b[39m\u001b[38;5;124mhello\u001b[39m\u001b[38;5;124m'\u001b[39m\n\u001b[0;32m----> 2\u001b[0m str1[\u001b[38;5;241m2\u001b[39m]\u001b[38;5;241m=\u001b[39m\u001b[38;5;124m'\u001b[39m\u001b[38;5;124mL\u001b[39m\u001b[38;5;124m'\u001b[39m\n",
      "\u001b[0;31mTypeError\u001b[0m: 'str' object does not support item assignment"
     ]
    }
   ],
   "source": [
    "str1='hello'\n",
    "str1[2]='L'"
   ]
  },
  {
   "cell_type": "code",
   "execution_count": 214,
   "id": "9eb03a9b-786e-4c15-93c1-5f1059cb1e98",
   "metadata": {},
   "outputs": [
    {
     "data": {
      "text/plain": [
       "[10, 20, 9]"
      ]
     },
     "execution_count": 214,
     "metadata": {},
     "output_type": "execute_result"
    }
   ],
   "source": [
    "l=[10,20,100]\n",
    "l[2]=9\n",
    "l"
   ]
  },
  {
   "cell_type": "code",
   "execution_count": null,
   "id": "8c2e8797-b5db-416c-8bf8-d83528ae2dcb",
   "metadata": {},
   "outputs": [],
   "source": []
  },
  {
   "cell_type": "code",
   "execution_count": null,
   "id": "804f66fd-de00-48b5-be6a-ab161d4f188d",
   "metadata": {},
   "outputs": [],
   "source": []
  },
  {
   "cell_type": "code",
   "execution_count": null,
   "id": "36b14dbe-3c65-4e62-92c3-375e73fc8980",
   "metadata": {},
   "outputs": [],
   "source": []
  }
 ],
 "metadata": {
  "kernelspec": {
   "display_name": "Python [conda env:base] *",
   "language": "python",
   "name": "conda-base-py"
  },
  "language_info": {
   "codemirror_mode": {
    "name": "ipython",
    "version": 3
   },
   "file_extension": ".py",
   "mimetype": "text/x-python",
   "name": "python",
   "nbconvert_exporter": "python",
   "pygments_lexer": "ipython3",
   "version": "3.12.7"
  }
 },
 "nbformat": 4,
 "nbformat_minor": 5
}

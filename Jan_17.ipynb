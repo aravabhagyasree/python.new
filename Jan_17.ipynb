{
 "cells": [
  {
   "cell_type": "markdown",
   "id": "f54c82b1-fd1b-4f09-b471-68922d7db137",
   "metadata": {},
   "source": [
    "**try-except**\n",
    "-"
   ]
  },
  {
   "cell_type": "markdown",
   "id": "8c2ef1f2-d800-4ff8-be21-4b07d75ee2f8",
   "metadata": {},
   "source": [
    "- try and except is a concept of exception handling \n",
    "- there r two block\n",
    "    - 1. try block\n",
    "    - 2. except block\n",
    "- originsl code will run under try block \n",
    "- if any error occures in try block \n",
    "- the errror will catch by except block\n",
    "\n",
    "- usecase-1:\n",
    "    - the code should catch the error automatically\n",
    "- usecase-2:\n",
    "    - the code should continue eventhough we got the error"
   ]
  },
  {
   "cell_type": "code",
   "execution_count": 12,
   "id": "d0d3619c-763f-4eff-a009-559028209c43",
   "metadata": {},
   "outputs": [
    {
     "name": "stdout",
     "output_type": "stream",
     "text": [
      "error cominig in try block\n",
      "zero division error\n"
     ]
    }
   ],
   "source": [
    "try:\n",
    "    a=10\n",
    "    b=0\n",
    "    c=a/b\n",
    "except:\n",
    "    print('error cominig in try block')\n",
    "    print('zero division error')"
   ]
  },
  {
   "cell_type": "markdown",
   "id": "14cac487-5ed8-44e0-a3b3-b3521b5ee612",
   "metadata": {},
   "source": [
    "**note**\n",
    "- except block will run when we got the error in try block \n",
    "- if code is correct only try block executed "
   ]
  },
  {
   "cell_type": "markdown",
   "id": "443056de-ab93-460c-81f3-aa170375771c",
   "metadata": {},
   "source": [
    "- syntax error\n",
    "- attribute error\n",
    "- type error\n",
    "- name error\n",
    "- indentation error\n",
    "- module not found error\n",
    "- object not callable error\n",
    "- zero division error"
   ]
  },
  {
   "cell_type": "markdown",
   "id": "5c8ccc37-a827-470b-9930-e1a17fdf8139",
   "metadata": {},
   "source": [
    "- syntax error will not catch\n",
    "- minimun expection everyone should write a code with out syntax error"
   ]
  },
  {
   "cell_type": "code",
   "execution_count": 20,
   "id": "33e0cf93-0d02-4ed9-b603-8abf04d4926b",
   "metadata": {},
   "outputs": [
    {
     "ename": "SyntaxError",
     "evalue": "incomplete input (149104261.py, line 1)",
     "output_type": "error",
     "traceback": [
      "\u001b[0;36m  Cell \u001b[0;32mIn[20], line 1\u001b[0;36m\u001b[0m\n\u001b[0;31m    print(\u001b[0m\n\u001b[0m          ^\u001b[0m\n\u001b[0;31mSyntaxError\u001b[0m\u001b[0;31m:\u001b[0m incomplete input\n"
     ]
    }
   ],
   "source": [
    "print("
   ]
  },
  {
   "cell_type": "code",
   "execution_count": 36,
   "id": "24551121-16a9-4f96-abf3-fb896987e4f3",
   "metadata": {},
   "outputs": [
    {
     "ename": "IndentationError",
     "evalue": "unexpected indent (3715530696.py, line 2)",
     "output_type": "error",
     "traceback": [
      "\u001b[0;36m  Cell \u001b[0;32mIn[36], line 2\u001b[0;36m\u001b[0m\n\u001b[0;31m    print()\u001b[0m\n\u001b[0m    ^\u001b[0m\n\u001b[0;31mIndentationError\u001b[0m\u001b[0;31m:\u001b[0m unexpected indent\n"
     ]
    }
   ],
   "source": [
    "sum+sum1\n",
    "    print()"
   ]
  },
  {
   "cell_type": "code",
   "execution_count": 38,
   "id": "7647b62d-fa7e-40e6-8e05-53c087516c48",
   "metadata": {},
   "outputs": [
    {
     "ename": "TypeError",
     "evalue": "unsupported operand type(s) for +: 'type' and 'type'",
     "output_type": "error",
     "traceback": [
      "\u001b[0;31m---------------------------------------------------------------------------\u001b[0m",
      "\u001b[0;31mTypeError\u001b[0m                                 Traceback (most recent call last)",
      "Cell \u001b[0;32mIn[38], line 1\u001b[0m\n\u001b[0;32m----> 1\u001b[0m \u001b[38;5;28mint\u001b[39m\u001b[38;5;241m+\u001b[39m\u001b[38;5;28mint\u001b[39m\n",
      "\u001b[0;31mTypeError\u001b[0m: unsupported operand type(s) for +: 'type' and 'type'"
     ]
    }
   ],
   "source": [
    "int+int"
   ]
  },
  {
   "cell_type": "code",
   "execution_count": 46,
   "id": "80df139f-88ae-4c6e-9253-87372da80068",
   "metadata": {},
   "outputs": [
    {
     "ename": "ZeroDivisionError",
     "evalue": "division by zero",
     "output_type": "error",
     "traceback": [
      "\u001b[0;31m---------------------------------------------------------------------------\u001b[0m",
      "\u001b[0;31mZeroDivisionError\u001b[0m                         Traceback (most recent call last)",
      "Cell \u001b[0;32mIn[46], line 3\u001b[0m\n\u001b[1;32m      1\u001b[0m a\u001b[38;5;241m=\u001b[39m\u001b[38;5;241m10\u001b[39m\n\u001b[1;32m      2\u001b[0m b\u001b[38;5;241m=\u001b[39m\u001b[38;5;241m0\u001b[39m\n\u001b[0;32m----> 3\u001b[0m c\u001b[38;5;241m=\u001b[39ma\u001b[38;5;241m/\u001b[39mb\n\u001b[1;32m      4\u001b[0m \u001b[38;5;28mprint\u001b[39m(c)\n",
      "\u001b[0;31mZeroDivisionError\u001b[0m: division by zero"
     ]
    }
   ],
   "source": [
    "a=10\n",
    "b=0\n",
    "c=a/b\n",
    "print(c)"
   ]
  },
  {
   "cell_type": "code",
   "execution_count": 48,
   "id": "597fbb95-63e4-4b26-9aeb-705bb61997d6",
   "metadata": {},
   "outputs": [
    {
     "ename": "NameError",
     "evalue": "name 'pritn' is not defined",
     "output_type": "error",
     "traceback": [
      "\u001b[0;31m---------------------------------------------------------------------------\u001b[0m",
      "\u001b[0;31mNameError\u001b[0m                                 Traceback (most recent call last)",
      "Cell \u001b[0;32mIn[48], line 1\u001b[0m\n\u001b[0;32m----> 1\u001b[0m pritn()\n",
      "\u001b[0;31mNameError\u001b[0m: name 'pritn' is not defined"
     ]
    }
   ],
   "source": [
    "pritn()"
   ]
  },
  {
   "cell_type": "code",
   "execution_count": 54,
   "id": "1f141ab0-0df6-4cd2-9880-3c94ac8dbabf",
   "metadata": {},
   "outputs": [
    {
     "ename": "ModuleNotFoundError",
     "evalue": "No module named 'randomhello'",
     "output_type": "error",
     "traceback": [
      "\u001b[0;31m---------------------------------------------------------------------------\u001b[0m",
      "\u001b[0;31mModuleNotFoundError\u001b[0m                       Traceback (most recent call last)",
      "Cell \u001b[0;32mIn[54], line 1\u001b[0m\n\u001b[0;32m----> 1\u001b[0m \u001b[38;5;28;01mimport\u001b[39;00m \u001b[38;5;21;01mrandomhello\u001b[39;00m\n",
      "\u001b[0;31mModuleNotFoundError\u001b[0m: No module named 'randomhello'"
     ]
    }
   ],
   "source": [
    "import randomhello"
   ]
  },
  {
   "cell_type": "code",
   "execution_count": null,
   "id": "655dbb7c-4a6a-43dd-b83d-46867c32f246",
   "metadata": {},
   "outputs": [],
   "source": []
  },
  {
   "cell_type": "code",
   "execution_count": 60,
   "id": "ab7f4160-c081-4806-bc78-ec4423a5635c",
   "metadata": {},
   "outputs": [
    {
     "ename": "AttributeError",
     "evalue": "module 'random' has no attribute 'hello'",
     "output_type": "error",
     "traceback": [
      "\u001b[0;31m---------------------------------------------------------------------------\u001b[0m",
      "\u001b[0;31mAttributeError\u001b[0m                            Traceback (most recent call last)",
      "Cell \u001b[0;32mIn[60], line 2\u001b[0m\n\u001b[1;32m      1\u001b[0m \u001b[38;5;28;01mimport\u001b[39;00m \u001b[38;5;21;01mrandom\u001b[39;00m\n\u001b[0;32m----> 2\u001b[0m random\u001b[38;5;241m.\u001b[39mhello\n",
      "\u001b[0;31mAttributeError\u001b[0m: module 'random' has no attribute 'hello'"
     ]
    }
   ],
   "source": [
    "import random\n",
    "random.hello"
   ]
  },
  {
   "cell_type": "code",
   "execution_count": 67,
   "id": "13d11f5d-de6f-4340-ba65-4b707112c1ed",
   "metadata": {},
   "outputs": [
    {
     "name": "stdin",
     "output_type": "stream",
     "text": [
      "enter n1 10\n",
      "enter n2 10\n"
     ]
    },
    {
     "name": "stdout",
     "output_type": "stream",
     "text": [
      "name 'n11' is not defined\n"
     ]
    }
   ],
   "source": [
    "try:\n",
    "    n1=eval(input('enter n1'))\n",
    "    n2=eval(input('enter n2'))\n",
    "    div=n1/n2\n",
    "    print('the div is:',div)\n",
    "except Exception as e:\n",
    "    print(e)"
   ]
  },
  {
   "cell_type": "code",
   "execution_count": 75,
   "id": "fdbe424a-84de-46fa-b063-623482958795",
   "metadata": {},
   "outputs": [
    {
     "name": "stdout",
     "output_type": "stream",
     "text": [
      "No module named 'nareshit'\n"
     ]
    }
   ],
   "source": [
    "try:\n",
    "    import nareshit\n",
    "except Exception as e:\n",
    "    print(e)"
   ]
  },
  {
   "cell_type": "code",
   "execution_count": 77,
   "id": "da3cd18e-cf5d-498a-ab99-a08332b0004b",
   "metadata": {},
   "outputs": [
    {
     "ename": "SyntaxError",
     "evalue": "'(' was never closed (3963352065.py, line 2)",
     "output_type": "error",
     "traceback": [
      "\u001b[0;36m  Cell \u001b[0;32mIn[77], line 2\u001b[0;36m\u001b[0m\n\u001b[0;31m    print(\u001b[0m\n\u001b[0m         ^\u001b[0m\n\u001b[0;31mSyntaxError\u001b[0m\u001b[0;31m:\u001b[0m '(' was never closed\n"
     ]
    }
   ],
   "source": [
    "try:\n",
    "    print(\n",
    "except Exception as e:\n",
    "    print(e)"
   ]
  },
  {
   "cell_type": "code",
   "execution_count": 81,
   "id": "41985fc9-6a72-43ee-9cf0-4b7ab809cdc7",
   "metadata": {},
   "outputs": [
    {
     "ename": "IndentationError",
     "evalue": "expected an indented block after 'try' statement on line 1 (3481009079.py, line 2)",
     "output_type": "error",
     "traceback": [
      "\u001b[0;36m  Cell \u001b[0;32mIn[81], line 2\u001b[0;36m\u001b[0m\n\u001b[0;31m    print()\u001b[0m\n\u001b[0m    ^\u001b[0m\n\u001b[0;31mIndentationError\u001b[0m\u001b[0;31m:\u001b[0m expected an indented block after 'try' statement on line 1\n"
     ]
    }
   ],
   "source": [
    "try:\n",
    "print()\n",
    "except Exception as e:\n",
    "    print(e)"
   ]
  },
  {
   "cell_type": "code",
   "execution_count": 83,
   "id": "339e2963-9b28-4aee-b30b-fb13cd983763",
   "metadata": {},
   "outputs": [
    {
     "name": "stdout",
     "output_type": "stream",
     "text": [
      "name 'int1' is not defined\n"
     ]
    }
   ],
   "source": [
    "try:\n",
    "    int1+in2\n",
    "except Exception as e:\n",
    "    print(e)"
   ]
  },
  {
   "cell_type": "code",
   "execution_count": 87,
   "id": "f3c4038d-5224-48a7-9447-a7d5a25db887",
   "metadata": {},
   "outputs": [
    {
     "name": "stdout",
     "output_type": "stream",
     "text": [
      "unsupported operand type(s) for +: 'type' and 'type'\n"
     ]
    }
   ],
   "source": [
    "try:\n",
    "    int+int\n",
    "except Exception as e:\n",
    "    print(e)"
   ]
  },
  {
   "cell_type": "code",
   "execution_count": 91,
   "id": "a05ddfdd-f1ef-405a-aa4b-e47939fa6d15",
   "metadata": {},
   "outputs": [
    {
     "name": "stdout",
     "output_type": "stream",
     "text": [
      "module 'random' has no attribute 'hello'\n"
     ]
    }
   ],
   "source": [
    "try:\n",
    "    import random\n",
    "    random.hello\n",
    "except Exception as e:\n",
    "    print(e)"
   ]
  },
  {
   "cell_type": "code",
   "execution_count": 93,
   "id": "5983e86d-1cec-4dcf-9936-3179e88a0754",
   "metadata": {},
   "outputs": [
    {
     "name": "stdin",
     "output_type": "stream",
     "text": [
      "enter n1 hello\n"
     ]
    },
    {
     "name": "stdout",
     "output_type": "stream",
     "text": [
      "name 'hello' is not defined\n"
     ]
    }
   ],
   "source": [
    "try:\n",
    "    n1=eval(input('enter n1'))\n",
    "    n2=eval(input('enter n2'))\n",
    "    div=n1/n2\n",
    "    print('the div is:',div)\n",
    "except Exception as e:\n",
    "    print(e)"
   ]
  },
  {
   "cell_type": "code",
   "execution_count": null,
   "id": "02cdb0e5-7024-487c-ac8e-97f93bae5734",
   "metadata": {},
   "outputs": [],
   "source": [
    "try:\n",
    "    n1=eval(input('enter n1'))\n",
    "    n2=eval(input('enter n2'))\n",
    "    div=n1/n2\n",
    "    print('the div is:',div)\n",
    "except Exception as e:\n",
    "    print(e)"
   ]
  },
  {
   "cell_type": "markdown",
   "id": "59622f93-32d3-4cc4-84d2-e9b4f1b60ddb",
   "metadata": {},
   "source": [
    "- step-1 : r u able to write the code without silly mistakes\n",
    "- step-2 : r u able to understand the logic\n",
    "- step-3 : r u able to implement the logic(in a single day not possible)\n",
    "- pratice step1 and 2"
   ]
  },
  {
   "cell_type": "code",
   "execution_count": 102,
   "id": "31a357d4-f9b7-464f-b800-6da4bec8fa41",
   "metadata": {},
   "outputs": [
    {
     "name": "stdin",
     "output_type": "stream",
     "text": [
      "enter the number 3\n"
     ]
    },
    {
     "name": "stdout",
     "output_type": "stream",
     "text": [
      "3 is an odd\n"
     ]
    }
   ],
   "source": [
    "n1=eval(input('enter the number'))\n",
    "if n1%2==0:\n",
    "    print(f\"{n1} is an even\")\n",
    "else:\n",
    "    print(f\"{n1} is an odd\")\n"
   ]
  },
  {
   "cell_type": "code",
   "execution_count": null,
   "id": "bc101d1b-00ce-4c13-9cf6-b5595a807c38",
   "metadata": {},
   "outputs": [],
   "source": []
  },
  {
   "cell_type": "code",
   "execution_count": null,
   "id": "67ea1369-f0b9-435e-bc26-188500985664",
   "metadata": {},
   "outputs": [],
   "source": []
  },
  {
   "cell_type": "code",
   "execution_count": 116,
   "id": "859c1425-9bf9-430f-9ddf-3feab8b26174",
   "metadata": {},
   "outputs": [
    {
     "name": "stdin",
     "output_type": "stream",
     "text": [
      "enter the number 45\n"
     ]
    },
    {
     "name": "stdout",
     "output_type": "stream",
     "text": [
      "name 'n21' is not defined\n",
      "30\n"
     ]
    }
   ],
   "source": [
    "try:\n",
    "    n1=eval(input('enter the number'))\n",
    "    if n1%2==0:\n",
    "        print(f\"{n21} is an even\")\n",
    "    else:\n",
    "        print(f\"{n21} is an odd\")\n",
    "except Exception as e:\n",
    "    print(e)\n",
    "    a=10\n",
    "    b=20\n",
    "    print(a+b)"
   ]
  },
  {
   "cell_type": "code",
   "execution_count": null,
   "id": "3f5e9bed-7b7e-4b92-8c9f-10bd8e4ab28f",
   "metadata": {},
   "outputs": [],
   "source": [
    "step-1: n1=45\n",
    "step-2: if 45%2==0 false\n",
    "step-3: else n21 error\n",
    "step-4: exception block prints\n",
    "step-5: prints a+b"
   ]
  },
  {
   "cell_type": "markdown",
   "id": "4b4639fd-bfa5-4b5a-9106-8c809037ab75",
   "metadata": {},
   "source": [
    "- If-Else: Use it when you can check and prevent a problem before it happens.\n",
    "- Try-Except: Use it when you want to try first and fix problems only if they happen."
   ]
  },
  {
   "cell_type": "code",
   "execution_count": null,
   "id": "7ef06bfa-61d1-4e48-8a28-66fd9414e8d6",
   "metadata": {},
   "outputs": [],
   "source": []
  },
  {
   "cell_type": "code",
   "execution_count": null,
   "id": "b16d43e5-9a81-41d0-9ddd-12ea01612b2b",
   "metadata": {},
   "outputs": [],
   "source": []
  },
  {
   "cell_type": "code",
   "execution_count": null,
   "id": "37c336a7-fb1e-48d9-a6a8-a70f54f1d72a",
   "metadata": {},
   "outputs": [],
   "source": []
  },
  {
   "cell_type": "code",
   "execution_count": null,
   "id": "ecb56f86-9251-461a-b96c-b998d0064a74",
   "metadata": {},
   "outputs": [],
   "source": []
  }
 ],
 "metadata": {
  "kernelspec": {
   "display_name": "Python [conda env:base] *",
   "language": "python",
   "name": "conda-base-py"
  },
  "language_info": {
   "codemirror_mode": {
    "name": "ipython",
    "version": 3
   },
   "file_extension": ".py",
   "mimetype": "text/x-python",
   "name": "python",
   "nbconvert_exporter": "python",
   "pygments_lexer": "ipython3",
   "version": "3.12.7"
  }
 },
 "nbformat": 4,
 "nbformat_minor": 5
}

{
 "cells": [
  {
   "cell_type": "code",
   "execution_count": 37,
   "id": "cc61f0af-a409-48bd-9111-3e4a45f2f628",
   "metadata": {},
   "outputs": [
    {
     "name": "stdout",
     "output_type": "stream",
     "text": [
      "67\n",
      "sc\n"
     ]
    }
   ],
   "source": [
    "age=random.randint(1,150)\n",
    "print(age)\n",
    "if age>=100:\n",
    "    print('unlucky')\n",
    "elif age>=80:\n",
    "    print('old')\n",
    "elif age>=60:\n",
    "    print('sc')\n",
    "elif age>=40:\n",
    "    print('ma')\n",
    "elif age>=20:\n",
    "    print('young')\n",
    "elif age>=10:\n",
    "    print('teen')\n",
    "else:\n",
    "    print('kid')"
   ]
  },
  {
   "cell_type": "code",
   "execution_count": 5,
   "id": "9b2afc58-3b93-45e0-892c-d20bd35088d8",
   "metadata": {},
   "outputs": [
    {
     "name": "stdin",
     "output_type": "stream",
     "text": [
      " hi\n"
     ]
    },
    {
     "name": "stdout",
     "output_type": "stream",
     "text": [
      "not valid\n"
     ]
    }
   ],
   "source": [
    "try:\n",
    "    a=eval(input())\n",
    "    b=20\n",
    "    c=a+b\n",
    "    print(c)\n",
    "except:\n",
    "    print(\"not valid\")"
   ]
  },
  {
   "cell_type": "code",
   "execution_count": 7,
   "id": "153a63ff-ebbf-4541-9b0d-9bcfaf5b6383",
   "metadata": {},
   "outputs": [
    {
     "name": "stdout",
     "output_type": "stream",
     "text": [
      "You can't divide by zero!\n"
     ]
    }
   ],
   "source": [
    "number = 0\n",
    "\n",
    "if number == 0:  # Check before dividing\n",
    "    print(\"You can't divide by zero!\")\n",
    "else:\n",
    "    print(10 / number)\n"
   ]
  },
  {
   "cell_type": "code",
   "execution_count": 9,
   "id": "247f3903-c847-4184-924d-5ec0f4b7f1b6",
   "metadata": {},
   "outputs": [
    {
     "name": "stdout",
     "output_type": "stream",
     "text": [
      "Oops! You can't divide by zero.\n"
     ]
    }
   ],
   "source": [
    "try:\n",
    "    print(10 / 0)  # Try dividing\n",
    "except ZeroDivisionError:  # Handle error\n",
    "    print(\"Oops! You can't divide by zero.\")\n"
   ]
  },
  {
   "cell_type": "code",
   "execution_count": null,
   "id": "93cc1a1a-d0ae-4eab-8f0d-1020346c0f1e",
   "metadata": {},
   "outputs": [],
   "source": []
  },
  {
   "cell_type": "code",
   "execution_count": null,
   "id": "ae48fc6a-e8bc-4193-9cd4-91b42e67f57d",
   "metadata": {},
   "outputs": [],
   "source": []
  },
  {
   "cell_type": "code",
   "execution_count": null,
   "id": "ac387bab-6e71-4661-885e-6b35fcb81459",
   "metadata": {},
   "outputs": [],
   "source": []
  },
  {
   "cell_type": "code",
   "execution_count": null,
   "id": "a32d3e21-9f5a-4cfc-8b92-378b86003c98",
   "metadata": {},
   "outputs": [],
   "source": []
  },
  {
   "cell_type": "code",
   "execution_count": null,
   "id": "257ca70e-eb4d-47c8-a759-25dfd73503e6",
   "metadata": {},
   "outputs": [],
   "source": []
  },
  {
   "cell_type": "code",
   "execution_count": null,
   "id": "cd146866-b48b-449f-9eeb-ac4754a832d8",
   "metadata": {},
   "outputs": [],
   "source": []
  }
 ],
 "metadata": {
  "kernelspec": {
   "display_name": "Python [conda env:base] *",
   "language": "python",
   "name": "conda-base-py"
  },
  "language_info": {
   "codemirror_mode": {
    "name": "ipython",
    "version": 3
   },
   "file_extension": ".py",
   "mimetype": "text/x-python",
   "name": "python",
   "nbconvert_exporter": "python",
   "pygments_lexer": "ipython3",
   "version": "3.12.7"
  }
 },
 "nbformat": 4,
 "nbformat_minor": 5
}

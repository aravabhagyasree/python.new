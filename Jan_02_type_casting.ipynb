{
 "cells": [
  {
   "cell_type": "markdown",
   "id": "2d78a79b-6ebe-4f7f-9a20-98a327fde564",
   "metadata": {},
   "source": [
    "**TYPE CASTING**\n",
    "- convert one data type to another \n",
    "\n",
    "- WE learned 4 data types\n",
    "\n",
    "    - integer : int\n",
    "\n",
    "    - float : float\n",
    "\n",
    "    - boolean : bool\n",
    "\n",
    "    - string : str"
   ]
  },
  {
   "cell_type": "code",
   "execution_count": null,
   "id": "0055d7c8-4d6b-4ab2-9862-f9f6366e964e",
   "metadata": {},
   "outputs": [],
   "source": []
  },
  {
   "cell_type": "markdown",
   "id": "2f74669b-c57d-4c7f-b584-52ea16c590f4",
   "metadata": {},
   "source": [
    "**INT to OTHER DATA TYPES**"
   ]
  },
  {
   "cell_type": "code",
   "execution_count": 7,
   "id": "3b99d53f-c504-4d49-9dc5-08f00247eb96",
   "metadata": {},
   "outputs": [
    {
     "data": {
      "text/plain": [
       "int"
      ]
     },
     "execution_count": 7,
     "metadata": {},
     "output_type": "execute_result"
    }
   ],
   "source": [
    "number = 100\n",
    "type(number)"
   ]
  },
  {
   "cell_type": "code",
   "execution_count": 9,
   "id": "38c979c7-73c3-4120-88fe-4b45824a19ee",
   "metadata": {},
   "outputs": [
    {
     "data": {
      "text/plain": [
       "100.0"
      ]
     },
     "execution_count": 9,
     "metadata": {},
     "output_type": "execute_result"
    }
   ],
   "source": [
    "float(number)"
   ]
  },
  {
   "cell_type": "code",
   "execution_count": 11,
   "id": "1b519f31-1046-4e1f-8171-40cad4d9d0bb",
   "metadata": {},
   "outputs": [
    {
     "data": {
      "text/plain": [
       "'100'"
      ]
     },
     "execution_count": 11,
     "metadata": {},
     "output_type": "execute_result"
    }
   ],
   "source": [
    "str(number)"
   ]
  },
  {
   "cell_type": "code",
   "execution_count": 13,
   "id": "f3f73893-2d86-4b35-833d-6125353dd5b5",
   "metadata": {},
   "outputs": [
    {
     "data": {
      "text/plain": [
       "True"
      ]
     },
     "execution_count": 13,
     "metadata": {},
     "output_type": "execute_result"
    }
   ],
   "source": [
    "bool(number)"
   ]
  },
  {
   "cell_type": "code",
   "execution_count": 17,
   "id": "976581cb-7cd8-464f-b4a5-bd11e8931c04",
   "metadata": {},
   "outputs": [
    {
     "data": {
      "text/plain": [
       "float"
      ]
     },
     "execution_count": 17,
     "metadata": {},
     "output_type": "execute_result"
    }
   ],
   "source": [
    "float_number=float(number)\n",
    "type(float_number)"
   ]
  },
  {
   "cell_type": "code",
   "execution_count": 21,
   "id": "ebc164ee-6479-4a22-8f58-411d5596eb9f",
   "metadata": {},
   "outputs": [
    {
     "data": {
      "text/plain": [
       "str"
      ]
     },
     "execution_count": 21,
     "metadata": {},
     "output_type": "execute_result"
    }
   ],
   "source": [
    "str_number=str(number)\n",
    "type(str_number)"
   ]
  },
  {
   "cell_type": "code",
   "execution_count": 23,
   "id": "c5547774-c379-481b-97cf-e4d22a67e8bf",
   "metadata": {},
   "outputs": [
    {
     "data": {
      "text/plain": [
       "bool"
      ]
     },
     "execution_count": 23,
     "metadata": {},
     "output_type": "execute_result"
    }
   ],
   "source": [
    "bool_num=bool(number)\n",
    "type(bool_num)"
   ]
  },
  {
   "cell_type": "code",
   "execution_count": 25,
   "id": "6e44ea33-9a7d-4692-96ed-8eefb05d8c63",
   "metadata": {},
   "outputs": [
    {
     "data": {
      "text/plain": [
       "(100.0, True, '100')"
      ]
     },
     "execution_count": 25,
     "metadata": {},
     "output_type": "execute_result"
    }
   ],
   "source": [
    "float(100), bool(100), str(100)"
   ]
  },
  {
   "cell_type": "code",
   "execution_count": 27,
   "id": "0ae27677-c676-4d01-b1ec-eaff1082b556",
   "metadata": {},
   "outputs": [
    {
     "name": "stdout",
     "output_type": "stream",
     "text": [
      "100.0\n",
      "True\n",
      "100\n"
     ]
    }
   ],
   "source": [
    "print(float(100))\n",
    "print(bool(100))\n",
    "print(str(100))"
   ]
  },
  {
   "cell_type": "code",
   "execution_count": 33,
   "id": "45b5dd0e-4890-48b2-a3fe-e21b52b70c5e",
   "metadata": {},
   "outputs": [
    {
     "data": {
      "text/plain": [
       "(-100.0, True, '-100')"
      ]
     },
     "execution_count": 33,
     "metadata": {},
     "output_type": "execute_result"
    }
   ],
   "source": [
    "float(-100),bool(-100),str(-100)"
   ]
  },
  {
   "cell_type": "code",
   "execution_count": 35,
   "id": "86b15b77-2e6a-4bd7-870c-1c5a3f1024f5",
   "metadata": {},
   "outputs": [
    {
     "name": "stdout",
     "output_type": "stream",
     "text": [
      "-100.0\n",
      "True\n",
      "-100\n"
     ]
    }
   ],
   "source": [
    "print(float(-100))\n",
    "print(bool(-100))\n",
    "print(str(-100))"
   ]
  },
  {
   "cell_type": "markdown",
   "id": "2ba441c8-1462-46b6-b32b-6338cf6bf564",
   "metadata": {},
   "source": [
    "- zero means off\n",
    "\n",
    "- false means off"
   ]
  },
  {
   "cell_type": "code",
   "execution_count": 38,
   "id": "de928a61-61d3-42f7-80bc-160b4c52a7f4",
   "metadata": {},
   "outputs": [
    {
     "name": "stdout",
     "output_type": "stream",
     "text": [
      "0.0\n",
      "False\n",
      "0\n"
     ]
    }
   ],
   "source": [
    "print(float(0))\n",
    "print(bool(0))\n",
    "print(str(0))"
   ]
  },
  {
   "cell_type": "markdown",
   "id": "c98b28ec-830d-4548-a5a8-2ab62d811665",
   "metadata": {},
   "source": [
    "**FLOAT to OTHER NUMBERS**"
   ]
  },
  {
   "cell_type": "code",
   "execution_count": 53,
   "id": "0ea261de-1bf6-4dbc-b912-9d09cd28c59f",
   "metadata": {},
   "outputs": [
    {
     "data": {
      "text/plain": [
       "int"
      ]
     },
     "execution_count": 53,
     "metadata": {},
     "output_type": "execute_result"
    }
   ],
   "source": [
    "number= int(100)\n",
    "type(number)"
   ]
  },
  {
   "cell_type": "code",
   "execution_count": 55,
   "id": "3def2508-5dfe-4dac-a069-4018af9f0c42",
   "metadata": {},
   "outputs": [
    {
     "data": {
      "text/plain": [
       "'100'"
      ]
     },
     "execution_count": 55,
     "metadata": {},
     "output_type": "execute_result"
    }
   ],
   "source": [
    "str(number)"
   ]
  },
  {
   "cell_type": "code",
   "execution_count": 57,
   "id": "22b0c4c1-ecc1-45f8-ac68-b73491648040",
   "metadata": {},
   "outputs": [
    {
     "data": {
      "text/plain": [
       "True"
      ]
     },
     "execution_count": 57,
     "metadata": {},
     "output_type": "execute_result"
    }
   ],
   "source": [
    "bool(number)"
   ]
  },
  {
   "cell_type": "code",
   "execution_count": 61,
   "id": "7e7198c9-e28d-4fde-8506-6ddb343380af",
   "metadata": {},
   "outputs": [
    {
     "name": "stdout",
     "output_type": "stream",
     "text": [
      "100\n"
     ]
    }
   ],
   "source": [
    "n1= number\n",
    "print(n1)"
   ]
  },
  {
   "cell_type": "code",
   "execution_count": 63,
   "id": "6c55c5e4-807d-4ae1-a14d-b31ae865cf88",
   "metadata": {},
   "outputs": [
    {
     "name": "stdout",
     "output_type": "stream",
     "text": [
      "100\n"
     ]
    }
   ],
   "source": [
    "print(str(n1))"
   ]
  },
  {
   "cell_type": "code",
   "execution_count": 65,
   "id": "9a0fe952-bdcf-47fb-81e8-ccb636fd3bac",
   "metadata": {},
   "outputs": [
    {
     "name": "stdout",
     "output_type": "stream",
     "text": [
      "True\n"
     ]
    }
   ],
   "source": [
    "print(bool(n1))"
   ]
  },
  {
   "cell_type": "code",
   "execution_count": 67,
   "id": "0a14e522-53b0-4b6d-8203-4b4535141197",
   "metadata": {},
   "outputs": [
    {
     "name": "stdout",
     "output_type": "stream",
     "text": [
      "100.0\n"
     ]
    }
   ],
   "source": [
    "print(float(n1))"
   ]
  },
  {
   "cell_type": "code",
   "execution_count": 69,
   "id": "15b51f81-6ff8-453b-8f31-dbdf56cebd97",
   "metadata": {},
   "outputs": [
    {
     "name": "stdout",
     "output_type": "stream",
     "text": [
      "0\n",
      "False\n",
      "0.0\n"
     ]
    }
   ],
   "source": [
    "n1=int(0.0)\n",
    "n2=bool(0.0)\n",
    "n3=str(0.0)\n",
    "print(n1)\n",
    "print(n2)\n",
    "print(n3)"
   ]
  },
  {
   "cell_type": "markdown",
   "id": "e7fcb283-ccb3-4d42-8f3f-750c56b42e21",
   "metadata": {},
   "source": [
    "**STRING to OTHER**"
   ]
  },
  {
   "cell_type": "code",
   "execution_count": null,
   "id": "2e786463-fc15-43d4-aacc-1e257589df5c",
   "metadata": {},
   "outputs": [],
   "source": [
    "int('apple') # f\n",
    "float('apple') #f\n",
    "bool('apple') # w"
   ]
  },
  {
   "cell_type": "code",
   "execution_count": 72,
   "id": "3d3af4af-0190-4dc3-941b-eef487add0e5",
   "metadata": {},
   "outputs": [
    {
     "data": {
      "text/plain": [
       "True"
      ]
     },
     "execution_count": 72,
     "metadata": {},
     "output_type": "execute_result"
    }
   ],
   "source": [
    "bool('apple')"
   ]
  },
  {
   "cell_type": "markdown",
   "id": "88155702-a52c-4898-842c-70cfb00c4d29",
   "metadata": {},
   "source": [
    "- true : NO something is present\n",
    "- false : off that is not present"
   ]
  },
  {
   "cell_type": "code",
   "execution_count": 4,
   "id": "e1490f79-7a44-4d8e-980d-1d365cac06a3",
   "metadata": {},
   "outputs": [
    {
     "data": {
      "text/plain": [
       "True"
      ]
     },
     "execution_count": 4,
     "metadata": {},
     "output_type": "execute_result"
    }
   ],
   "source": [
    "bool('0')"
   ]
  },
  {
   "cell_type": "code",
   "execution_count": 84,
   "id": "9363391f-9f7a-4fe0-adf5-b98541e7a2e7",
   "metadata": {},
   "outputs": [
    {
     "data": {
      "text/plain": [
       "False"
      ]
     },
     "execution_count": 84,
     "metadata": {},
     "output_type": "execute_result"
    }
   ],
   "source": [
    "bool('')\n",
    "# dont give extra space \n",
    "# space willbe in aslo consideration "
   ]
  },
  {
   "cell_type": "code",
   "execution_count": 78,
   "id": "3e428734-93a6-48e5-9eb3-5ce037de3ccd",
   "metadata": {},
   "outputs": [
    {
     "data": {
      "text/plain": [
       "5"
      ]
     },
     "execution_count": 78,
     "metadata": {},
     "output_type": "execute_result"
    }
   ],
   "source": [
    "len('apple')"
   ]
  },
  {
   "cell_type": "code",
   "execution_count": 80,
   "id": "02a5ced2-0d24-44d6-88c0-638b940eb5cb",
   "metadata": {},
   "outputs": [
    {
     "data": {
      "text/plain": [
       "1"
      ]
     },
     "execution_count": 80,
     "metadata": {},
     "output_type": "execute_result"
    }
   ],
   "source": [
    "len('0')"
   ]
  },
  {
   "cell_type": "code",
   "execution_count": 82,
   "id": "8b3c7d2c-2604-409b-aa02-3b2e80e6213d",
   "metadata": {},
   "outputs": [
    {
     "data": {
      "text/plain": [
       "0"
      ]
     },
     "execution_count": 82,
     "metadata": {},
     "output_type": "execute_result"
    }
   ],
   "source": [
    "len('')"
   ]
  },
  {
   "cell_type": "markdown",
   "id": "97331d97-0232-4755-9881-650e1fddcb29",
   "metadata": {},
   "source": [
    "- for number 0 and 0.0 boolean conversion gives **false**\n",
    "\n",
    "- for string empty boolean conversion gives **false**\n"
   ]
  },
  {
   "cell_type": "code",
   "execution_count": 91,
   "id": "c3298bd4-6776-4854-a40f-61d420b141bb",
   "metadata": {},
   "outputs": [
    {
     "data": {
      "text/plain": [
       "10"
      ]
     },
     "execution_count": 91,
     "metadata": {},
     "output_type": "execute_result"
    }
   ],
   "source": [
    "float('10') # works 10.0\n",
    "bool('10') # works True\n",
    "int('10') # works 10"
   ]
  },
  {
   "cell_type": "code",
   "execution_count": 87,
   "id": "cd3cec11-e62c-4a6e-8406-e9b005fe10fb",
   "metadata": {},
   "outputs": [
    {
     "data": {
      "text/plain": [
       "10.0"
      ]
     },
     "execution_count": 87,
     "metadata": {},
     "output_type": "execute_result"
    }
   ],
   "source": [
    "float('10')"
   ]
  },
  {
   "cell_type": "code",
   "execution_count": 89,
   "id": "4977521a-4da5-468f-998c-768711a47277",
   "metadata": {},
   "outputs": [
    {
     "data": {
      "text/plain": [
       "10"
      ]
     },
     "execution_count": 89,
     "metadata": {},
     "output_type": "execute_result"
    }
   ],
   "source": [
    "int('10')"
   ]
  },
  {
   "cell_type": "code",
   "execution_count": null,
   "id": "8576eb89-bb11-4557-b6d1-cf8210c4c919",
   "metadata": {},
   "outputs": [],
   "source": [
    "**str object not callable**\n",
    "- python magic\n",
    "- either you need open new notebook\n",
    "- or go to kernel and restart "
   ]
  },
  {
   "cell_type": "code",
   "execution_count": 99,
   "id": "f8cd37d5-cb72-4a52-9010-0913fcd91f1e",
   "metadata": {},
   "outputs": [
    {
     "data": {
      "text/plain": [
       "(10.5, True)"
      ]
     },
     "execution_count": 99,
     "metadata": {},
     "output_type": "execute_result"
    }
   ],
   "source": [
    "float('10.5') # w\n",
    "bool('10.5') # w\n",
    "int('10.5') # f"
   ]
  },
  {
   "cell_type": "code",
   "execution_count": 95,
   "id": "471d2524-36cf-4b4b-8f0a-ce9f176f6abe",
   "metadata": {},
   "outputs": [
    {
     "data": {
      "text/plain": [
       "10.5"
      ]
     },
     "execution_count": 95,
     "metadata": {},
     "output_type": "execute_result"
    }
   ],
   "source": [
    "float('10.5')"
   ]
  },
  {
   "cell_type": "code",
   "execution_count": 97,
   "id": "d06a12e6-20de-47b8-b7d5-31e7ebcf3754",
   "metadata": {},
   "outputs": [
    {
     "ename": "ValueError",
     "evalue": "invalid literal for int() with base 10: '10.5'",
     "output_type": "error",
     "traceback": [
      "\u001b[0;31m---------------------------------------------------------------------------\u001b[0m",
      "\u001b[0;31mValueError\u001b[0m                                Traceback (most recent call last)",
      "Cell \u001b[0;32mIn[97], line 1\u001b[0m\n\u001b[0;32m----> 1\u001b[0m \u001b[38;5;28mint\u001b[39m(\u001b[38;5;124m'\u001b[39m\u001b[38;5;124m10.5\u001b[39m\u001b[38;5;124m'\u001b[39m)\n",
      "\u001b[0;31mValueError\u001b[0m: invalid literal for int() with base 10: '10.5'"
     ]
    }
   ],
   "source": [
    "int('10.5')"
   ]
  },
  {
   "cell_type": "markdown",
   "id": "e054316d-cf46-43e2-bc29-35e813dba669",
   "metadata": {},
   "source": [
    "**float is the boss**\n",
    "\n",
    "float('10') # w\n",
    "float('10.5') # w\n",
    "\n",
    "int('10') # w\n",
    "int('10.5') # f"
   ]
  },
  {
   "cell_type": "markdown",
   "id": "1923c55a-0b5a-4c81-add7-7bf4959b99e9",
   "metadata": {},
   "source": [
    "**boolean to other**"
   ]
  },
  {
   "cell_type": "code",
   "execution_count": 101,
   "id": "229e88cc-faba-496b-8628-7ca695601df0",
   "metadata": {},
   "outputs": [
    {
     "data": {
      "text/plain": [
       "'False'"
      ]
     },
     "execution_count": 101,
     "metadata": {},
     "output_type": "execute_result"
    }
   ],
   "source": [
    "int(True) #  w 1\n",
    "float(True) # w 1.0\n",
    "str(True) # w 'True'\n",
    "int(False)  # w 0\n",
    "float(False) # w 0.0\n",
    "str(False) # w 'False'"
   ]
  },
  {
   "cell_type": "code",
   "execution_count": 105,
   "id": "6d9028d5-3284-46f1-8201-e515cc4167d9",
   "metadata": {},
   "outputs": [
    {
     "data": {
      "text/plain": [
       "1"
      ]
     },
     "execution_count": 105,
     "metadata": {},
     "output_type": "execute_result"
    }
   ],
   "source": [
    "int(True)"
   ]
  },
  {
   "cell_type": "code",
   "execution_count": 107,
   "id": "edd73647-bb7b-4c58-b9ce-6d7742c966df",
   "metadata": {},
   "outputs": [
    {
     "data": {
      "text/plain": [
       "1.0"
      ]
     },
     "execution_count": 107,
     "metadata": {},
     "output_type": "execute_result"
    }
   ],
   "source": [
    "float(True)"
   ]
  },
  {
   "cell_type": "code",
   "execution_count": 109,
   "id": "4335b9fb-0a0f-4243-8749-544e4c3e954a",
   "metadata": {},
   "outputs": [
    {
     "data": {
      "text/plain": [
       "'True'"
      ]
     },
     "execution_count": 109,
     "metadata": {},
     "output_type": "execute_result"
    }
   ],
   "source": [
    "str(True)"
   ]
  },
  {
   "cell_type": "code",
   "execution_count": 111,
   "id": "8f0e03b4-fe3d-49b7-93d0-a3b12e5554c1",
   "metadata": {},
   "outputs": [
    {
     "data": {
      "text/plain": [
       "0"
      ]
     },
     "execution_count": 111,
     "metadata": {},
     "output_type": "execute_result"
    }
   ],
   "source": [
    "int(False)"
   ]
  },
  {
   "cell_type": "code",
   "execution_count": 113,
   "id": "4c5fd6be-cb45-413f-b7fb-ea331cdef5c7",
   "metadata": {},
   "outputs": [
    {
     "data": {
      "text/plain": [
       "0.0"
      ]
     },
     "execution_count": 113,
     "metadata": {},
     "output_type": "execute_result"
    }
   ],
   "source": [
    "float(False)"
   ]
  },
  {
   "cell_type": "code",
   "execution_count": 115,
   "id": "07b950f2-6c43-4454-8100-e05534a05217",
   "metadata": {},
   "outputs": [
    {
     "data": {
      "text/plain": [
       "'False'"
      ]
     },
     "execution_count": 115,
     "metadata": {},
     "output_type": "execute_result"
    }
   ],
   "source": [
    "str(False)"
   ]
  },
  {
   "cell_type": "code",
   "execution_count": null,
   "id": "27eade67-b7be-49a5-934b-2bb59b491878",
   "metadata": {},
   "outputs": [],
   "source": [
    "print(int(True)) #  w 1\n",
    "print(float(True)) # w 1.0\n",
    "print(str(True)) # w True\n",
    "print(int(False))  # w 0\n",
    "print(float(False)) # w 0.0\n",
    "print(str(False)) # w False"
   ]
  },
  {
   "cell_type": "code",
   "execution_count": 117,
   "id": "b50ff0e0-9bae-414f-a3cc-f4542dac1b52",
   "metadata": {},
   "outputs": [
    {
     "name": "stdout",
     "output_type": "stream",
     "text": [
      "1\n"
     ]
    }
   ],
   "source": [
    "print(int(True))"
   ]
  },
  {
   "cell_type": "code",
   "execution_count": 119,
   "id": "d52bde02-91d0-4c36-9fe1-dffe8e7cf2e7",
   "metadata": {},
   "outputs": [
    {
     "name": "stdout",
     "output_type": "stream",
     "text": [
      "1.0\n"
     ]
    }
   ],
   "source": [
    "print(float(True))"
   ]
  },
  {
   "cell_type": "code",
   "execution_count": 129,
   "id": "2e4f0ef0-4463-4101-8293-c4eb9118cb6c",
   "metadata": {},
   "outputs": [
    {
     "name": "stdout",
     "output_type": "stream",
     "text": [
      "True\n"
     ]
    }
   ],
   "source": [
    "print(str(True))"
   ]
  },
  {
   "cell_type": "code",
   "execution_count": 123,
   "id": "a56465d8-f4bd-475b-b68c-850dc41cc07a",
   "metadata": {},
   "outputs": [
    {
     "name": "stdout",
     "output_type": "stream",
     "text": [
      "0\n"
     ]
    }
   ],
   "source": [
    "print(int(False))"
   ]
  },
  {
   "cell_type": "code",
   "execution_count": 125,
   "id": "bd1b4548-4a7e-4847-be15-26f24f20265a",
   "metadata": {},
   "outputs": [
    {
     "name": "stdout",
     "output_type": "stream",
     "text": [
      "0.0\n"
     ]
    }
   ],
   "source": [
    "print(float(False))"
   ]
  },
  {
   "cell_type": "code",
   "execution_count": 127,
   "id": "6c3aa4a9-3de9-4a0a-b1ca-74d71d0de391",
   "metadata": {},
   "outputs": [
    {
     "name": "stdout",
     "output_type": "stream",
     "text": [
      "False\n"
     ]
    }
   ],
   "source": [
    "print(str(False))"
   ]
  },
  {
   "cell_type": "code",
   "execution_count": null,
   "id": "9315cea1-4613-4fdc-a3c6-be64a87b5f29",
   "metadata": {},
   "outputs": [],
   "source": []
  },
  {
   "cell_type": "code",
   "execution_count": null,
   "id": "3133b2d2-14b8-4a58-b943-d7b6b670d75f",
   "metadata": {},
   "outputs": [],
   "source": [
    "float(10)\n",
    "str(10)\n",
    "bool(10)\n",
    "int(10)\n",
    "str(10.5)\n"
   ]
  },
  {
   "cell_type": "code",
   "execution_count": null,
   "id": "1ab301c2-2f0d-4f23-a701-fe5c985904bf",
   "metadata": {},
   "outputs": [],
   "source": []
  },
  {
   "cell_type": "code",
   "execution_count": null,
   "id": "4e6d3e80-5994-4007-9b67-1113b33fdf87",
   "metadata": {},
   "outputs": [],
   "source": []
  },
  {
   "cell_type": "code",
   "execution_count": null,
   "id": "3b98b4e8-a8e8-47d7-86fd-376c70f09b9c",
   "metadata": {},
   "outputs": [],
   "source": []
  },
  {
   "cell_type": "code",
   "execution_count": null,
   "id": "e7609eca-6496-4a56-9624-a41e21908a34",
   "metadata": {},
   "outputs": [],
   "source": []
  },
  {
   "cell_type": "code",
   "execution_count": null,
   "id": "db34ba94-e956-4688-b7af-4a9e7427c6d2",
   "metadata": {},
   "outputs": [],
   "source": []
  },
  {
   "cell_type": "code",
   "execution_count": null,
   "id": "e35a8011-4549-443a-8df5-71e0b193a216",
   "metadata": {},
   "outputs": [],
   "source": []
  },
  {
   "cell_type": "code",
   "execution_count": null,
   "id": "492f7391-cdbc-45f9-a73d-07c645eee3c3",
   "metadata": {},
   "outputs": [],
   "source": []
  },
  {
   "cell_type": "code",
   "execution_count": null,
   "id": "7e81c9c0-6423-4dda-991c-5e6423013486",
   "metadata": {},
   "outputs": [],
   "source": []
  },
  {
   "cell_type": "code",
   "execution_count": null,
   "id": "eeab8d5d-98e8-4a33-894b-4408750ec185",
   "metadata": {},
   "outputs": [],
   "source": []
  },
  {
   "cell_type": "code",
   "execution_count": null,
   "id": "e851ee50-cb14-4edb-b044-b67e9c48121f",
   "metadata": {},
   "outputs": [],
   "source": []
  },
  {
   "cell_type": "code",
   "execution_count": null,
   "id": "05c4fb26-2eef-4891-a42f-acf3bb66ec46",
   "metadata": {},
   "outputs": [],
   "source": []
  },
  {
   "cell_type": "code",
   "execution_count": null,
   "id": "2653bff9-e3fd-48bd-a667-70f7154b59dc",
   "metadata": {},
   "outputs": [],
   "source": []
  },
  {
   "cell_type": "code",
   "execution_count": null,
   "id": "e47fa19a-abc6-488c-ae96-4216821b401f",
   "metadata": {},
   "outputs": [],
   "source": []
  },
  {
   "cell_type": "code",
   "execution_count": null,
   "id": "f20b32d4-71b1-4608-9040-1fae03fd9c05",
   "metadata": {},
   "outputs": [],
   "source": []
  },
  {
   "cell_type": "code",
   "execution_count": null,
   "id": "41b5f06c-08e2-4b89-a8df-ea65387432c6",
   "metadata": {},
   "outputs": [],
   "source": []
  },
  {
   "cell_type": "code",
   "execution_count": null,
   "id": "3d1468eb-7832-4e5d-8b5a-300574ff2c71",
   "metadata": {},
   "outputs": [],
   "source": []
  },
  {
   "cell_type": "code",
   "execution_count": null,
   "id": "8dfa253e-a858-4ab2-811a-e0759eb10df8",
   "metadata": {},
   "outputs": [],
   "source": []
  },
  {
   "cell_type": "code",
   "execution_count": null,
   "id": "9e95e617-9448-4015-b769-181630675414",
   "metadata": {},
   "outputs": [],
   "source": []
  },
  {
   "cell_type": "code",
   "execution_count": null,
   "id": "4c90c218-a375-4c7d-ad9f-722269255cba",
   "metadata": {},
   "outputs": [],
   "source": []
  },
  {
   "cell_type": "code",
   "execution_count": null,
   "id": "b7521795-a777-4747-bfbc-592e1a45e708",
   "metadata": {},
   "outputs": [],
   "source": []
  },
  {
   "cell_type": "code",
   "execution_count": null,
   "id": "b4552413-0b59-4e20-adb5-b0506f212fd2",
   "metadata": {},
   "outputs": [],
   "source": []
  },
  {
   "cell_type": "code",
   "execution_count": null,
   "id": "561411b0-613c-4722-b75c-5f8dc0015f3d",
   "metadata": {},
   "outputs": [],
   "source": []
  },
  {
   "cell_type": "code",
   "execution_count": null,
   "id": "ff585ba1-cb88-4f76-b424-e3ad06bb70d8",
   "metadata": {},
   "outputs": [],
   "source": []
  },
  {
   "cell_type": "code",
   "execution_count": null,
   "id": "b8955e1b-48a2-4747-a36f-717a21222ef4",
   "metadata": {},
   "outputs": [],
   "source": []
  },
  {
   "cell_type": "code",
   "execution_count": null,
   "id": "ff04d6b0-f8a4-422d-9441-dbb8958af491",
   "metadata": {},
   "outputs": [],
   "source": []
  },
  {
   "cell_type": "code",
   "execution_count": null,
   "id": "5f9995df-4e80-4f72-8b07-686e57d8724c",
   "metadata": {},
   "outputs": [],
   "source": []
  },
  {
   "cell_type": "code",
   "execution_count": null,
   "id": "f2abf23b-a8cb-4445-8b00-67e3f38a4db6",
   "metadata": {},
   "outputs": [],
   "source": []
  },
  {
   "cell_type": "code",
   "execution_count": null,
   "id": "bdfb784e-6509-4032-b28a-1f6bf21f8253",
   "metadata": {},
   "outputs": [],
   "source": []
  },
  {
   "cell_type": "code",
   "execution_count": null,
   "id": "6413c939-cbdc-4ca1-b9eb-1ad6180cda15",
   "metadata": {},
   "outputs": [],
   "source": []
  },
  {
   "cell_type": "code",
   "execution_count": null,
   "id": "367eb21c-666e-46ab-b160-fc5a157ccf03",
   "metadata": {},
   "outputs": [],
   "source": []
  }
 ],
 "metadata": {
  "kernelspec": {
   "display_name": "Python [conda env:base] *",
   "language": "python",
   "name": "conda-base-py"
  },
  "language_info": {
   "codemirror_mode": {
    "name": "ipython",
    "version": 3
   },
   "file_extension": ".py",
   "mimetype": "text/x-python",
   "name": "python",
   "nbconvert_exporter": "python",
   "pygments_lexer": "ipython3",
   "version": "3.12.7"
  }
 },
 "nbformat": 4,
 "nbformat_minor": 5
}

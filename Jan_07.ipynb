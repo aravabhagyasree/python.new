{
 "cells": [
  {
   "cell_type": "code",
   "execution_count": 50,
   "id": "b5ce3108-20ec-4547-885b-cbcf1d524ab3",
   "metadata": {},
   "outputs": [
    {
     "data": {
      "text/plain": [
       "58084"
      ]
     },
     "execution_count": 50,
     "metadata": {},
     "output_type": "execute_result"
    }
   ],
   "source": [
    "import random\n",
    "random.randint(100,60000)"
   ]
  },
  {
   "cell_type": "code",
   "execution_count": 80,
   "id": "52fbabf1-0265-4f63-a628-68414fef6ae2",
   "metadata": {},
   "outputs": [
    {
     "data": {
      "text/plain": [
       "3"
      ]
     },
     "execution_count": 80,
     "metadata": {},
     "output_type": "execute_result"
    }
   ],
   "source": [
    "import random\n",
    "list=[1,2,3,4,5]\n",
    "random.choice(list)"
   ]
  },
  {
   "cell_type": "code",
   "execution_count": 280,
   "id": "fe11b125-7fd2-48ec-a7d9-a0cd3fd05ee4",
   "metadata": {
    "scrolled": true
   },
   "outputs": [
    {
     "data": {
      "text/plain": [
       "[3, 1, 4, 2]"
      ]
     },
     "execution_count": 280,
     "metadata": {},
     "output_type": "execute_result"
    }
   ],
   "source": [
    "import random\n",
    "random.sample([1,2,3,33,4],4)"
   ]
  },
  {
   "cell_type": "code",
   "execution_count": 68,
   "id": "5e630727-b970-40c4-a796-caed13edb68e",
   "metadata": {},
   "outputs": [
    {
     "data": {
      "text/plain": [
       "5"
      ]
     },
     "execution_count": 68,
     "metadata": {},
     "output_type": "execute_result"
    }
   ],
   "source": [
    "import random\n",
    "random.randrange(1,9,4)"
   ]
  },
  {
   "cell_type": "code",
   "execution_count": null,
   "id": "f686e529-de2c-4ca4-be8a-929cb65467b9",
   "metadata": {},
   "outputs": [],
   "source": []
  },
  {
   "cell_type": "code",
   "execution_count": 126,
   "id": "b315a909-e29b-4f23-b295-0a36979b49c4",
   "metadata": {},
   "outputs": [
    {
     "data": {
      "text/plain": [
       "5.0"
      ]
     },
     "execution_count": 126,
     "metadata": {},
     "output_type": "execute_result"
    }
   ],
   "source": [
    "import math\n",
    "math.sqrt(25)"
   ]
  },
  {
   "cell_type": "code",
   "execution_count": 130,
   "id": "fbf8b06d-b376-4115-8bb4-e00c95bdb216",
   "metadata": {},
   "outputs": [
    {
     "data": {
      "text/plain": [
       "3.141592653589793"
      ]
     },
     "execution_count": 130,
     "metadata": {},
     "output_type": "execute_result"
    }
   ],
   "source": [
    "math.pi"
   ]
  },
  {
   "cell_type": "code",
   "execution_count": 134,
   "id": "d232b8f5-ebd3-41b1-972b-04451046a022",
   "metadata": {},
   "outputs": [
    {
     "data": {
      "text/plain": [
       "4"
      ]
     },
     "execution_count": 134,
     "metadata": {},
     "output_type": "execute_result"
    }
   ],
   "source": [
    "math.ceil(3.7777896890)"
   ]
  },
  {
   "cell_type": "code",
   "execution_count": 136,
   "id": "4590ea9b-8379-4d31-96ca-874381ae4d08",
   "metadata": {},
   "outputs": [
    {
     "data": {
      "text/plain": [
       "2.718281828459045"
      ]
     },
     "execution_count": 136,
     "metadata": {},
     "output_type": "execute_result"
    }
   ],
   "source": [
    "math.e"
   ]
  },
  {
   "cell_type": "code",
   "execution_count": 138,
   "id": "a2fb5fd8-d8e8-451a-a9ee-7f03cc193a73",
   "metadata": {},
   "outputs": [
    {
     "data": {
      "text/plain": [
       "4.0"
      ]
     },
     "execution_count": 138,
     "metadata": {},
     "output_type": "execute_result"
    }
   ],
   "source": [
    "math.pow(2,2)"
   ]
  },
  {
   "cell_type": "code",
   "execution_count": 142,
   "id": "d4170d81-4c40-421c-8c0d-b9c30d11f41c",
   "metadata": {},
   "outputs": [
    {
     "data": {
      "text/plain": [
       "-0.3048106211022167"
      ]
     },
     "execution_count": 142,
     "metadata": {},
     "output_type": "execute_result"
    }
   ],
   "source": [
    "math.sin(60)"
   ]
  },
  {
   "cell_type": "code",
   "execution_count": null,
   "id": "48c347ff-3049-4b01-87f5-31e79a7e6689",
   "metadata": {},
   "outputs": [],
   "source": []
  },
  {
   "cell_type": "code",
   "execution_count": 282,
   "id": "1aedfd43-2542-4454-b094-74b15f068ec6",
   "metadata": {},
   "outputs": [
    {
     "name": "stdout",
     "output_type": "stream",
     "text": [
      "hi\n",
      "hello\n"
     ]
    }
   ],
   "source": [
    "import time\n",
    "print('hi')\n",
    "time.sleep(3)\n",
    "print('hello')"
   ]
  },
  {
   "cell_type": "code",
   "execution_count": 284,
   "id": "62aeedf2-e266-478b-9caf-22f9df3a09d9",
   "metadata": {},
   "outputs": [
    {
     "name": "stdout",
     "output_type": "stream",
     "text": [
      "hhiii\n",
      "0.0001537799835205078\n"
     ]
    }
   ],
   "source": [
    "import time\n",
    "start=time.time()\n",
    "print('hhiii')\n",
    "end=time.time()\n",
    "print(end-start)"
   ]
  },
  {
   "cell_type": "markdown",
   "id": "dffa9d65-a967-4498-a9ea-fe9f2bc27335",
   "metadata": {},
   "source": [
    "**attribute error**\n",
    "- means method missing"
   ]
  },
  {
   "cell_type": "code",
   "execution_count": 286,
   "id": "0386ef67-3a5b-4bf0-8447-812f6778905d",
   "metadata": {},
   "outputs": [
    {
     "name": "stdout",
     "output_type": "stream",
     "text": [
      "3.0027761459350586\n"
     ]
    }
   ],
   "source": [
    "# calculates the sleep time\n",
    "\n",
    "import time\n",
    "start=time.time()\n",
    "time.sleep(3)\n",
    "end=time.time()\n",
    "print(end-start)"
   ]
  },
  {
   "cell_type": "code",
   "execution_count": 332,
   "id": "7d508156-e251-42c1-8747-cbc8106e6475",
   "metadata": {},
   "outputs": [
    {
     "data": {
      "text/plain": [
       "['red', 'black', 'green']"
      ]
     },
     "execution_count": 332,
     "metadata": {},
     "output_type": "execute_result"
    }
   ],
   "source": [
    "random.sample(['red','blue','black','yellow','pink','green'],3)"
   ]
  },
  {
   "cell_type": "code",
   "execution_count": null,
   "id": "4b068cd3-862b-46c1-a172-2162109dfdbc",
   "metadata": {},
   "outputs": [],
   "source": []
  },
  {
   "cell_type": "code",
   "execution_count": 334,
   "id": "2c5afc6b-504b-470f-8f90-e3c98e0af299",
   "metadata": {},
   "outputs": [
    {
     "data": {
      "text/plain": [
       "3"
      ]
     },
     "execution_count": 334,
     "metadata": {},
     "output_type": "execute_result"
    }
   ],
   "source": [
    "# type 1\n",
    "\n",
    "import random\n",
    "random.randint(1,10)"
   ]
  },
  {
   "cell_type": "code",
   "execution_count": 360,
   "id": "182f2b08-7ed0-4d1d-8432-84b4d70099b4",
   "metadata": {},
   "outputs": [
    {
     "data": {
      "text/plain": [
       "10"
      ]
     },
     "execution_count": 360,
     "metadata": {},
     "output_type": "execute_result"
    }
   ],
   "source": [
    "from random import randint\n",
    "randint(1,10)"
   ]
  },
  {
   "cell_type": "code",
   "execution_count": null,
   "id": "94d5813e-637a-4445-ba75-bb26ebeff318",
   "metadata": {},
   "outputs": [],
   "source": []
  },
  {
   "cell_type": "code",
   "execution_count": 354,
   "id": "3a7df116-827b-4a99-a353-5ca2b734d79b",
   "metadata": {},
   "outputs": [
    {
     "data": {
      "text/plain": [
       "6.0"
      ]
     },
     "execution_count": 354,
     "metadata": {},
     "output_type": "execute_result"
    }
   ],
   "source": [
    "import math\n",
    "math.sqrt(36)"
   ]
  },
  {
   "cell_type": "code",
   "execution_count": 356,
   "id": "66cc5ff7-5c4d-4b2e-9716-941fc5a30f0d",
   "metadata": {},
   "outputs": [
    {
     "data": {
      "text/plain": [
       "6.0"
      ]
     },
     "execution_count": 356,
     "metadata": {},
     "output_type": "execute_result"
    }
   ],
   "source": [
    "from math import sqrt\n",
    "sqrt(36)"
   ]
  },
  {
   "cell_type": "code",
   "execution_count": 358,
   "id": "69ef8de4-87f4-4552-a677-5790608d0cd4",
   "metadata": {},
   "outputs": [
    {
     "data": {
      "text/plain": [
       "8"
      ]
     },
     "execution_count": 358,
     "metadata": {},
     "output_type": "execute_result"
    }
   ],
   "source": [
    "# type 3\n",
    "\n",
    "from random import randint as di\n",
    "di(1,10)"
   ]
  },
  {
   "cell_type": "code",
   "execution_count": null,
   "id": "2a6a17ca-c0a9-4c21-95b9-598cff5417b9",
   "metadata": {},
   "outputs": [],
   "source": []
  },
  {
   "cell_type": "code",
   "execution_count": null,
   "id": "02122477-f106-4e45-986e-aaf45731da3f",
   "metadata": {},
   "outputs": [],
   "source": [
    "# types of representation of packages\n",
    "\n",
    "# type 1\n",
    "import random\n",
    "random.randint(1,10)\n",
    "\n",
    "from random import randint\n",
    "randint(1,10)"
   ]
  },
  {
   "cell_type": "code",
   "execution_count": null,
   "id": "7a9db294-bcfd-4803-91aa-269eb661129a",
   "metadata": {},
   "outputs": [],
   "source": [
    "import cv2 # computer vision"
   ]
  },
  {
   "cell_type": "code",
   "execution_count": 362,
   "id": "cb8f12d8-134c-4811-bfbd-5df7af496a78",
   "metadata": {},
   "outputs": [
    {
     "ename": "ModuleNotFoundError",
     "evalue": "No module named 'wordcloud'",
     "output_type": "error",
     "traceback": [
      "\u001b[0;31m---------------------------------------------------------------------------\u001b[0m",
      "\u001b[0;31mModuleNotFoundError\u001b[0m                       Traceback (most recent call last)",
      "Cell \u001b[0;32mIn[362], line 1\u001b[0m\n\u001b[0;32m----> 1\u001b[0m \u001b[38;5;28;01mimport\u001b[39;00m \u001b[38;5;21;01mwordcloud\u001b[39;00m\n",
      "\u001b[0;31mModuleNotFoundError\u001b[0m: No module named 'wordcloud'"
     ]
    }
   ],
   "source": [
    "import wordcloud # pasting the words on the cloud"
   ]
  },
  {
   "cell_type": "markdown",
   "id": "3a38b1cf-5db4-49e9-9378-747e77a2cb83",
   "metadata": {},
   "source": [
    "# module not found means\n",
    "\n",
    "- when ever packages are not there we need to install \n",
    "- 90% the install name and the import name both are same,10% diffrent \n",
    "- always reference as pypi.org \n",
    "- syntax is : pip install(space)packagename\n",
    "    - pip install worldcloud \n",
    "    - pip install cv2( we are not sure)\n",
    "- we can install the packages in **anaconda prompt**\n",
    "- or we call install inside jupternotebook(not recommended)"
   ]
  },
  {
   "cell_type": "code",
   "execution_count": null,
   "id": "ca3c6a6a-3254-4d27-89b9-76a146b9203d",
   "metadata": {},
   "outputs": [],
   "source": []
  },
  {
   "cell_type": "code",
   "execution_count": 366,
   "id": "65695fd6-b94e-4298-862f-011666d17319",
   "metadata": {},
   "outputs": [
    {
     "ename": "ModuleNotFoundError",
     "evalue": "No module named 'wordcloud'",
     "output_type": "error",
     "traceback": [
      "\u001b[0;31m---------------------------------------------------------------------------\u001b[0m",
      "\u001b[0;31mModuleNotFoundError\u001b[0m                       Traceback (most recent call last)",
      "Cell \u001b[0;32mIn[366], line 1\u001b[0m\n\u001b[0;32m----> 1\u001b[0m \u001b[38;5;28;01mimport\u001b[39;00m \u001b[38;5;21;01mwordcloud\u001b[39;00m\n",
      "\u001b[0;31mModuleNotFoundError\u001b[0m: No module named 'wordcloud'"
     ]
    }
   ],
   "source": [
    "import wordcloud"
   ]
  },
  {
   "cell_type": "code",
   "execution_count": 5,
   "id": "b239ed76-5e38-47d3-bab5-f03f6403c8a1",
   "metadata": {},
   "outputs": [
    {
     "data": {
      "text/plain": [
       "['ImageColorGenerator',\n",
       " 'STOPWORDS',\n",
       " 'WordCloud',\n",
       " '__all__',\n",
       " '__builtins__',\n",
       " '__cached__',\n",
       " '__doc__',\n",
       " '__file__',\n",
       " '__loader__',\n",
       " '__name__',\n",
       " '__package__',\n",
       " '__path__',\n",
       " '__spec__',\n",
       " '__version__',\n",
       " '_version',\n",
       " 'color_from_image',\n",
       " 'get_single_color_func',\n",
       " 'query_integral_image',\n",
       " 'random_color_func',\n",
       " 'tokenization',\n",
       " 'wordcloud']"
      ]
     },
     "execution_count": 5,
     "metadata": {},
     "output_type": "execute_result"
    }
   ],
   "source": [
    "import wordcloud\n",
    "dir(wordcloud)"
   ]
  }
 ],
 "metadata": {
  "kernelspec": {
   "display_name": "Python [conda env:base] *",
   "language": "python",
   "name": "conda-base-py"
  },
  "language_info": {
   "codemirror_mode": {
    "name": "ipython",
    "version": 3
   },
   "file_extension": ".py",
   "mimetype": "text/x-python",
   "name": "python",
   "nbconvert_exporter": "python",
   "pygments_lexer": "ipython3",
   "version": "3.12.7"
  }
 },
 "nbformat": 4,
 "nbformat_minor": 5
}

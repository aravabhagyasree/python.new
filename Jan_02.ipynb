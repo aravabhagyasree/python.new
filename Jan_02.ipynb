{
 "cells": [
  {
   "cell_type": "markdown",
   "id": "99fa03ef-4791-44a9-9d51-490558a544cc",
   "metadata": {},
   "source": [
    "$ boolean $"
   ]
  },
  {
   "cell_type": "code",
   "execution_count": null,
   "id": "fa7783cf-58e2-4c93-83d8-c43473b21bbe",
   "metadata": {},
   "outputs": [],
   "source": [
    "True\n",
    "False"
   ]
  },
  {
   "cell_type": "code",
   "execution_count": 3,
   "id": "057d28a0-4b84-42de-9345-9c0456a1577e",
   "metadata": {},
   "outputs": [
    {
     "data": {
      "text/plain": [
       "True"
      ]
     },
     "execution_count": 3,
     "metadata": {},
     "output_type": "execute_result"
    }
   ],
   "source": [
    "val = True \n",
    "val"
   ]
  },
  {
   "cell_type": "code",
   "execution_count": 5,
   "id": "b08cea61-3b46-4bdc-adcf-d74781aace68",
   "metadata": {},
   "outputs": [
    {
     "data": {
      "text/plain": [
       "bool"
      ]
     },
     "execution_count": 5,
     "metadata": {},
     "output_type": "execute_result"
    }
   ],
   "source": [
    "type(val)"
   ]
  },
  {
   "cell_type": "code",
   "execution_count": 9,
   "id": "73eb3290-2832-4a1e-83ae-3826dfa74f13",
   "metadata": {},
   "outputs": [
    {
     "data": {
      "text/plain": [
       "bool"
      ]
     },
     "execution_count": 9,
     "metadata": {},
     "output_type": "execute_result"
    }
   ],
   "source": [
    "val1=False \n",
    "type(val1)"
   ]
  },
  {
   "cell_type": "code",
   "execution_count": null,
   "id": "d710288d-4a5c-4814-a6f1-b6000dab42ef",
   "metadata": {},
   "outputs": [],
   "source": []
  },
  {
   "cell_type": "markdown",
   "id": "8cb21d60-7eed-4d03-8283-b3bda8543adb",
   "metadata": {},
   "source": [
    "$STRINGS$"
   ]
  },
  {
   "cell_type": "markdown",
   "id": "14cbf6f7-823a-41fc-a768-44143478b104",
   "metadata": {},
   "source": [
    "- ENGLISH FORMATE representation\n",
    "- strings represent with quotesm\n",
    "- we can use single quotes, double, triple quotes "
   ]
  },
  {
   "cell_type": "code",
   "execution_count": 24,
   "id": "42cb964f-8255-479e-9cae-666a032fe60f",
   "metadata": {},
   "outputs": [
    {
     "name": "stdout",
     "output_type": "stream",
     "text": [
      "python\n"
     ]
    }
   ],
   "source": [
    "name = 'python'\n",
    "print(name)"
   ]
  },
  {
   "cell_type": "code",
   "execution_count": 16,
   "id": "24327e6c-f8ae-4c2f-9a6c-c1dc9fc4d68d",
   "metadata": {},
   "outputs": [
    {
     "data": {
      "text/plain": [
       "str"
      ]
     },
     "execution_count": 16,
     "metadata": {},
     "output_type": "execute_result"
    }
   ],
   "source": [
    "type(name)"
   ]
  },
  {
   "cell_type": "code",
   "execution_count": 30,
   "id": "ec28d0f3-e8af-49b2-bcc5-bc6c9379f9f4",
   "metadata": {},
   "outputs": [
    {
     "data": {
      "text/plain": [
       "'python'"
      ]
     },
     "execution_count": 30,
     "metadata": {},
     "output_type": "execute_result"
    }
   ],
   "source": [
    "name = \"python\"\n",
    "name\n",
    "# output display as single quotes only"
   ]
  },
  {
   "cell_type": "code",
   "execution_count": 32,
   "id": "c81c72b4-d5bc-4a9a-b1c8-0fe64f450180",
   "metadata": {},
   "outputs": [
    {
     "name": "stdout",
     "output_type": "stream",
     "text": [
      "python\n"
     ]
    }
   ],
   "source": [
    "name = \"python\"\n",
    "print(name)\n",
    "# when we print we will not able to see the quotes"
   ]
  },
  {
   "cell_type": "code",
   "execution_count": 26,
   "id": "f07d6a8c-e9d6-418a-a453-0053ea39021a",
   "metadata": {},
   "outputs": [
    {
     "data": {
      "text/plain": [
       "str"
      ]
     },
     "execution_count": 26,
     "metadata": {},
     "output_type": "execute_result"
    }
   ],
   "source": [
    "val = '10'\n",
    "type(val)\n",
    "#it is in the quotes so it will become string"
   ]
  },
  {
   "cell_type": "code",
   "execution_count": 28,
   "id": "e53bf8c6-35c3-48ac-acc7-61bc5a8e4fbd",
   "metadata": {},
   "outputs": [
    {
     "data": {
      "text/plain": [
       "int"
      ]
     },
     "execution_count": 28,
     "metadata": {},
     "output_type": "execute_result"
    }
   ],
   "source": [
    "val=10\n",
    "type(val)"
   ]
  },
  {
   "cell_type": "code",
   "execution_count": 42,
   "id": "43f673d3-c5d2-4a2b-9ae8-f9023ac6289e",
   "metadata": {},
   "outputs": [
    {
     "name": "stdout",
     "output_type": "stream",
     "text": [
      "i love 'PYTHON'.\n"
     ]
    }
   ],
   "source": [
    "str1= \"i love \" + \"'\" + \"PYTHON\" + \"'\" +\".\"\n",
    "print(str1)"
   ]
  },
  {
   "cell_type": "code",
   "execution_count": 44,
   "id": "f484d040-1091-4bb4-930f-488c7f54de74",
   "metadata": {},
   "outputs": [
    {
     "name": "stdout",
     "output_type": "stream",
     "text": [
      " i love 'python'\n"
     ]
    }
   ],
   "source": [
    "str1=\" i love 'python'\"\n",
    "print(str1)"
   ]
  },
  {
   "cell_type": "markdown",
   "id": "1b34525f-0863-412f-8e05-26ae044f9fed",
   "metadata": {},
   "source": [
    "- keep entrie string in double quotes then highlight the word with single quote & vice vesa"
   ]
  },
  {
   "cell_type": "markdown",
   "id": "381739a1-1e1a-417d-a84f-4cc24d2ab6e7",
   "metadata": {},
   "source": [
    "**Triple Quote**\n",
    "- triple quotes can not allowed in coding part\n",
    "- triple quotes means conveying information\n",
    "- this is process is called as **Doc string**\n",
    "- in jupyter notebook we have markdown option\n",
    "- but in vscode or pycharm there is no markdown option\n",
    "- so user will convey the infromation by providing triple quotes"
   ]
  },
  {
   "cell_type": "code",
   "execution_count": 55,
   "id": "6e3c1faa-4895-49ac-9a60-3fc2d39a8dbc",
   "metadata": {},
   "outputs": [
    {
     "data": {
      "text/plain": [
       "' hai \\ntoday im learning python\\nits easy '"
      ]
     },
     "execution_count": 55,
     "metadata": {},
     "output_type": "execute_result"
    }
   ],
   "source": [
    "\"\"\" hai \n",
    "today im learning python\n",
    "its easy \"\"\""
   ]
  },
  {
   "cell_type": "markdown",
   "id": "d8224461-b3b8-4444-bddc-7396dc0b736b",
   "metadata": {},
   "source": [
    "true = True  # works\n",
    "true = 'True' # w\n",
    "true = 10.5  # w\n",
    "True = 10 # f\n",
    "True = True # f"
   ]
  },
  {
   "cell_type": "code",
   "execution_count": null,
   "id": "e32be28a-fdcb-49fe-9b41-200f5d78a159",
   "metadata": {},
   "outputs": [],
   "source": []
  },
  {
   "cell_type": "code",
   "execution_count": null,
   "id": "8098de22-088e-4e9b-86ae-76785d40ea3c",
   "metadata": {},
   "outputs": [],
   "source": []
  },
  {
   "cell_type": "code",
   "execution_count": null,
   "id": "39e67498-3a17-4398-b5b4-fa7bf3468089",
   "metadata": {},
   "outputs": [],
   "source": []
  },
  {
   "cell_type": "code",
   "execution_count": null,
   "id": "97e0b72f-0b60-4a5b-b3b0-d687e1f2b5cc",
   "metadata": {},
   "outputs": [],
   "source": []
  },
  {
   "cell_type": "code",
   "execution_count": null,
   "id": "a33641a6-ae9e-4cb9-a024-3a521873f4b0",
   "metadata": {},
   "outputs": [],
   "source": []
  },
  {
   "cell_type": "code",
   "execution_count": null,
   "id": "3732d965-e6b5-4512-80b3-f4f485c6dd34",
   "metadata": {},
   "outputs": [],
   "source": []
  },
  {
   "cell_type": "code",
   "execution_count": null,
   "id": "6c864cec-0af4-4c84-b9d3-b6ce341096f4",
   "metadata": {},
   "outputs": [],
   "source": []
  },
  {
   "cell_type": "code",
   "execution_count": null,
   "id": "6567b07a-a05c-4026-b6a5-f8ba5bd4d8ef",
   "metadata": {},
   "outputs": [],
   "source": []
  },
  {
   "cell_type": "code",
   "execution_count": null,
   "id": "d06cd965-683d-4ece-bc41-4b4502bdebba",
   "metadata": {},
   "outputs": [],
   "source": []
  },
  {
   "cell_type": "code",
   "execution_count": null,
   "id": "1cdd3544-dfe2-4a20-a701-c6c02cc3043b",
   "metadata": {},
   "outputs": [],
   "source": []
  },
  {
   "cell_type": "code",
   "execution_count": null,
   "id": "7579ceb9-8a7e-47ad-ac5e-a7519e33359e",
   "metadata": {},
   "outputs": [],
   "source": []
  },
  {
   "cell_type": "code",
   "execution_count": null,
   "id": "bc749acd-da8d-43a4-90be-68adaa6246a7",
   "metadata": {},
   "outputs": [],
   "source": []
  },
  {
   "cell_type": "code",
   "execution_count": null,
   "id": "10da26f1-7dca-4b4a-909f-f2d866f021f6",
   "metadata": {},
   "outputs": [],
   "source": []
  },
  {
   "cell_type": "code",
   "execution_count": null,
   "id": "26020a85-e720-40c6-842d-6720f19e553b",
   "metadata": {},
   "outputs": [],
   "source": []
  },
  {
   "cell_type": "code",
   "execution_count": null,
   "id": "9c878f00-15a1-4c5a-8e6c-c0daf986f790",
   "metadata": {},
   "outputs": [],
   "source": []
  },
  {
   "cell_type": "code",
   "execution_count": null,
   "id": "265f7b14-526b-4f21-851c-abcb0be3bdb5",
   "metadata": {},
   "outputs": [],
   "source": []
  },
  {
   "cell_type": "code",
   "execution_count": null,
   "id": "effeb49b-0344-45ef-962a-2822eda0e273",
   "metadata": {},
   "outputs": [],
   "source": []
  },
  {
   "cell_type": "code",
   "execution_count": null,
   "id": "ab5573e3-8146-40a1-bd41-dd73b54b2147",
   "metadata": {},
   "outputs": [],
   "source": []
  }
 ],
 "metadata": {
  "kernelspec": {
   "display_name": "Python [conda env:base] *",
   "language": "python",
   "name": "conda-base-py"
  },
  "language_info": {
   "codemirror_mode": {
    "name": "ipython",
    "version": 3
   },
   "file_extension": ".py",
   "mimetype": "text/x-python",
   "name": "python",
   "nbconvert_exporter": "python",
   "pygments_lexer": "ipython3",
   "version": "3.12.7"
  }
 },
 "nbformat": 4,
 "nbformat_minor": 5
}

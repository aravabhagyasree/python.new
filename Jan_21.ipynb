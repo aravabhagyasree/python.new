{
 "cells": [
  {
   "cell_type": "code",
   "execution_count": 106,
   "id": "2600f419-e669-431c-a444-cccd4242aa80",
   "metadata": {},
   "outputs": [
    {
     "name": "stdout",
     "output_type": "stream",
     "text": [
      "function with out arguments\n"
     ]
    },
    {
     "name": "stdin",
     "output_type": "stream",
     "text": [
      "enter the salary 70000\n",
      "enter the tax 9\n"
     ]
    },
    {
     "name": "stdout",
     "output_type": "stream",
     "text": [
      "the total tax pay : 9\n",
      "function with arguments\n",
      "the total tax pay 20\n",
      "function with default arguments\n",
      "the total tax pay : 10\n"
     ]
    }
   ],
   "source": [
    "print(\"function with out arguments\")\n",
    "def tax_cal():\n",
    "    salary=eval(input(\"enter the salary\"))\n",
    "    tax_per=eval(input(\"enter the tax\"))\n",
    "    tax_pay=salary*tax_per/100\n",
    "    print(\"the total tax pay :\",tax_per)\n",
    "\n",
    "tax_cal()\n",
    "\n",
    "\n",
    "print(\"function with arguments\")\n",
    "def tax_cal1(salaryy,tax_per):\n",
    "    tax_pay=salaryy*tax_per/100\n",
    "    print(f\"the total tax pay {tax_per}\")\n",
    "\n",
    "tax_cal1(100000,20)\n",
    "\n",
    "\n",
    "print(\"function with default arguments\")\n",
    "def tax_cal2(salaryyy,tax_perrr=10):\n",
    "    tax_payyy=salaryyy*tax_perrr/100\n",
    "    print(\"the total tax pay :\",tax_perrr)\n",
    "\n",
    "tax_cal2(50000)"
   ]
  },
  {
   "cell_type": "code",
   "execution_count": null,
   "id": "f62fcb2e-334e-4d31-89de-bf6d9d668557",
   "metadata": {},
   "outputs": [],
   "source": []
  },
  {
   "cell_type": "code",
   "execution_count": 13,
   "id": "d4fe809b-ce0a-490e-866f-80c7395354a4",
   "metadata": {},
   "outputs": [
    {
     "data": {
      "text/plain": [
       "0j"
      ]
     },
     "execution_count": 13,
     "metadata": {},
     "output_type": "execute_result"
    }
   ],
   "source": [
    "complex() # complex(real=0, imag=0) "
   ]
  },
  {
   "cell_type": "code",
   "execution_count": 15,
   "id": "4cb915b9-ede9-486d-bdc5-3c5b8ae56108",
   "metadata": {},
   "outputs": [
    {
     "data": {
      "text/plain": [
       "(3+4j)"
      ]
     },
     "execution_count": 15,
     "metadata": {},
     "output_type": "execute_result"
    }
   ],
   "source": [
    "complex(3,4) # real = 3, imagine =4 =====> 3+4j"
   ]
  },
  {
   "cell_type": "code",
   "execution_count": 17,
   "id": "51490941-03ed-47af-9ff9-5b44a13d1e05",
   "metadata": {},
   "outputs": [
    {
     "data": {
      "text/plain": [
       "(4+0j)"
      ]
     },
     "execution_count": 17,
     "metadata": {},
     "output_type": "execute_result"
    }
   ],
   "source": [
    "complex(4)  # real=4, imagine=0, 'j' is common ====> 4+0j"
   ]
  },
  {
   "cell_type": "code",
   "execution_count": null,
   "id": "4a7ec62e-83d3-4517-99d3-f31ffa0fc667",
   "metadata": {},
   "outputs": [],
   "source": [
    "- now onwards whenever u see package \n",
    "- always do shift+tab inside teh brackets and observe\n",
    "- with or without or default"
   ]
  },
  {
   "cell_type": "code",
   "execution_count": 21,
   "id": "c273dc22-d2b2-4fe9-a106-440dbf1b8a6a",
   "metadata": {},
   "outputs": [
    {
     "name": "stdout",
     "output_type": "stream",
     "text": [
      "a: 100\n",
      "b: 200\n",
      "c: 300\n",
      "the summation of 100,200 and 300 is: 600\n"
     ]
    }
   ],
   "source": [
    "def add(a,b,c):\n",
    "    print('a:',a)\n",
    "    print('b:',b)\n",
    "    print('c:',c)\n",
    "    summ=a+b+c\n",
    "    print(f'the summation of {a},{b} and {c} is: {summ}')\n",
    "\n",
    "add(100,200,300)"
   ]
  },
  {
   "cell_type": "code",
   "execution_count": null,
   "id": "23e02171-9a64-4840-8c7c-ecf118e7dd49",
   "metadata": {},
   "outputs": [],
   "source": [
    "case-1:"
   ]
  },
  {
   "cell_type": "code",
   "execution_count": null,
   "id": "2c11221f-5490-4801-b539-b4e20d59e55b",
   "metadata": {},
   "outputs": [],
   "source": [
    "def add(a,b,c):\n",
    "    print('a:',a)\n",
    "    print('b:',b)\n",
    "    print('c:',c)\n",
    "    summ=a+b+c\n",
    "    print(f'the summation of {a},{b} and {c} is: {summ}')\n",
    "\n",
    "add(100,200,300)"
   ]
  },
  {
   "cell_type": "code",
   "execution_count": null,
   "id": "ef136f23-0478-437e-8b73-f3041517a5f4",
   "metadata": {},
   "outputs": [],
   "source": [
    "case-2:"
   ]
  },
  {
   "cell_type": "code",
   "execution_count": 23,
   "id": "162ff87c-2a8b-46e0-8149-be6b8aea5a70",
   "metadata": {},
   "outputs": [
    {
     "name": "stdout",
     "output_type": "stream",
     "text": [
      "a: 100\n",
      "b: 200\n",
      "c: 700\n",
      "the summation of 100,200 and 700 is: 1000\n"
     ]
    }
   ],
   "source": [
    "def add(a,b,c=400):\n",
    "    print('a:',a)\n",
    "    print('b:',b)\n",
    "    print('c:',c)\n",
    "    summ=a+b+c\n",
    "    print(f'the summation of {a},{b} and {c} is: {summ}')\n",
    "\n",
    "add(100,200,700)"
   ]
  },
  {
   "cell_type": "markdown",
   "id": "430765e2-aaa3-4270-90e7-25079e412537",
   "metadata": {},
   "source": [
    "- in above case we already provided default value c=400\n",
    "\n",
    "- but while we call the function c value becomes=700\n",
    "\n",
    "- **step-1:** Define the function: while define what is the value 400\n",
    "\n",
    "- **step-2:** call the function : while call the function what is the value = 700\n",
    "\n",
    "- **step-3:** running the function : while running what is the value : 700"
   ]
  },
  {
   "cell_type": "code",
   "execution_count": null,
   "id": "3dcc57a5-ddb9-4550-a7f8-603c6bd89cb1",
   "metadata": {},
   "outputs": [],
   "source": [
    "case-3:"
   ]
  },
  {
   "cell_type": "code",
   "execution_count": 31,
   "id": "f3ade63b-594b-4de8-aece-ddde5a7a9d9b",
   "metadata": {},
   "outputs": [
    {
     "name": "stdout",
     "output_type": "stream",
     "text": [
      "a: 100\n",
      "b: 200\n",
      "c: 1000\n",
      "the summation of 100,200 and 1000 is: 1300\n"
     ]
    }
   ],
   "source": [
    "def add(a,b,c=400): # define the function (step1)\n",
    "    c=1000\n",
    "    print('a:',a)\n",
    "    print('b:',b)          # running the function (step3)\n",
    "    print('c:',c)\n",
    "    summ=a+b+c\n",
    "    print(f'the summation of {a},{b} and {c} is: {summ}')\n",
    "\n",
    "add(100,200,700)     # call the function (step2)\n",
    "\n",
    "# while define c=400\n",
    "# while calling c=700\n",
    "# while running c=1000"
   ]
  },
  {
   "cell_type": "code",
   "execution_count": 39,
   "id": "a7311f24-e3ec-4183-9816-6b3983d5c21b",
   "metadata": {},
   "outputs": [
    {
     "name": "stdout",
     "output_type": "stream",
     "text": [
      "a: 100\n",
      "b: 200\n",
      "c: 700\n",
      "the summation of 100,200 and 700 is: 1000\n"
     ]
    }
   ],
   "source": [
    "def add(a,b,c=600):\n",
    "    c=1000\n",
    "    print('a:',a)\n",
    "    print('b:',b)\n",
    "    print('c:',c)\n",
    "    summ=a+b+c\n",
    "    print(f'the summation of {a},{b} and {c} is: {summ}')\n",
    "c=1000\n",
    "\n",
    "add(100,200,700)"
   ]
  },
  {
   "cell_type": "markdown",
   "id": "c83bf6f0-b4d0-4920-8956-b5357c71e5e5",
   "metadata": {},
   "source": [
    "**global variable** vs **local variable**\n",
    "-\n",
    "- the variables outside the function is called as **global variable**\n",
    "    - global variable  can use anywhere\n",
    "    - global variable can be used inside the function also outside the function\n",
    "- the variables inside the function is called as **local variable**\n",
    "  - local variable can be use only inside the function\n",
    "  - local variable can not be use outside the function"
   ]
  },
  {
   "cell_type": "code",
   "execution_count": 42,
   "id": "abf1d14d-fada-4b97-b36e-2251c4863cb3",
   "metadata": {},
   "outputs": [
    {
     "name": "stdout",
     "output_type": "stream",
     "text": [
      "800\n"
     ]
    }
   ],
   "source": [
    "def addition():\n",
    "    n1=100\n",
    "    n2=700\n",
    "    summ=n1+n2\n",
    "    print(summ)\n",
    "\n",
    "addition()"
   ]
  },
  {
   "cell_type": "code",
   "execution_count": 48,
   "id": "3c29e5dc-341f-46fb-9f55-3eefd2d93eaa",
   "metadata": {},
   "outputs": [
    {
     "name": "stdout",
     "output_type": "stream",
     "text": [
      "789\n"
     ]
    }
   ],
   "source": [
    "n1=100\n",
    "n2=689\n",
    "def additionn():\n",
    "    summ=n1+n2\n",
    "    print(summ)\n",
    "\n",
    "additionn()"
   ]
  },
  {
   "cell_type": "markdown",
   "id": "4a64dffe-c4f0-4a80-9e76-694a51f757e1",
   "metadata": {},
   "source": [
    "**how to convert local var to global var**\n",
    "-\n",
    "- if we want to use summ var outside the function\n",
    "- then intilise summ as global also global keyword"
   ]
  },
  {
   "cell_type": "code",
   "execution_count": 63,
   "id": "c2e6430d-52cd-40d4-bda9-1556f09bac1b",
   "metadata": {},
   "outputs": [
    {
     "name": "stdout",
     "output_type": "stream",
     "text": [
      "6998\n"
     ]
    }
   ],
   "source": [
    "n1=100\n",
    "n2=6898\n",
    "def additionn():\n",
    "    global summ   #converting local var into global var\n",
    "    summ=n1+n2\n",
    "    print(summ)\n",
    "\n",
    "additionn()"
   ]
  },
  {
   "cell_type": "code",
   "execution_count": 65,
   "id": "3fee1397-5ee7-411a-b0dd-50c40aa26b94",
   "metadata": {},
   "outputs": [
    {
     "data": {
      "text/plain": [
       "6998"
      ]
     },
     "execution_count": 65,
     "metadata": {},
     "output_type": "execute_result"
    }
   ],
   "source": [
    "summ"
   ]
  },
  {
   "cell_type": "markdown",
   "id": "14d146bf-55d4-4960-b77d-da71bd34c57a",
   "metadata": {},
   "source": [
    "**unbound local error**\n",
    "-\n",
    "\n",
    "\n",
    "- in below example s in not intilised\n",
    "- we might think name error will come\n",
    "- but inside function we will get unbound local error"
   ]
  },
  {
   "cell_type": "code",
   "execution_count": 68,
   "id": "dd5538e0-98bb-451d-8542-1720f125beed",
   "metadata": {},
   "outputs": [
    {
     "ename": "UnboundLocalError",
     "evalue": "cannot access local variable 's' where it is not associated with a value",
     "output_type": "error",
     "traceback": [
      "\u001b[0;31m---------------------------------------------------------------------------\u001b[0m",
      "\u001b[0;31mUnboundLocalError\u001b[0m                         Traceback (most recent call last)",
      "Cell \u001b[0;32mIn[68], line 5\u001b[0m\n\u001b[1;32m      3\u001b[0m     s\u001b[38;5;241m=\u001b[39ms\u001b[38;5;241m+\u001b[39mn1\n\u001b[1;32m      4\u001b[0m     \u001b[38;5;28mprint\u001b[39m(s)\n\u001b[0;32m----> 5\u001b[0m add1()\n",
      "Cell \u001b[0;32mIn[68], line 3\u001b[0m, in \u001b[0;36madd1\u001b[0;34m()\u001b[0m\n\u001b[1;32m      1\u001b[0m \u001b[38;5;28;01mdef\u001b[39;00m \u001b[38;5;21madd1\u001b[39m():\n\u001b[1;32m      2\u001b[0m     n1\u001b[38;5;241m=\u001b[39m\u001b[38;5;241m100\u001b[39m\n\u001b[0;32m----> 3\u001b[0m     s\u001b[38;5;241m=\u001b[39ms\u001b[38;5;241m+\u001b[39mn1\n\u001b[1;32m      4\u001b[0m     \u001b[38;5;28mprint\u001b[39m(s)\n",
      "\u001b[0;31mUnboundLocalError\u001b[0m: cannot access local variable 's' where it is not associated with a value"
     ]
    }
   ],
   "source": [
    "# case-1\n",
    "def add1():\n",
    "    n1=100\n",
    "    s=s+n1\n",
    "    print(s)\n",
    "add1()"
   ]
  },
  {
   "cell_type": "code",
   "execution_count": 72,
   "id": "1419e8b8-fc2a-473a-a378-a9cc8a62b1b1",
   "metadata": {},
   "outputs": [
    {
     "ename": "UnboundLocalError",
     "evalue": "cannot access local variable 's' where it is not associated with a value",
     "output_type": "error",
     "traceback": [
      "\u001b[0;31m---------------------------------------------------------------------------\u001b[0m",
      "\u001b[0;31mUnboundLocalError\u001b[0m                         Traceback (most recent call last)",
      "Cell \u001b[0;32mIn[72], line 6\u001b[0m\n\u001b[1;32m      4\u001b[0m     s\u001b[38;5;241m=\u001b[39ms\u001b[38;5;241m+\u001b[39mn1\n\u001b[1;32m      5\u001b[0m     \u001b[38;5;28mprint\u001b[39m(s)\n\u001b[0;32m----> 6\u001b[0m add1()\n",
      "Cell \u001b[0;32mIn[72], line 4\u001b[0m, in \u001b[0;36madd1\u001b[0;34m()\u001b[0m\n\u001b[1;32m      2\u001b[0m \u001b[38;5;28;01mdef\u001b[39;00m \u001b[38;5;21madd1\u001b[39m():\n\u001b[1;32m      3\u001b[0m     n1\u001b[38;5;241m=\u001b[39m\u001b[38;5;241m100\u001b[39m\n\u001b[0;32m----> 4\u001b[0m     s\u001b[38;5;241m=\u001b[39ms\u001b[38;5;241m+\u001b[39mn1\n\u001b[1;32m      5\u001b[0m     \u001b[38;5;28mprint\u001b[39m(s)\n",
      "\u001b[0;31mUnboundLocalError\u001b[0m: cannot access local variable 's' where it is not associated with a value"
     ]
    }
   ],
   "source": [
    "#case-2\n",
    "s=0\n",
    "def add1():\n",
    "    n1=100\n",
    "    s=s+n1\n",
    "    print(s)\n",
    "add1()"
   ]
  },
  {
   "cell_type": "code",
   "execution_count": 74,
   "id": "162ca945-d345-41cc-8478-048eceb30d36",
   "metadata": {},
   "outputs": [
    {
     "ename": "NameError",
     "evalue": "name 'summ2' is not defined",
     "output_type": "error",
     "traceback": [
      "\u001b[0;31m---------------------------------------------------------------------------\u001b[0m",
      "\u001b[0;31mNameError\u001b[0m                                 Traceback (most recent call last)",
      "Cell \u001b[0;32mIn[74], line 5\u001b[0m\n\u001b[1;32m      3\u001b[0m     s1\u001b[38;5;241m=\u001b[39msumm2\u001b[38;5;241m+\u001b[39mn1\n\u001b[1;32m      4\u001b[0m     \u001b[38;5;28mprint\u001b[39m(s)\n\u001b[0;32m----> 5\u001b[0m add1()\n",
      "Cell \u001b[0;32mIn[74], line 3\u001b[0m, in \u001b[0;36madd1\u001b[0;34m()\u001b[0m\n\u001b[1;32m      1\u001b[0m \u001b[38;5;28;01mdef\u001b[39;00m \u001b[38;5;21madd1\u001b[39m():\n\u001b[1;32m      2\u001b[0m     n1\u001b[38;5;241m=\u001b[39m\u001b[38;5;241m100\u001b[39m\n\u001b[0;32m----> 3\u001b[0m     s1\u001b[38;5;241m=\u001b[39msumm2\u001b[38;5;241m+\u001b[39mn1\n\u001b[1;32m      4\u001b[0m     \u001b[38;5;28mprint\u001b[39m(s)\n",
      "\u001b[0;31mNameError\u001b[0m: name 'summ2' is not defined"
     ]
    }
   ],
   "source": [
    "def add1():\n",
    "    n1=100\n",
    "    s1=summ2+n1\n",
    "    print(s)\n",
    "add1()"
   ]
  },
  {
   "cell_type": "code",
   "execution_count": 76,
   "id": "0f6e4c51-adbc-4acd-b8f0-cd17f9aebf8f",
   "metadata": {},
   "outputs": [
    {
     "ename": "UnboundLocalError",
     "evalue": "cannot access local variable 'summ2' where it is not associated with a value",
     "output_type": "error",
     "traceback": [
      "\u001b[0;31m---------------------------------------------------------------------------\u001b[0m",
      "\u001b[0;31mUnboundLocalError\u001b[0m                         Traceback (most recent call last)",
      "Cell \u001b[0;32mIn[76], line 5\u001b[0m\n\u001b[1;32m      3\u001b[0m     summ2\u001b[38;5;241m=\u001b[39msumm2\u001b[38;5;241m+\u001b[39mn1\n\u001b[1;32m      4\u001b[0m     \u001b[38;5;28mprint\u001b[39m(s)\n\u001b[0;32m----> 5\u001b[0m add1()\n",
      "Cell \u001b[0;32mIn[76], line 3\u001b[0m, in \u001b[0;36madd1\u001b[0;34m()\u001b[0m\n\u001b[1;32m      1\u001b[0m \u001b[38;5;28;01mdef\u001b[39;00m \u001b[38;5;21madd1\u001b[39m():\n\u001b[1;32m      2\u001b[0m     n1\u001b[38;5;241m=\u001b[39m\u001b[38;5;241m100\u001b[39m\n\u001b[0;32m----> 3\u001b[0m     summ2\u001b[38;5;241m=\u001b[39msumm2\u001b[38;5;241m+\u001b[39mn1\n\u001b[1;32m      4\u001b[0m     \u001b[38;5;28mprint\u001b[39m(s)\n",
      "\u001b[0;31mUnboundLocalError\u001b[0m: cannot access local variable 'summ2' where it is not associated with a value"
     ]
    }
   ],
   "source": [
    "def add1():\n",
    "    n1=100\n",
    "    summ2=summ2+n1\n",
    "    print(s)\n",
    "add1()"
   ]
  },
  {
   "cell_type": "code",
   "execution_count": 92,
   "id": "4084630c-9e22-46c1-aa12-581af3d38024",
   "metadata": {},
   "outputs": [
    {
     "name": "stdout",
     "output_type": "stream",
     "text": [
      "179\n"
     ]
    }
   ],
   "source": [
    "\n",
    "def add1():\n",
    "    n1=100      \n",
    "    summ3=79         # by adding a value we can correct a unbound local error\n",
    "    summ3=summ3+n1\n",
    "    print(summ3)\n",
    "add1()"
   ]
  },
  {
   "cell_type": "code",
   "execution_count": 100,
   "id": "ab3e1587-2701-45a6-bec5-986dbb366be3",
   "metadata": {},
   "outputs": [
    {
     "name": "stdout",
     "output_type": "stream",
     "text": [
      "60 20.0\n"
     ]
    }
   ],
   "source": [
    "def avg(a,b,c):\n",
    "    global ADD,AVG1    # CAN ADD SIDE BY SIDE\n",
    "    ADD=a+b+c\n",
    "    AVG1=ADD/3\n",
    "    print(ADD,AVG1)\n",
    "avg(10,20,30)"
   ]
  },
  {
   "cell_type": "code",
   "execution_count": 102,
   "id": "4b321f89-2ce9-4a88-9c0a-d19f22b9d2cf",
   "metadata": {},
   "outputs": [
    {
     "data": {
      "text/plain": [
       "60"
      ]
     },
     "execution_count": 102,
     "metadata": {},
     "output_type": "execute_result"
    }
   ],
   "source": [
    "ADD"
   ]
  },
  {
   "cell_type": "code",
   "execution_count": 104,
   "id": "658d9fc9-5072-4eab-a131-2c60d8ce7576",
   "metadata": {},
   "outputs": [
    {
     "data": {
      "text/plain": [
       "20.0"
      ]
     },
     "execution_count": 104,
     "metadata": {},
     "output_type": "execute_result"
    }
   ],
   "source": [
    "AVG1"
   ]
  },
  {
   "cell_type": "code",
   "execution_count": null,
   "id": "940eb0e0-67ac-4bd0-b5a4-b61e6ed4e08f",
   "metadata": {},
   "outputs": [],
   "source": []
  },
  {
   "cell_type": "code",
   "execution_count": null,
   "id": "ce06c396-b04d-46c8-a4fd-9f0f707efb76",
   "metadata": {},
   "outputs": [],
   "source": []
  },
  {
   "cell_type": "code",
   "execution_count": null,
   "id": "4ad0e8e7-44bf-4546-b4ab-fc3d1f615ca8",
   "metadata": {},
   "outputs": [],
   "source": []
  },
  {
   "cell_type": "code",
   "execution_count": null,
   "id": "af2507de-887a-4583-9136-4f78dee0509b",
   "metadata": {},
   "outputs": [],
   "source": []
  },
  {
   "cell_type": "code",
   "execution_count": null,
   "id": "a0227643-1c96-4da1-b260-f22bcc3b609a",
   "metadata": {},
   "outputs": [],
   "source": []
  },
  {
   "cell_type": "code",
   "execution_count": null,
   "id": "7ce22570-f990-43af-a272-a3c226a5bc76",
   "metadata": {},
   "outputs": [],
   "source": []
  },
  {
   "cell_type": "code",
   "execution_count": null,
   "id": "052f3424-ba79-4253-9c37-7f9240422c50",
   "metadata": {},
   "outputs": [],
   "source": []
  },
  {
   "cell_type": "code",
   "execution_count": null,
   "id": "48d1b040-8743-4f3a-ae52-b9f6cb2083f4",
   "metadata": {},
   "outputs": [],
   "source": []
  },
  {
   "cell_type": "code",
   "execution_count": null,
   "id": "a7232a79-ce51-4233-bc21-cbb894fd1e2b",
   "metadata": {},
   "outputs": [],
   "source": []
  },
  {
   "cell_type": "code",
   "execution_count": null,
   "id": "84861f48-517f-4b15-b1a3-4fcf6b42b905",
   "metadata": {},
   "outputs": [],
   "source": []
  },
  {
   "cell_type": "code",
   "execution_count": null,
   "id": "c15fb608-f84d-4a68-8b59-852937b19d6a",
   "metadata": {},
   "outputs": [],
   "source": []
  },
  {
   "cell_type": "code",
   "execution_count": null,
   "id": "d1c82de1-95d4-442f-b90c-470a9236f30c",
   "metadata": {},
   "outputs": [],
   "source": []
  },
  {
   "cell_type": "code",
   "execution_count": null,
   "id": "89431e15-6677-44ed-a62a-c173bc8def91",
   "metadata": {},
   "outputs": [],
   "source": []
  },
  {
   "cell_type": "code",
   "execution_count": null,
   "id": "4755f3da-18e8-49cf-959d-4eadd6cf8069",
   "metadata": {},
   "outputs": [],
   "source": []
  }
 ],
 "metadata": {
  "kernelspec": {
   "display_name": "Python [conda env:base] *",
   "language": "python",
   "name": "conda-base-py"
  },
  "language_info": {
   "codemirror_mode": {
    "name": "ipython",
    "version": 3
   },
   "file_extension": ".py",
   "mimetype": "text/x-python",
   "name": "python",
   "nbconvert_exporter": "python",
   "pygments_lexer": "ipython3",
   "version": "3.12.7"
  }
 },
 "nbformat": 4,
 "nbformat_minor": 5
}

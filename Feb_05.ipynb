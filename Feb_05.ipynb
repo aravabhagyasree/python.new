{
 "cells": [
  {
   "cell_type": "code",
   "execution_count": 18,
   "id": "c8fa2418-63e4-4452-ad3a-4f8b21595c86",
   "metadata": {},
   "outputs": [
    {
     "data": {
      "text/plain": [
       "['__add__',\n",
       " '__class__',\n",
       " '__class_getitem__',\n",
       " '__contains__',\n",
       " '__delattr__',\n",
       " '__delitem__',\n",
       " '__dir__',\n",
       " '__doc__',\n",
       " '__eq__',\n",
       " '__format__',\n",
       " '__ge__',\n",
       " '__getattribute__',\n",
       " '__getitem__',\n",
       " '__getstate__',\n",
       " '__gt__',\n",
       " '__hash__',\n",
       " '__iadd__',\n",
       " '__imul__',\n",
       " '__init__',\n",
       " '__init_subclass__',\n",
       " '__iter__',\n",
       " '__le__',\n",
       " '__len__',\n",
       " '__lt__',\n",
       " '__mul__',\n",
       " '__ne__',\n",
       " '__new__',\n",
       " '__reduce__',\n",
       " '__reduce_ex__',\n",
       " '__repr__',\n",
       " '__reversed__',\n",
       " '__rmul__',\n",
       " '__setattr__',\n",
       " '__setitem__',\n",
       " '__sizeof__',\n",
       " '__str__',\n",
       " '__subclasshook__',\n",
       " 'append',\n",
       " 'clear',\n",
       " 'copy',\n",
       " 'count',\n",
       " 'extend',\n",
       " 'index',\n",
       " 'insert',\n",
       " 'pop',\n",
       " 'remove',\n",
       " 'reverse',\n",
       " 'sort']"
      ]
     },
     "execution_count": 18,
     "metadata": {},
     "output_type": "execute_result"
    }
   ],
   "source": [
    "dir([])"
   ]
  },
  {
   "cell_type": "markdown",
   "id": "61456525-2d5b-445f-ba9b-c529100eaf67",
   "metadata": {},
   "source": [
    "# EXTEND"
   ]
  },
  {
   "cell_type": "code",
   "execution_count": 27,
   "id": "ca2417e3-a003-47ef-8025-5f68f50c1e3b",
   "metadata": {},
   "outputs": [
    {
     "data": {
      "text/plain": [
       "[1, 2, 3, 4, 5, 'A', 'B', 'C', 'D']"
      ]
     },
     "execution_count": 27,
     "metadata": {},
     "output_type": "execute_result"
    }
   ],
   "source": [
    "l1=[1,2,3,4,5]\n",
    "l2=['A','B','C','D']\n",
    "l1.extend(l2)\n",
    "l1"
   ]
  },
  {
   "cell_type": "code",
   "execution_count": 37,
   "id": "a3052711-3489-43d5-8df4-821731db3980",
   "metadata": {},
   "outputs": [
    {
     "data": {
      "text/plain": [
       "['A', 'B', 'C', 'D', 1, 2, 3, 4, 5]"
      ]
     },
     "execution_count": 37,
     "metadata": {},
     "output_type": "execute_result"
    }
   ],
   "source": [
    "l1=[1,2,3,4,5]\n",
    "l2=['A','B','C','D']\n",
    "l2.extend(l1)\n",
    "l2"
   ]
  },
  {
   "cell_type": "code",
   "execution_count": 33,
   "id": "ee0fc4fb-52b8-4100-b3b8-1c5e995dc2d4",
   "metadata": {},
   "outputs": [
    {
     "data": {
      "text/plain": [
       "[1, 2, 3, 4, 5, ['A', 'B', 'C', 'D']]"
      ]
     },
     "execution_count": 33,
     "metadata": {},
     "output_type": "execute_result"
    }
   ],
   "source": [
    "# append\n",
    "l1=[1,2,3,4,5]\n",
    "l2=['A','B','C','D']\n",
    "l1.append(l2)\n",
    "l1"
   ]
  },
  {
   "cell_type": "code",
   "execution_count": 39,
   "id": "e5e0ec38-9180-44c1-820f-eba00289874e",
   "metadata": {},
   "outputs": [
    {
     "data": {
      "text/plain": [
       "['A', 'B', 'C', 'D', [1, 2, 3, 4, 5]]"
      ]
     },
     "execution_count": 39,
     "metadata": {},
     "output_type": "execute_result"
    }
   ],
   "source": [
    "l1=[1,2,3,4,5]\n",
    "l2=['A','B','C','D']\n",
    "l2.append(l1)\n",
    "l2"
   ]
  },
  {
   "cell_type": "code",
   "execution_count": 45,
   "id": "1b0520fc-511a-48e7-bc84-7bd0a9561d3d",
   "metadata": {},
   "outputs": [
    {
     "name": "stdout",
     "output_type": "stream",
     "text": [
      "[1, 2, 3, 4, 5, 'A', 'B', 'C', 'D']\n",
      "[1, 2, 3, 4, 5]\n",
      "['A', 'B', 'C', 'D']\n"
     ]
    }
   ],
   "source": [
    "# concatination\n",
    "l1=[1,2,3,4,5]\n",
    "l2=['A','B','C','D']\n",
    "print(l1+l2)\n",
    "print(l1)\n",
    "print(l2)"
   ]
  },
  {
   "cell_type": "code",
   "execution_count": null,
   "id": "44dfbfff-ccc7-47c8-80f0-a8af515b45a1",
   "metadata": {},
   "outputs": [],
   "source": [
    "- extend ==> will overwrite \n",
    "- append ==>"
   ]
  },
  {
   "cell_type": "code",
   "execution_count": null,
   "id": "c5f7ee96-643b-4efd-9c00-bfdc5a2497e4",
   "metadata": {},
   "outputs": [],
   "source": [
    "*index*\n",
    "\n",
    "- strings we have index and find\n",
    "\n",
    "- but in list we have only index"
   ]
  },
  {
   "cell_type": "code",
   "execution_count": 69,
   "id": "77c6e35e-814c-48c9-b3ce-28b85e76a555",
   "metadata": {},
   "outputs": [
    {
     "name": "stdout",
     "output_type": "stream",
     "text": [
      "9\n"
     ]
    }
   ],
   "source": [
    "l1=[1,2,3,4,5,'A','B','C','D','B']\n",
    "l2=l1.index('B')\n",
    "print(l1.index('B',l2+1))"
   ]
  },
  {
   "cell_type": "code",
   "execution_count": 91,
   "id": "7d66cf86-3729-4984-8ec8-5e8d0964eb77",
   "metadata": {},
   "outputs": [
    {
     "name": "stdout",
     "output_type": "stream",
     "text": [
      "[1, 2, 3, 4, 5, 'A', 'B', 'C', 'D', 'B']\n"
     ]
    },
    {
     "data": {
      "text/plain": [
       "[1, 2, 3, 4, 5, 'apple', 'B', 'C', 'D', 'B', 100]"
      ]
     },
     "execution_count": 91,
     "metadata": {},
     "output_type": "execute_result"
    }
   ],
   "source": [
    "# *insert*\n",
    "\n",
    "l1=[1,2,3,4,5,'A','B','C','D','B']\n",
    "print(l1)\n",
    "l1.index('A')\n",
    "l1.remove('A')\n",
    "l1.insert(5,'apple')\n",
    "l1.append(100)\n",
    "\n",
    "l1"
   ]
  },
  {
   "cell_type": "markdown",
   "id": "dbb2501e-1c4e-441f-b05c-1a5c32bf215e",
   "metadata": {},
   "source": [
    "**pop vs remove**"
   ]
  },
  {
   "cell_type": "code",
   "execution_count": 102,
   "id": "48655681-c392-4ea9-a3e8-bdbcf5a0a39a",
   "metadata": {},
   "outputs": [
    {
     "data": {
      "text/plain": [
       "[1, 2, 3, 4, 5, 'B', 'C', 'D', 'B']"
      ]
     },
     "execution_count": 102,
     "metadata": {},
     "output_type": "execute_result"
    }
   ],
   "source": [
    "l1=[1,2,3,4,5,'A','B','C','D','B']\n",
    "del(l1[5])\n",
    "l1"
   ]
  },
  {
   "cell_type": "markdown",
   "id": "725e17f8-70b7-4916-a4ff-23fec1afd2a7",
   "metadata": {},
   "source": [
    "- if we wnat to delet any element\n",
    "- we have,\n",
    "    - pop : based on index\n",
    "    - remove : based on value\n",
    "    - del : inbuilt function based on index"
   ]
  },
  {
   "cell_type": "code",
   "execution_count": 1,
   "id": "bf979dae-3db1-4f60-9b51-682341395d3c",
   "metadata": {},
   "outputs": [
    {
     "ename": "NameError",
     "evalue": "name 'l1' is not defined",
     "output_type": "error",
     "traceback": [
      "\u001b[0;31m---------------------------------------------------------------------------\u001b[0m",
      "\u001b[0;31mNameError\u001b[0m                                 Traceback (most recent call last)",
      "Cell \u001b[0;32mIn[1], line 3\u001b[0m\n\u001b[1;32m      1\u001b[0m l1\u001b[38;5;241m=\u001b[39m[\u001b[38;5;241m1\u001b[39m,\u001b[38;5;241m2\u001b[39m,\u001b[38;5;241m3\u001b[39m,\u001b[38;5;241m4\u001b[39m,\u001b[38;5;241m5\u001b[39m,\u001b[38;5;124m'\u001b[39m\u001b[38;5;124mA\u001b[39m\u001b[38;5;124m'\u001b[39m,\u001b[38;5;124m'\u001b[39m\u001b[38;5;124mB\u001b[39m\u001b[38;5;124m'\u001b[39m,\u001b[38;5;124m'\u001b[39m\u001b[38;5;124mC\u001b[39m\u001b[38;5;124m'\u001b[39m,\u001b[38;5;124m'\u001b[39m\u001b[38;5;124mD\u001b[39m\u001b[38;5;124m'\u001b[39m,\u001b[38;5;124m'\u001b[39m\u001b[38;5;124mB\u001b[39m\u001b[38;5;124m'\u001b[39m]\n\u001b[1;32m      2\u001b[0m \u001b[38;5;28;01mdel\u001b[39;00m(l1)\n\u001b[0;32m----> 3\u001b[0m l1\n",
      "\u001b[0;31mNameError\u001b[0m: name 'l1' is not defined"
     ]
    }
   ],
   "source": [
    "l1=[1,2,3,4,5,'A','B','C','D','B']\n",
    "del(l1)\n",
    "l1"
   ]
  },
  {
   "cell_type": "code",
   "execution_count": null,
   "id": "fba6ed46-9eed-494d-a76c-4d452fbd3be8",
   "metadata": {},
   "outputs": [],
   "source": [
    "difference bt clear and delete"
   ]
  },
  {
   "cell_type": "code",
   "execution_count": 3,
   "id": "f8bd10d0-190e-4ac6-ac38-a46e991418d5",
   "metadata": {},
   "outputs": [
    {
     "data": {
      "text/plain": [
       "[1, 2, 3, 4, 5, 'B', 'C', 'D', 'B']"
      ]
     },
     "execution_count": 3,
     "metadata": {},
     "output_type": "execute_result"
    }
   ],
   "source": [
    "l1=[1,2,3,4,5,'A','B','C','D','B']\n",
    "del l1[5]  # or del(l1[5])\n",
    "l1"
   ]
  },
  {
   "cell_type": "code",
   "execution_count": null,
   "id": "b60a471a-53ac-4e7d-983b-43d37196d970",
   "metadata": {},
   "outputs": [],
   "source": [
    "**reverse - reversed**\n",
    "- reverse is a method\n",
    "- reversed is an inbuilt function \n"
   ]
  },
  {
   "cell_type": "code",
   "execution_count": 7,
   "id": "9dd98269-2886-4217-a540-f9cffa1f49cb",
   "metadata": {},
   "outputs": [
    {
     "data": {
      "text/plain": [
       "['B', 'D', 'C', 'B', 'A', 5, 4, 3, 2, 1]"
      ]
     },
     "execution_count": 7,
     "metadata": {},
     "output_type": "execute_result"
    }
   ],
   "source": [
    "l1=[1,2,3,4,5,'A','B','C','D','B']\n",
    "l1.reverse()     # only for list\n",
    "l1"
   ]
  },
  {
   "cell_type": "code",
   "execution_count": null,
   "id": "3a769e5f-a277-4add-b902-19742b668e09",
   "metadata": {},
   "outputs": [],
   "source": []
  },
  {
   "cell_type": "code",
   "execution_count": null,
   "id": "a9e6ad5c-5e3f-4a52-896a-e13ce455c4c6",
   "metadata": {},
   "outputs": [],
   "source": []
  },
  {
   "cell_type": "markdown",
   "id": "74894e4c-a822-45e1-8f9b-83989a3de714",
   "metadata": {},
   "source": [
    "Inplace\n",
    "- when we perform the operations some times the values will not overwrite\n",
    "- if we see inplace word or **inplace = ture**\n",
    "- this indicates the output will be overwritte in corresponding variable "
   ]
  },
  {
   "cell_type": "code",
   "execution_count": 25,
   "id": "93cd0d21-8096-412f-9561-f84e6bca0fd0",
   "metadata": {},
   "outputs": [
    {
     "data": {
      "text/plain": [
       "[1, 2, 3, 4, 5, 'A', 'B', 'C', 'D', 'B']"
      ]
     },
     "execution_count": 25,
     "metadata": {},
     "output_type": "execute_result"
    }
   ],
   "source": [
    "l1=[1,2,3,4,5,'A','B','C','D','B']\n",
    "reversed(l1)   # applicable for both\n",
    "l1"
   ]
  },
  {
   "cell_type": "code",
   "execution_count": null,
   "id": "657614a3-2bf4-45a6-ab0c-1d27dcdaf3bc",
   "metadata": {},
   "outputs": [],
   "source": [
    "*sort-sorted**"
   ]
  },
  {
   "cell_type": "code",
   "execution_count": 47,
   "id": "465f16b3-76ae-4bd0-9252-cb3e92ab9b3d",
   "metadata": {},
   "outputs": [
    {
     "data": {
      "text/plain": [
       "[1, 2, 3, 4, 5]"
      ]
     },
     "execution_count": 47,
     "metadata": {},
     "output_type": "execute_result"
    }
   ],
   "source": [
    "l1=[1,2,3,4,5]\n",
    "l1.sort()   # only for list\n",
    "l1"
   ]
  },
  {
   "cell_type": "code",
   "execution_count": 45,
   "id": "6b0d2433-dcb5-4dfe-8bcc-d2c03545a0e0",
   "metadata": {},
   "outputs": [
    {
     "data": {
      "text/plain": [
       "[1, 2, 3, 4, 5]"
      ]
     },
     "execution_count": 45,
     "metadata": {},
     "output_type": "execute_result"
    }
   ],
   "source": [
    "l1=[1,2,3,4,5]\n",
    "sorted(l1)    # applicable for string,list\n",
    "l1"
   ]
  },
  {
   "cell_type": "code",
   "execution_count": null,
   "id": "d3191902-69f4-4ace-97d7-eea266158b89",
   "metadata": {},
   "outputs": [],
   "source": [
    "- inbuilt fucntions for any datatype\n",
    "- methods are with respect to datatypes"
   ]
  },
  {
   "cell_type": "markdown",
   "id": "e0455939-24e6-4cba-91d1-4a7ba653a094",
   "metadata": {},
   "source": [
    "- clear\n",
    "- count\n",
    "- append/extend/insert\n",
    "- pop/remove/del\n",
    "- index\n",
    "- reverse/reversed\n",
    "- sort/sorted"
   ]
  },
  {
   "cell_type": "code",
   "execution_count": 54,
   "id": "d332b885-4152-4e22-bec4-6a03ecd0b995",
   "metadata": {},
   "outputs": [
    {
     "data": {
      "text/plain": [
       "['__add__',\n",
       " '__class__',\n",
       " '__class_getitem__',\n",
       " '__contains__',\n",
       " '__delattr__',\n",
       " '__dir__',\n",
       " '__doc__',\n",
       " '__eq__',\n",
       " '__format__',\n",
       " '__ge__',\n",
       " '__getattribute__',\n",
       " '__getitem__',\n",
       " '__getnewargs__',\n",
       " '__getstate__',\n",
       " '__gt__',\n",
       " '__hash__',\n",
       " '__init__',\n",
       " '__init_subclass__',\n",
       " '__iter__',\n",
       " '__le__',\n",
       " '__len__',\n",
       " '__lt__',\n",
       " '__mul__',\n",
       " '__ne__',\n",
       " '__new__',\n",
       " '__reduce__',\n",
       " '__reduce_ex__',\n",
       " '__repr__',\n",
       " '__rmul__',\n",
       " '__setattr__',\n",
       " '__sizeof__',\n",
       " '__str__',\n",
       " '__subclasshook__',\n",
       " 'count',\n",
       " 'index']"
      ]
     },
     "execution_count": 54,
     "metadata": {},
     "output_type": "execute_result"
    }
   ],
   "source": [
    "dir(()) # ===> tuple"
   ]
  }
 ],
 "metadata": {
  "kernelspec": {
   "display_name": "Python [conda env:base] *",
   "language": "python",
   "name": "conda-base-py"
  },
  "language_info": {
   "codemirror_mode": {
    "name": "ipython",
    "version": 3
   },
   "file_extension": ".py",
   "mimetype": "text/x-python",
   "name": "python",
   "nbconvert_exporter": "python",
   "pygments_lexer": "ipython3",
   "version": "3.12.7"
  }
 },
 "nbformat": 4,
 "nbformat_minor": 5
}

{
 "cells": [
  {
   "cell_type": "markdown",
   "id": "7ac871ac-65ac-452a-bd85-a792cca1288e",
   "metadata": {},
   "source": [
    "# wap ask theh user enter a number \n",
    "# print it is an even or odd"
   ]
  },
  {
   "cell_type": "code",
   "execution_count": 43,
   "id": "c8899200-e902-41ac-aeef-4840633c0e5c",
   "metadata": {},
   "outputs": [
    {
     "name": "stdout",
     "output_type": "stream",
     "text": [
      "42\n",
      "even\n"
     ]
    }
   ],
   "source": [
    "import random\n",
    "def even():\n",
    "    numm=random.randint(1,100)\n",
    "    print(numm)\n",
    "    if numm%2==0:\n",
    "        print('even')\n",
    "    else:\n",
    "        print('odd')\n",
    "\n",
    "even()"
   ]
  },
  {
   "cell_type": "code",
   "execution_count": 11,
   "id": "fe06912f-4765-4916-a3e3-636cc31de319",
   "metadata": {},
   "outputs": [
    {
     "name": "stdout",
     "output_type": "stream",
     "text": [
      "even\n"
     ]
    }
   ],
   "source": [
    "def oddd(numb):\n",
    "    if numb%2==0:\n",
    "        print('even')\n",
    "    else:\n",
    "        print('odd')\n",
    "\n",
    "oddd(82)"
   ]
  },
  {
   "cell_type": "code",
   "execution_count": 47,
   "id": "6f63ae2e-0f79-43dc-aad0-d9c4b2c8b5ff",
   "metadata": {},
   "outputs": [
    {
     "ename": "SyntaxError",
     "evalue": "invalid syntax (1526641116.py, line 2)",
     "output_type": "error",
     "traceback": [
      "\u001b[0;36m  Cell \u001b[0;32mIn[47], line 2\u001b[0;36m\u001b[0m\n\u001b[0;31m    global numbe()\u001b[0m\n\u001b[0m                ^\u001b[0m\n\u001b[0;31mSyntaxError\u001b[0m\u001b[0;31m:\u001b[0m invalid syntax\n"
     ]
    }
   ],
   "source": [
    "def bothh(numbe=35):\n",
    "    if numbe%2==0:\n",
    "        print('even')\n",
    "    else:\n",
    "        print('odd')\n",
    "\n",
    "bothh()"
   ]
  },
  {
   "cell_type": "code",
   "execution_count": 17,
   "id": "82e6a6bd-b98f-4fcb-ac5a-36960fb4488b",
   "metadata": {},
   "outputs": [
    {
     "name": "stdout",
     "output_type": "stream",
     "text": [
      "even\n"
     ]
    }
   ],
   "source": [
    "even()"
   ]
  },
  {
   "cell_type": "code",
   "execution_count": 21,
   "id": "5fc06b8c-dbe1-4839-8787-22aa174d0217",
   "metadata": {},
   "outputs": [
    {
     "name": "stdout",
     "output_type": "stream",
     "text": [
      "odd\n"
     ]
    }
   ],
   "source": [
    "oddd(101)"
   ]
  },
  {
   "cell_type": "code",
   "execution_count": 23,
   "id": "aefa814b-be4e-4fb3-9710-97cfd79203e2",
   "metadata": {},
   "outputs": [
    {
     "name": "stdout",
     "output_type": "stream",
     "text": [
      "odd\n"
     ]
    }
   ],
   "source": [
    "bothh()"
   ]
  },
  {
   "cell_type": "code",
   "execution_count": null,
   "id": "da053fb1-fd77-40a0-bf9c-fef7fd41fd55",
   "metadata": {},
   "outputs": [],
   "source": [
    "**parameter vs variable**\n"
   ]
  },
  {
   "cell_type": "markdown",
   "id": "9f4744a0-7a8e-4a77-809a-10f64c66fc34",
   "metadata": {},
   "source": [
    "- parameters aslo called as arguments \n",
    "    - this always inside the function brackets\n",
    "- variables either outside the function or inside the function "
   ]
  },
  {
   "cell_type": "markdown",
   "id": "785ccdf0-fcff-4ffb-9afb-931d4aec3803",
   "metadata": {},
   "source": [
    "return concept\n",
    "-"
   ]
  },
  {
   "cell_type": "markdown",
   "id": "acbce878-f927-4dff-9fcc-564fa08e1719",
   "metadata": {},
   "source": [
    "- return means function is giving something \n",
    "- we know that local variables can not use outside the function \n",
    "- inorder to use local variables outside the function we have two methods\n",
    "    - 1. using global \n",
    "    - 2. return"
   ]
  },
  {
   "cell_type": "code",
   "execution_count": 67,
   "id": "4315503d-632d-4940-b939-84b832890306",
   "metadata": {},
   "outputs": [],
   "source": [
    "def add():\n",
    "    a=10\n",
    "    b=20\n",
    "    c=a+b\n",
    "    return(c)\n",
    "\n",
    "c=add()"
   ]
  },
  {
   "cell_type": "code",
   "execution_count": 70,
   "id": "13214852-83f1-40f1-9b9b-229561c27d28",
   "metadata": {},
   "outputs": [
    {
     "data": {
      "text/plain": [
       "30"
      ]
     },
     "execution_count": 70,
     "metadata": {},
     "output_type": "execute_result"
    }
   ],
   "source": [
    "c"
   ]
  },
  {
   "cell_type": "code",
   "execution_count": 72,
   "id": "b1250a2f-d277-41b6-9d3b-77bd3863f7c7",
   "metadata": {},
   "outputs": [],
   "source": [
    "def add():\n",
    "    a=10\n",
    "    b=20\n",
    "    c=a+b\n",
    "    return(a,c)\n",
    "\n",
    "a,c=add()"
   ]
  },
  {
   "cell_type": "code",
   "execution_count": 74,
   "id": "3effff6f-9d06-40b9-8ec0-87ba43c0b018",
   "metadata": {},
   "outputs": [
    {
     "data": {
      "text/plain": [
       "(10, 30)"
      ]
     },
     "execution_count": 74,
     "metadata": {},
     "output_type": "execute_result"
    }
   ],
   "source": [
    "a,c"
   ]
  },
  {
   "cell_type": "code",
   "execution_count": 59,
   "id": "c8f1b68f-f452-400a-a309-2ccafd2c349c",
   "metadata": {},
   "outputs": [
    {
     "name": "stdout",
     "output_type": "stream",
     "text": [
      "(10, 20)\n"
     ]
    }
   ],
   "source": [
    "value=10,20   #tuple\n",
    "print(value)"
   ]
  },
  {
   "cell_type": "code",
   "execution_count": 63,
   "id": "0fd0badc-e1b0-4875-89ec-1b74982e75f7",
   "metadata": {},
   "outputs": [
    {
     "name": "stdout",
     "output_type": "stream",
     "text": [
      "10 20\n"
     ]
    }
   ],
   "source": [
    "val1,val2=10,20\n",
    "print(val1,val2)"
   ]
  },
  {
   "cell_type": "code",
   "execution_count": 65,
   "id": "0d14d0de-40e9-4a80-a03a-86480e454c40",
   "metadata": {},
   "outputs": [
    {
     "ename": "TypeError",
     "evalue": "cannot unpack non-iterable int object",
     "output_type": "error",
     "traceback": [
      "\u001b[0;31m---------------------------------------------------------------------------\u001b[0m",
      "\u001b[0;31mTypeError\u001b[0m                                 Traceback (most recent call last)",
      "Cell \u001b[0;32mIn[65], line 1\u001b[0m\n\u001b[0;32m----> 1\u001b[0m val1,val2\u001b[38;5;241m=\u001b[39m\u001b[38;5;241m10\u001b[39m\n\u001b[1;32m      2\u001b[0m \u001b[38;5;28mprint\u001b[39m(val1,val2)\n",
      "\u001b[0;31mTypeError\u001b[0m: cannot unpack non-iterable int object"
     ]
    }
   ],
   "source": [
    "val1,val2=10\n",
    "print(val1,val2)"
   ]
  },
  {
   "cell_type": "code",
   "execution_count": 82,
   "id": "945dd17f-30a1-460a-9d9e-e67e0deb43fc",
   "metadata": {},
   "outputs": [
    {
     "name": "stdout",
     "output_type": "stream",
     "text": [
      "2.0\n"
     ]
    }
   ],
   "source": [
    "def avg(a,b,c):\n",
    "    summ=a+b+c\n",
    "    AVG=summ/3\n",
    "    print(AVG)\n",
    "    return(AVG)\n",
    "\n",
    "AVG=avg(1,2,3)"
   ]
  },
  {
   "cell_type": "code",
   "execution_count": 84,
   "id": "987b2161-b00e-4e30-a436-4f0b699dcb1f",
   "metadata": {},
   "outputs": [
    {
     "data": {
      "text/plain": [
       "2.0"
      ]
     },
     "execution_count": 84,
     "metadata": {},
     "output_type": "execute_result"
    }
   ],
   "source": [
    "AVG"
   ]
  },
  {
   "cell_type": "markdown",
   "id": "e6770dab-6883-4228-ad77-d08efeb12b10",
   "metadata": {},
   "source": [
    "import random\n",
    "def even():\n",
    "    numm=random.randint(1,100)\n",
    "    print(numm)\n",
    "    if numm%2==0:\n",
    "        print('even')\n",
    "    else:\n",
    "        print('odd')\n",
    "    return(numm)               # wrong\n",
    "\n",
    "numm=even()"
   ]
  },
  {
   "cell_type": "code",
   "execution_count": 122,
   "id": "9a590ea3-ba5d-43c4-a13d-554ace016f11",
   "metadata": {},
   "outputs": [
    {
     "data": {
      "text/plain": [
       "38"
      ]
     },
     "execution_count": 122,
     "metadata": {},
     "output_type": "execute_result"
    }
   ],
   "source": [
    "numm"
   ]
  },
  {
   "cell_type": "code",
   "execution_count": 141,
   "id": "1d5ecd76-7235-4315-88a3-61302ac4fa17",
   "metadata": {},
   "outputs": [
    {
     "name": "stdout",
     "output_type": "stream",
     "text": [
      "4\n",
      "even\n",
      "14\n"
     ]
    }
   ],
   "source": [
    "import random\n",
    "def even():\n",
    "    numm=random.randint(1,100)\n",
    "    print(numm)\n",
    "    if numm%2==0:\n",
    "        val=10\n",
    "        print('even')\n",
    "        return(numm+10)\n",
    "    else:\n",
    "        val=20\n",
    "        print('odd')\n",
    "        return(numm+20)\n",
    "\n",
    "output=even()\n",
    "print(output)"
   ]
  },
  {
   "cell_type": "markdown",
   "id": "1d5a0ecf-02be-445b-9bb5-d33073a8f34f",
   "metadata": {},
   "source": [
    "function in function "
   ]
  },
  {
   "cell_type": "code",
   "execution_count": 147,
   "id": "71085d98-c9b8-4a66-a5c0-82c7a0fc4c47",
   "metadata": {},
   "outputs": [
    {
     "name": "stdout",
     "output_type": "stream",
     "text": [
      "hello gud mrng\n",
      "hello gud night\n"
     ]
    }
   ],
   "source": [
    "def greet1():\n",
    "    print('hello gud mrng')\n",
    "\n",
    "def greet2():\n",
    "    print('hello gud night')\n",
    "\n",
    "greet1()\n",
    "greet2()"
   ]
  },
  {
   "cell_type": "code",
   "execution_count": 203,
   "id": "9fb01fb5-47d9-4e17-8dfb-7ef55b44ca3e",
   "metadata": {},
   "outputs": [
    {
     "name": "stdout",
     "output_type": "stream",
     "text": [
      "hello gud mrng\n"
     ]
    }
   ],
   "source": [
    "def greet11():\n",
    "    print('hello gud mrng')\n",
    "\n",
    "\n",
    "\n",
    "def greet22():\n",
    "    print('hello gud night')\n",
    "    greet22()\n",
    "\n",
    "greet11()\n"
   ]
  },
  {
   "cell_type": "code",
   "execution_count": 207,
   "id": "32658e2d-b217-4fdd-85e2-3e079df71a43",
   "metadata": {},
   "outputs": [
    {
     "data": {
      "text/plain": [
       "45"
      ]
     },
     "execution_count": 207,
     "metadata": {},
     "output_type": "execute_result"
    }
   ],
   "source": [
    "def add(n):\n",
    "    if n==0:\n",
    "        return(0)\n",
    "    else:\n",
    "        return(n+add(n-1))\n",
    "\n",
    "add(9)"
   ]
  },
  {
   "cell_type": "code",
   "execution_count": null,
   "id": "50e894b2-0da4-43c2-9ae2-6ad359f6022e",
   "metadata": {},
   "outputs": [],
   "source": [
    "# q1) factorial resurcion 5! =120 5*4*3*2*1\n",
    "# q2) calculator program \n",
    "\n",
    "create 4 functions \n",
    "def add(a,b):\n",
    "    return(a+b)\n",
    "def multiple \n",
    "def divis\n",
    "def subtrac\n",
    "\n",
    "print('enter 1 for additoin')\n",
    "\n",
    "def main():\n",
    "    option=eval(input('enter bt 1 to 4'))\n",
    "    if option ==1:\n",
    "        a=\n",
    "        b=\n",
    "        add()\n",
    "        return\n",
    "    elif option==2:\n",
    "        a=\n",
    "        b= \n",
    "        mul()\n",
    "        return"
   ]
  },
  {
   "cell_type": "code",
   "execution_count": 277,
   "id": "8c20ce8f-8858-46ee-9b11-c73d751ce55d",
   "metadata": {},
   "outputs": [
    {
     "data": {
      "text/plain": [
       "24"
      ]
     },
     "execution_count": 277,
     "metadata": {},
     "output_type": "execute_result"
    }
   ],
   "source": [
    "def fact12(n):\n",
    "    if n==0:\n",
    "        return(0)\n",
    "    else:\n",
    "        return(n*(n-1)*add(n-1))\n",
    "\n",
    "fact12(5)"
   ]
  },
  {
   "cell_type": "code",
   "execution_count": 223,
   "id": "a1d52009-ec63-4660-ba74-b8f415869ea9",
   "metadata": {},
   "outputs": [
    {
     "data": {
      "text/plain": [
       "120"
      ]
     },
     "execution_count": 223,
     "metadata": {},
     "output_type": "execute_result"
    }
   ],
   "source": [
    "5*4*3*2*1"
   ]
  },
  {
   "cell_type": "code",
   "execution_count": 265,
   "id": "980c49b1-b62f-4c3c-b2c6-e80d9821792e",
   "metadata": {},
   "outputs": [
    {
     "data": {
      "text/plain": [
       "4"
      ]
     },
     "execution_count": 265,
     "metadata": {},
     "output_type": "execute_result"
    }
   ],
   "source": [
    "n\n",
    "(n*add(n-1))"
   ]
  },
  {
   "cell_type": "code",
   "execution_count": 267,
   "id": "48102fca-e977-426a-8ffa-7c49fee44375",
   "metadata": {},
   "outputs": [
    {
     "data": {
      "text/plain": [
       "2"
      ]
     },
     "execution_count": 267,
     "metadata": {},
     "output_type": "execute_result"
    }
   ],
   "source": [
    "n=2\n",
    "(n-1)*n"
   ]
  },
  {
   "cell_type": "code",
   "execution_count": 287,
   "id": "5af0332d-ac5c-4cd2-8f03-581848987bba",
   "metadata": {},
   "outputs": [
    {
     "data": {
      "text/plain": [
       "50"
      ]
     },
     "execution_count": 287,
     "metadata": {},
     "output_type": "execute_result"
    }
   ],
   "source": [
    "n=5\n",
    "n*add(n-1)\n"
   ]
  },
  {
   "cell_type": "code",
   "execution_count": null,
   "id": "ae10beea-9160-4de8-96cf-31bdb58745c0",
   "metadata": {},
   "outputs": [],
   "source": [
    "n=5"
   ]
  },
  {
   "cell_type": "code",
   "execution_count": 295,
   "id": "a402898f-2f06-4751-b013-238eb6af1ee9",
   "metadata": {},
   "outputs": [
    {
     "name": "stdout",
     "output_type": "stream",
     "text": [
      "5! = 120\n"
     ]
    }
   ],
   "source": [
    "def factorial(n):\n",
    "    # Base case: 0! or 1! = 1\n",
    "    if n == 0 or n == 1:\n",
    "        return 1\n",
    "    # Recursive case: n! = n * (n-1)!\n",
    "    return (n * factorial(n - 1))\n",
    "\n",
    "# Calculate 5!\n",
    "result = factorial(5)\n",
    "print(\"5! =\", result)"
   ]
  },
  {
   "cell_type": "code",
   "execution_count": null,
   "id": "afdeb612-7e0a-41f6-b8ed-1c4af8b02e7e",
   "metadata": {},
   "outputs": [],
   "source": []
  },
  {
   "cell_type": "code",
   "execution_count": null,
   "id": "c46b2577-de0b-49bc-b1f3-9d44bbce1ff5",
   "metadata": {},
   "outputs": [],
   "source": []
  },
  {
   "cell_type": "code",
   "execution_count": null,
   "id": "d0022f3e-1b54-41b2-b4d1-923babbb9a7c",
   "metadata": {},
   "outputs": [],
   "source": []
  },
  {
   "cell_type": "code",
   "execution_count": null,
   "id": "eb958a19-2749-4704-8100-35e6ae548d50",
   "metadata": {},
   "outputs": [],
   "source": []
  },
  {
   "cell_type": "code",
   "execution_count": null,
   "id": "1a40d3ee-451e-41c0-973c-330599683141",
   "metadata": {},
   "outputs": [],
   "source": []
  },
  {
   "cell_type": "code",
   "execution_count": 11,
   "id": "dfb59c8c-8e9b-40fc-a6c3-8a27a5683f35",
   "metadata": {},
   "outputs": [
    {
     "name": "stdout",
     "output_type": "stream",
     "text": [
      "6! = 720\n"
     ]
    }
   ],
   "source": [
    "def factt(n):\n",
    "    if n == 0 or n == 1:\n",
    "        return 1\n",
    "    else:\n",
    "        return (n * factt(n - 1))\n",
    "\n",
    "result = factt(6)\n",
    "print(\"6! =\", result)"
   ]
  },
  {
   "cell_type": "code",
   "execution_count": 307,
   "id": "aa18f08e-a0d7-43fd-86db-fb5017f9b80a",
   "metadata": {},
   "outputs": [
    {
     "data": {
      "text/plain": [
       "['__doc__',\n",
       " '__file__',\n",
       " '__loader__',\n",
       " '__name__',\n",
       " '__package__',\n",
       " '__spec__',\n",
       " 'acos',\n",
       " 'acosh',\n",
       " 'asin',\n",
       " 'asinh',\n",
       " 'atan',\n",
       " 'atan2',\n",
       " 'atanh',\n",
       " 'cbrt',\n",
       " 'ceil',\n",
       " 'comb',\n",
       " 'copysign',\n",
       " 'cos',\n",
       " 'cosh',\n",
       " 'degrees',\n",
       " 'dist',\n",
       " 'e',\n",
       " 'erf',\n",
       " 'erfc',\n",
       " 'exp',\n",
       " 'exp2',\n",
       " 'expm1',\n",
       " 'fabs',\n",
       " 'factorial',\n",
       " 'floor',\n",
       " 'fmod',\n",
       " 'frexp',\n",
       " 'fsum',\n",
       " 'gamma',\n",
       " 'gcd',\n",
       " 'hypot',\n",
       " 'inf',\n",
       " 'isclose',\n",
       " 'isfinite',\n",
       " 'isinf',\n",
       " 'isnan',\n",
       " 'isqrt',\n",
       " 'lcm',\n",
       " 'ldexp',\n",
       " 'lgamma',\n",
       " 'log',\n",
       " 'log10',\n",
       " 'log1p',\n",
       " 'log2',\n",
       " 'modf',\n",
       " 'nan',\n",
       " 'nextafter',\n",
       " 'perm',\n",
       " 'pi',\n",
       " 'pow',\n",
       " 'prod',\n",
       " 'radians',\n",
       " 'remainder',\n",
       " 'sin',\n",
       " 'sinh',\n",
       " 'sqrt',\n",
       " 'sumprod',\n",
       " 'tan',\n",
       " 'tanh',\n",
       " 'tau',\n",
       " 'trunc',\n",
       " 'ulp']"
      ]
     },
     "execution_count": 307,
     "metadata": {},
     "output_type": "execute_result"
    }
   ],
   "source": [
    "import math \n",
    "dir(math)"
   ]
  },
  {
   "cell_type": "code",
   "execution_count": 335,
   "id": "0e559e13-d184-4f88-bffa-02a839cc7706",
   "metadata": {},
   "outputs": [
    {
     "data": {
      "text/plain": [
       "120"
      ]
     },
     "execution_count": 335,
     "metadata": {},
     "output_type": "execute_result"
    }
   ],
   "source": [
    "factorial(5)"
   ]
  },
  {
   "cell_type": "code",
   "execution_count": null,
   "id": "0f43f1cc-14a3-475d-8fb8-ed1f9858be69",
   "metadata": {},
   "outputs": [],
   "source": [
    "# q2) calculator program \n",
    "\n",
    "create 4 functions \n",
    "def add(a,b):\n",
    "    return(a+b)\n",
    "def multiple \n",
    "def divis\n",
    "def subtrac\n",
    "\n",
    "print('enter 1 for additoin')\n",
    "\n",
    "def main():\n",
    "    option=eval(input('enter bt 1 to 4'))\n",
    "    if option ==1:\n",
    "        a=\n",
    "        b=\n",
    "        add()\n",
    "        return\n",
    "    elif option==2:\n",
    "        a=\n",
    "        b= \n",
    "        mul()\n",
    "        return"
   ]
  },
  {
   "cell_type": "code",
   "execution_count": 13,
   "id": "e24c1992-9cd7-48dc-9ccf-cd6ced28d369",
   "metadata": {},
   "outputs": [
    {
     "name": "stdout",
     "output_type": "stream",
     "text": [
      "enter 1 for addition\n",
      "enter 2 for multiple\n",
      "enter 3 for division\n",
      "enter 4 for subtraction\n"
     ]
    },
    {
     "name": "stdin",
     "output_type": "stream",
     "text": [
      "enter bt 1  to 4 3\n"
     ]
    },
    {
     "data": {
      "text/plain": [
       "2.0"
      ]
     },
     "execution_count": 13,
     "metadata": {},
     "output_type": "execute_result"
    }
   ],
   "source": [
    "def add(a,b):\n",
    "    return(a+b)\n",
    "    \n",
    "def multiple(a,b):\n",
    "    return(a*b)\n",
    "\n",
    "def div(a,b):\n",
    "    return(a/b)\n",
    "\n",
    "def sub(a,b):\n",
    "    return(a-b)\n",
    "print('enter 1 for addition')\n",
    "print('enter 2 for multiple')\n",
    "print('enter 3 for division')\n",
    "print('enter 4 for subtraction')\n",
    "\n",
    "def main():\n",
    "    option=eval(input('enter bt 1  to 4'))\n",
    "    if option==1:\n",
    "        a=1\n",
    "        b=2\n",
    "        return(a+b)\n",
    "    elif option==2:\n",
    "        a=3\n",
    "        b=4\n",
    "        return(a*b)\n",
    "    elif option==3:\n",
    "        a=4\n",
    "        b=2\n",
    "        return(a/b)\n",
    "    elif option==4:\n",
    "        a=3\n",
    "        b=2\n",
    "        return(a-b)\n",
    "    else:\n",
    "        return('invalid')\n",
    "\n",
    "\n",
    "main()          "
   ]
  },
  {
   "cell_type": "code",
   "execution_count": null,
   "id": "3fafcc81-6d3b-47e3-8c61-cf5fd5818ee6",
   "metadata": {},
   "outputs": [],
   "source": []
  }
 ],
 "metadata": {
  "kernelspec": {
   "display_name": "Python [conda env:base] *",
   "language": "python",
   "name": "conda-base-py"
  },
  "language_info": {
   "codemirror_mode": {
    "name": "ipython",
    "version": 3
   },
   "file_extension": ".py",
   "mimetype": "text/x-python",
   "name": "python",
   "nbconvert_exporter": "python",
   "pygments_lexer": "ipython3",
   "version": "3.12.7"
  }
 },
 "nbformat": 4,
 "nbformat_minor": 5
}

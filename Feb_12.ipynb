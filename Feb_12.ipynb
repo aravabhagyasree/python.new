{
 "cells": [
  {
   "cell_type": "code",
   "execution_count": null,
   "id": "11b89925-edb9-4958-b622-afc5182dd58a",
   "metadata": {},
   "outputs": [],
   "source": [
    "**keys**"
   ]
  },
  {
   "cell_type": "code",
   "execution_count": 2,
   "id": "cc72474f-f4b3-437a-8e35-6fd903aeadbf",
   "metadata": {},
   "outputs": [
    {
     "data": {
      "text/plain": [
       "dict_keys(['ramesh', 'suresh', 'sathish'])"
      ]
     },
     "execution_count": 2,
     "metadata": {},
     "output_type": "execute_result"
    }
   ],
   "source": [
    "d={'ramesh': 20, 'suresh': 25, 'sathish': 30}\n",
    "keys=d.keys()\n",
    "keys"
   ]
  },
  {
   "cell_type": "code",
   "execution_count": 4,
   "id": "63b380cb-0b77-4e08-8b33-547661585bd7",
   "metadata": {},
   "outputs": [
    {
     "data": {
      "text/plain": [
       "dict_keys"
      ]
     },
     "execution_count": 4,
     "metadata": {},
     "output_type": "execute_result"
    }
   ],
   "source": [
    "type(keys)"
   ]
  },
  {
   "cell_type": "code",
   "execution_count": 6,
   "id": "83d24543-1682-4617-ab07-f4de725ed882",
   "metadata": {},
   "outputs": [
    {
     "ename": "AttributeError",
     "evalue": "'dict_keys' object has no attribute 'count'",
     "output_type": "error",
     "traceback": [
      "\u001b[0;31m---------------------------------------------------------------------------\u001b[0m",
      "\u001b[0;31mAttributeError\u001b[0m                            Traceback (most recent call last)",
      "Cell \u001b[0;32mIn[6], line 1\u001b[0m\n\u001b[0;32m----> 1\u001b[0m keys\u001b[38;5;241m.\u001b[39mcount(\u001b[38;5;124m'\u001b[39m\u001b[38;5;124mramesh\u001b[39m\u001b[38;5;124m'\u001b[39m)\n",
      "\u001b[0;31mAttributeError\u001b[0m: 'dict_keys' object has no attribute 'count'"
     ]
    }
   ],
   "source": [
    "# note : i got mistaken im assuming this is list type \n",
    "# it is not a list type <==> dict_keys(['ramesh', 'suresh', 'sathish'])\n",
    "keys.count('ramesh')"
   ]
  },
  {
   "cell_type": "code",
   "execution_count": null,
   "id": "0b5b0539-e987-4a1f-bd0b-fa58e80691a7",
   "metadata": {},
   "outputs": [],
   "source": [
    "**convert dictionary to list**\n",
    "\n",
    "- in order to convert dic to list \n",
    "\n",
    "- first we need to seperate keys and values\n",
    "\n",
    "- then apply list type casting"
   ]
  },
  {
   "cell_type": "code",
   "execution_count": 10,
   "id": "5f739955-7afa-4b0a-ae28-4d19c9c2ab6e",
   "metadata": {},
   "outputs": [
    {
     "data": {
      "text/plain": [
       "['ramesh', 'suresh', 'sathish']"
      ]
     },
     "execution_count": 10,
     "metadata": {},
     "output_type": "execute_result"
    }
   ],
   "source": [
    "d={'ramesh': 20, 'suresh': 25, 'sathish': 30}\n",
    "keys=d.keys()\n",
    "keys_list=list(keys)\n",
    "keys_list"
   ]
  },
  {
   "cell_type": "code",
   "execution_count": 13,
   "id": "f4ccfd41-32cf-4c9b-afe5-5de7f741cd9a",
   "metadata": {},
   "outputs": [
    {
     "data": {
      "text/plain": [
       "[20, 25, 30]"
      ]
     },
     "execution_count": 13,
     "metadata": {},
     "output_type": "execute_result"
    }
   ],
   "source": [
    "d={'ramesh': 20, 'suresh': 25, 'sathish': 30}\n",
    "values=d.values()\n",
    "values_list=list(values)\n",
    "values_list"
   ]
  },
  {
   "cell_type": "code",
   "execution_count": 15,
   "id": "dbbb4a55-b564-4363-a068-5353c7364425",
   "metadata": {},
   "outputs": [
    {
     "data": {
      "text/plain": [
       "[('ramesh', 20), ('suresh', 25), ('sathish', 30)]"
      ]
     },
     "execution_count": 15,
     "metadata": {},
     "output_type": "execute_result"
    }
   ],
   "source": [
    "d={'ramesh': 20, 'suresh': 25, 'sathish': 30}\n",
    "items=d.items()\n",
    "items_list=list(items)\n",
    "items_list"
   ]
  },
  {
   "cell_type": "code",
   "execution_count": 17,
   "id": "32f1a875-45fb-4874-83eb-467e48951fb9",
   "metadata": {},
   "outputs": [
    {
     "data": {
      "text/plain": [
       "(list, dict_keys)"
      ]
     },
     "execution_count": 17,
     "metadata": {},
     "output_type": "execute_result"
    }
   ],
   "source": [
    "type(keys_list),type(keys)"
   ]
  },
  {
   "cell_type": "code",
   "execution_count": 19,
   "id": "87a02ed8-d902-4b0f-b498-4f097ae856dd",
   "metadata": {},
   "outputs": [
    {
     "data": {
      "text/plain": [
       "1"
      ]
     },
     "execution_count": 19,
     "metadata": {},
     "output_type": "execute_result"
    }
   ],
   "source": [
    "keys_list.count('ramesh')"
   ]
  },
  {
   "cell_type": "code",
   "execution_count": 21,
   "id": "04a248a9-cbb5-48ee-a0be-d7762e778eb5",
   "metadata": {},
   "outputs": [
    {
     "data": {
      "text/plain": [
       "(list, dict_values)"
      ]
     },
     "execution_count": 21,
     "metadata": {},
     "output_type": "execute_result"
    }
   ],
   "source": [
    "type(values_list),type(values)"
   ]
  },
  {
   "cell_type": "code",
   "execution_count": 25,
   "id": "4e2f9a10-82f1-455c-9f58-5bdd7643615e",
   "metadata": {},
   "outputs": [
    {
     "data": {
      "text/plain": [
       "1"
      ]
     },
     "execution_count": 25,
     "metadata": {},
     "output_type": "execute_result"
    }
   ],
   "source": [
    "values_list.count(20)"
   ]
  },
  {
   "cell_type": "code",
   "execution_count": 27,
   "id": "803accee-1e81-4b65-b0d2-5e481d5b450e",
   "metadata": {},
   "outputs": [
    {
     "data": {
      "text/plain": [
       "(list, dict_items)"
      ]
     },
     "execution_count": 27,
     "metadata": {},
     "output_type": "execute_result"
    }
   ],
   "source": [
    "type(items_list),type(items)"
   ]
  },
  {
   "cell_type": "code",
   "execution_count": 33,
   "id": "d837ada4-e4c3-4f46-8718-14ed2f7c958b",
   "metadata": {},
   "outputs": [
    {
     "data": {
      "text/plain": [
       "0"
      ]
     },
     "execution_count": 33,
     "metadata": {},
     "output_type": "execute_result"
    }
   ],
   "source": [
    "items_list.count('sathish')"
   ]
  },
  {
   "cell_type": "code",
   "execution_count": null,
   "id": "aa85e34a-6826-48ae-ac3a-9cbcfc00d75e",
   "metadata": {},
   "outputs": [],
   "source": [
    "**basic conversations**\n",
    "\n",
    "- list === str  using \" join \"\n",
    "\n",
    "- str  === list using \" split \"\n",
    "\n",
    "- list === dict using \" zip \"\n",
    "\n",
    "- dict === list using \" typecasting \""
   ]
  },
  {
   "cell_type": "code",
   "execution_count": 129,
   "id": "cd45cac1-78a2-4a6a-9d8e-febbdebc8ada",
   "metadata": {},
   "outputs": [
    {
     "data": {
      "text/plain": [
       "{'fname': ['virat', 'rohit', 'ms'],\n",
       " 'sname': ['kohil', 'sharma', 'dhoni'],\n",
       " 'cname': ['rcb', 'mi', 'csk']}"
      ]
     },
     "execution_count": 129,
     "metadata": {},
     "output_type": "execute_result"
    }
   ],
   "source": [
    "# str to list\n",
    "# from there extract 3 lists\n",
    "# 1 fname 2 sname 3 cname \n",
    "# from 3 create dict\n",
    "# take empty dict d[fname]=\n",
    "emails='virat.kohil@rcb.com;rohit.sharma@mi.com;ms.dhoni@csk.com'\n",
    "l1=emails.split(';')\n",
    "fname,sname,cname=[],[],[]\n",
    "d={}\n",
    "for i in l1:\n",
    "    first_dot=i.index('.')\n",
    "    second_dot=i.index('.',first_dot+1)\n",
    "    at_the_rate=i.index('@')\n",
    "    fname.append(i[:first_dot])\n",
    "    sname.append(i[first_dot+1:at_the_rate])\n",
    "    cname.append(i[at_the_rate+1:second_dot])\n",
    "\n",
    "d['fname']=fname\n",
    "d['sname']=sname\n",
    "d['cname']=cname\n",
    "d"
   ]
  },
  {
   "cell_type": "code",
   "execution_count": 131,
   "id": "5e548152-7c0f-4ede-85f2-81b27b9e9458",
   "metadata": {},
   "outputs": [
    {
     "data": {
      "text/plain": [
       "{'fname': ['virat', 'rohit', 'ms'],\n",
       " 'sname': ['kohil', 'sharma', 'dhoni'],\n",
       " 'cname': ['rcb', 'mi', 'csk']}"
      ]
     },
     "execution_count": 131,
     "metadata": {},
     "output_type": "execute_result"
    }
   ],
   "source": [
    "d"
   ]
  },
  {
   "cell_type": "code",
   "execution_count": 133,
   "id": "90adc7cf-337f-4140-b88b-1b62b30dfe81",
   "metadata": {},
   "outputs": [
    {
     "data": {
      "text/plain": [
       "['__class__',\n",
       " '__class_getitem__',\n",
       " '__contains__',\n",
       " '__delattr__',\n",
       " '__delitem__',\n",
       " '__dir__',\n",
       " '__doc__',\n",
       " '__eq__',\n",
       " '__format__',\n",
       " '__ge__',\n",
       " '__getattribute__',\n",
       " '__getitem__',\n",
       " '__getstate__',\n",
       " '__gt__',\n",
       " '__hash__',\n",
       " '__init__',\n",
       " '__init_subclass__',\n",
       " '__ior__',\n",
       " '__iter__',\n",
       " '__le__',\n",
       " '__len__',\n",
       " '__lt__',\n",
       " '__ne__',\n",
       " '__new__',\n",
       " '__or__',\n",
       " '__reduce__',\n",
       " '__reduce_ex__',\n",
       " '__repr__',\n",
       " '__reversed__',\n",
       " '__ror__',\n",
       " '__setattr__',\n",
       " '__setitem__',\n",
       " '__sizeof__',\n",
       " '__str__',\n",
       " '__subclasshook__',\n",
       " 'clear',\n",
       " 'copy',\n",
       " 'fromkeys',\n",
       " 'get',\n",
       " 'items',\n",
       " 'keys',\n",
       " 'pop',\n",
       " 'popitem',\n",
       " 'setdefault',\n",
       " 'update',\n",
       " 'values']"
      ]
     },
     "execution_count": 133,
     "metadata": {},
     "output_type": "execute_result"
    }
   ],
   "source": [
    "dir({})"
   ]
  },
  {
   "cell_type": "code",
   "execution_count": null,
   "id": "26ae288f-87b1-4949-a402-8355eaa72e8c",
   "metadata": {},
   "outputs": [],
   "source": [
    " 'pop',\n",
    " 'popitem',"
   ]
  },
  {
   "cell_type": "code",
   "execution_count": 139,
   "id": "907aa670-aa49-4e8d-88cc-1e508c1a2f98",
   "metadata": {},
   "outputs": [
    {
     "data": {
      "text/plain": [
       "{'suresh': 25, 'sathish': 30}"
      ]
     },
     "execution_count": 139,
     "metadata": {},
     "output_type": "execute_result"
    }
   ],
   "source": [
    "d={'ramesh': 20, 'suresh': 25, 'sathish': 30}\n",
    "d.pop('ramesh')\n",
    "d"
   ]
  },
  {
   "cell_type": "code",
   "execution_count": 155,
   "id": "f81cb6e4-9e84-47ea-bd3f-5078580f342e",
   "metadata": {},
   "outputs": [
    {
     "data": {
      "text/plain": [
       "{'ramesh': 20, 'suresh': 25}"
      ]
     },
     "execution_count": 155,
     "metadata": {},
     "output_type": "execute_result"
    }
   ],
   "source": [
    "d={'ramesh': 20, 'suresh': 25, 'sathish': 30}\n",
    "d.popitem()\n",
    "d"
   ]
  },
  {
   "cell_type": "code",
   "execution_count": 159,
   "id": "483ddcd5-b2b0-4ec0-b603-62c090253bb4",
   "metadata": {},
   "outputs": [
    {
     "data": {
      "text/plain": [
       "{'apple': 89, 'banana': 67}"
      ]
     },
     "execution_count": 159,
     "metadata": {},
     "output_type": "execute_result"
    }
   ],
   "source": [
    "d1={'apple':89,'banana':67,'carrot':977}\n",
    "d1.popitem()\n",
    "d1"
   ]
  },
  {
   "cell_type": "code",
   "execution_count": 177,
   "id": "63cd8d59-d91f-44f6-87a7-f3c7a5a8f9f0",
   "metadata": {},
   "outputs": [
    {
     "data": {
      "text/plain": [
       "{'apple': 89, 'banana': 67, 'carrot': 977}"
      ]
     },
     "execution_count": 177,
     "metadata": {},
     "output_type": "execute_result"
    }
   ],
   "source": [
    "d2={'apple':89,'banana':67,'carrot':977,'dog':57899}\n",
    "d2.popitem()\n",
    "d2"
   ]
  },
  {
   "cell_type": "code",
   "execution_count": 173,
   "id": "31c443cd-7b8e-4426-bae3-9320d1ef7b74",
   "metadata": {},
   "outputs": [
    {
     "data": {
      "text/plain": [
       "['ramesh', 'suresh']"
      ]
     },
     "execution_count": 173,
     "metadata": {},
     "output_type": "execute_result"
    }
   ],
   "source": [
    "d3=['ramesh','suresh','sathish']\n",
    "d3.pop()\n",
    "d3"
   ]
  },
  {
   "cell_type": "code",
   "execution_count": null,
   "id": "45223779-f19e-4ee3-96cb-a5b7caf5a956",
   "metadata": {},
   "outputs": [],
   "source": [
    "# note imp\n",
    "\n",
    "- \"pop\" in dict is similar to \"remove\" in list\n",
    "\n",
    "- \"popitem\" in dict is similar to \"pop\" in list"
   ]
  },
  {
   "cell_type": "code",
   "execution_count": 187,
   "id": "e1dc6f97-0922-460b-aef7-1f46c9a77656",
   "metadata": {},
   "outputs": [
    {
     "data": {
      "text/plain": [
       "67"
      ]
     },
     "execution_count": 187,
     "metadata": {},
     "output_type": "execute_result"
    }
   ],
   "source": [
    "d5={'apple':89,'banana':67,'carrot':977,'dog':57899}\n",
    "d5.get('banana')"
   ]
  },
  {
   "cell_type": "code",
   "execution_count": 189,
   "id": "3c81e7ce-59ef-4414-9e16-11ac7d39195d",
   "metadata": {},
   "outputs": [
    {
     "data": {
      "text/plain": [
       "89"
      ]
     },
     "execution_count": 189,
     "metadata": {},
     "output_type": "execute_result"
    }
   ],
   "source": [
    "d5['apple'] # key as an index \n",
    "\n",
    "# both get method and  this d5['apple'] functions same"
   ]
  },
  {
   "cell_type": "code",
   "execution_count": null,
   "id": "a7b90f28-1a68-47fb-a552-f92da02ea007",
   "metadata": {},
   "outputs": [],
   "source": [
    "**update**"
   ]
  },
  {
   "cell_type": "code",
   "execution_count": null,
   "id": "e14a62da-adfc-417d-b4d1-8cd76bdb8caf",
   "metadata": {},
   "outputs": [],
   "source": []
  },
  {
   "cell_type": "code",
   "execution_count": 201,
   "id": "2701cd21-3f0a-450d-98e6-74d35787b592",
   "metadata": {},
   "outputs": [
    {
     "data": {
      "text/plain": [
       "{'ramesh': 20,\n",
       " 'suresh': 25,\n",
       " 'sathish': 30,\n",
       " 'apple': 89,\n",
       " 'banana': 67,\n",
       " 'carrot': 977,\n",
       " 'dog': 57899}"
      ]
     },
     "execution_count": 201,
     "metadata": {},
     "output_type": "execute_result"
    }
   ],
   "source": [
    "d2={'apple':89,'banana':67,'carrot':977,'dog':57899}\n",
    "d={'ramesh': 20, 'suresh': 25, 'sathish': 30}\n",
    "d.update(d2)\n",
    "d"
   ]
  },
  {
   "cell_type": "code",
   "execution_count": 211,
   "id": "01c91037-9bc0-4c38-a2e0-4f5a033e92f4",
   "metadata": {},
   "outputs": [
    {
     "data": {
      "text/plain": [
       "{'apple': 89, 'banana': 67, 'carrot': 977, 'dog': 57899}"
      ]
     },
     "execution_count": 211,
     "metadata": {},
     "output_type": "execute_result"
    }
   ],
   "source": [
    "d2={'apple':89,'banana':67,'carrot':977,'dog':57899}\n",
    "d4={ }\n",
    "d2.update(d4)\n",
    "d2"
   ]
  },
  {
   "cell_type": "code",
   "execution_count": 215,
   "id": "3a135a83-fa77-4a77-9fe1-28b54962aa6d",
   "metadata": {},
   "outputs": [
    {
     "data": {
      "text/plain": [
       "['apple', 'banana', 20, 378, 799, 'fuck']"
      ]
     },
     "execution_count": 215,
     "metadata": {},
     "output_type": "execute_result"
    }
   ],
   "source": [
    "l1=['apple','banana']\n",
    "l2=[20,378,799,'fuck']\n",
    "l1.extend(l2)\n",
    "l1"
   ]
  },
  {
   "cell_type": "code",
   "execution_count": null,
   "id": "6aa21f67-da34-423f-829a-3c03b98da58f",
   "metadata": {},
   "outputs": [],
   "source": [
    "# note imp\n",
    "\n",
    "- \"update\" in dict is similar to \"extend\" in list"
   ]
  },
  {
   "cell_type": "code",
   "execution_count": null,
   "id": "9c14bc60-2ad5-418a-b461-ce17bb583b1f",
   "metadata": {},
   "outputs": [],
   "source": [
    "**setdefault**\n",
    "- suppose an already existed dict avaliable \n",
    "- we can update the dict with new key value pair"
   ]
  },
  {
   "cell_type": "code",
   "execution_count": 221,
   "id": "558e6350-ca50-4c8a-ba25-4b516226cdd4",
   "metadata": {},
   "outputs": [
    {
     "data": {
      "text/plain": [
       "{'apple': 89, 'banana': 67, 'carrot': 977, 'dog': 57899, 'cat': 789}"
      ]
     },
     "execution_count": 221,
     "metadata": {},
     "output_type": "execute_result"
    }
   ],
   "source": [
    "d2={'apple':89,'banana':67,'carrot':977,'dog':57899}\n",
    "d2.setdefault('cat',789)\n",
    "d2"
   ]
  },
  {
   "cell_type": "code",
   "execution_count": null,
   "id": "a35d1bcf-f54f-406a-911f-a97d623c69f0",
   "metadata": {},
   "outputs": [],
   "source": [
    "# note imp\n",
    "\n",
    "- \"setdefault\" in dict is similar to \"append\" in list"
   ]
  },
  {
   "cell_type": "code",
   "execution_count": null,
   "id": "6bee063f-8379-48e5-a060-0362a3ebcf1e",
   "metadata": {},
   "outputs": [],
   "source": [
    "# note\n",
    "- always remember dict is a key:value pair concept\n",
    "- it never involves index operations \n",
    "- we dont have index, find methods in dict\n",
    "- we have get method to extract values using key"
   ]
  },
  {
   "cell_type": "code",
   "execution_count": null,
   "id": "6c196551-ef5d-4cca-81c7-06b9c1660ef5",
   "metadata": {},
   "outputs": [],
   "source": [
    "**fromkeys**\n",
    "- create a dict with diffrent keys but same value\n",
    "\n",
    "- fromkeys will take an argument iterable\n",
    "- try to provide an iterator ie.str,list,tuple"
   ]
  },
  {
   "cell_type": "code",
   "execution_count": null,
   "id": "24f6a3d6-409a-464b-8bdf-94ee32332105",
   "metadata": {},
   "outputs": [],
   "source": [
    "d.fromkeys()"
   ]
  },
  {
   "cell_type": "code",
   "execution_count": 223,
   "id": "0cbbbfb0-cc5b-4b10-961e-723dd31964ab",
   "metadata": {},
   "outputs": [
    {
     "data": {
      "text/plain": [
       "{'fan': None, 'chair': None, 'door': None}"
      ]
     },
     "execution_count": 223,
     "metadata": {},
     "output_type": "execute_result"
    }
   ],
   "source": [
    "d3={}\n",
    "names=['fan','chair','door']\n",
    "d3.fromkeys(names)"
   ]
  },
  {
   "cell_type": "code",
   "execution_count": 225,
   "id": "8b8c8526-f117-412d-93d8-74eead47d9d8",
   "metadata": {},
   "outputs": [
    {
     "data": {
      "text/plain": [
       "{'fan': 'items', 'chair': 'items', 'door': 'items'}"
      ]
     },
     "execution_count": 225,
     "metadata": {},
     "output_type": "execute_result"
    }
   ],
   "source": [
    "d3={}\n",
    "names=['fan','chair','door']\n",
    "d3.fromkeys(names,'items')"
   ]
  },
  {
   "cell_type": "code",
   "execution_count": 227,
   "id": "7b216a1f-f713-4cf7-9fd9-bf6bfc4b492a",
   "metadata": {},
   "outputs": [
    {
     "data": {
      "text/plain": [
       "{'p': None, 'y': None, 't': None, 'h': None, 'o': None, 'n': None}"
      ]
     },
     "execution_count": 227,
     "metadata": {},
     "output_type": "execute_result"
    }
   ],
   "source": [
    "# str\n",
    "gh={}\n",
    "he='python'\n",
    "gh.fromkeys(he)"
   ]
  },
  {
   "cell_type": "code",
   "execution_count": 233,
   "id": "9586d298-bd2d-4075-8131-60a37fd3a6a2",
   "metadata": {},
   "outputs": [
    {
     "data": {
      "text/plain": [
       "{'1': 'numbers',\n",
       " '2': 'numbers',\n",
       " '3': 'numbers',\n",
       " '4': 'numbers',\n",
       " '5': 'numbers'}"
      ]
     },
     "execution_count": 233,
     "metadata": {},
     "output_type": "execute_result"
    }
   ],
   "source": [
    "hi={}\n",
    "hrh='12345'\n",
    "hi.fromkeys(hrh,'numbers')"
   ]
  },
  {
   "cell_type": "code",
   "execution_count": null,
   "id": "4c0f6d92-9ef4-4878-b77b-5f774f883556",
   "metadata": {},
   "outputs": [],
   "source": [
    "- \"pop\" in dict is similar to \"remove\" in list\n",
    "\n",
    "- \"popitem\" in dict is similar to \"pop\" in list\n",
    "\n",
    "- \"update\" in dict is similar to \"extend\" in list\n",
    "\n",
    "- \"setdefault\" in dict is similar to \"append\" in list\n",
    "\n",
    "- \"get\" in dict is similar to \"index\" in list\n",
    "\n",
    "- list has count, string has count and tuple also has count\n",
    "\n",
    "    - but dict does not have count\n",
    "    - buz dict does not allow duplicates\n",
    "\n",
    "- str has find but list does not have"
   ]
  }
 ],
 "metadata": {
  "kernelspec": {
   "display_name": "Python [conda env:base] *",
   "language": "python",
   "name": "conda-base-py"
  },
  "language_info": {
   "codemirror_mode": {
    "name": "ipython",
    "version": 3
   },
   "file_extension": ".py",
   "mimetype": "text/x-python",
   "name": "python",
   "nbconvert_exporter": "python",
   "pygments_lexer": "ipython3",
   "version": "3.12.7"
  }
 },
 "nbformat": 4,
 "nbformat_minor": 5
}

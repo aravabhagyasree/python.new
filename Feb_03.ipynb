{
 "cells": [
  {
   "cell_type": "code",
   "execution_count": 28,
   "id": "eef5d1b8-f190-4fac-b07e-5fe2dcf98e20",
   "metadata": {},
   "outputs": [
    {
     "name": "stdout",
     "output_type": "stream",
     "text": [
      "1 2 3 4 5 6 "
     ]
    }
   ],
   "source": [
    "str1='the telephone number is 123456'\n",
    "for i in str1:\n",
    "    if i.isdigit():\n",
    "        print(i,end=' ')"
   ]
  },
  {
   "cell_type": "code",
   "execution_count": 16,
   "id": "8faedce1-e813-4400-ae68-b5bc4b25007a",
   "metadata": {},
   "outputs": [
    {
     "data": {
      "text/plain": [
       "['__add__',\n",
       " '__class__',\n",
       " '__contains__',\n",
       " '__delattr__',\n",
       " '__dir__',\n",
       " '__doc__',\n",
       " '__eq__',\n",
       " '__format__',\n",
       " '__ge__',\n",
       " '__getattribute__',\n",
       " '__getitem__',\n",
       " '__getnewargs__',\n",
       " '__getstate__',\n",
       " '__gt__',\n",
       " '__hash__',\n",
       " '__init__',\n",
       " '__init_subclass__',\n",
       " '__iter__',\n",
       " '__le__',\n",
       " '__len__',\n",
       " '__lt__',\n",
       " '__mod__',\n",
       " '__mul__',\n",
       " '__ne__',\n",
       " '__new__',\n",
       " '__reduce__',\n",
       " '__reduce_ex__',\n",
       " '__repr__',\n",
       " '__rmod__',\n",
       " '__rmul__',\n",
       " '__setattr__',\n",
       " '__sizeof__',\n",
       " '__str__',\n",
       " '__subclasshook__',\n",
       " 'capitalize',\n",
       " 'casefold',\n",
       " 'center',\n",
       " 'count',\n",
       " 'encode',\n",
       " 'endswith',\n",
       " 'expandtabs',\n",
       " 'find',\n",
       " 'format',\n",
       " 'format_map',\n",
       " 'index',\n",
       " 'isalnum',\n",
       " 'isalpha',\n",
       " 'isascii',\n",
       " 'isdecimal',\n",
       " 'isdigit',\n",
       " 'isidentifier',\n",
       " 'islower',\n",
       " 'isnumeric',\n",
       " 'isprintable',\n",
       " 'isspace',\n",
       " 'istitle',\n",
       " 'isupper',\n",
       " 'join',\n",
       " 'ljust',\n",
       " 'lower',\n",
       " 'lstrip',\n",
       " 'maketrans',\n",
       " 'partition',\n",
       " 'removeprefix',\n",
       " 'removesuffix',\n",
       " 'replace',\n",
       " 'rfind',\n",
       " 'rindex',\n",
       " 'rjust',\n",
       " 'rpartition',\n",
       " 'rsplit',\n",
       " 'rstrip',\n",
       " 'split',\n",
       " 'splitlines',\n",
       " 'startswith',\n",
       " 'strip',\n",
       " 'swapcase',\n",
       " 'title',\n",
       " 'translate',\n",
       " 'upper',\n",
       " 'zfill']"
      ]
     },
     "execution_count": 16,
     "metadata": {},
     "output_type": "execute_result"
    }
   ],
   "source": [
    "dir(str())"
   ]
  },
  {
   "cell_type": "code",
   "execution_count": 30,
   "id": "a4926cf9-3567-44b0-885b-c2fc0894f130",
   "metadata": {},
   "outputs": [
    {
     "name": "stdout",
     "output_type": "stream",
     "text": [
      "1\n",
      "2\n",
      "3\n",
      "4\n",
      "5\n",
      "6\n"
     ]
    }
   ],
   "source": [
    "str1='the telephone number is 123456' \n",
    "for i in str1:\n",
    "    if i.isdigit():\n",
    "        print(i)"
   ]
  },
  {
   "cell_type": "code",
   "execution_count": 34,
   "id": "c51d053d-2443-4f7c-8914-53a8e469f613",
   "metadata": {},
   "outputs": [
    {
     "name": "stdout",
     "output_type": "stream",
     "text": [
      "123456\n"
     ]
    }
   ],
   "source": [
    "str1='the telephone number is 123456'\n",
    "num=''\n",
    "for i in str1:\n",
    "    if i.isdigit():\n",
    "        num=num+i\n",
    "print(num)"
   ]
  },
  {
   "cell_type": "code",
   "execution_count": null,
   "id": "f79f235e-0d82-490d-a354-571ba555d796",
   "metadata": {},
   "outputs": [],
   "source": []
  },
  {
   "cell_type": "code",
   "execution_count": null,
   "id": "a2ae03e5-4e18-40fe-9746-d93964b175e6",
   "metadata": {},
   "outputs": [],
   "source": []
  },
  {
   "cell_type": "markdown",
   "id": "895462e9-d813-408a-bba9-bec1433027b1",
   "metadata": {},
   "source": [
    "# LIST"
   ]
  },
  {
   "cell_type": "markdown",
   "id": "ba3ed5de-793e-46b9-88f2-25225de68d86",
   "metadata": {},
   "source": [
    "**basic representation**\n",
    "  \n",
    "- strings elements in single quotes\n",
    "\n",
    "- list elements in square brackets"
   ]
  },
  {
   "cell_type": "code",
   "execution_count": 40,
   "id": "f19362d7-f039-4d82-a302-d44bfbfe8bc9",
   "metadata": {},
   "outputs": [
    {
     "data": {
      "text/plain": [
       "[1, 2, 3, 4]"
      ]
     },
     "execution_count": 40,
     "metadata": {},
     "output_type": "execute_result"
    }
   ],
   "source": [
    "list1=[1,2,3,4]\n",
    "list1"
   ]
  },
  {
   "cell_type": "code",
   "execution_count": 59,
   "id": "604a085d-dbd5-4966-90f9-ad122409da99",
   "metadata": {},
   "outputs": [
    {
     "data": {
      "text/plain": [
       "list"
      ]
     },
     "execution_count": 59,
     "metadata": {},
     "output_type": "execute_result"
    }
   ],
   "source": [
    "type(list1)\n",
    "# for strigns === str\n",
    "# we will say strings == but type is str\n",
    "# we will say list === type also list"
   ]
  },
  {
   "cell_type": "code",
   "execution_count": 46,
   "id": "7fc4c5cd-1bf0-4244-9d26-33c5376c10d9",
   "metadata": {},
   "outputs": [
    {
     "data": {
      "text/plain": [
       "['A', 'B', 'C', 'D']"
      ]
     },
     "execution_count": 46,
     "metadata": {},
     "output_type": "execute_result"
    }
   ],
   "source": [
    "list2=['A','B','C','D']\n",
    "list2"
   ]
  },
  {
   "cell_type": "code",
   "execution_count": 61,
   "id": "48014f33-0850-43ad-9944-aac0404767a4",
   "metadata": {},
   "outputs": [
    {
     "data": {
      "text/plain": [
       "[1, 2, 3, 'A', 'c', 'f', 0.3, True, 'p', 4500, (20+30j)]"
      ]
     },
     "execution_count": 61,
     "metadata": {},
     "output_type": "execute_result"
    }
   ],
   "source": [
    "list3=[1,2,3,'A','c','f',0.3,True,'p',4500,20+30j]\n",
    "list3"
   ]
  },
  {
   "cell_type": "code",
   "execution_count": 71,
   "id": "5c14d7a6-9185-4c70-bc30-ecea5a1270d2",
   "metadata": {},
   "outputs": [
    {
     "data": {
      "text/plain": [
       "[10, 20, 30, ['apple']]"
      ]
     },
     "execution_count": 71,
     "metadata": {},
     "output_type": "execute_result"
    }
   ],
   "source": [
    "list4=[10,20,30,['apple']]\n",
    "list4"
   ]
  },
  {
   "cell_type": "code",
   "execution_count": 95,
   "id": "8715e223-5dd2-476c-9ef0-50d00bd3fb88",
   "metadata": {},
   "outputs": [],
   "source": [
    "list12=[10,20,2,5,75]\n",
    "list22=['apple','Apple','cherry','banana']\n",
    "list32=[10,20,2,5,75,'apple','Apple','cherry','banana']"
   ]
  },
  {
   "cell_type": "code",
   "execution_count": 17,
   "id": "a0adef96-cd85-4623-ad32-f2fd3ff245e1",
   "metadata": {},
   "outputs": [
    {
     "name": "stdout",
     "output_type": "stream",
     "text": [
      "[10, 20, 2, 5, 75] ['apple', 'Apple', 'cherry', 'banana'] [10, 20, 2, 5, 75, 'apple', 'Apple', 'cherry', 'banana']\n"
     ]
    }
   ],
   "source": [
    "print(list12,list22,list32)"
   ]
  },
  {
   "cell_type": "code",
   "execution_count": 111,
   "id": "50ad1400-daef-4f4a-9c4e-a4de5397d34e",
   "metadata": {},
   "outputs": [
    {
     "name": "stdout",
     "output_type": "stream",
     "text": [
      "5\n",
      "4\n",
      "9\n"
     ]
    }
   ],
   "source": [
    "print(len(list12))\n",
    "print(len(list22))\n",
    "print(len(list32))"
   ]
  },
  {
   "cell_type": "code",
   "execution_count": 121,
   "id": "dda93cac-8667-4f53-ae1c-39b07e13208f",
   "metadata": {},
   "outputs": [
    {
     "name": "stdout",
     "output_type": "stream",
     "text": [
      "75\n",
      "cherry\n"
     ]
    }
   ],
   "source": [
    "print(max(list12))\n",
    "print(max(list22))"
   ]
  },
  {
   "cell_type": "code",
   "execution_count": 119,
   "id": "9ec3f297-bf8f-4155-bb7c-5bd583a7c68f",
   "metadata": {},
   "outputs": [
    {
     "ename": "TypeError",
     "evalue": "'>' not supported between instances of 'str' and 'int'",
     "output_type": "error",
     "traceback": [
      "\u001b[0;31m---------------------------------------------------------------------------\u001b[0m",
      "\u001b[0;31mTypeError\u001b[0m                                 Traceback (most recent call last)",
      "Cell \u001b[0;32mIn[119], line 1\u001b[0m\n\u001b[0;32m----> 1\u001b[0m \u001b[38;5;28mprint\u001b[39m(\u001b[38;5;28mmax\u001b[39m(list32))\n",
      "\u001b[0;31mTypeError\u001b[0m: '>' not supported between instances of 'str' and 'int'"
     ]
    }
   ],
   "source": [
    "print(max(list32))\n",
    "# max mix with str and int ===> not working"
   ]
  },
  {
   "cell_type": "code",
   "execution_count": 123,
   "id": "72c4595f-835f-4f99-9fa6-0fff67b22ccf",
   "metadata": {},
   "outputs": [
    {
     "ename": "TypeError",
     "evalue": "'<' not supported between instances of 'str' and 'int'",
     "output_type": "error",
     "traceback": [
      "\u001b[0;31m---------------------------------------------------------------------------\u001b[0m",
      "\u001b[0;31mTypeError\u001b[0m                                 Traceback (most recent call last)",
      "Cell \u001b[0;32mIn[123], line 1\u001b[0m\n\u001b[0;32m----> 1\u001b[0m \u001b[38;5;28mprint\u001b[39m(\u001b[38;5;28mmin\u001b[39m(list32))\n",
      "\u001b[0;31mTypeError\u001b[0m: '<' not supported between instances of 'str' and 'int'"
     ]
    }
   ],
   "source": [
    "print(min(list32))\n",
    "# min mix with str and int ===> not working"
   ]
  },
  {
   "cell_type": "code",
   "execution_count": 125,
   "id": "cd3732ee-845f-4a7f-a0b7-8b86e4b25133",
   "metadata": {},
   "outputs": [
    {
     "name": "stdout",
     "output_type": "stream",
     "text": [
      "2\n",
      "Apple\n"
     ]
    }
   ],
   "source": [
    "print(min(list12))\n",
    "print(min(list22))"
   ]
  },
  {
   "cell_type": "code",
   "execution_count": 135,
   "id": "10a1dafc-8ecb-4d16-a7c3-78df1b354d47",
   "metadata": {},
   "outputs": [
    {
     "name": "stdout",
     "output_type": "stream",
     "text": [
      "[2, 5, 10, 20, 75]\n",
      "['Apple', 'apple', 'banana', 'cherry']\n"
     ]
    }
   ],
   "source": [
    "print(sorted(list12))\n",
    "print(sorted(list22))"
   ]
  },
  {
   "cell_type": "code",
   "execution_count": null,
   "id": "fbf23b0c-05d8-41d4-b17b-3ad83207b183",
   "metadata": {},
   "outputs": [],
   "source": [
    "print(sorted(list32))\n",
    "# # sorted mix with str and int ===> not working"
   ]
  },
  {
   "cell_type": "code",
   "execution_count": 145,
   "id": "8525470b-2bb7-4705-bd6e-0e22cf4b080e",
   "metadata": {},
   "outputs": [
    {
     "data": {
      "text/plain": [
       "112"
      ]
     },
     "execution_count": 145,
     "metadata": {},
     "output_type": "execute_result"
    }
   ],
   "source": [
    "sum(list12)"
   ]
  },
  {
   "cell_type": "code",
   "execution_count": 143,
   "id": "39d7722c-3de5-4a1e-a618-531cbff7e61d",
   "metadata": {},
   "outputs": [
    {
     "ename": "TypeError",
     "evalue": "unsupported operand type(s) for +: 'int' and 'str'",
     "output_type": "error",
     "traceback": [
      "\u001b[0;31m---------------------------------------------------------------------------\u001b[0m",
      "\u001b[0;31mTypeError\u001b[0m                                 Traceback (most recent call last)",
      "Cell \u001b[0;32mIn[143], line 1\u001b[0m\n\u001b[0;32m----> 1\u001b[0m \u001b[38;5;28msum\u001b[39m(list22)\n\u001b[1;32m      2\u001b[0m \u001b[38;5;28msum\u001b[39m(list32)\n",
      "\u001b[0;31mTypeError\u001b[0m: unsupported operand type(s) for +: 'int' and 'str'"
     ]
    }
   ],
   "source": [
    "sum(list22)\n",
    "sum(list32)\n",
    "# sum mix with str and int ===> not working"
   ]
  },
  {
   "cell_type": "code",
   "execution_count": 181,
   "id": "aee32461-b740-4041-95e5-094ba1f7f3b9",
   "metadata": {},
   "outputs": [
    {
     "name": "stdout",
     "output_type": "stream",
     "text": [
      "75\n",
      "5\n",
      "2\n",
      "20\n",
      "10\n"
     ]
    }
   ],
   "source": [
    "reversed(list12)\n",
    "for i in (reversed(list12)):\n",
    "    print(i)"
   ]
  },
  {
   "cell_type": "code",
   "execution_count": 7,
   "id": "e50fbf85-f116-459b-a8ef-e1024fdabfa6",
   "metadata": {},
   "outputs": [
    {
     "name": "stdout",
     "output_type": "stream",
     "text": [
      "banana\n",
      "cherry\n",
      "Apple\n",
      "apple\n"
     ]
    }
   ],
   "source": [
    "list12=[10,20,2,5,75]\n",
    "list22=['apple','Apple','cherry','banana']\n",
    "list32=[10,20,2,5,75,'apple','Apple','cherry','banana']\n",
    "\n",
    "for i in reversed(list22):\n",
    "    print(i)"
   ]
  },
  {
   "cell_type": "code",
   "execution_count": 11,
   "id": "35cce524-51f0-4e4f-8055-c7eb4ca411fc",
   "metadata": {},
   "outputs": [
    {
     "name": "stdout",
     "output_type": "stream",
     "text": [
      "banana\n",
      "cherry\n",
      "Apple\n",
      "apple\n",
      "75\n",
      "5\n",
      "2\n",
      "20\n",
      "10\n"
     ]
    }
   ],
   "source": [
    "for i in reversed(list32):\n",
    "    print(i)"
   ]
  },
  {
   "cell_type": "code",
   "execution_count": null,
   "id": "f6156060-44dc-4577-8700-dbe718f83247",
   "metadata": {},
   "outputs": [],
   "source": [
    "# in the interview \n",
    "# list1=[10,120,2,5,75]\n",
    "# Q1 sort the list with out sorted fucntion\n",
    "# Q2find the max value without max function\n",
    "# Q3)find the min value without min function \n",
    "# Q4)reversed the elemnts without reversed function\n",
    "# Q5)sum the elements with out using sum funtion\n",
    "# Q6)find the second min and second max"
   ]
  },
  {
   "cell_type": "markdown",
   "id": "e4fc499c-817c-4d6e-ab5e-d86ba84b3bc2",
   "metadata": {},
   "source": [
    "**concatenation**"
   ]
  },
  {
   "cell_type": "code",
   "execution_count": 186,
   "id": "978116b6-2723-4eb4-ab24-68a7f55711f1",
   "metadata": {},
   "outputs": [
    {
     "data": {
      "text/plain": [
       "[1, 2, 3, 4, 'A', 'B', 'C', 'D']"
      ]
     },
     "execution_count": 186,
     "metadata": {},
     "output_type": "execute_result"
    }
   ],
   "source": [
    "list1=[1,2,3,4]\n",
    "list2=['A','B','C','D']\n",
    "list1+list2"
   ]
  },
  {
   "cell_type": "code",
   "execution_count": 188,
   "id": "4f2b804b-31b5-41b4-bdae-9c247ca9b8d6",
   "metadata": {},
   "outputs": [
    {
     "data": {
      "text/plain": [
       "[1, 2, 3, 4, 1, 2, 3, 4]"
      ]
     },
     "execution_count": 188,
     "metadata": {},
     "output_type": "execute_result"
    }
   ],
   "source": [
    "list1*2"
   ]
  },
  {
   "cell_type": "code",
   "execution_count": 190,
   "id": "b3b7000a-5fa5-4afe-9b5a-bd3346896321",
   "metadata": {},
   "outputs": [
    {
     "data": {
      "text/plain": [
       "['A', 'B', 'C', 'D', 'A', 'B', 'C', 'D']"
      ]
     },
     "execution_count": 190,
     "metadata": {},
     "output_type": "execute_result"
    }
   ],
   "source": [
    "list2*2"
   ]
  },
  {
   "cell_type": "markdown",
   "id": "2a3df168-4fc6-4a42-b899-702d81da424f",
   "metadata": {},
   "source": [
    "**index**"
   ]
  },
  {
   "cell_type": "code",
   "execution_count": 15,
   "id": "2c1b38c0-3610-4ff5-8de7-85a8b951bd13",
   "metadata": {},
   "outputs": [
    {
     "name": "stdout",
     "output_type": "stream",
     "text": [
      "10 10\n",
      "20 20\n",
      "30 30\n",
      "A A\n",
      "B B\n",
      "C C\n"
     ]
    }
   ],
   "source": [
    "list1=[10,20,30,'A','B','C']\n",
    "print(list1[0],list1[-6])\n",
    "print(list1[1],list1[-5])\n",
    "print(list1[2],list1[-4])\n",
    "print(list1[3],list1[-3])\n",
    "print(list1[4],list1[-2])\n",
    "print(list1[5],list1[-1])"
   ]
  },
  {
   "cell_type": "code",
   "execution_count": 226,
   "id": "d57303fd-5018-4804-9ab4-0651bbfab0c9",
   "metadata": {},
   "outputs": [
    {
     "name": "stdout",
     "output_type": "stream",
     "text": [
      "the positive index of 10 is 0\n",
      "the positive index of 20 is 1\n",
      "the positive index of 30 is 2\n",
      "the positive index of A is 3\n",
      "the positive index of B is 4\n",
      "the positive index of C is 5\n"
     ]
    }
   ],
   "source": [
    "for i in range(0,6):\n",
    "    print(f'the positive index of {list1[i]} is {i}')"
   ]
  },
  {
   "cell_type": "code",
   "execution_count": 228,
   "id": "25c9a90f-e369-46be-a88d-9319d5f34168",
   "metadata": {},
   "outputs": [
    {
     "name": "stdout",
     "output_type": "stream",
     "text": [
      "the negative index of 10 is -6\n",
      "the negative index of 20 is -5\n",
      "the negative index of 30 is -4\n",
      "the negative index of A is -3\n",
      "the negative index of B is -2\n",
      "the negative index of C is -1\n"
     ]
    }
   ],
   "source": [
    "for i in range(-6,0):\n",
    "    print(f'the negative index of {list1[i]} is {i}')"
   ]
  },
  {
   "cell_type": "code",
   "execution_count": 234,
   "id": "3fd98e2d-7201-4fcc-a7b1-e311200cd803",
   "metadata": {},
   "outputs": [
    {
     "name": "stdout",
     "output_type": "stream",
     "text": [
      "0 -6\n",
      "\n",
      "the positive index of 10 is 0 & the negative index of 10 is 0.\n",
      "\n",
      "1 -5\n",
      "\n",
      "the positive index of 20 is 1 & the negative index of 20 is 1.\n",
      "\n",
      "2 -4\n",
      "\n",
      "the positive index of 30 is 2 & the negative index of 30 is 2.\n",
      "\n",
      "3 -3\n",
      "\n",
      "the positive index of A is 3 & the negative index of A is 3.\n",
      "\n",
      "4 -2\n",
      "\n",
      "the positive index of B is 4 & the negative index of B is 4.\n",
      "\n",
      "5 -1\n",
      "\n",
      "the positive index of C is 5 & the negative index of C is 5.\n",
      "\n"
     ]
    }
   ],
   "source": [
    "for i in range(0,6):\n",
    "    print(i,i-6)\n",
    "    print()\n",
    "    print(f'the positive index of {list1[i]} is {i} & the negative index of {list1[i]} is {i}.')\n",
    "    print()"
   ]
  },
  {
   "cell_type": "code",
   "execution_count": null,
   "id": "0cfb5bb2-e0ee-473a-94b4-dfc6eca3a963",
   "metadata": {},
   "outputs": [],
   "source": [
    "list1=[10,20]\n",
    "# inside list how many elements are there? ==> 2"
   ]
  },
  {
   "cell_type": "code",
   "execution_count": 270,
   "id": "681a3059-0c82-4116-b8bf-7ccf9922a0f4",
   "metadata": {},
   "outputs": [
    {
     "data": {
      "text/plain": [
       "10"
      ]
     },
     "execution_count": 270,
     "metadata": {},
     "output_type": "execute_result"
    }
   ],
   "source": [
    "list1=[[10]]\n",
    "# inside list how many elements are there?\n",
    "# [10] ===> list 10\n",
    "# step-1:\n",
    "list1[0]\n",
    "# ouput ==> [10]\n",
    "list1[0][0]\n",
    "# output ===> 10\n",
    "# we can check with len to get how many elements are present len(list1)"
   ]
  },
  {
   "cell_type": "code",
   "execution_count": 244,
   "id": "eb3ab53b-62c3-4023-a0c7-45fe98f5fc02",
   "metadata": {},
   "outputs": [
    {
     "data": {
      "text/plain": [
       "(1, 2)"
      ]
     },
     "execution_count": 244,
     "metadata": {},
     "output_type": "execute_result"
    }
   ],
   "source": [
    "list1=[[10,20]]\n",
    "list2=[10,20]\n",
    "len(list1),len(list2)"
   ]
  },
  {
   "cell_type": "code",
   "execution_count": 262,
   "id": "090c734c-062b-4919-a53c-19182f8d07e3",
   "metadata": {},
   "outputs": [
    {
     "data": {
      "text/plain": [
       "20"
      ]
     },
     "execution_count": 262,
     "metadata": {},
     "output_type": "execute_result"
    }
   ],
   "source": [
    "list=[10,[20]]\n",
    "list[1][0]"
   ]
  },
  {
   "cell_type": "code",
   "execution_count": 266,
   "id": "b60fda6c-ea89-4a4e-aba2-c49f9e81042f",
   "metadata": {},
   "outputs": [
    {
     "data": {
      "text/plain": [
       "'cherry'"
      ]
     },
     "execution_count": 266,
     "metadata": {},
     "output_type": "execute_result"
    }
   ],
   "source": [
    "list=[10,20,30,'a',['banana','cherry']]\n",
    "list[4][1]"
   ]
  },
  {
   "cell_type": "code",
   "execution_count": 322,
   "id": "da98abd8-e0ca-4589-8872-c09aa1db98c2",
   "metadata": {},
   "outputs": [
    {
     "data": {
      "text/plain": [
       "'chicken'"
      ]
     },
     "execution_count": 322,
     "metadata": {},
     "output_type": "execute_result"
    }
   ],
   "source": [
    "list1=['A',['Apple','B',['Banana'],'C',['chicken']]]\n",
    "list1[1][4][0]"
   ]
  },
  {
   "cell_type": "code",
   "execution_count": 330,
   "id": "b054fc60-d559-40db-bc48-b701e9491017",
   "metadata": {},
   "outputs": [
    {
     "data": {
      "text/plain": [
       "'Dragon fruit'"
      ]
     },
     "execution_count": 330,
     "metadata": {},
     "output_type": "execute_result"
    }
   ],
   "source": [
    "list1=['A',['Apple','B',['Banana','C',['chicken','D',['Dragon fruit']]]]]\n",
    "len(list1)\n",
    "len(list1[1])\n",
    "list1[1][2][2][2][0]"
   ]
  },
  {
   "cell_type": "code",
   "execution_count": 346,
   "id": "a89b44bd-606a-48d6-a7e2-2f35271d10af",
   "metadata": {},
   "outputs": [
    {
     "data": {
      "text/plain": [
       "'bat'"
      ]
     },
     "execution_count": 346,
     "metadata": {},
     "output_type": "execute_result"
    }
   ],
   "source": [
    "list1=['Apple',['Kashmir',['india',['cricket',['bat']]]]]\n",
    "len(list1)\n",
    "len(list1[1])\n",
    "list1[1][1][1][1][0]"
   ]
  },
  {
   "cell_type": "code",
   "execution_count": 358,
   "id": "5c0bf481-4621-47fe-b096-0f96061cb7b0",
   "metadata": {},
   "outputs": [
    {
     "data": {
      "text/plain": [
       "'viky'"
      ]
     },
     "execution_count": 358,
     "metadata": {},
     "output_type": "execute_result"
    }
   ],
   "source": [
    "list1=['Orange',['Nagpur',['MH',['shivaji',['shamabji',['viky']]]]]]\n",
    "list1[1][1][1][1][1][0]"
   ]
  },
  {
   "cell_type": "code",
   "execution_count": 376,
   "id": "62ed01fc-50bd-4051-80e2-9682352de3db",
   "metadata": {},
   "outputs": [
    {
     "data": {
      "text/plain": [
       "'apple'"
      ]
     },
     "execution_count": 376,
     "metadata": {},
     "output_type": "execute_result"
    }
   ],
   "source": [
    "list1=[[[[[[[[['apple']]]]]]]]]\n",
    "list1[0][0][0][0][0][0][0][0][0]"
   ]
  }
 ],
 "metadata": {
  "kernelspec": {
   "display_name": "Python [conda env:base] *",
   "language": "python",
   "name": "conda-base-py"
  },
  "language_info": {
   "codemirror_mode": {
    "name": "ipython",
    "version": 3
   },
   "file_extension": ".py",
   "mimetype": "text/x-python",
   "name": "python",
   "nbconvert_exporter": "python",
   "pygments_lexer": "ipython3",
   "version": "3.12.7"
  }
 },
 "nbformat": 4,
 "nbformat_minor": 5
}

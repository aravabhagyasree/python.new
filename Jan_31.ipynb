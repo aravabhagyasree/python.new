{
 "cells": [
  {
   "cell_type": "markdown",
   "id": "2acfaeea-acad-4df0-9174-829a6175c1b4",
   "metadata": {},
   "source": [
    "**count**"
   ]
  },
  {
   "cell_type": "code",
   "execution_count": 8,
   "id": "b6ef90d8-42c2-4eb9-93da-8e299a047fe1",
   "metadata": {},
   "outputs": [
    {
     "name": "stdout",
     "output_type": "stream",
     "text": [
      "a = 3\n"
     ]
    }
   ],
   "source": [
    "countt='ola ola ola'\n",
    "count=0\n",
    "for i in countt:\n",
    "    if i=='a':\n",
    "        count=count+1\n",
    "\n",
    "print(f'{i} = {count}')"
   ]
  },
  {
   "cell_type": "code",
   "execution_count": 16,
   "id": "be958156-260a-42c6-887d-04789a549525",
   "metadata": {},
   "outputs": [
    {
     "name": "stdout",
     "output_type": "stream",
     "text": [
      "3\n"
     ]
    }
   ],
   "source": [
    "str1='ola ola ola'\n",
    "count=0\n",
    "for i in range(len(str1)):\n",
    "    if str1[i]=='a':\n",
    "        count=count+1\n",
    "\n",
    "print(count)"
   ]
  },
  {
   "cell_type": "code",
   "execution_count": null,
   "id": "cc03fa04-701c-4684-96ee-a435a55c57da",
   "metadata": {},
   "outputs": [],
   "source": [
    "model-1:"
   ]
  },
  {
   "cell_type": "code",
   "execution_count": 20,
   "id": "3e1408ff-4d79-4e58-814f-89037b0fff1f",
   "metadata": {},
   "outputs": [
    {
     "data": {
      "text/plain": [
       "3"
      ]
     },
     "execution_count": 20,
     "metadata": {},
     "output_type": "execute_result"
    }
   ],
   "source": [
    "str1='ola ola ola'\n",
    "str1.count('a')"
   ]
  },
  {
   "cell_type": "code",
   "execution_count": 22,
   "id": "c8a8793b-75f6-4e2d-a1d3-b825b53a0372",
   "metadata": {},
   "outputs": [
    {
     "data": {
      "text/plain": [
       "3"
      ]
     },
     "execution_count": 22,
     "metadata": {},
     "output_type": "execute_result"
    }
   ],
   "source": [
    "str1.count('ola')"
   ]
  },
  {
   "cell_type": "code",
   "execution_count": 24,
   "id": "96dcbd53-4f71-421c-8d41-dd26ed9bf938",
   "metadata": {},
   "outputs": [
    {
     "data": {
      "text/plain": [
       "3"
      ]
     },
     "execution_count": 24,
     "metadata": {},
     "output_type": "execute_result"
    }
   ],
   "source": [
    "str1.count('l')"
   ]
  },
  {
   "cell_type": "code",
   "execution_count": null,
   "id": "0b0ad187-cc52-4058-9d6d-b85238d48648",
   "metadata": {},
   "outputs": [],
   "source": [
    "#  o   l   a     o  l  a     o  l  a\n",
    "#  0   1   2  3  4  5  6  7  8  9  10\n",
    "# -11 -10 -9 -8 -7 -6 -5 -4 -3 -2 -1"
   ]
  },
  {
   "cell_type": "code",
   "execution_count": 48,
   "id": "f758fe74-7043-4dc9-9cff-09ea14860d7d",
   "metadata": {},
   "outputs": [
    {
     "data": {
      "text/plain": [
       "11"
      ]
     },
     "execution_count": 48,
     "metadata": {},
     "output_type": "execute_result"
    }
   ],
   "source": [
    "len(str1)"
   ]
  },
  {
   "cell_type": "code",
   "execution_count": 56,
   "id": "0ec4739d-3a96-41bd-9761-dc399a85d44f",
   "metadata": {},
   "outputs": [
    {
     "data": {
      "text/plain": [
       "3"
      ]
     },
     "execution_count": 56,
     "metadata": {},
     "output_type": "execute_result"
    }
   ],
   "source": [
    "str1.count('l',-11)"
   ]
  },
  {
   "cell_type": "code",
   "execution_count": 58,
   "id": "4f8f9977-418f-4b18-bbd6-01cc9f2b1d57",
   "metadata": {},
   "outputs": [
    {
     "data": {
      "text/plain": [
       "2"
      ]
     },
     "execution_count": 58,
     "metadata": {},
     "output_type": "execute_result"
    }
   ],
   "source": [
    "str1.count('l',-11,8)"
   ]
  },
  {
   "cell_type": "code",
   "execution_count": 62,
   "id": "f86fd36c-7e65-41e6-a51d-c67bf27fdae5",
   "metadata": {},
   "outputs": [
    {
     "data": {
      "text/plain": [
       "0"
      ]
     },
     "execution_count": 62,
     "metadata": {},
     "output_type": "execute_result"
    }
   ],
   "source": [
    "str1.count('z')   # no one then count=0"
   ]
  },
  {
   "cell_type": "markdown",
   "id": "3c127016-63ec-43ef-88e3-44f0a8d65281",
   "metadata": {},
   "source": [
    "**sliding window approch**\n",
    "\n",
    "- fix the slice value first   :: str1[i:i+3]\n",
    "\n",
    "- the increase the slice by 1 :: for i in range(len(str1))\n",
    "\n",
    "- whenever it is == to sub string  :: str1[i:i+3] == 'ola'\n",
    "\n",
    "- then update the count :: count= count+1"
   ]
  },
  {
   "cell_type": "code",
   "execution_count": 100,
   "id": "36198038-0dd9-4265-8b03-77020d3309db",
   "metadata": {},
   "outputs": [
    {
     "name": "stdout",
     "output_type": "stream",
     "text": [
      "3\n"
     ]
    }
   ],
   "source": [
    "# str1[i:i+3]='OLA' logic\n",
    "\n",
    "str1='ola ola ola'\n",
    "count=0\n",
    "for i in range(len(str1)):\n",
    "    if str1[i:i+3] == 'ola':\n",
    "        count=count+1\n",
    "print(count)\n"
   ]
  },
  {
   "cell_type": "markdown",
   "id": "2da54386-2f1b-4ffc-89bf-09edfe809b02",
   "metadata": {},
   "source": [
    "**replace**"
   ]
  },
  {
   "cell_type": "code",
   "execution_count": 108,
   "id": "9c74afd9-bdf2-498c-81da-0a054da3dec3",
   "metadata": {},
   "outputs": [
    {
     "data": {
      "text/plain": [
       "'weLLccoomme'"
      ]
     },
     "execution_count": 108,
     "metadata": {},
     "output_type": "execute_result"
    }
   ],
   "source": [
    "str1='wellccoomme'\n",
    "str1.replace('l','L')"
   ]
  },
  {
   "cell_type": "code",
   "execution_count": 106,
   "id": "a118d4ef-7964-41bb-9e6d-00a1fec3b51f",
   "metadata": {},
   "outputs": [
    {
     "data": {
      "text/plain": [
       "'welcome'"
      ]
     },
     "execution_count": 106,
     "metadata": {},
     "output_type": "execute_result"
    }
   ],
   "source": [
    "str1.replace('z','Z') # if we don't have string it will not give error, i will print orginal str1."
   ]
  },
  {
   "cell_type": "code",
   "execution_count": 118,
   "id": "11be98a2-a338-4b47-bdec-57c8249f67fd",
   "metadata": {},
   "outputs": [
    {
     "data": {
      "text/plain": [
       "'wellCcoomme'"
      ]
     },
     "execution_count": 118,
     "metadata": {},
     "output_type": "execute_result"
    }
   ],
   "source": [
    "str1.replace('c','C',1)"
   ]
  },
  {
   "cell_type": "markdown",
   "id": "1308d62e-31d9-4def-84aa-8060a4b9f17d",
   "metadata": {},
   "source": [
    "- by default it will replace   all the occurences\n",
    "\n",
    "- the user can provide count which indicates how many letters can replace\n",
    "\n",
    "- if the subtring not found it will return the original string itself"
   ]
  },
  {
   "cell_type": "code",
   "execution_count": 171,
   "id": "8c370cab-5731-4f57-b5ad-e90112d13948",
   "metadata": {},
   "outputs": [
    {
     "name": "stdout",
     "output_type": "stream",
     "text": [
      "7\n",
      "r\n"
     ]
    },
    {
     "data": {
      "text/plain": [
       "'$esta$t'"
      ]
     },
     "execution_count": 171,
     "metadata": {},
     "output_type": "execute_result"
    }
   ],
   "source": [
    "str1='restart'\n",
    "print(len(str1))\n",
    "print(str1[5])\n",
    "str1.replace(str1[5],'$',)"
   ]
  },
  {
   "cell_type": "code",
   "execution_count": 157,
   "id": "e5085c06-ad12-49e7-8ccf-10ba99c0a3a3",
   "metadata": {},
   "outputs": [
    {
     "data": {
      "text/plain": [
       "'resta$t'"
      ]
     },
     "execution_count": 157,
     "metadata": {},
     "output_type": "execute_result"
    }
   ],
   "source": [
    "str1[::-1].replace('r','$',1)[::-1]"
   ]
  },
  {
   "cell_type": "code",
   "execution_count": 225,
   "id": "3725ca49-2ee9-4e19-95ec-bb6cc55ce976",
   "metadata": {},
   "outputs": [
    {
     "data": {
      "text/plain": [
       "'resta$'"
      ]
     },
     "execution_count": 225,
     "metadata": {},
     "output_type": "execute_result"
    }
   ],
   "source": [
    "str1.replace(str1[5:],'$')"
   ]
  },
  {
   "cell_type": "code",
   "execution_count": null,
   "id": "fce6b0e9-79f7-4efa-b05c-c11b2a4c89dd",
   "metadata": {},
   "outputs": [],
   "source": [
    "**index**\n",
    "\n",
    "- by default first string index will come"
   ]
  },
  {
   "cell_type": "code",
   "execution_count": 187,
   "id": "4def6daf-4ad4-4a81-8f20-d13c39e36d68",
   "metadata": {},
   "outputs": [
    {
     "ename": "ValueError",
     "evalue": "substring not found",
     "output_type": "error",
     "traceback": [
      "\u001b[0;31m---------------------------------------------------------------------------\u001b[0m",
      "\u001b[0;31mValueError\u001b[0m                                Traceback (most recent call last)",
      "Cell \u001b[0;32mIn[187], line 1\u001b[0m\n\u001b[0;32m----> 1\u001b[0m str1\u001b[38;5;241m.\u001b[39mindex(\u001b[38;5;124m'\u001b[39m\u001b[38;5;124mz\u001b[39m\u001b[38;5;124m'\u001b[39m)\n",
      "\u001b[0;31mValueError\u001b[0m: substring not found"
     ]
    }
   ],
   "source": [
    "str1.index('z')"
   ]
  },
  {
   "cell_type": "code",
   "execution_count": 207,
   "id": "984eb09e-ea41-4362-a3ad-b8e2055eaff6",
   "metadata": {},
   "outputs": [],
   "source": [
    "str1='restart restart restart restart'"
   ]
  },
  {
   "cell_type": "code",
   "execution_count": 219,
   "id": "498dc147-81b8-4a33-957e-09573f8feeac",
   "metadata": {},
   "outputs": [
    {
     "ename": "ValueError",
     "evalue": "substring not found",
     "output_type": "error",
     "traceback": [
      "\u001b[0;31m---------------------------------------------------------------------------\u001b[0m",
      "\u001b[0;31mValueError\u001b[0m                                Traceback (most recent call last)",
      "Cell \u001b[0;32mIn[219], line 9\u001b[0m\n\u001b[1;32m      7\u001b[0m str1\u001b[38;5;241m.\u001b[39mindex(\u001b[38;5;124m'\u001b[39m\u001b[38;5;124mr\u001b[39m\u001b[38;5;124m'\u001b[39m,\u001b[38;5;241m22\u001b[39m)  \u001b[38;5;66;03m# 24\u001b[39;00m\n\u001b[1;32m      8\u001b[0m str1\u001b[38;5;241m.\u001b[39mindex(\u001b[38;5;124m'\u001b[39m\u001b[38;5;124mr\u001b[39m\u001b[38;5;124m'\u001b[39m,\u001b[38;5;241m25\u001b[39m)  \u001b[38;5;66;03m# 29\u001b[39;00m\n\u001b[0;32m----> 9\u001b[0m str1\u001b[38;5;241m.\u001b[39mindex(\u001b[38;5;124m'\u001b[39m\u001b[38;5;124mr\u001b[39m\u001b[38;5;124m'\u001b[39m,\u001b[38;5;241m30\u001b[39m)\n",
      "\u001b[0;31mValueError\u001b[0m: substring not found"
     ]
    }
   ],
   "source": [
    "str1.index('r')     #  0\n",
    "str1.index('r',1)   #  5\n",
    "str1.index('r',6)   #  8\n",
    "str1.index('r',9)   # 13\n",
    "str1.index('r',14)  # 16\n",
    "str1.index('r',17)  # 21\n",
    "str1.index('r',22)  # 24\n",
    "str1.index('r',25)  # 29\n",
    "str1.index('r',30)"
   ]
  },
  {
   "cell_type": "code",
   "execution_count": 235,
   "id": "b19d5090-2e2c-4f42-b7bb-8c843d876bdd",
   "metadata": {},
   "outputs": [
    {
     "data": {
      "text/plain": [
       "8"
      ]
     },
     "execution_count": 235,
     "metadata": {},
     "output_type": "execute_result"
    }
   ],
   "source": [
    "str1.find('r',6)"
   ]
  },
  {
   "cell_type": "code",
   "execution_count": null,
   "id": "a5a732c4-591f-4806-83e8-2be424d3b798",
   "metadata": {},
   "outputs": [],
   "source": [
    "# diffrence bt find and index, find retruns -1 and index returns error"
   ]
  },
  {
   "cell_type": "code",
   "execution_count": null,
   "id": "e577afc7-a304-45d9-acc8-d0dbbca2d178",
   "metadata": {},
   "outputs": [],
   "source": [
    "str1='restart'\n",
    "str1.count('z')         # output = 0\n",
    "str1.replace('z','Z')   # output = prints the original string\n",
    "str1.index('z')         # output = error\n",
    "str1.find('z')          # output = -1"
   ]
  }
 ],
 "metadata": {
  "kernelspec": {
   "display_name": "Python [conda env:base] *",
   "language": "python",
   "name": "conda-base-py"
  },
  "language_info": {
   "codemirror_mode": {
    "name": "ipython",
    "version": 3
   },
   "file_extension": ".py",
   "mimetype": "text/x-python",
   "name": "python",
   "nbconvert_exporter": "python",
   "pygments_lexer": "ipython3",
   "version": "3.12.7"
  }
 },
 "nbformat": 4,
 "nbformat_minor": 5
}

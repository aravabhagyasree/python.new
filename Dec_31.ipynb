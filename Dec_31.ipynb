{
 "cells": [
  {
   "cell_type": "code",
   "execution_count": null,
   "id": "153dfb13-3e6a-49fc-82f1-ca00f4999131",
   "metadata": {},
   "outputs": [],
   "source": [
    "# to change into markdown\n",
    "# esc + m\n",
    "# to give bullet points\n",
    "# { -space text }\n",
    "# command + enter"
   ]
  },
  {
   "cell_type": "code",
   "execution_count": null,
   "id": "1f3d5fb5-fba8-41d6-bc98-cfea94815e60",
   "metadata": {},
   "outputs": [],
   "source": []
  },
  {
   "cell_type": "markdown",
   "id": "a1067db9-2388-49ba-bb98-e94f8f0d6721",
   "metadata": {},
   "source": [
    "# Variables"
   ]
  },
  {
   "cell_type": "markdown",
   "id": "ace3a0b0-e74f-4f1a-b793-03719d9228ec",
   "metadata": {},
   "source": [
    "- Variables are used to store the data \n",
    "\n",
    "- the data can be change \n",
    "\n",
    "- these variables can be used to manipulate python code "
   ]
  },
  {
   "cell_type": "code",
   "execution_count": 8,
   "id": "2ada216b-99c4-42a8-9b8c-c4781cbe1dcb",
   "metadata": {},
   "outputs": [
    {
     "data": {
      "text/plain": [
       "100"
      ]
     },
     "execution_count": 8,
     "metadata": {},
     "output_type": "execute_result"
    }
   ],
   "source": [
    "number = 100\n",
    "# 100 is stored in a variable called as number\n",
    "number"
   ]
  },
  {
   "cell_type": "code",
   "execution_count": 10,
   "id": "9d7f38c0-30c3-4592-9cf8-2f14f130001a",
   "metadata": {},
   "outputs": [
    {
     "data": {
      "text/plain": [
       "200"
      ]
     },
     "execution_count": 10,
     "metadata": {},
     "output_type": "execute_result"
    }
   ],
   "source": [
    "NUMBER = 200\n",
    "NUMBER"
   ]
  },
  {
   "cell_type": "code",
   "execution_count": 12,
   "id": "2d11005b-f10b-41fd-a18c-6a73e964fa48",
   "metadata": {},
   "outputs": [
    {
     "data": {
      "text/plain": [
       "(100, 200)"
      ]
     },
     "execution_count": 12,
     "metadata": {},
     "output_type": "execute_result"
    }
   ],
   "source": [
    "( number, NUMBER )"
   ]
  },
  {
   "cell_type": "code",
   "execution_count": 14,
   "id": "de89785b-489f-4748-9368-670a218256e7",
   "metadata": {},
   "outputs": [],
   "source": [
    "NUMber = 188"
   ]
  },
  {
   "cell_type": "code",
   "execution_count": 16,
   "id": "62eaf00f-9f78-4aa1-bae4-e721b45dd6f3",
   "metadata": {},
   "outputs": [
    {
     "data": {
      "text/plain": [
       "(100, 200, 188)"
      ]
     },
     "execution_count": 16,
     "metadata": {},
     "output_type": "execute_result"
    }
   ],
   "source": [
    "( number, NUMBER , NUMber )\n"
   ]
  },
  {
   "cell_type": "code",
   "execution_count": 18,
   "id": "4ce65c0a-2b34-493b-8aab-bed0b5303296",
   "metadata": {},
   "outputs": [],
   "source": [
    "number123=400"
   ]
  },
  {
   "cell_type": "code",
   "execution_count": 20,
   "id": "64643102-c53b-4b4e-a32c-3f3bd0c9ef06",
   "metadata": {},
   "outputs": [
    {
     "ename": "SyntaxError",
     "evalue": "invalid decimal literal (3682356261.py, line 1)",
     "output_type": "error",
     "traceback": [
      "\u001b[0;36m  Cell \u001b[0;32mIn[20], line 1\u001b[0;36m\u001b[0m\n\u001b[0;31m    123number=500\u001b[0m\n\u001b[0m      ^\u001b[0m\n\u001b[0;31mSyntaxError\u001b[0m\u001b[0;31m:\u001b[0m invalid decimal literal\n"
     ]
    }
   ],
   "source": [
    "123number=500"
   ]
  },
  {
   "cell_type": "code",
   "execution_count": null,
   "id": "3d39eae4-8dbb-4827-993c-50365ba5ad9e",
   "metadata": {},
   "outputs": [],
   "source": [
    "# type first two letters enter tab"
   ]
  },
  {
   "cell_type": "markdown",
   "id": "13b233a6-c1f3-407f-9b51-b067373c851c",
   "metadata": {},
   "source": [
    "** NOTE **\n",
    "- variables generally in black color\n",
    "- green color should not be a variables\n",
    "- number as suffix can work\n",
    "- number as prefix fail"
   ]
  },
  {
   "cell_type": "code",
   "execution_count": 25,
   "id": "a1581e15-7e95-4f93-8d85-185f4fa1ade5",
   "metadata": {},
   "outputs": [],
   "source": [
    "number=600"
   ]
  },
  {
   "cell_type": "markdown",
   "id": "ee0d0f6f-0064-441e-bbde-ffb63b12fa28",
   "metadata": {},
   "source": [
    "- special characters are not allowed"
   ]
  },
  {
   "cell_type": "code",
   "execution_count": 28,
   "id": "287a07da-df6d-414c-9e53-ccb0132727ef",
   "metadata": {},
   "outputs": [
    {
     "ename": "SyntaxError",
     "evalue": "invalid syntax (2283255128.py, line 1)",
     "output_type": "error",
     "traceback": [
      "\u001b[0;36m  Cell \u001b[0;32mIn[28], line 1\u001b[0;36m\u001b[0m\n\u001b[0;31m    number one = 200\u001b[0m\n\u001b[0m           ^\u001b[0m\n\u001b[0;31mSyntaxError\u001b[0m\u001b[0;31m:\u001b[0m invalid syntax\n"
     ]
    }
   ],
   "source": [
    "number one = 200"
   ]
  },
  {
   "cell_type": "markdown",
   "id": "dd8bb4e2-02f1-4f50-a20d-937dd4c82f23",
   "metadata": {},
   "source": [
    "- space also a special character "
   ]
  },
  {
   "cell_type": "code",
   "execution_count": 33,
   "id": "31a6f7df-efef-47f1-90d0-a32386310ef7",
   "metadata": {},
   "outputs": [
    {
     "data": {
      "text/plain": [
       "300"
      ]
     },
     "execution_count": 33,
     "metadata": {},
     "output_type": "execute_result"
    }
   ],
   "source": [
    "number_one = 300\n",
    "number_one"
   ]
  },
  {
   "cell_type": "markdown",
   "id": "31e2cc50-5ba0-4550-8270-491649f37bfc",
   "metadata": {},
   "source": [
    "- underscore can use as variable "
   ]
  },
  {
   "cell_type": "code",
   "execution_count": 43,
   "id": "7a75ed31-7cc0-4138-8d16-646d5eef1569",
   "metadata": {},
   "outputs": [
    {
     "data": {
      "text/plain": [
       "1000"
      ]
     },
     "execution_count": 43,
     "metadata": {},
     "output_type": "execute_result"
    }
   ],
   "source": [
    "_=1000 \n",
    "_\n",
    "# underscore will work here"
   ]
  },
  {
   "cell_type": "code",
   "execution_count": 45,
   "id": "fc16fada-0d7e-497f-a20a-ac4243f31ace",
   "metadata": {},
   "outputs": [
    {
     "ename": "SyntaxError",
     "evalue": "invalid syntax (586179600.py, line 1)",
     "output_type": "error",
     "traceback": [
      "\u001b[0;36m  Cell \u001b[0;32mIn[45], line 1\u001b[0;36m\u001b[0m\n\u001b[0;31m    if=100\u001b[0m\n\u001b[0m      ^\u001b[0m\n\u001b[0;31mSyntaxError\u001b[0m\u001b[0;31m:\u001b[0m invalid syntax\n"
     ]
    }
   ],
   "source": [
    "if=100"
   ]
  },
  {
   "cell_type": "markdown",
   "id": "c44571fb-9d4c-42bc-b2f7-8face9eb9744",
   "metadata": {},
   "source": [
    "**keyword can not use as variables**"
   ]
  }
 ],
 "metadata": {
  "kernelspec": {
   "display_name": "Python [conda env:base] *",
   "language": "python",
   "name": "conda-base-py"
  },
  "language_info": {
   "codemirror_mode": {
    "name": "ipython",
    "version": 3
   },
   "file_extension": ".py",
   "mimetype": "text/x-python",
   "name": "python",
   "nbconvert_exporter": "python",
   "pygments_lexer": "ipython3",
   "version": "3.12.7"
  }
 },
 "nbformat": 4,
 "nbformat_minor": 5
}

{
 "cells": [
  {
   "cell_type": "markdown",
   "id": "a296a3c8-f67c-4d50-a163-c9805e8b19ae",
   "metadata": {},
   "source": [
    "Functions\n",
    "-"
   ]
  },
  {
   "cell_type": "markdown",
   "id": "3a604f80-c578-4343-ad8d-5da375ded958",
   "metadata": {},
   "source": [
    "- reuse of the code block\n",
    "- functions also called as method\n",
    "- function with out arguments\n",
    "- function with arguments\n",
    "- function with default arguments\n",
    "- function with keyword arguments (kwargs)\n",
    "- functoin with global and local variable\n",
    "- function with return \n",
    "- function in function "
   ]
  },
  {
   "cell_type": "markdown",
   "id": "c51e368c-8d1b-4e0a-88dc-7e1ffca097e2",
   "metadata": {},
   "source": [
    "functions with out arguments \n",
    "-"
   ]
  },
  {
   "cell_type": "code",
   "execution_count": null,
   "id": "9029eab4-2b1f-4927-9c23-4321ba18eaab",
   "metadata": {},
   "outputs": [],
   "source": [
    "# syntax\n",
    "\n",
    "def <function name>():\n",
    "    <write ur lines here>"
   ]
  },
  {
   "cell_type": "code",
   "execution_count": 12,
   "id": "36f815df-2b56-49a0-a0ff-95d063aeeb2b",
   "metadata": {},
   "outputs": [
    {
     "name": "stdin",
     "output_type": "stream",
     "text": [
      "enter num1 6\n",
      " 7\n"
     ]
    },
    {
     "name": "stdout",
     "output_type": "stream",
     "text": [
      "the additoin of 6 and 7 is 13\n"
     ]
    }
   ],
   "source": [
    "num1=eval(input(\"enter num1\"))\n",
    "num2=eval(input(\"\"))\n",
    "add=num1+num2\n",
    "print(f\"the additoin of {num1} and {num2} is {add}\")"
   ]
  },
  {
   "cell_type": "code",
   "execution_count": 14,
   "id": "34d22d79-b27e-4766-897c-a85caead495f",
   "metadata": {},
   "outputs": [],
   "source": [
    "def addition():\n",
    "    num1=eval(input(\"enter num1\"))\n",
    "    num2=eval(input(\"enter num2\"))\n",
    "    add=num1+num2\n",
    "    print(f\"the additoin of {num1} and {num2} is {add}\")"
   ]
  },
  {
   "cell_type": "code",
   "execution_count": null,
   "id": "8ac68d4a-6940-4026-aba1-336a8e963a58",
   "metadata": {},
   "outputs": [],
   "source": [
    "**call the function**"
   ]
  },
  {
   "cell_type": "code",
   "execution_count": 22,
   "id": "36876913-7725-4f14-8c5f-35de310ec7ef",
   "metadata": {},
   "outputs": [
    {
     "data": {
      "text/plain": [
       "<function __main__.addition()>"
      ]
     },
     "execution_count": 22,
     "metadata": {},
     "output_type": "execute_result"
    }
   ],
   "source": [
    "addition()"
   ]
  },
  {
   "cell_type": "markdown",
   "id": "f7343a34-5306-4980-a900-039d08fefbe8",
   "metadata": {},
   "source": [
    "**function main** or \n",
    "**bound menthod** means brackets are missing"
   ]
  },
  {
   "cell_type": "code",
   "execution_count": 28,
   "id": "93c7c77a-83a6-44e8-8dee-5d811b93c6f5",
   "metadata": {},
   "outputs": [
    {
     "name": "stdin",
     "output_type": "stream",
     "text": [
      "enter num1 9\n",
      " 9\n"
     ]
    },
    {
     "name": "stdout",
     "output_type": "stream",
     "text": [
      "the additoin of 9 and 9 is 18\n"
     ]
    }
   ],
   "source": [
    "def addition():\n",
    "    num1=eval(input(\"enter num1\"))\n",
    "    num2=eval(input(\"enter num2\"))\n",
    "    add=num1+num2\n",
    "    print(f\"the additoin of {num1} and {num2} is {add}\")\n",
    "\n",
    "addition()"
   ]
  },
  {
   "cell_type": "code",
   "execution_count": null,
   "id": "041301a7-b434-4f5e-a0be-a57bd69fc612",
   "metadata": {},
   "outputs": [],
   "source": []
  },
  {
   "cell_type": "code",
   "execution_count": 36,
   "id": "ea20c8be-5e70-4907-a157-ce023db4c080",
   "metadata": {},
   "outputs": [
    {
     "name": "stdout",
     "output_type": "stream",
     "text": [
      "-85\n"
     ]
    }
   ],
   "source": [
    "def subtraction():\n",
    "    v1=5\n",
    "    v2=90\n",
    "    n=v1-v2\n",
    "    print(n)\n",
    "\n",
    "subtraction()"
   ]
  },
  {
   "cell_type": "markdown",
   "id": "99e914f7-7b4b-4e33-a713-9d969464d741",
   "metadata": {},
   "source": [
    "**note**\n",
    "\n",
    "- function name rules same as variables rules\n",
    "\n",
    "    - no special characters \n",
    "    - no numbers before\n",
    "    - no space bt words etc\n",
    "\n",
    "- function name should not be any keywords\n",
    "\n",
    "- function name should not be any package names\n",
    "\n",
    "- function name should not be file name, notebook name\n",
    "\n",
    "- function name should not be any variable which is using inside that function"
   ]
  },
  {
   "cell_type": "code",
   "execution_count": null,
   "id": "bdfeccd5-95a3-41f3-9f0c-90f690aec404",
   "metadata": {},
   "outputs": [],
   "source": [
    "- while define the function we does not know whether the error is there are not \n",
    "- for that we need to call the function"
   ]
  },
  {
   "cell_type": "code",
   "execution_count": 57,
   "id": "35f58ba3-2a22-4edf-b781-59e6d16ee41c",
   "metadata": {},
   "outputs": [
    {
     "ename": "SyntaxError",
     "evalue": "invalid syntax (2335872626.py, line 7)",
     "output_type": "error",
     "traceback": [
      "\u001b[0;36m  Cell \u001b[0;32mIn[57], line 7\u001b[0;36m\u001b[0m\n\u001b[0;31m    except Exception as e:\u001b[0m\n\u001b[0m    ^\u001b[0m\n\u001b[0;31mSyntaxError\u001b[0m\u001b[0;31m:\u001b[0m invalid syntax\n"
     ]
    }
   ],
   "source": [
    "try:\n",
    "    def addition12():\n",
    "        n111=eval(input(\"enter num1\"))\n",
    "        n222=eval(input(\"enter num2\"))\n",
    "        add33=n111+n222\n",
    "        print(f\"the additoin of {n111} and {n222} is {add33}\")\n",
    "except Exception as e:\n",
    "    print(e)\n",
    "\n",
    "addition12()"
   ]
  },
  {
   "cell_type": "code",
   "execution_count": 54,
   "id": "892c8912-d76c-4a28-8c45-2621289a4dc9",
   "metadata": {},
   "outputs": [
    {
     "name": "stdin",
     "output_type": "stream",
     "text": [
      "enter num1 9\n",
      "enter num2 9\n"
     ]
    },
    {
     "name": "stdout",
     "output_type": "stream",
     "text": [
      "the additoin of 9 and 9 is 18\n"
     ]
    }
   ],
   "source": [
    "def addition122():\n",
    "    try:\n",
    "        n113=eval(input(\"enter num1\"))\n",
    "        n232=eval(input(\"enter num2\"))\n",
    "        add34=n113+n232\n",
    "        print(f\"the additoin of {n113} and {n232} is {add34}\")\n",
    "    except Exception as e:\n",
    "        print(e)\n",
    "\n",
    "addition122()"
   ]
  },
  {
   "cell_type": "markdown",
   "id": "a64a47b9-baca-458e-a024-659d63615070",
   "metadata": {},
   "source": [
    "- try and except should be inside the function"
   ]
  },
  {
   "cell_type": "code",
   "execution_count": null,
   "id": "1dce2027-4b2a-40cd-942c-20ca744c19c5",
   "metadata": {},
   "outputs": [],
   "source": []
  },
  {
   "cell_type": "code",
   "execution_count": null,
   "id": "8617c7d6-3459-4af3-88a8-fc0323d14399",
   "metadata": {},
   "outputs": [],
   "source": []
  },
  {
   "cell_type": "code",
   "execution_count": null,
   "id": "93ebe3fd-f707-4291-82b3-8cf42376b02e",
   "metadata": {},
   "outputs": [],
   "source": []
  },
  {
   "cell_type": "code",
   "execution_count": null,
   "id": "edec7bb4-498c-4822-ad81-e89798475d27",
   "metadata": {},
   "outputs": [],
   "source": []
  },
  {
   "cell_type": "code",
   "execution_count": null,
   "id": "d9a97b2d-5c57-4fcf-95b1-e3be92513604",
   "metadata": {},
   "outputs": [],
   "source": []
  },
  {
   "cell_type": "markdown",
   "id": "54a5800a-71d4-4ad7-9be7-708f2a6327f8",
   "metadata": {},
   "source": [
    "Assignment problems\n",
    "-"
   ]
  },
  {
   "cell_type": "code",
   "execution_count": 73,
   "id": "885acdfe-ec6a-46f5-ace2-595a9ecf3340",
   "metadata": {
    "scrolled": true
   },
   "outputs": [
    {
     "name": "stdin",
     "output_type": "stream",
     "text": [
      "enter a n1 9\n",
      "enter a n2 9\n",
      "enter a n3 9\n"
     ]
    },
    {
     "name": "stdout",
     "output_type": "stream",
     "text": [
      "9.0\n"
     ]
    }
   ],
   "source": [
    "def AVG():\n",
    "    try:\n",
    "        n1=eval(input(\"enter a n1\"))\n",
    "        n2=eval(input(\"enter a n2\"))\n",
    "        n3=eval(input(\"enter a n3\"))\n",
    "        avg=(n1+n2+n3)/3\n",
    "        avg1=round(avg,2)\n",
    "        print(avg1)\n",
    "    except Exception as e:\n",
    "        print(e)\n",
    "AVG()"
   ]
  },
  {
   "cell_type": "code",
   "execution_count": null,
   "id": "f1df4504-4f0b-4963-a278-ef045b87efe1",
   "metadata": {},
   "outputs": [],
   "source": [
    "# 2)wap ask the user enter name age city\n",
    "# print my name is python im 10 years old and came from hyd\n"
   ]
  },
  {
   "cell_type": "code",
   "execution_count": 71,
   "id": "63624be8-96e5-436b-aa0a-ed1dad21ed3a",
   "metadata": {},
   "outputs": [
    {
     "name": "stdin",
     "output_type": "stream",
     "text": [
      "enter the city name hyd\n",
      "enter name python\n",
      "enter age 10\n"
     ]
    },
    {
     "name": "stdout",
     "output_type": "stream",
     "text": [
      "my name is python iam 10 years old and came from hyd\n"
     ]
    }
   ],
   "source": [
    "def CITY1():\n",
    "    try:\n",
    "        city=input(\"enter the city name\")\n",
    "        name=input(\"enter name\")\n",
    "        age=eval(input(\"enter age\"))\n",
    "        print(f\"my name is {name} iam {age} years old and came from {city}\")\n",
    "    except Exception as e:\n",
    "        print(e)\n",
    "    \n",
    "CITY1()"
   ]
  },
  {
   "cell_type": "code",
   "execution_count": null,
   "id": "92b332a6-072c-46a7-b736-1d42b99f27af",
   "metadata": {},
   "outputs": [],
   "source": [
    "# 3)wap ask the user to enter radidus of a circle calculate area of the circle\n",
    "# var: radidus  var: pi=3.14\n",
    "# formuale: pi*radius*radius\n",
    "# print the answers using f string and format"
   ]
  },
  {
   "cell_type": "code",
   "execution_count": 79,
   "id": "e140817c-de23-48d6-a29f-915ef3eb2f6d",
   "metadata": {},
   "outputs": [
    {
     "name": "stdin",
     "output_type": "stream",
     "text": [
      "enter the radius 0\n"
     ]
    },
    {
     "name": "stdout",
     "output_type": "stream",
     "text": [
      "0.0\n"
     ]
    }
   ],
   "source": [
    "def RAD():\n",
    "    try:\n",
    "        rad=eval(input(\"enter the radius\"))\n",
    "        pi=3.14\n",
    "        radius=pi*rad*rad\n",
    "        print(radius)\n",
    "    except Exception as e:\n",
    "        print(e)\n",
    "RAD()"
   ]
  },
  {
   "cell_type": "code",
   "execution_count": null,
   "id": "2ac9d346-6ab2-4282-9155-0a6ed92029df",
   "metadata": {},
   "outputs": [],
   "source": [
    "# 4)wap ask the user enter breadth and height of a right angle triangle\n",
    "# calculate the area\n",
    "# var1: bredath  var2: height\n",
    "# formuale : 0.5*breadth*heigh"
   ]
  },
  {
   "cell_type": "code",
   "execution_count": 83,
   "id": "0ae5abfb-6646-48cc-89e1-b7f9b9a5cbef",
   "metadata": {},
   "outputs": [
    {
     "name": "stdin",
     "output_type": "stream",
     "text": [
      "enter breadth 9\n",
      "enter height 8\n"
     ]
    },
    {
     "name": "stdout",
     "output_type": "stream",
     "text": [
      "36.0\n"
     ]
    }
   ],
   "source": [
    "def AREA():\n",
    "    try:\n",
    "        bre=eval(input(\"enter breadth\"))\n",
    "        hei=eval(input(\"enter height\"))\n",
    "        area=0.5*bre*hei\n",
    "        print(area)\n",
    "    except Exception as e:\n",
    "        print(e)\n",
    "\n",
    "AREA()"
   ]
  },
  {
   "cell_type": "code",
   "execution_count": null,
   "id": "4391f7ff-2ce0-4e7d-a444-92bd3cd40e67",
   "metadata": {},
   "outputs": [],
   "source": [
    "# 5)wap ask the user the bill amount and tip amount\n",
    "#   calculate total bill\n",
    "#   var1: bill amount var2: tip amount\n",
    "#   formuale"
   ]
  },
  {
   "cell_type": "code",
   "execution_count": 87,
   "id": "331bbd84-26a8-4fda-8c29-0c88ce1b4ed3",
   "metadata": {},
   "outputs": [
    {
     "name": "stdin",
     "output_type": "stream",
     "text": [
      "enter bill amount 900\n",
      "enter tip amount 9\n"
     ]
    },
    {
     "name": "stdout",
     "output_type": "stream",
     "text": [
      "909\n"
     ]
    }
   ],
   "source": [
    "def BILL():\n",
    "    try:\n",
    "        billa=eval(input(\"enter bill amount\"))\n",
    "        tipa=eval(input(\"enter tip amount\"))\n",
    "        tota=billa+tipa\n",
    "        print(tota)\n",
    "    except Exception as e:\n",
    "        print(e)\n",
    "\n",
    "BILL()"
   ]
  },
  {
   "cell_type": "code",
   "execution_count": null,
   "id": "58d6d4d2-ade0-4436-ba69-40ca423a2857",
   "metadata": {},
   "outputs": [],
   "source": [
    "# 6)wap ask the user the bill amount and tip percentage\n",
    "#    take tip percentage as 10\n",
    "#   calculate total bill= bill amount+ bill amount*tip per/100\n",
    "#   var1: bill amount var2: tip amount\n",
    "#    formuale"
   ]
  },
  {
   "cell_type": "code",
   "execution_count": 95,
   "id": "5a9dcd99-e5a7-4fd1-a78d-d2d9435cc771",
   "metadata": {},
   "outputs": [
    {
     "name": "stdin",
     "output_type": "stream",
     "text": [
      "enter bill amt 899\n"
     ]
    },
    {
     "name": "stdout",
     "output_type": "stream",
     "text": [
      "89.9\n"
     ]
    }
   ],
   "source": [
    "def MEHFIL():\n",
    "    try:\n",
    "        billam=eval(input(\"enter bill amt\"))\n",
    "        tip=10/100\n",
    "        total=billam*tip\n",
    "        print(total)\n",
    "    except Exception as e:\n",
    "        print(e)\n",
    "\n",
    "MEHFIL()"
   ]
  },
  {
   "cell_type": "code",
   "execution_count": null,
   "id": "4b8a1ac9-0ed3-49aa-a75e-8506499ac3ca",
   "metadata": {},
   "outputs": [],
   "source": [
    "# 7)wap ask the length and breadth of a rectangle calculate area\n",
    "#   var1: length  var2: breadth\n",
    "#   formulae: length * breadth"
   ]
  },
  {
   "cell_type": "code",
   "execution_count": 99,
   "id": "cc602712-80dd-499b-9d3d-6ca20ece1cbe",
   "metadata": {},
   "outputs": [
    {
     "name": "stdin",
     "output_type": "stream",
     "text": [
      "enter lenght 9\n",
      "enter breth 3\n"
     ]
    },
    {
     "name": "stdout",
     "output_type": "stream",
     "text": [
      "27\n"
     ]
    }
   ],
   "source": [
    "def FORR():\n",
    "    try:\n",
    "        lenght=eval(input(\"enter lenght\"))\n",
    "        breath=eval(input(\"enter breth\"))\n",
    "        areaaa=lenght*breath\n",
    "        print(areaaa)\n",
    "    except Exception as e:\n",
    "        print(e)\n",
    "\n",
    "FORR()"
   ]
  },
  {
   "cell_type": "code",
   "execution_count": null,
   "id": "c3b9751b-8bee-410b-bbe0-41b7decaeac0",
   "metadata": {},
   "outputs": [],
   "source": [
    "# 8) wap ask the user take the radius and calculate volume of sphere\n",
    "#   formulae: pi*r**3(pi*r*r*r)"
   ]
  },
  {
   "cell_type": "code",
   "execution_count": 103,
   "id": "23aabc3f-6022-414f-b9a7-534e83dbf265",
   "metadata": {},
   "outputs": [
    {
     "name": "stdin",
     "output_type": "stream",
     "text": [
      "enter volume 8\n",
      "entre radius 9\n"
     ]
    },
    {
     "name": "stdout",
     "output_type": "stream",
     "text": [
      "226.08\n"
     ]
    }
   ],
   "source": [
    "def VOLUMESPHERE():\n",
    "    try:\n",
    "        vol=eval(input(\"enter volume\"))\n",
    "        rd=eval(input(\"entre radius\"))\n",
    "        pi=3.14\n",
    "        tv=pi*rd*vol\n",
    "        print(tv)\n",
    "    except Exception as e:\n",
    "        print(e)\n",
    "\n",
    "VOLUMESPHERE()"
   ]
  },
  {
   "cell_type": "code",
   "execution_count": null,
   "id": "7c107656-4ca7-4f5c-b6eb-dfaf291fa867",
   "metadata": {},
   "outputs": [],
   "source": [
    "# 9) wap ask the user enter amount in dollars convert into rupees\n",
    "#     1$=85rs"
   ]
  },
  {
   "cell_type": "code",
   "execution_count": 110,
   "id": "9a599b44-ee09-468a-b884-ba0cc7dd2cbb",
   "metadata": {},
   "outputs": [
    {
     "name": "stdin",
     "output_type": "stream",
     "text": [
      "enter no.of dollors 9\n"
     ]
    },
    {
     "name": "stdout",
     "output_type": "stream",
     "text": [
      "765\n"
     ]
    }
   ],
   "source": [
    "def DOLLOR():\n",
    "    try:\n",
    "        dollo=eval(input(\"enter no.of dollors\"))\n",
    "        conv=dollo*85\n",
    "        print(conv)\n",
    "    except Exception as e:\n",
    "        print(e)\n",
    "DOLLOR()"
   ]
  },
  {
   "cell_type": "code",
   "execution_count": null,
   "id": "39bfcfd3-b0ef-462a-816e-46365d4f1e74",
   "metadata": {},
   "outputs": [],
   "source": [
    "10)wap ask the user enter weight in kgs convert into pounds\n",
    "#    1kg= 2.2pounds"
   ]
  },
  {
   "cell_type": "code",
   "execution_count": 124,
   "id": "c309f532-c60a-4f53-8803-df311384d82c",
   "metadata": {},
   "outputs": [
    {
     "name": "stdin",
     "output_type": "stream",
     "text": [
      "enter kgs 8\n"
     ]
    },
    {
     "name": "stdout",
     "output_type": "stream",
     "text": [
      "17.6\n"
     ]
    }
   ],
   "source": [
    "def POUND():\n",
    "    try:\n",
    "        kg=eval(input(\"enter kgs\"))\n",
    "        pou=float(kg*2.2)\n",
    "        print(pou)\n",
    "    except Exception as e:\n",
    "        print(e)\n",
    "\n",
    "POUND()"
   ]
  },
  {
   "cell_type": "code",
   "execution_count": null,
   "id": "147c3b1f-59d5-4ca4-90c4-2752c7cb8a54",
   "metadata": {},
   "outputs": [],
   "source": []
  },
  {
   "cell_type": "code",
   "execution_count": 133,
   "id": "c5c1a6a6-7397-4586-b9e4-8e904c37b976",
   "metadata": {},
   "outputs": [
    {
     "name": "stdin",
     "output_type": "stream",
     "text": [
      "enter kgs 8\n"
     ]
    },
    {
     "name": "stdout",
     "output_type": "stream",
     "text": [
      "17.6\n"
     ]
    },
    {
     "name": "stdin",
     "output_type": "stream",
     "text": [
      "enter no.of dollors 8\n"
     ]
    },
    {
     "name": "stdout",
     "output_type": "stream",
     "text": [
      "680\n"
     ]
    },
    {
     "name": "stdin",
     "output_type": "stream",
     "text": [
      "enter volume 8\n",
      "entre radius 9\n"
     ]
    },
    {
     "name": "stdout",
     "output_type": "stream",
     "text": [
      "226.08\n"
     ]
    },
    {
     "name": "stdin",
     "output_type": "stream",
     "text": [
      "enter lenght 7\n",
      "enter breth 6\n"
     ]
    },
    {
     "name": "stdout",
     "output_type": "stream",
     "text": [
      "42\n"
     ]
    },
    {
     "name": "stdin",
     "output_type": "stream",
     "text": [
      "enter bill amt 7\n"
     ]
    },
    {
     "name": "stdout",
     "output_type": "stream",
     "text": [
      "0.7000000000000001\n"
     ]
    },
    {
     "name": "stdin",
     "output_type": "stream",
     "text": [
      "enter bill amount 6\n",
      "enter tip amount 56\n"
     ]
    },
    {
     "name": "stdout",
     "output_type": "stream",
     "text": [
      "62\n"
     ]
    },
    {
     "name": "stdin",
     "output_type": "stream",
     "text": [
      "enter breadth 77\n",
      "enter height 77\n"
     ]
    },
    {
     "name": "stdout",
     "output_type": "stream",
     "text": [
      "2964.5\n"
     ]
    },
    {
     "name": "stdin",
     "output_type": "stream",
     "text": [
      "enter the radius 77\n"
     ]
    },
    {
     "name": "stdout",
     "output_type": "stream",
     "text": [
      "18617.06\n"
     ]
    },
    {
     "name": "stdin",
     "output_type": "stream",
     "text": [
      "enter the city name 55\n",
      "enter name 66\n",
      "enter age 55\n"
     ]
    },
    {
     "name": "stdout",
     "output_type": "stream",
     "text": [
      "my name is 66 iam 55 years old and came from 55\n"
     ]
    },
    {
     "name": "stdin",
     "output_type": "stream",
     "text": [
      "enter a n1 6\n",
      "enter a n2 7\n",
      "enter a n3 2\n"
     ]
    },
    {
     "name": "stdout",
     "output_type": "stream",
     "text": [
      "5.0\n"
     ]
    }
   ],
   "source": [
    "POUND()\n",
    "DOLLOR()\n",
    "VOLUMESPHERE()\n",
    "FORR()\n",
    "MEHFIL()\n",
    "BILL()\n",
    "AREA()\n",
    "RAD()\n",
    "CITY1()\n",
    "AVG()"
   ]
  },
  {
   "cell_type": "code",
   "execution_count": null,
   "id": "e4d1a833-2c68-4cde-9d2c-630c58b764c1",
   "metadata": {},
   "outputs": [],
   "source": []
  },
  {
   "cell_type": "code",
   "execution_count": null,
   "id": "c6a34deb-4258-49eb-9ddd-73fe44c08de3",
   "metadata": {},
   "outputs": [],
   "source": []
  },
  {
   "cell_type": "code",
   "execution_count": null,
   "id": "f4800dcb-532e-4721-9150-0597ed149905",
   "metadata": {},
   "outputs": [],
   "source": []
  }
 ],
 "metadata": {
  "kernelspec": {
   "display_name": "Python [conda env:base] *",
   "language": "python",
   "name": "conda-base-py"
  },
  "language_info": {
   "codemirror_mode": {
    "name": "ipython",
    "version": 3
   },
   "file_extension": ".py",
   "mimetype": "text/x-python",
   "name": "python",
   "nbconvert_exporter": "python",
   "pygments_lexer": "ipython3",
   "version": "3.12.7"
  }
 },
 "nbformat": 4,
 "nbformat_minor": 5
}

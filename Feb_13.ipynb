{
 "cells": [
  {
   "cell_type": "code",
   "execution_count": null,
   "id": "384017fa-c102-49e0-a79a-417d1ab86ae4",
   "metadata": {},
   "outputs": [],
   "source": [
    "**list comprehension 4 methods**\n",
    "\n",
    "method-1 : [output forloop]\n",
    "method-2 : [output forloop ifcondition]\n",
    "method-3 : [ifout ifcond else elseout forloop]\n",
    "method-4 : [ifout ifcond else elifout elifcond "
   ]
  },
  {
   "cell_type": "markdown",
   "id": "af8cb6bf-6839-4087-89c6-565f35f56b44",
   "metadata": {},
   "source": [
    "# Lambda Functions\n",
    "\n",
    "- lambda fucntions represents functions in single line \n",
    "\n",
    "- it is similar to list comprehension \n",
    "\n",
    "- to reduce the time complexity we will go for lambda fucntions"
   ]
  },
  {
   "cell_type": "code",
   "execution_count": null,
   "id": "8ade92b9-8da0-4c3f-bb19-e3239891938e",
   "metadata": {},
   "outputs": [],
   "source": [
    "**pattern-1** : function with one argument "
   ]
  },
  {
   "cell_type": "code",
   "execution_count": 6,
   "id": "b7c0848e-117b-4c2d-a008-91ff2fb9c04d",
   "metadata": {},
   "outputs": [
    {
     "data": {
      "text/plain": [
       "100"
      ]
     },
     "execution_count": 6,
     "metadata": {},
     "output_type": "execute_result"
    }
   ],
   "source": [
    "def mul(a):\n",
    "    return (a*a)\n",
    "ans=mul(10)\n",
    "ans"
   ]
  },
  {
   "cell_type": "code",
   "execution_count": null,
   "id": "7d8eb407-89ac-4807-863f-11188bd205a7",
   "metadata": {},
   "outputs": [],
   "source": [
    "# syntax \n",
    "\n",
    "===> function name = lambda <argument name> : <return output>"
   ]
  },
  {
   "cell_type": "code",
   "execution_count": null,
   "id": "33877c0b-3c81-4259-9139-7baa16ccf3ef",
   "metadata": {},
   "outputs": [],
   "source": [
    "# from above \n",
    "# function name=mul\n",
    "# argument name=a\n",
    "# return out=a*a"
   ]
  },
  {
   "cell_type": "code",
   "execution_count": 12,
   "id": "48e7b3c4-a907-4606-b04e-35c84a5520a9",
   "metadata": {},
   "outputs": [
    {
     "data": {
      "text/plain": [
       "400"
      ]
     },
     "execution_count": 12,
     "metadata": {},
     "output_type": "execute_result"
    }
   ],
   "source": [
    "mul= lambda a : a*a\n",
    "mul(20)"
   ]
  },
  {
   "cell_type": "code",
   "execution_count": 14,
   "id": "375bc90a-961d-4121-97bd-e05d4345acf3",
   "metadata": {},
   "outputs": [
    {
     "data": {
      "text/plain": [
       "1000"
      ]
     },
     "execution_count": 14,
     "metadata": {},
     "output_type": "execute_result"
    }
   ],
   "source": [
    "def cube(a):\n",
    "    return(a*a*a)\n",
    "cube(10)"
   ]
  },
  {
   "cell_type": "code",
   "execution_count": 16,
   "id": "f25250aa-ebcf-45b4-a458-91abeb370fc1",
   "metadata": {},
   "outputs": [
    {
     "data": {
      "text/plain": [
       "1000"
      ]
     },
     "execution_count": 16,
     "metadata": {},
     "output_type": "execute_result"
    }
   ],
   "source": [
    "cube=lambda a :a*a*a\n",
    "cube(10)"
   ]
  },
  {
   "cell_type": "markdown",
   "id": "9755b520-8b87-4547-a6b1-4fa25f1d546f",
   "metadata": {},
   "source": [
    "**pattern-2** : fucntion with two arguments "
   ]
  },
  {
   "cell_type": "code",
   "execution_count": 19,
   "id": "99a68d59-cfee-43d6-a6b7-6001ff78adaa",
   "metadata": {},
   "outputs": [
    {
     "data": {
      "text/plain": [
       "30"
      ]
     },
     "execution_count": 19,
     "metadata": {},
     "output_type": "execute_result"
    }
   ],
   "source": [
    "def add(a,b):\n",
    "    return(a+b)\n",
    "\n",
    "add(10,20)"
   ]
  },
  {
   "cell_type": "code",
   "execution_count": null,
   "id": "814a9643-5479-4c44-9d9c-1fb13e923afb",
   "metadata": {},
   "outputs": [],
   "source": [
    "# syntax: \n",
    "\n",
    "===> function name=lambda arg1,arg2 : return statement"
   ]
  },
  {
   "cell_type": "code",
   "execution_count": 22,
   "id": "902957fb-279b-4ba0-bc43-4b21454fdbc8",
   "metadata": {},
   "outputs": [
    {
     "data": {
      "text/plain": [
       "30"
      ]
     },
     "execution_count": 22,
     "metadata": {},
     "output_type": "execute_result"
    }
   ],
   "source": [
    "add=lambda a,b : a+b\n",
    "add(10,20)"
   ]
  },
  {
   "cell_type": "markdown",
   "id": "5ba77959-0612-4612-8f31-008ae94e907a",
   "metadata": {},
   "source": [
    "**pattern-3** : fucntion with three arguments "
   ]
  },
  {
   "cell_type": "code",
   "execution_count": null,
   "id": "9a29d1d2-0301-4d29-8b05-8bab5478b99f",
   "metadata": {},
   "outputs": [],
   "source": [
    "# syntax\n",
    "\n",
    "======> fucntion name = lambda arg1,arg2,arg3 :return statement"
   ]
  },
  {
   "cell_type": "code",
   "execution_count": 34,
   "id": "b22e0973-38c4-4b40-8206-1842bda8f119",
   "metadata": {},
   "outputs": [
    {
     "data": {
      "text/plain": [
       "3"
      ]
     },
     "execution_count": 34,
     "metadata": {},
     "output_type": "execute_result"
    }
   ],
   "source": [
    "avg=lambda a,b,c :round((a+b+c)/3)\n",
    "avg(3,2,3)"
   ]
  },
  {
   "cell_type": "markdown",
   "id": "5b7cd772-11c3-4dda-859c-aec4bb664b32",
   "metadata": {},
   "source": [
    "**pattern-4** : default arguments "
   ]
  },
  {
   "cell_type": "code",
   "execution_count": 38,
   "id": "9350f590-9a06-40fd-a498-fb2e19bcaf54",
   "metadata": {},
   "outputs": [
    {
     "data": {
      "text/plain": [
       "17"
      ]
     },
     "execution_count": 38,
     "metadata": {},
     "output_type": "execute_result"
    }
   ],
   "source": [
    "avg=lambda a,b,c=21 :round((a+b+c)/3)\n",
    "avg(10,20)"
   ]
  },
  {
   "cell_type": "code",
   "execution_count": 42,
   "id": "016c5a2f-d469-4bf5-8ec5-16a57ed89f30",
   "metadata": {},
   "outputs": [
    {
     "data": {
      "text/plain": [
       "44"
      ]
     },
     "execution_count": 42,
     "metadata": {},
     "output_type": "execute_result"
    }
   ],
   "source": [
    "p1 = lambda a : (a+a)\n",
    "p1(22)"
   ]
  },
  {
   "cell_type": "code",
   "execution_count": 44,
   "id": "c42aca8e-4bcd-4bd0-93d0-a540a791e3a3",
   "metadata": {},
   "outputs": [
    {
     "data": {
      "text/plain": [
       "10.0"
      ]
     },
     "execution_count": 44,
     "metadata": {},
     "output_type": "execute_result"
    }
   ],
   "source": [
    "p2 = lambda a,b :(a/b)\n",
    "p2(30,3)"
   ]
  },
  {
   "cell_type": "code",
   "execution_count": 46,
   "id": "73fe373b-ef40-4cf8-a511-2256cccb113d",
   "metadata": {},
   "outputs": [
    {
     "data": {
      "text/plain": [
       "24"
      ]
     },
     "execution_count": 46,
     "metadata": {},
     "output_type": "execute_result"
    }
   ],
   "source": [
    "p3 = lambda a,b,c :(a*b*c)\n",
    "p3(2,3,4)"
   ]
  },
  {
   "cell_type": "code",
   "execution_count": 50,
   "id": "ca78248a-f07a-4952-88c6-2aa8b520ac65",
   "metadata": {},
   "outputs": [
    {
     "data": {
      "text/plain": [
       "2"
      ]
     },
     "execution_count": 50,
     "metadata": {},
     "output_type": "execute_result"
    }
   ],
   "source": [
    "p4 = lambda a,b,c=30 : round((a+b)/c)\n",
    "p4(20,37)"
   ]
  },
  {
   "cell_type": "code",
   "execution_count": null,
   "id": "ed959aa8-b2d8-421c-a2a3-60b13b65c337",
   "metadata": {},
   "outputs": [],
   "source": [
    "**pattern-5** : list cases"
   ]
  },
  {
   "cell_type": "code",
   "execution_count": 65,
   "id": "f81a4a8a-9d5f-46d8-8168-50ee9018b357",
   "metadata": {},
   "outputs": [
    {
     "data": {
      "text/plain": [
       "['Hyd', 'Beng', 'Mumbai', 'Pune']"
      ]
     },
     "execution_count": 65,
     "metadata": {},
     "output_type": "execute_result"
    }
   ],
   "source": [
    "input=['hyd','beng','mumbai','pune']\n",
    "output=[]\n",
    "for i in input:\n",
    "    output.append(i.capitalize())\n",
    "\n",
    "output"
   ]
  },
  {
   "cell_type": "code",
   "execution_count": null,
   "id": "70570b25-a9af-4d02-8653-d4c24d0051e5",
   "metadata": {},
   "outputs": [],
   "source": [
    "# step-1: lambda <variable> : <output>\n",
    "lambda i : i.capitalize()"
   ]
  },
  {
   "cell_type": "code",
   "execution_count": 67,
   "id": "60481ca4-ef58-47d6-8d69-719a3fd0a9c7",
   "metadata": {},
   "outputs": [
    {
     "data": {
      "text/plain": [
       "(<function __main__.<lambda>(i)>, ['hyd', 'beng', 'mumbai', 'pune'])"
      ]
     },
     "execution_count": 67,
     "metadata": {},
     "output_type": "execute_result"
    }
   ],
   "source": [
    "# step-2: lambda <variable> : <output>, <iterator> (means given input)\n",
    "lambda i : i.capitalize(),input"
   ]
  },
  {
   "cell_type": "code",
   "execution_count": 69,
   "id": "4d88d4a7-894d-473d-959a-af6427b9fc00",
   "metadata": {},
   "outputs": [
    {
     "data": {
      "text/plain": [
       "<map at 0x12ca0f8b0>"
      ]
     },
     "execution_count": 69,
     "metadata": {},
     "output_type": "execute_result"
    }
   ],
   "source": [
    "# step-3: map(lambda <varible> : <output>,<iterator>)\n",
    "map(lambda i : i.capitalize(),input)"
   ]
  },
  {
   "cell_type": "code",
   "execution_count": 71,
   "id": "2b65d539-df04-465a-aa87-0a44498ce297",
   "metadata": {},
   "outputs": [
    {
     "data": {
      "text/plain": [
       "['Hyd', 'Beng', 'Mumbai', 'Pune']"
      ]
     },
     "execution_count": 71,
     "metadata": {},
     "output_type": "execute_result"
    }
   ],
   "source": [
    "# step-4: list(map(lambda <varible> : <output>,<iterator>))\n",
    "list(map(lambda i : i.capitalize(),input))"
   ]
  },
  {
   "cell_type": "code",
   "execution_count": null,
   "id": "ddde20ed-e5be-4162-bd3d-a31ff205828f",
   "metadata": {},
   "outputs": [],
   "source": [
    "# full process\n",
    "\n",
    "- step-1: lambda <variable> : <output>\n",
    "- step-2: lambda <variable> : <output>, <iterator> (means given input)\n",
    "- step-3: map(lambda <varible> : <output>,<iterator>)\n",
    "- step-4: list(map(lambda <varible> : <output>,<iterator>))"
   ]
  },
  {
   "cell_type": "code",
   "execution_count": null,
   "id": "b9bfb95f-5c82-45f5-a684-faa89ceb128e",
   "metadata": {},
   "outputs": [],
   "source": [
    "map concetp"
   ]
  },
  {
   "cell_type": "code",
   "execution_count": null,
   "id": "0492623f-1b59-4cad-9413-4cd43d78d356",
   "metadata": {},
   "outputs": [],
   "source": [
    "lambda i : i.capitalize()\n",
    "lambda i : i.capitalize(),input\n",
    "map(lambda i : i.capitalize(),input)\n",
    "list(map(lambda i : i.capitalize(),input))"
   ]
  },
  {
   "cell_type": "code",
   "execution_count": 73,
   "id": "51085c29-034d-4712-95fd-45f91b49fa12",
   "metadata": {},
   "outputs": [
    {
     "data": {
      "text/plain": [
       "['HYD', 'BEN', 'MUMBAI', 'PUNE']"
      ]
     },
     "execution_count": 73,
     "metadata": {},
     "output_type": "execute_result"
    }
   ],
   "source": [
    "input=['hyd','ben','mumbai','pune']\n",
    "list(map(lambda i : i.upper(),input))"
   ]
  },
  {
   "cell_type": "code",
   "execution_count": 117,
   "id": "9582a2e1-ccce-44b5-bb01-550c406496ef",
   "metadata": {},
   "outputs": [
    {
     "data": {
      "text/plain": [
       "[0, 1, 2, 3]"
      ]
     },
     "execution_count": 117,
     "metadata": {},
     "output_type": "execute_result"
    }
   ],
   "source": [
    "input=['hyd','ben','mumbai','pune']\n",
    "list(map(lambda i :input.index(i),input))"
   ]
  },
  {
   "cell_type": "code",
   "execution_count": 121,
   "id": "587548d5-0cd4-4357-bc3b-7916f80e401c",
   "metadata": {},
   "outputs": [
    {
     "data": {
      "text/plain": [
       "['Hello', 'How', 'Are', 'You']"
      ]
     },
     "execution_count": 121,
     "metadata": {},
     "output_type": "execute_result"
    }
   ],
   "source": [
    "input='hello how are you'\n",
    "list(map(lambda i :i.capitalize(),input.split()))"
   ]
  },
  {
   "cell_type": "code",
   "execution_count": 123,
   "id": "58b7af4f-2a58-42b6-9df0-e41f827b208a",
   "metadata": {},
   "outputs": [
    {
     "data": {
      "text/plain": [
       "[False, True, False, True]"
      ]
     },
     "execution_count": 123,
     "metadata": {},
     "output_type": "execute_result"
    }
   ],
   "source": [
    "input=['hyd','ben#','mumbai','pu#ne']\n",
    "list(map(lambda i :'#' in i,input))"
   ]
  },
  {
   "cell_type": "code",
   "execution_count": null,
   "id": "d6b46951-b043-4716-a5f8-5e4b381a26de",
   "metadata": {},
   "outputs": [],
   "source": [
    "# lambda arg : condition, iterator"
   ]
  },
  {
   "cell_type": "code",
   "execution_count": 127,
   "id": "eedfdacf-5b93-45a8-a074-cbf05ddf52a7",
   "metadata": {},
   "outputs": [
    {
     "data": {
      "text/plain": [
       "<map at 0x12ca0c220>"
      ]
     },
     "execution_count": 127,
     "metadata": {},
     "output_type": "execute_result"
    }
   ],
   "source": [
    "list(map(lambda i : '#' in i, input))"
   ]
  },
  {
   "cell_type": "code",
   "execution_count": null,
   "id": "54d89b9d-79bb-4281-8a12-3d49677966a9",
   "metadata": {},
   "outputs": [],
   "source": [
    "**filter** concept\n",
    "  \n",
    "- filter is applied on lambda funtions to retrieve the True output\n",
    "\n",
    "- map will just map the function and iterotor\n",
    "\n",
    "- when we appply condition map will give True False\n",
    "\n",
    "- filter will use insted of map\n",
    "\n",
    "- filter syntax ==> list(filter(lambda arg : condition,iterator))\n",
    "\n",
    "- map syntax ==> list(filter(lambda arg : output, iterator))"
   ]
  },
  {
   "cell_type": "code",
   "execution_count": 129,
   "id": "7a03c877-fb0a-4096-8dc7-235bd8fe4e68",
   "metadata": {},
   "outputs": [
    {
     "data": {
      "text/plain": [
       "['ben#', 'pu#ne']"
      ]
     },
     "execution_count": 129,
     "metadata": {},
     "output_type": "execute_result"
    }
   ],
   "source": [
    "input=['hyd','ben#','mumbai','pu#ne']\n",
    "list(filter(lambda i :'#' in i,input))"
   ]
  },
  {
   "cell_type": "code",
   "execution_count": 131,
   "id": "7900d2b5-fa71-42dc-8e3c-24faad6e4fb8",
   "metadata": {},
   "outputs": [
    {
     "data": {
      "text/plain": [
       "['hyd', 'mumbai']"
      ]
     },
     "execution_count": 131,
     "metadata": {},
     "output_type": "execute_result"
    }
   ],
   "source": [
    "input=['hyd','ben#','mumbai','pu#ne']\n",
    "list(filter(lambda i :'#' not in i,input))"
   ]
  },
  {
   "cell_type": "code",
   "execution_count": null,
   "id": "df162b5b-cd0d-4453-993f-03c8c57bb8ce",
   "metadata": {},
   "outputs": [],
   "source": [
    "**reduce** concept\n",
    "\n",
    "- reduce will helful to perform math operations using lambda functions \n",
    "\n",
    "- it is a method under a package called : **functools**"
   ]
  },
  {
   "cell_type": "code",
   "execution_count": 135,
   "id": "07951505-2c3e-4e94-96df-5a840beaa321",
   "metadata": {},
   "outputs": [
    {
     "data": {
      "text/plain": [
       "['GenericAlias',\n",
       " 'RLock',\n",
       " 'WRAPPER_ASSIGNMENTS',\n",
       " 'WRAPPER_UPDATES',\n",
       " '_CacheInfo',\n",
       " '_HashedSeq',\n",
       " '_NOT_FOUND',\n",
       " '__all__',\n",
       " '__builtins__',\n",
       " '__cached__',\n",
       " '__doc__',\n",
       " '__file__',\n",
       " '__loader__',\n",
       " '__name__',\n",
       " '__package__',\n",
       " '__spec__',\n",
       " '_c3_merge',\n",
       " '_c3_mro',\n",
       " '_compose_mro',\n",
       " '_convert',\n",
       " '_find_impl',\n",
       " '_ge_from_gt',\n",
       " '_ge_from_le',\n",
       " '_ge_from_lt',\n",
       " '_gt_from_ge',\n",
       " '_gt_from_le',\n",
       " '_gt_from_lt',\n",
       " '_initial_missing',\n",
       " '_le_from_ge',\n",
       " '_le_from_gt',\n",
       " '_le_from_lt',\n",
       " '_lru_cache_wrapper',\n",
       " '_lt_from_ge',\n",
       " '_lt_from_gt',\n",
       " '_lt_from_le',\n",
       " '_make_key',\n",
       " '_unwrap_partial',\n",
       " 'cache',\n",
       " 'cached_property',\n",
       " 'cmp_to_key',\n",
       " 'get_cache_token',\n",
       " 'lru_cache',\n",
       " 'namedtuple',\n",
       " 'partial',\n",
       " 'partialmethod',\n",
       " 'recursive_repr',\n",
       " 'reduce',\n",
       " 'singledispatch',\n",
       " 'singledispatchmethod',\n",
       " 'total_ordering',\n",
       " 'update_wrapper',\n",
       " 'wraps']"
      ]
     },
     "execution_count": 135,
     "metadata": {},
     "output_type": "execute_result"
    }
   ],
   "source": [
    "import functools\n",
    "dir(functools)"
   ]
  },
  {
   "cell_type": "code",
   "execution_count": 139,
   "id": "b3469856-ba65-479f-af95-e524d63fcd59",
   "metadata": {},
   "outputs": [
    {
     "data": {
      "text/plain": [
       "15"
      ]
     },
     "execution_count": 139,
     "metadata": {},
     "output_type": "execute_result"
    }
   ],
   "source": [
    "from functools import reduce\n",
    "l1=[1,2,3,4,5]\n",
    "lambda summ,i : summ+i\n",
    "lambda summ,i : summ+i, l1\n",
    "reduce(lambda summ,i : summ+i, l1)\n",
    "# by default summ=0"
   ]
  },
  {
   "cell_type": "code",
   "execution_count": 141,
   "id": "094fbf04-578c-4236-b79b-a59d67feeaf9",
   "metadata": {},
   "outputs": [
    {
     "name": "stdout",
     "output_type": "stream",
     "text": [
      "15\n"
     ]
    }
   ],
   "source": [
    "l1=[1,2,3,4,5]\n",
    "summ=0\n",
    "for i in l1:\n",
    "    summ=summ+i\n",
    "\n",
    "print(summ)"
   ]
  },
  {
   "cell_type": "code",
   "execution_count": 143,
   "id": "cdbf181d-59da-4b1f-80d4-fff7eef25921",
   "metadata": {},
   "outputs": [
    {
     "data": {
      "text/plain": [
       "230"
      ]
     },
     "execution_count": 143,
     "metadata": {},
     "output_type": "execute_result"
    }
   ],
   "source": [
    "# without default value\n",
    "import functools\n",
    "lambda summ,i : summ+i\n",
    "lambda summ,i : summ+i,l1\n",
    "lambda summ,i : summ+i,l1,215\n",
    "functools.reduce(lambda summ,i : summ+i,l1,215)"
   ]
  },
  {
   "cell_type": "code",
   "execution_count": null,
   "id": "0d563d66-ced5-4051-88c9-7dfcbab50a8c",
   "metadata": {},
   "outputs": [],
   "source": []
  },
  {
   "cell_type": "code",
   "execution_count": null,
   "id": "1dbd52ca-6a7f-4a98-a747-b4f3a9825c2d",
   "metadata": {},
   "outputs": [],
   "source": []
  },
  {
   "cell_type": "code",
   "execution_count": null,
   "id": "9ce5e058-3cb1-40e2-9c54-87f18df225f0",
   "metadata": {},
   "outputs": [],
   "source": []
  },
  {
   "cell_type": "code",
   "execution_count": null,
   "id": "537bd7ce-c807-4151-b44a-e39ed470d7c3",
   "metadata": {},
   "outputs": [],
   "source": []
  }
 ],
 "metadata": {
  "kernelspec": {
   "display_name": "Python [conda env:base] *",
   "language": "python",
   "name": "conda-base-py"
  },
  "language_info": {
   "codemirror_mode": {
    "name": "ipython",
    "version": 3
   },
   "file_extension": ".py",
   "mimetype": "text/x-python",
   "name": "python",
   "nbconvert_exporter": "python",
   "pygments_lexer": "ipython3",
   "version": "3.12.7"
  }
 },
 "nbformat": 4,
 "nbformat_minor": 5
}

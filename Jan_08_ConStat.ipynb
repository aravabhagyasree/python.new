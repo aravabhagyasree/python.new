{
 "cells": [
  {
   "cell_type": "markdown",
   "id": "53862fe9-e4b0-4f64-848e-c47abdd22a34",
   "metadata": {},
   "source": [
    "Conditional Statements\n",
    "-"
   ]
  },
  {
   "cell_type": "markdown",
   "id": "64ae4ac1-75d0-4f0a-98d9-f6bca0cae042",
   "metadata": {},
   "source": [
    "- conditional statements are used to execute the code based on some condition \n",
    "\n",
    "- assume a statement \n",
    "\n",
    "    - if rain comes i will stay at hostel\n",
    "    - if rain comes i will stay at hostel otherwise i will go to play cricket\n",
    "    - if rain comes i will stay at hostel otherwise i will go to ground but if omkar sir call me i will go to nareshit\n",
    "- if rain comes i will stay at hostel else i will go to cricket\n",
    "\n",
    "- **if**\n",
    "\n",
    "- **if-else**\n",
    "\n",
    "- **if-elif-else**\n"
   ]
  },
  {
   "cell_type": "markdown",
   "id": "77e14754-7df8-4d2d-bc55-cffd087cb65f",
   "metadata": {},
   "source": [
    "**case-1:if**"
   ]
  },
  {
   "cell_type": "markdown",
   "id": "e11a7832-702a-4e4f-beb4-a715a7afe6cf",
   "metadata": {},
   "source": [
    "# syntax\n",
    "**if <condition>:**\n",
    "    \n",
    "    # wirte ur code here\n",
    "\n",
    "\n",
    "# whenever the condition is true \n",
    "# then python will go inside the if area then the lines will be execute"
   ]
  },
  {
   "cell_type": "code",
   "execution_count": 18,
   "id": "e7794cde-f1da-4eed-9f75-1ba248dd7304",
   "metadata": {},
   "outputs": [
    {
     "name": "stdout",
     "output_type": "stream",
     "text": [
      "True\n",
      "False\n",
      "False\n",
      "False\n",
      "True\n",
      "True\n"
     ]
    }
   ],
   "source": [
    "num=10 #assignment 10 is a value stored in a variable name\n",
    "print(num==10) # condition check num value equal to 10 or not\n",
    "print(num==100)\n",
    "print(num<10)\n",
    "print(num>10)\n",
    "print(num<=10)\n",
    "print(num>=10)"
   ]
  },
  {
   "cell_type": "code",
   "execution_count": 22,
   "id": "28517865-9389-40c2-be4d-ea93606c8cdd",
   "metadata": {},
   "outputs": [
    {
     "name": "stdout",
     "output_type": "stream",
     "text": [
      "hello\n"
     ]
    }
   ],
   "source": [
    "if 100>10:\n",
    "    print('hello')\n",
    "\n",
    "# step-1: 100>10 true\n",
    "# step-2: hello"
   ]
  },
  {
   "cell_type": "markdown",
   "id": "ea17e4ff-c98d-45a1-8ce8-56dcbc24adeb",
   "metadata": {},
   "source": [
    "**mistake-1**\n",
    "-\n",
    "**indentation error**\n",
    "\n",
    "- whenever a line starts with keyword at last : will be there\n",
    "- whenever : there then we have indentation "
   ]
  },
  {
   "cell_type": "code",
   "execution_count": 29,
   "id": "328b48b4-4139-4162-bcfe-e6b27dbb5e07",
   "metadata": {},
   "outputs": [
    {
     "name": "stdout",
     "output_type": "stream",
     "text": [
      "hello\n"
     ]
    }
   ],
   "source": [
    "if 100>10:\n",
    "    print('hello')"
   ]
  },
  {
   "cell_type": "code",
   "execution_count": 31,
   "id": "f8c1d5f7-3441-4c61-b897-5abec6b34eb3",
   "metadata": {},
   "outputs": [
    {
     "name": "stdout",
     "output_type": "stream",
     "text": [
      "hello\n"
     ]
    }
   ],
   "source": [
    "if 100>10:\n",
    "    print('hello')"
   ]
  },
  {
   "cell_type": "code",
   "execution_count": null,
   "id": "1e9942eb-ddc0-45d7-9d99-c26995c4c092",
   "metadata": {},
   "outputs": [],
   "source": [
    "if 100>10:\n",
    "    print('hello')"
   ]
  },
  {
   "cell_type": "markdown",
   "id": "4cc25c22-d0d5-4f06-83f6-3bf71d3a0dfc",
   "metadata": {},
   "source": [
    "mistake-2\n",
    "-"
   ]
  },
  {
   "cell_type": "code",
   "execution_count": 35,
   "id": "2021124a-dfd9-4642-accc-e27c8a3b1850",
   "metadata": {},
   "outputs": [
    {
     "ename": "SyntaxError",
     "evalue": "expected ':' (4081822489.py, line 1)",
     "output_type": "error",
     "traceback": [
      "\u001b[0;36m  Cell \u001b[0;32mIn[35], line 1\u001b[0;36m\u001b[0m\n\u001b[0;31m    if 100>10\u001b[0m\n\u001b[0m             ^\u001b[0m\n\u001b[0;31mSyntaxError\u001b[0m\u001b[0;31m:\u001b[0m expected ':'\n"
     ]
    }
   ],
   "source": [
    "if 100>10\n",
    "    print('hello')"
   ]
  },
  {
   "cell_type": "code",
   "execution_count": 54,
   "id": "73f1558b-6958-416e-9b36-7943088d0b35",
   "metadata": {},
   "outputs": [
    {
     "name": "stdout",
     "output_type": "stream",
     "text": [
      "hello\n"
     ]
    }
   ],
   "source": [
    "if 100>10:\n",
    "    print('hello')\n",
    "\n",
    "    \n",
    "# step-1: 100<10 false"
   ]
  },
  {
   "cell_type": "code",
   "execution_count": 56,
   "id": "e1d42602-91d3-4b2a-903d-021060bb1c70",
   "metadata": {},
   "outputs": [
    {
     "name": "stdout",
     "output_type": "stream",
     "text": [
      "hello\n"
     ]
    }
   ],
   "source": [
    "if True:\n",
    "    print('hello')"
   ]
  },
  {
   "cell_type": "code",
   "execution_count": 50,
   "id": "3221a6d3-9141-482a-bf90-6a55aec81d99",
   "metadata": {},
   "outputs": [
    {
     "name": "stdout",
     "output_type": "stream",
     "text": [
      "hello\n"
     ]
    }
   ],
   "source": [
    "if bool(100):\n",
    "    print('hello')"
   ]
  },
  {
   "cell_type": "code",
   "execution_count": 58,
   "id": "893ef1b4-36dc-4bf7-9aa2-9ec9d0cf6ac4",
   "metadata": {},
   "outputs": [
    {
     "name": "stdout",
     "output_type": "stream",
     "text": [
      "hello\n",
      "ji\n",
      "with condition by\n",
      "with out condition by\n"
     ]
    }
   ],
   "source": [
    "if True:\n",
    "    print('hello')\n",
    "    print('ji')\n",
    "    print('with condition by')\n",
    "print('with out condition by')"
   ]
  },
  {
   "cell_type": "code",
   "execution_count": null,
   "id": "a5875e01-8177-44b3-8ce4-c09d9dedbf2c",
   "metadata": {},
   "outputs": [],
   "source": []
  },
  {
   "cell_type": "code",
   "execution_count": null,
   "id": "24ee3a8e-804e-43f8-b230-a702ec0eed7b",
   "metadata": {},
   "outputs": [],
   "source": []
  }
 ],
 "metadata": {
  "kernelspec": {
   "display_name": "Python [conda env:base] *",
   "language": "python",
   "name": "conda-base-py"
  },
  "language_info": {
   "codemirror_mode": {
    "name": "ipython",
    "version": 3
   },
   "file_extension": ".py",
   "mimetype": "text/x-python",
   "name": "python",
   "nbconvert_exporter": "python",
   "pygments_lexer": "ipython3",
   "version": "3.12.7"
  }
 },
 "nbformat": 4,
 "nbformat_minor": 5
}

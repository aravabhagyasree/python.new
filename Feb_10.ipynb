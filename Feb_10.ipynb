{
 "cells": [
  {
   "cell_type": "code",
   "execution_count": 9,
   "id": "01b1876c-2428-44e3-b09e-ca2e63757000",
   "metadata": {},
   "outputs": [
    {
     "name": "stdout",
     "output_type": "stream",
     "text": [
      "ramesh age is 20\n",
      "suresh age is 25\n",
      "sathish age is 30\n"
     ]
    }
   ],
   "source": [
    "names=['ramesh','suresh','sathish']\n",
    "age=[20,25,30]\n",
    "print(f'{names[0]} age is {age[0]}')\n",
    "print(f'{names[1]} age is {age[1]}')\n",
    "print(f'{names[2]} age is {age[2]}')"
   ]
  },
  {
   "cell_type": "code",
   "execution_count": 27,
   "id": "64f4bf64-46c1-4d01-aec1-05d8726adc45",
   "metadata": {},
   "outputs": [
    {
     "name": "stdout",
     "output_type": "stream",
     "text": [
      "ramesh age is 20\n",
      "suresh age is 25\n",
      "sathish age is 30\n"
     ]
    }
   ],
   "source": [
    "for i in range(len(names)):\n",
    "    print(f\"{names[i]} age is {age[i]}\")"
   ]
  },
  {
   "cell_type": "code",
   "execution_count": 31,
   "id": "ee2b66b6-9c4b-4a1b-8f03-c7fd9b52ede4",
   "metadata": {},
   "outputs": [
    {
     "name": "stdout",
     "output_type": "stream",
     "text": [
      "ramesh 20\n",
      "ramesh age is 20\n",
      "suresh 25\n",
      "suresh age is 25\n",
      "sathish 30\n",
      "sathish age is 30\n"
     ]
    }
   ],
   "source": [
    "# zip \n",
    "names=['ramesh','suresh','sathish']\n",
    "age=[20,25,30]\n",
    "for i,j in zip(names,age):\n",
    "    print(i,j)\n",
    "    print(f\"{i} age is {j}\")"
   ]
  },
  {
   "cell_type": "markdown",
   "id": "c06bd4f3-db03-4493-b19f-477133f2dd27",
   "metadata": {},
   "source": [
    "# Dictionary\n",
    "\n",
    "- in above example names and age both are together \n",
    "\n",
    "- when both are together we can pair them \n",
    "\n",
    "- this can happen using dictionary\n",
    "\n",
    "- dictionary is called as **key-value** pair\n",
    "\n",
    "- it represents with curly braces : **{key:value}**\n",
    "\n",
    "- ramesh and 20 years both are pair : {'ramesh':20}"
   ]
  },
  {
   "cell_type": "code",
   "execution_count": 46,
   "id": "a817434d-de79-461b-81b8-9b2fc5ae6fd2",
   "metadata": {},
   "outputs": [
    {
     "data": {
      "text/plain": [
       "{'ramesh': 20, 'suresh': 25, 'sathish': 30}"
      ]
     },
     "execution_count": 46,
     "metadata": {},
     "output_type": "execute_result"
    }
   ],
   "source": [
    "d1={'ramesh':20,'suresh':25,'sathish':30}\n",
    "d1"
   ]
  },
  {
   "cell_type": "code",
   "execution_count": 48,
   "id": "bffba869-d60e-489e-aefe-7a7b14e5ac66",
   "metadata": {},
   "outputs": [
    {
     "data": {
      "text/plain": [
       "{20: 'ramesh', 25: 'suresh', 30: 'sathish'}"
      ]
     },
     "execution_count": 48,
     "metadata": {},
     "output_type": "execute_result"
    }
   ],
   "source": [
    "d1={20:'ramesh',25:'suresh',30:'sathish'}\n",
    "d1"
   ]
  },
  {
   "cell_type": "code",
   "execution_count": 66,
   "id": "aef1dac6-c03a-473a-9dcc-4269c4dd2aec",
   "metadata": {},
   "outputs": [
    {
     "data": {
      "text/plain": [
       "{'ramesh': 90}"
      ]
     },
     "execution_count": 66,
     "metadata": {},
     "output_type": "execute_result"
    }
   ],
   "source": [
    "d4={'ramesh':30,'ramesh':90}\n",
    "d4\n",
    "# if both keys are same it will take the latest value\n",
    "# dictionarys kind works as database"
   ]
  },
  {
   "cell_type": "code",
   "execution_count": 68,
   "id": "c07780e9-a895-4cf5-98d5-97f421721abd",
   "metadata": {},
   "outputs": [
    {
     "data": {
      "text/plain": [
       "{'ramesh': 30}"
      ]
     },
     "execution_count": 68,
     "metadata": {},
     "output_type": "execute_result"
    }
   ],
   "source": [
    "d4={'ramesh':30,'ramesh':30}\n",
    "d4\n",
    "# dictionary doesn't allow duplicates"
   ]
  },
  {
   "cell_type": "code",
   "execution_count": null,
   "id": "41da4114-4b92-4e45-8d53-47dc1dcc0e28",
   "metadata": {},
   "outputs": [],
   "source": [
    "# in dictionary keys pays vital role\n",
    "# keys cant be duplicate but values can be duplicate"
   ]
  },
  {
   "cell_type": "code",
   "execution_count": 62,
   "id": "e83d0070-838c-4a67-ab4e-6f475eeeebda",
   "metadata": {},
   "outputs": [
    {
     "data": {
      "text/plain": [
       "['apple', 2]"
      ]
     },
     "execution_count": 62,
     "metadata": {},
     "output_type": "execute_result"
    }
   ],
   "source": [
    "d2={2,'apple'}\n",
    "list(d2)"
   ]
  },
  {
   "cell_type": "code",
   "execution_count": 60,
   "id": "ab56c7c3-e270-4e9d-91e2-e423f0fd8452",
   "metadata": {},
   "outputs": [
    {
     "data": {
      "text/plain": [
       "\"{'sleep'}\""
      ]
     },
     "execution_count": 60,
     "metadata": {},
     "output_type": "execute_result"
    }
   ],
   "source": [
    "d3={'sleep'}\n",
    "str(d3)"
   ]
  },
  {
   "cell_type": "code",
   "execution_count": 64,
   "id": "1ae43847-2fa8-402c-905d-b4a859d43733",
   "metadata": {},
   "outputs": [
    {
     "data": {
      "text/plain": [
       "('imp',)"
      ]
     },
     "execution_count": 64,
     "metadata": {},
     "output_type": "execute_result"
    }
   ],
   "source": [
    "d4={'imp'}\n",
    "tuple(d4)"
   ]
  },
  {
   "cell_type": "markdown",
   "id": "b9ee4680-813c-4f95-bff1-12b3ec3822e5",
   "metadata": {},
   "source": [
    "- list as keys fail because list has a mutable behaviour \n",
    "\n",
    "- tuple as key works because tuple has immutable behaviour \n",
    "\n",
    "- in dictionary keys are very very imp\n",
    "\n",
    "- keys doesnt change so when we apply list is fail"
   ]
  }
 ],
 "metadata": {
  "kernelspec": {
   "display_name": "Python [conda env:base] *",
   "language": "python",
   "name": "conda-base-py"
  },
  "language_info": {
   "codemirror_mode": {
    "name": "ipython",
    "version": 3
   },
   "file_extension": ".py",
   "mimetype": "text/x-python",
   "name": "python",
   "nbconvert_exporter": "python",
   "pygments_lexer": "ipython3",
   "version": "3.12.7"
  }
 },
 "nbformat": 4,
 "nbformat_minor": 5
}
